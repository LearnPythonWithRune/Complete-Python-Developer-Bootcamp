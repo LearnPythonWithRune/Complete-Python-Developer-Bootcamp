{
 "cells": [
  {
   "cell_type": "markdown",
   "id": "a46d44e6",
   "metadata": {},
   "source": [
    "# Test Exercises"
   ]
  },
  {
   "cell_type": "markdown",
   "id": "97ac8ce6",
   "metadata": {},
   "source": [
    "### Exercise 1: Read CSV file\n",
    "- Read `records.csv` and count how first names start with `C`."
   ]
  },
  {
   "cell_type": "code",
   "execution_count": 1,
   "id": "6cbbcfbc",
   "metadata": {},
   "outputs": [],
   "source": [
    "import csv\n",
    "\n",
    "with open('records.csv') as f:\n",
    "    csv_reader = csv.DictReader(f)\n",
    "    records = list(csv_reader)"
   ]
  },
  {
   "cell_type": "code",
   "execution_count": 2,
   "id": "c3258af6",
   "metadata": {},
   "outputs": [
    {
     "data": {
      "text/plain": [
       "[{'First name': 'Christina', 'Last name': 'Winters', 'Age': '75'},\n",
       " {'First name': 'Carter', 'Last name': 'Woods', 'Age': '23'},\n",
       " {'First name': 'Mariah', 'Last name': 'Briggs', 'Age': '7'},\n",
       " {'First name': 'Mateo', 'Last name': 'Morgan', 'Age': '65'},\n",
       " {'First name': 'Leena', 'Last name': 'Gilbert', 'Age': '34'},\n",
       " {'First name': 'Mark', 'Last name': 'Rosario', 'Age': '51'},\n",
       " {'First name': 'Chiara', 'Last name': 'Wright', 'Age': '39'},\n",
       " {'First name': 'Gabrielle', 'Last name': 'Parrish', 'Age': '46'},\n",
       " {'First name': 'Thea', 'Last name': 'Chan', 'Age': '33'},\n",
       " {'First name': 'Steven', 'Last name': 'Medina', 'Age': '50'}]"
      ]
     },
     "execution_count": 2,
     "metadata": {},
     "output_type": "execute_result"
    }
   ],
   "source": [
    "records"
   ]
  },
  {
   "cell_type": "code",
   "execution_count": 3,
   "id": "2d75a907",
   "metadata": {},
   "outputs": [
    {
     "data": {
      "text/plain": [
       "3"
      ]
     },
     "execution_count": 3,
     "metadata": {},
     "output_type": "execute_result"
    }
   ],
   "source": [
    "count = 0\n",
    "\n",
    "for record in records:\n",
    "    if record['First name'][0] == 'C':\n",
    "        count += 1\n",
    "        \n",
    "count"
   ]
  },
  {
   "cell_type": "code",
   "execution_count": null,
   "id": "9a9e2214",
   "metadata": {},
   "outputs": [],
   "source": []
  },
  {
   "cell_type": "code",
   "execution_count": null,
   "id": "113d0f73",
   "metadata": {},
   "outputs": [],
   "source": []
  },
  {
   "cell_type": "markdown",
   "id": "9df685d6",
   "metadata": {},
   "source": [
    "### Exercise 2: Process CSV files\n",
    "- Process the CSV file `records.csv` by converting the last names to be in upper case.\n",
    "\n",
    "Example.\n",
    "- `Christina,Winters,75` should be `Christina,WINTERS,75`\n",
    "\n",
    "- To avoid chaning already existing data write the output to `records_processed.csv`"
   ]
  },
  {
   "cell_type": "code",
   "execution_count": 4,
   "id": "37e75b71",
   "metadata": {},
   "outputs": [],
   "source": [
    "with open('records.csv') as f:\n",
    "    csv_reader = csv.DictReader(f)\n",
    "    records = list(csv_reader)"
   ]
  },
  {
   "cell_type": "code",
   "execution_count": 6,
   "id": "b331487c",
   "metadata": {},
   "outputs": [
    {
     "data": {
      "text/plain": [
       "[{'First name': 'Christina', 'Last name': 'WINTERS', 'Age': '75'},\n",
       " {'First name': 'Carter', 'Last name': 'WOODS', 'Age': '23'},\n",
       " {'First name': 'Mariah', 'Last name': 'BRIGGS', 'Age': '7'},\n",
       " {'First name': 'Mateo', 'Last name': 'MORGAN', 'Age': '65'},\n",
       " {'First name': 'Leena', 'Last name': 'GILBERT', 'Age': '34'},\n",
       " {'First name': 'Mark', 'Last name': 'ROSARIO', 'Age': '51'},\n",
       " {'First name': 'Chiara', 'Last name': 'WRIGHT', 'Age': '39'},\n",
       " {'First name': 'Gabrielle', 'Last name': 'PARRISH', 'Age': '46'},\n",
       " {'First name': 'Thea', 'Last name': 'CHAN', 'Age': '33'},\n",
       " {'First name': 'Steven', 'Last name': 'MEDINA', 'Age': '50'}]"
      ]
     },
     "execution_count": 6,
     "metadata": {},
     "output_type": "execute_result"
    }
   ],
   "source": [
    "for record in records:\n",
    "    record['Last name'] = record['Last name'].upper()\n",
    "    \n",
    "records"
   ]
  },
  {
   "cell_type": "code",
   "execution_count": 9,
   "id": "6c465cf4",
   "metadata": {},
   "outputs": [],
   "source": [
    "with open('records_processed.csv', 'w') as f:\n",
    "    csv_writer = csv.DictWriter(f, fieldnames=records[0].keys())\n",
    "    csv_writer.writeheader()\n",
    "    csv_writer.writerows(records)"
   ]
  },
  {
   "cell_type": "code",
   "execution_count": null,
   "id": "233a6eaa",
   "metadata": {},
   "outputs": [],
   "source": []
  },
  {
   "cell_type": "markdown",
   "id": "9c753039",
   "metadata": {},
   "source": [
    "### Exercise 3: Convert input (Challenging)\n",
    "\n",
    "- The data in `records.csv` contains an age for each row.\n",
    "- When you use `DictReader` it will read the column `Age` as a `str` (string).\n",
    "- If you want to use the `Age` as an integer, you need to convert it to an age.\n",
    "- Process all the ages by adding one to them.\n",
    "- The write the result to `records_next_year.csv`"
   ]
  },
  {
   "cell_type": "code",
   "execution_count": 10,
   "id": "91a47cc4",
   "metadata": {},
   "outputs": [],
   "source": [
    "with open('records.csv') as f:\n",
    "    csv_reader = csv.DictReader(f)\n",
    "    records = list(csv_reader)"
   ]
  },
  {
   "cell_type": "code",
   "execution_count": 12,
   "id": "40a03024",
   "metadata": {},
   "outputs": [
    {
     "data": {
      "text/plain": [
       "[{'First name': 'Christina', 'Last name': 'Winters', 'Age': 75},\n",
       " {'First name': 'Carter', 'Last name': 'Woods', 'Age': 23},\n",
       " {'First name': 'Mariah', 'Last name': 'Briggs', 'Age': 7},\n",
       " {'First name': 'Mateo', 'Last name': 'Morgan', 'Age': 65},\n",
       " {'First name': 'Leena', 'Last name': 'Gilbert', 'Age': 34},\n",
       " {'First name': 'Mark', 'Last name': 'Rosario', 'Age': 51},\n",
       " {'First name': 'Chiara', 'Last name': 'Wright', 'Age': 39},\n",
       " {'First name': 'Gabrielle', 'Last name': 'Parrish', 'Age': 46},\n",
       " {'First name': 'Thea', 'Last name': 'Chan', 'Age': 33},\n",
       " {'First name': 'Steven', 'Last name': 'Medina', 'Age': 50}]"
      ]
     },
     "execution_count": 12,
     "metadata": {},
     "output_type": "execute_result"
    }
   ],
   "source": [
    "for record in records:\n",
    "    record['Age'] = int(record['Age'])\n",
    "\n",
    "records"
   ]
  },
  {
   "cell_type": "code",
   "execution_count": 13,
   "id": "0880b221",
   "metadata": {},
   "outputs": [
    {
     "data": {
      "text/plain": [
       "[{'First name': 'Christina', 'Last name': 'Winters', 'Age': 76},\n",
       " {'First name': 'Carter', 'Last name': 'Woods', 'Age': 24},\n",
       " {'First name': 'Mariah', 'Last name': 'Briggs', 'Age': 8},\n",
       " {'First name': 'Mateo', 'Last name': 'Morgan', 'Age': 66},\n",
       " {'First name': 'Leena', 'Last name': 'Gilbert', 'Age': 35},\n",
       " {'First name': 'Mark', 'Last name': 'Rosario', 'Age': 52},\n",
       " {'First name': 'Chiara', 'Last name': 'Wright', 'Age': 40},\n",
       " {'First name': 'Gabrielle', 'Last name': 'Parrish', 'Age': 47},\n",
       " {'First name': 'Thea', 'Last name': 'Chan', 'Age': 34},\n",
       " {'First name': 'Steven', 'Last name': 'Medina', 'Age': 51}]"
      ]
     },
     "execution_count": 13,
     "metadata": {},
     "output_type": "execute_result"
    }
   ],
   "source": [
    "for record in records:\n",
    "    record['Age'] += 1\n",
    "    \n",
    "records"
   ]
  },
  {
   "cell_type": "code",
   "execution_count": 14,
   "id": "4ef59400",
   "metadata": {},
   "outputs": [],
   "source": [
    "with open('records_next_year.csv', 'w') as f:\n",
    "    csv_writer = csv.DictWriter(f, fieldnames=records[0].keys())\n",
    "    csv_writer.writeheader()\n",
    "    csv_writer.writerows(records)"
   ]
  },
  {
   "cell_type": "code",
   "execution_count": null,
   "id": "05783ff7",
   "metadata": {},
   "outputs": [],
   "source": []
  }
 ],
 "metadata": {
  "kernelspec": {
   "display_name": "Python 3 (ipykernel)",
   "language": "python",
   "name": "python3"
  },
  "language_info": {
   "codemirror_mode": {
    "name": "ipython",
    "version": 3
   },
   "file_extension": ".py",
   "mimetype": "text/x-python",
   "name": "python",
   "nbconvert_exporter": "python",
   "pygments_lexer": "ipython3",
   "version": "3.9.13"
  }
 },
 "nbformat": 4,
 "nbformat_minor": 5
}
