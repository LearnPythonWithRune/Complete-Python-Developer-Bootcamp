{
 "cells": [
  {
   "cell_type": "markdown",
   "id": "75a0c843",
   "metadata": {},
   "source": [
    "# Project - Process IMDB Data\n",
    "\n",
    "The file `movie_metadata.csv` contains over 5000 rows of data from IMDB.\n",
    "\n",
    "There is more metadata (data about data) than needed. The job is to process it and create a new `csv` file with less metadata and only for movies rated above `imdb_score` 7."
   ]
  },
  {
   "cell_type": "markdown",
   "id": "d930aa71",
   "metadata": {},
   "source": [
    "### Step 1: Read the data\n",
    "\n",
    "- Use the `csv` `DictReader` to read the content.\n",
    "- Transform it into a list."
   ]
  },
  {
   "cell_type": "code",
   "execution_count": null,
   "id": "ace3f84f",
   "metadata": {},
   "outputs": [],
   "source": []
  },
  {
   "cell_type": "code",
   "execution_count": null,
   "id": "50b23dde",
   "metadata": {},
   "outputs": [],
   "source": []
  },
  {
   "cell_type": "code",
   "execution_count": null,
   "id": "8d4f2a1c",
   "metadata": {},
   "outputs": [],
   "source": []
  },
  {
   "cell_type": "markdown",
   "id": "54094420",
   "metadata": {},
   "source": [
    "### Step 2: Convert IMDB score to float\n",
    "\n",
    "- Process all data and convert he `imdb_score` to `float`."
   ]
  },
  {
   "cell_type": "code",
   "execution_count": null,
   "id": "c302c8fc",
   "metadata": {},
   "outputs": [],
   "source": []
  },
  {
   "cell_type": "code",
   "execution_count": null,
   "id": "2ef85557",
   "metadata": {},
   "outputs": [],
   "source": []
  },
  {
   "cell_type": "code",
   "execution_count": null,
   "id": "6952394b",
   "metadata": {},
   "outputs": [],
   "source": []
  },
  {
   "cell_type": "markdown",
   "id": "17bb5a25",
   "metadata": {},
   "source": [
    "### Step 3: Process data\n",
    "\n",
    "- You will only need to keep the `movie_title` and the `imdb_score` if the score is above 7.\n",
    "- To process that you could make a new list and add new dicts if the score is above 7."
   ]
  },
  {
   "cell_type": "code",
   "execution_count": null,
   "id": "f6966397",
   "metadata": {},
   "outputs": [],
   "source": []
  },
  {
   "cell_type": "code",
   "execution_count": null,
   "id": "b0ffcbcf",
   "metadata": {},
   "outputs": [],
   "source": []
  },
  {
   "cell_type": "code",
   "execution_count": null,
   "id": "45897c18",
   "metadata": {},
   "outputs": [],
   "source": []
  },
  {
   "cell_type": "markdown",
   "id": "6234d135",
   "metadata": {},
   "source": [
    "### Step 4: Write Data\n",
    "\n",
    "- Write the new data to a CSV file `best_movies.csv`\n",
    "- Remember to write the header."
   ]
  },
  {
   "cell_type": "code",
   "execution_count": null,
   "id": "6feb4270",
   "metadata": {},
   "outputs": [],
   "source": []
  },
  {
   "cell_type": "code",
   "execution_count": null,
   "id": "089000ff",
   "metadata": {},
   "outputs": [],
   "source": []
  },
  {
   "cell_type": "code",
   "execution_count": null,
   "id": "67465402",
   "metadata": {},
   "outputs": [],
   "source": []
  }
 ],
 "metadata": {
  "kernelspec": {
   "display_name": "Python 3 (ipykernel)",
   "language": "python",
   "name": "python3"
  },
  "language_info": {
   "codemirror_mode": {
    "name": "ipython",
    "version": 3
   },
   "file_extension": ".py",
   "mimetype": "text/x-python",
   "name": "python",
   "nbconvert_exporter": "python",
   "pygments_lexer": "ipython3",
   "version": "3.9.13"
  }
 },
 "nbformat": 4,
 "nbformat_minor": 5
}
