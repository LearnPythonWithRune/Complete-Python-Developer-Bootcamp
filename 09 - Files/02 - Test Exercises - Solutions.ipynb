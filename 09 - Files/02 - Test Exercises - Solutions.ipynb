{
 "cells": [
  {
   "cell_type": "markdown",
   "id": "939b52ae",
   "metadata": {},
   "source": [
    "# Test Exercises"
   ]
  },
  {
   "cell_type": "markdown",
   "id": "b2b15f54",
   "metadata": {},
   "source": [
    "### Exercise 1: Read file\n",
    "\n",
    "- Open the file `bachelor.txt` and count the number of lines."
   ]
  },
  {
   "cell_type": "markdown",
   "id": "65b2509d",
   "metadata": {},
   "source": [
    "#### DOUBLE CLICK TO GET HINT\n",
    "\n",
    "<!--\n",
    "\n",
    "The method `splitline()` will split the content into a list of lines.\n",
    "\n",
    "-->"
   ]
  },
  {
   "cell_type": "code",
   "execution_count": 1,
   "id": "9e46022e",
   "metadata": {},
   "outputs": [],
   "source": [
    "with open('bachelor.txt', encoding='utf-8') as f:\n",
    "    content = f.read()"
   ]
  },
  {
   "cell_type": "code",
   "execution_count": 2,
   "id": "7d6a655c",
   "metadata": {},
   "outputs": [
    {
     "data": {
      "text/plain": [
       "['                       THE ADVENTURE OF THE NOBLE BACHELOR',\n",
       " '',\n",
       " '     The Lord St. Simon marriage, and its curious termination, have long']"
      ]
     },
     "execution_count": 2,
     "metadata": {},
     "output_type": "execute_result"
    }
   ],
   "source": [
    "content.splitlines()[:3]"
   ]
  },
  {
   "cell_type": "code",
   "execution_count": 3,
   "id": "ec53a8d7",
   "metadata": {},
   "outputs": [
    {
     "data": {
      "text/plain": [
       "997"
      ]
     },
     "execution_count": 3,
     "metadata": {},
     "output_type": "execute_result"
    }
   ],
   "source": [
    "len(content.splitlines())"
   ]
  },
  {
   "cell_type": "markdown",
   "id": "e0a8034c",
   "metadata": {},
   "source": [
    "### Exercise 2: Write a file\n",
    "\n",
    "Write a new file `exercise_2.txt` with the following content.\n",
    "\n",
    "```\n",
    "First line.\n",
    "Second line.\n",
    "```"
   ]
  },
  {
   "cell_type": "code",
   "execution_count": 5,
   "id": "494d6caa",
   "metadata": {},
   "outputs": [],
   "source": [
    "with open('exercise_2.txt', 'w', encoding='utf-8') as f:\n",
    "    f.write('First line.\\n')\n",
    "    f.write('Second line.\\n')"
   ]
  },
  {
   "cell_type": "code",
   "execution_count": null,
   "id": "116350a3",
   "metadata": {},
   "outputs": [],
   "source": []
  },
  {
   "cell_type": "code",
   "execution_count": null,
   "id": "08c66be7",
   "metadata": {},
   "outputs": [],
   "source": []
  },
  {
   "cell_type": "markdown",
   "id": "0f721a24",
   "metadata": {},
   "source": [
    "### Exercise 3: Process data (Difficult)\n",
    "\n",
    "The file `bachelor.txt` contains leading spaces on most lines.\n",
    "\n",
    "Example:\n",
    "```\n",
    "                       THE ADVENTURE OF THE NOBLE BACHELOR\n",
    "\n",
    "     The Lord St. Simon marriage, and its curious termination, have long\n",
    "     ceased to be a subject of interest in those exalted circles in which\n",
    "     the unfortunate bridegroom moves. Fresh scandals have eclipsed it,\n",
    "```\n",
    "Both the title and the lines have leading spaces (white spaces before the first letter).\n",
    "\n",
    "Create a program that removes them and writes the content to a new file.\n",
    "\n",
    "Do the following.\n",
    "1. Read the content.\n",
    "2. Process the data.\n",
    "3. Write the data to another file, e.g., `bachelor_processed.txt`"
   ]
  },
  {
   "cell_type": "markdown",
   "id": "967af8b3",
   "metadata": {},
   "source": [
    "#### DOUBLE CLICK TO GET HINT HOW TO PROCESS DATA\n",
    "\n",
    "<!--\n",
    "\n",
    "After reading the full content use `splitlines()` to split the content into a list of lines.\n",
    "\n",
    "This makes it easier to process.\n",
    "\n",
    "-->"
   ]
  },
  {
   "cell_type": "markdown",
   "id": "3f685674",
   "metadata": {},
   "source": [
    "#### DOUBLE CLICK TO GET HINT TO REMOVE LEADING WHITE SPACES\n",
    "\n",
    "<!--\n",
    "\n",
    "The string method `strip()` will remove leading and trailing white spaces.\n",
    "\n",
    ">>> '  foo bar   '.strip()\n",
    "'foo bar'\n",
    "\n",
    "-->"
   ]
  },
  {
   "cell_type": "markdown",
   "id": "b9ff1f01",
   "metadata": {},
   "source": [
    "#### DOUBLE CLICK TO PREPARE DATA TO WRITE IT\n",
    "\n",
    "<!--\n",
    "\n",
    "It is a great idea to prepare data for a single write.\n",
    "\n",
    "Now the data is in a list of lines.\n",
    "\n",
    "To join the data into a full text content using `\\n` for new lines do as follows.\n",
    "\n",
    ">>> lines = ['line one', 'line two', 'line three']\n",
    ">>> '\\n'.join(lines)\n",
    "'line one\\nline two\\nline three'\n",
    "\n",
    "-->"
   ]
  },
  {
   "cell_type": "code",
   "execution_count": 6,
   "id": "33180a52",
   "metadata": {},
   "outputs": [],
   "source": [
    "# Step 1: Read content\n",
    "with open('bachelor.txt', encoding='utf-8') as f:\n",
    "    content = f.read()"
   ]
  },
  {
   "cell_type": "code",
   "execution_count": 10,
   "id": "f522c5d3",
   "metadata": {},
   "outputs": [
    {
     "data": {
      "text/plain": [
       "'foo bar.  '"
      ]
     },
     "execution_count": 10,
     "metadata": {},
     "output_type": "execute_result"
    }
   ],
   "source": [
    "'    foo bar.  '.lstrip()"
   ]
  },
  {
   "cell_type": "code",
   "execution_count": 11,
   "id": "b44f8bb7",
   "metadata": {},
   "outputs": [],
   "source": [
    "# Step 2: Process content\n",
    "stripped_lines = []\n",
    "\n",
    "for line in content.splitlines():\n",
    "    stripped_lines.append(line.strip())"
   ]
  },
  {
   "cell_type": "code",
   "execution_count": 12,
   "id": "ad3be2ef",
   "metadata": {},
   "outputs": [
    {
     "data": {
      "text/plain": [
       "['THE ADVENTURE OF THE NOBLE BACHELOR',\n",
       " '',\n",
       " 'The Lord St. Simon marriage, and its curious termination, have long']"
      ]
     },
     "execution_count": 12,
     "metadata": {},
     "output_type": "execute_result"
    }
   ],
   "source": [
    "stripped_lines[:3]"
   ]
  },
  {
   "cell_type": "code",
   "execution_count": 14,
   "id": "ba5129d6",
   "metadata": {},
   "outputs": [
    {
     "data": {
      "text/plain": [
       "'foo\\nbar\\nfoobar'"
      ]
     },
     "execution_count": 14,
     "metadata": {},
     "output_type": "execute_result"
    }
   ],
   "source": [
    "'\\n'.join(['foo', 'bar', 'foobar'])"
   ]
  },
  {
   "cell_type": "code",
   "execution_count": 15,
   "id": "ae0e6d66",
   "metadata": {},
   "outputs": [],
   "source": [
    "stripped_content = '\\n'.join(stripped_lines)"
   ]
  },
  {
   "cell_type": "code",
   "execution_count": 16,
   "id": "9bf3bc3d",
   "metadata": {},
   "outputs": [],
   "source": [
    "# Step 3: Write processed content\n",
    "with open('bachelor_processed.txt', 'w', encoding='utf-8') as f:\n",
    "    f.write(stripped_content)"
   ]
  },
  {
   "cell_type": "code",
   "execution_count": null,
   "id": "8db9a987",
   "metadata": {},
   "outputs": [],
   "source": []
  }
 ],
 "metadata": {
  "kernelspec": {
   "display_name": "Python 3 (ipykernel)",
   "language": "python",
   "name": "python3"
  },
  "language_info": {
   "codemirror_mode": {
    "name": "ipython",
    "version": 3
   },
   "file_extension": ".py",
   "mimetype": "text/x-python",
   "name": "python",
   "nbconvert_exporter": "python",
   "pygments_lexer": "ipython3",
   "version": "3.9.13"
  }
 },
 "nbformat": 4,
 "nbformat_minor": 5
}
