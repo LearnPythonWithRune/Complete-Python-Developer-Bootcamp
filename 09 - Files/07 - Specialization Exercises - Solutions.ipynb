{
 "cells": [
  {
   "cell_type": "markdown",
   "id": "bfd1e238",
   "metadata": {},
   "source": [
    "# Specialization Exercises"
   ]
  },
  {
   "cell_type": "markdown",
   "id": "7765c2ff",
   "metadata": {},
   "source": [
    "### Exercise 1: List Files\n",
    "\n",
    "- Make a program that print all the names of the files and folders in the current folder."
   ]
  },
  {
   "cell_type": "markdown",
   "id": "9f42933b",
   "metadata": {},
   "source": [
    "#### DOUBLE CLICK FOR HINT\n",
    "\n",
    "<!--\n",
    "\n",
    "import glob\n",
    "\n",
    "glob.glob('*')\n",
    "\n",
    "will return all files and folders in the current folder.\n",
    "-->"
   ]
  },
  {
   "cell_type": "code",
   "execution_count": 1,
   "id": "88575bde",
   "metadata": {},
   "outputs": [],
   "source": [
    "import glob"
   ]
  },
  {
   "cell_type": "code",
   "execution_count": 6,
   "id": "07519d2a",
   "metadata": {},
   "outputs": [],
   "source": [
    "filenames = glob.glob('*')"
   ]
  },
  {
   "cell_type": "code",
   "execution_count": 7,
   "id": "bfffb28f",
   "metadata": {},
   "outputs": [
    {
     "name": "stdout",
     "output_type": "stream",
     "text": [
      "01 - Write Files.ipynb\n",
      "07 - Specialization Exercises - Solutions.ipynb\n",
      "00 - Read files.ipynb\n",
      "my_file.txt\n",
      "09 - Project - Process IMDB Data.ipynb\n",
      "result.txt\n",
      "04 - CSV files.ipynb\n",
      "records_next_year.csv\n",
      "exercise_2.txt\n",
      "records_processed.csv\n",
      "person_v2.json\n",
      "person.json\n",
      "08 - JSON data.ipynb\n",
      "bachelor.txt\n",
      "03 - Slash and Backslash.ipynb\n",
      "07 - Specialization Exercises - Empty.ipynb\n",
      "02 - Test Exercises - Solutions.ipynb\n",
      "02 - Test Exercises - Empty.ipynb\n",
      "files\n",
      "10 - Project - Holmes.ipynb\n",
      "bachelor_processed.txt\n",
      "06 - Process files.ipynb\n",
      "best_movies.csv\n",
      "05 - Test Exercises - Solutions.ipynb\n",
      "records_v4.csv\n",
      "records.csv\n",
      "movie_metadata.csv\n",
      "05 - Test Exercises - Empty.ipynb\n",
      "records_v3.csv\n",
      "records_v2.csv\n",
      "my_file_2.txt\n"
     ]
    }
   ],
   "source": [
    "for filename in filenames:\n",
    "    print(filename)"
   ]
  },
  {
   "cell_type": "markdown",
   "id": "c906967b",
   "metadata": {},
   "source": [
    "### Exercise 2: Character count (Difficult)\n",
    "\n",
    "- Create a program that counts the occurences of characters in all the text files (files ending with `*.txt`) in `files`"
   ]
  },
  {
   "cell_type": "code",
   "execution_count": 9,
   "id": "f9677213",
   "metadata": {},
   "outputs": [],
   "source": [
    "# 0: List filenames\n",
    "filenames = glob.glob('files/*.txt')"
   ]
  },
  {
   "cell_type": "code",
   "execution_count": 11,
   "id": "5502b1d5",
   "metadata": {},
   "outputs": [],
   "source": [
    "# 1: Read corpus\n",
    "corpus = []\n",
    "\n",
    "for filename in filenames:\n",
    "    with open(filename, encoding='utf-8') as f:\n",
    "        content = f.read()\n",
    "        corpus.append(content)"
   ]
  },
  {
   "cell_type": "code",
   "execution_count": 16,
   "id": "3f96442f",
   "metadata": {},
   "outputs": [],
   "source": [
    "# 3: Prepare data\n",
    "lines = []\n",
    "\n",
    "for content in corpus:\n",
    "    lines += content.splitlines()"
   ]
  },
  {
   "cell_type": "code",
   "execution_count": 17,
   "id": "b0aa8d7f",
   "metadata": {},
   "outputs": [],
   "source": [
    "# 4: Process data\n",
    "\n",
    "freq = {}\n",
    "\n",
    "for line in lines:\n",
    "    for char in line:\n",
    "        freq[char] = freq.get(char, 0) + 1"
   ]
  },
  {
   "cell_type": "code",
   "execution_count": 18,
   "id": "2f00ccb9",
   "metadata": {},
   "outputs": [
    {
     "name": "stdout",
     "output_type": "stream",
     "text": [
      "  243326\n",
      "T 1922\n",
      "H 2024\n",
      "E 297\n",
      "A 1183\n",
      "D 309\n",
      "V 99\n",
      "N 455\n",
      "U 45\n",
      "R 276\n",
      "O 472\n",
      "F 314\n",
      "S 1082\n",
      "P 384\n",
      "C 564\n",
      "K 75\n",
      "L 391\n",
      "B 869\n",
      "n 48372\n",
      "g 13126\n",
      "l 28266\n",
      "a 58833\n",
      "c 17611\n",
      "i 44794\n",
      "o 56610\n",
      "v 7370\n",
      "e 89526\n",
      "r 41189\n",
      "m 18821\n",
      "y 15053\n",
      "t 64699\n",
      "s 44800\n",
      "f 15036\n",
      "h 47549\n",
      "d 31076\n",
      "w 18145\n",
      "I 6236\n",
      "u 22162\n",
      "k 5972\n",
      ", 12588\n",
      "b 9880\n",
      "p 11250\n",
      "; 290\n",
      "q 691\n",
      ". 10332\n",
      "- 1925\n",
      "M 1215\n",
      "G 264\n",
      "' 2995\n",
      "8 27\n",
      "3 20\n",
      "j 539\n",
      "\" 8217\n",
      "W 1356\n",
      "? 1225\n",
      "x 1024\n",
      "! 531\n",
      "Y 734\n",
      "J 189\n",
      "£ 37\n",
      "1 79\n",
      "0 90\n",
      "Q 32\n",
      "z 270\n",
      "7 19\n",
      "5 25\n",
      "2 47\n",
      ": 75\n",
      "[ 8\n",
      "] 8\n",
      "4 25\n",
      "6 19\n",
      "9 12\n",
      "& 9\n",
      "( 9\n",
      ") 9\n",
      "â 1\n",
      "é 11\n",
      "è 2\n",
      "î 1\n",
      "à 1\n",
      "X 1\n",
      "Z 3\n",
      "° 4\n"
     ]
    }
   ],
   "source": [
    "# 5: output result\n",
    "\n",
    "for char, count in freq.items():\n",
    "    print(char, count)"
   ]
  },
  {
   "cell_type": "code",
   "execution_count": null,
   "id": "35d7f4fa",
   "metadata": {},
   "outputs": [],
   "source": []
  }
 ],
 "metadata": {
  "kernelspec": {
   "display_name": "Python 3 (ipykernel)",
   "language": "python",
   "name": "python3"
  },
  "language_info": {
   "codemirror_mode": {
    "name": "ipython",
    "version": 3
   },
   "file_extension": ".py",
   "mimetype": "text/x-python",
   "name": "python",
   "nbconvert_exporter": "python",
   "pygments_lexer": "ipython3",
   "version": "3.9.13"
  }
 },
 "nbformat": 4,
 "nbformat_minor": 5
}
