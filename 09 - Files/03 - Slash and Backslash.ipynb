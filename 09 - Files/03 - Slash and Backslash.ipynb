{
 "cells": [
  {
   "cell_type": "markdown",
   "id": "86512696",
   "metadata": {},
   "source": [
    "# Slash and Backslash / NICE-TO-KNOW\n",
    "\n",
    "- Windows vs all other operating systems (almost)\n",
    "\n",
    "```Python\n",
    "with open('files/bachelor.txt') as f:\n",
    "    content = f.read()\n",
    "```\n",
    "\n",
    "Python will change `/` to `\\` on Windows."
   ]
  },
  {
   "cell_type": "code",
   "execution_count": 1,
   "id": "66ad36a6",
   "metadata": {},
   "outputs": [],
   "source": [
    "with open('files/bachelor.txt') as f:\n",
    "    content = f.read()"
   ]
  },
  {
   "cell_type": "code",
   "execution_count": null,
   "id": "7c506074",
   "metadata": {},
   "outputs": [],
   "source": []
  },
  {
   "cell_type": "code",
   "execution_count": null,
   "id": "9e4a512b",
   "metadata": {},
   "outputs": [],
   "source": []
  },
  {
   "cell_type": "markdown",
   "id": "2425b591",
   "metadata": {},
   "source": [
    "### Packages?\n",
    "- No guarantee it will work with `/` on Windows."
   ]
  },
  {
   "cell_type": "markdown",
   "id": "a6566e4b",
   "metadata": {},
   "source": [
    "### What to do?\n",
    "\n",
    "\n",
    "```Python\n",
    "import os\n",
    "\n",
    "os.path.join( 'files', 'bachelor.txt' )\n",
    "```\n",
    "\n",
    "Or many suggest use `pathlib`\n",
    "\n",
    "```Python\n",
    "import pathlib\n",
    "\n",
    "file_path = pathlib.Path('files') / 'bachelor.txt'\n",
    "```"
   ]
  },
  {
   "cell_type": "code",
   "execution_count": 2,
   "id": "212eb6b4",
   "metadata": {},
   "outputs": [
    {
     "data": {
      "text/plain": [
       "'files/bachelor.txt'"
      ]
     },
     "execution_count": 2,
     "metadata": {},
     "output_type": "execute_result"
    }
   ],
   "source": [
    "import os\n",
    "\n",
    "os.path.join('files', 'bachelor.txt' )"
   ]
  },
  {
   "cell_type": "code",
   "execution_count": 3,
   "id": "bdb70c24",
   "metadata": {},
   "outputs": [],
   "source": [
    "import pathlib\n",
    "\n",
    "file_path = pathlib.Path('files') / 'bachelor.txt'"
   ]
  },
  {
   "cell_type": "code",
   "execution_count": 4,
   "id": "84ede66e",
   "metadata": {},
   "outputs": [
    {
     "data": {
      "text/plain": [
       "PosixPath('files/bachelor.txt')"
      ]
     },
     "execution_count": 4,
     "metadata": {},
     "output_type": "execute_result"
    }
   ],
   "source": [
    "file_path"
   ]
  },
  {
   "cell_type": "code",
   "execution_count": 5,
   "id": "53b84e81",
   "metadata": {},
   "outputs": [],
   "source": [
    "with open(file_path) as f:\n",
    "    content = f.read()"
   ]
  },
  {
   "cell_type": "code",
   "execution_count": null,
   "id": "7e5f4107",
   "metadata": {},
   "outputs": [],
   "source": []
  }
 ],
 "metadata": {
  "kernelspec": {
   "display_name": "Python 3 (ipykernel)",
   "language": "python",
   "name": "python3"
  },
  "language_info": {
   "codemirror_mode": {
    "name": "ipython",
    "version": 3
   },
   "file_extension": ".py",
   "mimetype": "text/x-python",
   "name": "python",
   "nbconvert_exporter": "python",
   "pygments_lexer": "ipython3",
   "version": "3.9.13"
  }
 },
 "nbformat": 4,
 "nbformat_minor": 5
}
