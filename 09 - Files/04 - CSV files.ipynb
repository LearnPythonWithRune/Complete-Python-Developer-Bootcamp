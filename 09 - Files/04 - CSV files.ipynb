{
 "cells": [
  {
   "cell_type": "markdown",
   "id": "efca7bc4",
   "metadata": {},
   "source": [
    "# CSV files / NEED-TO-KNOW"
   ]
  },
  {
   "cell_type": "markdown",
   "id": "14276da4",
   "metadata": {},
   "source": [
    "### What is a CSV file?\n",
    "\n",
    "Tabular data refers to data that is organized in a table with rows and columns.\n",
    "\n",
    "|First name|Last name|Age|\n",
    "|---|---|---|\n",
    "|Christina|Winters|75|\n",
    "|Carter|Woods|23|\n",
    "|Mariah|Briggs|7|\n",
    "|Mateo|Morgan|65|\n",
    "|Leena|Gilbert|34|\n",
    "|Mark|Rosario|51|\n",
    "|Chiara|Wright|39|\n",
    "|Gabrielle|Parrish|46|\n",
    "|Thea|Chan|33|\n",
    "|Steven|Medina|50|\n",
    "\n",
    "\n",
    "A CSV (comma-separated values) file is a text file in which information is separated by commas.\n",
    "\n",
    "```\n",
    "First name,Last name,Age\n",
    "Christina,Winters,75\n",
    "Carter,Woods,23\n",
    "Mariah,Briggs,7\n",
    "Mateo,Morgan,65\n",
    "Leena,Gilbert,34\n",
    "Mark,Rosario,51\n",
    "Chiara,Wright,39\n",
    "Gabrielle,Parrish,46\n",
    "Thea,Chan,33\n",
    "Steven,Medina,50\n",
    "```"
   ]
  },
  {
   "cell_type": "markdown",
   "id": "693db876",
   "metadata": {},
   "source": [
    "### The CSV library\n",
    "\n",
    "- The [csv](https://docs.python.org/3/library/csv.html) library.\n",
    "- `DictReader(.)` ([docs](https://docs.python.org/3/library/csv.html#csv.DictReader)) Create an object that operates like a regular reader but maps the information in each row to a dict whose keys are given by the optional fieldnames parameter.\n",
    "- `DictWriter(.)` ([docs](https://docs.python.org/3/library/csv.html#csv.DictWriter)) Create an object which operates like a regular writer but maps dictionaries onto output rows."
   ]
  },
  {
   "cell_type": "markdown",
   "id": "cdf240cc",
   "metadata": {},
   "source": [
    "### Standard format\n",
    "\n",
    "```Python\n",
    "import csv\n",
    "\n",
    "with open('records.csv') as f:\n",
    "    csv_reader = csv.DictReader(f)\n",
    "    records = list(csv_reader)\n",
    "```"
   ]
  },
  {
   "cell_type": "code",
   "execution_count": 1,
   "id": "b76710fb",
   "metadata": {},
   "outputs": [],
   "source": [
    "import csv"
   ]
  },
  {
   "cell_type": "code",
   "execution_count": 2,
   "id": "2d2ab6fd",
   "metadata": {},
   "outputs": [],
   "source": [
    "with open('records.csv') as f:\n",
    "    csv_reader = csv.DictReader(f)\n",
    "    records = list(csv_reader)"
   ]
  },
  {
   "cell_type": "code",
   "execution_count": 3,
   "id": "76a8448e",
   "metadata": {},
   "outputs": [
    {
     "data": {
      "text/plain": [
       "[{'First name': 'Christina', 'Last name': 'Winters', 'Age': '75'},\n",
       " {'First name': 'Carter', 'Last name': 'Woods', 'Age': '23'},\n",
       " {'First name': 'Mariah', 'Last name': 'Briggs', 'Age': '7'},\n",
       " {'First name': 'Mateo', 'Last name': 'Morgan', 'Age': '65'},\n",
       " {'First name': 'Leena', 'Last name': 'Gilbert', 'Age': '34'},\n",
       " {'First name': 'Mark', 'Last name': 'Rosario', 'Age': '51'},\n",
       " {'First name': 'Chiara', 'Last name': 'Wright', 'Age': '39'},\n",
       " {'First name': 'Gabrielle', 'Last name': 'Parrish', 'Age': '46'},\n",
       " {'First name': 'Thea', 'Last name': 'Chan', 'Age': '33'},\n",
       " {'First name': 'Steven', 'Last name': 'Medina', 'Age': '50'}]"
      ]
     },
     "execution_count": 3,
     "metadata": {},
     "output_type": "execute_result"
    }
   ],
   "source": [
    "records"
   ]
  },
  {
   "cell_type": "code",
   "execution_count": 4,
   "id": "1a018c20",
   "metadata": {},
   "outputs": [
    {
     "name": "stdout",
     "output_type": "stream",
     "text": [
      "Christina 75\n",
      "Carter 23\n",
      "Mariah 7\n",
      "Mateo 65\n",
      "Leena 34\n",
      "Mark 51\n",
      "Chiara 39\n",
      "Gabrielle 46\n",
      "Thea 33\n",
      "Steven 50\n"
     ]
    }
   ],
   "source": [
    "for record in records:\n",
    "    print(record['First name'], record['Age'])"
   ]
  },
  {
   "cell_type": "markdown",
   "id": "27d8f963",
   "metadata": {},
   "source": [
    "### Different delimter\n",
    "- While `,` is considered the standard delimiter it is not unusual to use different ones.\n",
    "- Examples include `\\t`, `|`, and others\n",
    "\n",
    "```Python\n",
    "with open('records_v2.csv') as f:\n",
    "    csv_reader = csv.DictReader(f, delimiter='|')\n",
    "    records = list(csv_reader)\n",
    "```"
   ]
  },
  {
   "cell_type": "code",
   "execution_count": 9,
   "id": "2d1476d4",
   "metadata": {},
   "outputs": [],
   "source": [
    "with open('records_v2.csv') as f:\n",
    "    csv_reader = csv.DictReader(f, delimiter='|')\n",
    "    records = list(csv_reader)"
   ]
  },
  {
   "cell_type": "code",
   "execution_count": 10,
   "id": "e46f7b5c",
   "metadata": {},
   "outputs": [
    {
     "data": {
      "text/plain": [
       "[{'First name': 'Christina', 'Last name': 'Winters', 'Age': '75'},\n",
       " {'First name': 'Carter', 'Last name': 'Woods', 'Age': '23'},\n",
       " {'First name': 'Mariah', 'Last name': 'Briggs', 'Age': '7'},\n",
       " {'First name': 'Mateo', 'Last name': 'Morgan', 'Age': '65'},\n",
       " {'First name': 'Leena', 'Last name': 'Gilbert', 'Age': '34'},\n",
       " {'First name': 'Mark', 'Last name': 'Rosario', 'Age': '51'},\n",
       " {'First name': 'Chiara', 'Last name': 'Wright', 'Age': '39'},\n",
       " {'First name': 'Gabrielle', 'Last name': 'Parrish', 'Age': '46'},\n",
       " {'First name': 'Thea', 'Last name': 'Chan', 'Age': '33'},\n",
       " {'First name': 'Steven', 'Last name': 'Medina', 'Age': '50'}]"
      ]
     },
     "execution_count": 10,
     "metadata": {},
     "output_type": "execute_result"
    }
   ],
   "source": [
    "records"
   ]
  },
  {
   "cell_type": "code",
   "execution_count": null,
   "id": "fb5b3699",
   "metadata": {},
   "outputs": [],
   "source": []
  },
  {
   "cell_type": "markdown",
   "id": "bce884bc",
   "metadata": {},
   "source": [
    "### No header line\n",
    "\n",
    "```Python\n",
    "with open('records_v3.csv') as f:\n",
    "    csv_reader = csv.DictReader(f, fieldnames=['First', 'Last', 'Age'])\n",
    "    records = list(csv_reader)\n",
    "```"
   ]
  },
  {
   "cell_type": "code",
   "execution_count": 12,
   "id": "5b63e834",
   "metadata": {},
   "outputs": [
    {
     "data": {
      "text/plain": [
       "[{'First': 'Christina', 'Last': 'Winters', 'Age': '75'},\n",
       " {'First': 'Carter', 'Last': 'Woods', 'Age': '23'},\n",
       " {'First': 'Mariah', 'Last': 'Briggs', 'Age': '7'},\n",
       " {'First': 'Mateo', 'Last': 'Morgan', 'Age': '65'},\n",
       " {'First': 'Leena', 'Last': 'Gilbert', 'Age': '34'},\n",
       " {'First': 'Mark', 'Last': 'Rosario', 'Age': '51'},\n",
       " {'First': 'Chiara', 'Last': 'Wright', 'Age': '39'},\n",
       " {'First': 'Gabrielle', 'Last': 'Parrish', 'Age': '46'},\n",
       " {'First': 'Thea', 'Last': 'Chan', 'Age': '33'},\n",
       " {'First': 'Steven', 'Last': 'Medina', 'Age': '50'}]"
      ]
     },
     "execution_count": 12,
     "metadata": {},
     "output_type": "execute_result"
    }
   ],
   "source": [
    "with open('records_v3.csv') as f:\n",
    "    csv_reader = csv.DictReader(f, fieldnames=['First', 'Last', 'Age'])\n",
    "    records = list(csv_reader)\n",
    "\n",
    "records"
   ]
  },
  {
   "cell_type": "code",
   "execution_count": null,
   "id": "c1c23aad",
   "metadata": {},
   "outputs": [],
   "source": []
  },
  {
   "cell_type": "code",
   "execution_count": null,
   "id": "3aa24fde",
   "metadata": {},
   "outputs": [],
   "source": []
  },
  {
   "cell_type": "markdown",
   "id": "a7c7ea13",
   "metadata": {},
   "source": [
    "### Write CSV file\n",
    "\n",
    "List of records\n",
    "\n",
    "```Python\n",
    "records = [\n",
    "    {'First': 'Christina', 'Last': 'Winters', 'Age': '75'},\n",
    "    {'First': 'Carter', 'Last': 'Woods', 'Age': '23'},\n",
    "    {'First': 'Mariah', 'Last': 'Briggs', 'Age': '7'}\n",
    "]\n",
    "\n",
    "with open('records_v4.csv', 'w') as f:\n",
    "    csv_writer = csv.DictWriter(f, fieldnames=['Age', 'Last', 'First'])\n",
    "    csv_writer.writeheader()\n",
    "    csv_writer.writerows(records)\n",
    "\n",
    "```"
   ]
  },
  {
   "cell_type": "code",
   "execution_count": 13,
   "id": "8ea4e2d0",
   "metadata": {},
   "outputs": [],
   "source": [
    "records = [\n",
    "    {'First': 'Christina', 'Last': 'Winters', 'Age': '75'},\n",
    "    {'First': 'Carter', 'Last': 'Woods', 'Age': '23'},\n",
    "    {'First': 'Mariah', 'Last': 'Briggs', 'Age': '7'}\n",
    "]\n",
    "\n"
   ]
  },
  {
   "cell_type": "code",
   "execution_count": 17,
   "id": "1c4a21ee",
   "metadata": {},
   "outputs": [],
   "source": [
    "with open('records_v4.csv', 'w') as f:\n",
    "    csv_writer = csv.DictWriter(f, fieldnames=['Age', 'Last', 'First'])\n",
    "    csv_writer.writeheader()\n",
    "    csv_writer.writerows(records)"
   ]
  },
  {
   "cell_type": "code",
   "execution_count": null,
   "id": "5c6668a1",
   "metadata": {},
   "outputs": [],
   "source": []
  },
  {
   "cell_type": "markdown",
   "id": "c4143e0d",
   "metadata": {},
   "source": [
    "### Write one row at the time\n",
    "\n",
    "```Python\n",
    "with open('records_v4.csv', 'a') as f:\n",
    "    csv_writer = csv.DictWriter(f, fieldnames=['Last', 'First', 'Age'])\n",
    "    csv_writer.writerow({'First': 'Mateo', 'Last': 'Morgan', 'Age': '65'})\n",
    "\n",
    "```"
   ]
  },
  {
   "cell_type": "code",
   "execution_count": 18,
   "id": "226ff46c",
   "metadata": {},
   "outputs": [],
   "source": [
    "with open('records_v4.csv', 'a') as f:\n",
    "    csv_writer = csv.DictWriter(f, fieldnames=['Last', 'First', 'Age'])\n",
    "    csv_writer.writerow({'First': 'Mateo', 'Last': 'Morgan', 'Age': '65'})"
   ]
  },
  {
   "cell_type": "code",
   "execution_count": null,
   "id": "1e428daa",
   "metadata": {},
   "outputs": [],
   "source": []
  },
  {
   "cell_type": "code",
   "execution_count": null,
   "id": "959a9bd3",
   "metadata": {},
   "outputs": [],
   "source": []
  }
 ],
 "metadata": {
  "kernelspec": {
   "display_name": "Python 3 (ipykernel)",
   "language": "python",
   "name": "python3"
  },
  "language_info": {
   "codemirror_mode": {
    "name": "ipython",
    "version": 3
   },
   "file_extension": ".py",
   "mimetype": "text/x-python",
   "name": "python",
   "nbconvert_exporter": "python",
   "pygments_lexer": "ipython3",
   "version": "3.9.13"
  }
 },
 "nbformat": 4,
 "nbformat_minor": 5
}
