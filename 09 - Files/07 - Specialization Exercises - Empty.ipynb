{
 "cells": [
  {
   "cell_type": "markdown",
   "id": "bfd1e238",
   "metadata": {},
   "source": [
    "# Specialization Exercises"
   ]
  },
  {
   "cell_type": "markdown",
   "id": "7765c2ff",
   "metadata": {},
   "source": [
    "### Exercise 1: List Files\n",
    "\n",
    "- Make a program that print all the names of the files and folders in the current folder."
   ]
  },
  {
   "cell_type": "markdown",
   "id": "9f42933b",
   "metadata": {},
   "source": [
    "#### DOUBLE CLICK FOR HINT\n",
    "\n",
    "<!--\n",
    "\n",
    "import glob\n",
    "\n",
    "glob.glob('*')\n",
    "\n",
    "will return all files and folders in the current folder.\n",
    "-->"
   ]
  },
  {
   "cell_type": "code",
   "execution_count": null,
   "id": "88575bde",
   "metadata": {},
   "outputs": [],
   "source": []
  },
  {
   "cell_type": "code",
   "execution_count": null,
   "id": "07519d2a",
   "metadata": {},
   "outputs": [],
   "source": []
  },
  {
   "cell_type": "code",
   "execution_count": null,
   "id": "bfffb28f",
   "metadata": {},
   "outputs": [],
   "source": []
  },
  {
   "cell_type": "markdown",
   "id": "c906967b",
   "metadata": {},
   "source": [
    "### Exercise 2: Character count (Difficult)\n",
    "\n",
    "- Create a program that counts the occurences of characters in all the text files (files ending with `*.txt`) in `files`"
   ]
  },
  {
   "cell_type": "code",
   "execution_count": null,
   "id": "f9677213",
   "metadata": {},
   "outputs": [],
   "source": []
  },
  {
   "cell_type": "code",
   "execution_count": null,
   "id": "5502b1d5",
   "metadata": {},
   "outputs": [],
   "source": []
  },
  {
   "cell_type": "code",
   "execution_count": null,
   "id": "3f96442f",
   "metadata": {},
   "outputs": [],
   "source": []
  }
 ],
 "metadata": {
  "kernelspec": {
   "display_name": "Python 3 (ipykernel)",
   "language": "python",
   "name": "python3"
  },
  "language_info": {
   "codemirror_mode": {
    "name": "ipython",
    "version": 3
   },
   "file_extension": ".py",
   "mimetype": "text/x-python",
   "name": "python",
   "nbconvert_exporter": "python",
   "pygments_lexer": "ipython3",
   "version": "3.9.13"
  }
 },
 "nbformat": 4,
 "nbformat_minor": 5
}
