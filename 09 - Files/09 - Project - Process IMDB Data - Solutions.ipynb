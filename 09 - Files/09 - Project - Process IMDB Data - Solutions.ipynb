{
 "cells": [
  {
   "cell_type": "markdown",
   "id": "75a0c843",
   "metadata": {},
   "source": [
    "# Project - Process IMDB Data\n",
    "\n",
    "The file `movie_metadata.csv` contains over 5000 rows of data from IMDB.\n",
    "\n",
    "There is more metadata (data about data) than needed. The job is to process it and create a new `csv` file with less metadata and only for movies rated above `imdb_score` 7."
   ]
  },
  {
   "cell_type": "markdown",
   "id": "d930aa71",
   "metadata": {},
   "source": [
    "### Step 1: Read the data\n",
    "\n",
    "- Use the `csv` `DictReader` to read the content.\n",
    "- Transform it into a list."
   ]
  },
  {
   "cell_type": "code",
   "execution_count": 1,
   "id": "ace3f84f",
   "metadata": {},
   "outputs": [],
   "source": [
    "import csv"
   ]
  },
  {
   "cell_type": "code",
   "execution_count": 2,
   "id": "50b23dde",
   "metadata": {},
   "outputs": [],
   "source": [
    "with open('movie_metadata.csv') as f:\n",
    "    csv_reader = csv.DictReader(f)\n",
    "    records = list(csv_reader)"
   ]
  },
  {
   "cell_type": "code",
   "execution_count": 3,
   "id": "8d4f2a1c",
   "metadata": {},
   "outputs": [
    {
     "data": {
      "text/plain": [
       "{'color': 'Color',\n",
       " 'director_name': 'James Cameron',\n",
       " 'num_critic_for_reviews': '723',\n",
       " 'duration': '178',\n",
       " 'director_facebook_likes': '0',\n",
       " 'actor_3_facebook_likes': '855',\n",
       " 'actor_2_name': 'Joel David Moore',\n",
       " 'actor_1_facebook_likes': '1000',\n",
       " 'gross': '760505847',\n",
       " 'genres': 'Action|Adventure|Fantasy|Sci-Fi',\n",
       " 'actor_1_name': 'CCH Pounder',\n",
       " 'movie_title': 'Avatar',\n",
       " 'num_voted_users': '886204',\n",
       " 'cast_total_facebook_likes': '4834',\n",
       " 'actor_3_name': 'Wes Studi',\n",
       " 'facenumber_in_poster': '0',\n",
       " 'plot_keywords': 'avatar|future|marine|native|paraplegic',\n",
       " 'movie_imdb_link': 'http://www.imdb.com/title/tt0499549/?ref_=fn_tt_tt_1',\n",
       " 'num_user_for_reviews': '3054',\n",
       " 'language': 'English',\n",
       " 'country': 'USA',\n",
       " 'content_rating': 'PG-13',\n",
       " 'budget': '237000000',\n",
       " 'title_year': '2009',\n",
       " 'actor_2_facebook_likes': '936',\n",
       " 'imdb_score': '7.9',\n",
       " 'aspect_ratio': '1.78',\n",
       " 'movie_facebook_likes': '33000'}"
      ]
     },
     "execution_count": 3,
     "metadata": {},
     "output_type": "execute_result"
    }
   ],
   "source": [
    "records[0]"
   ]
  },
  {
   "cell_type": "markdown",
   "id": "54094420",
   "metadata": {},
   "source": [
    "### Step 2: Convert IMDB score to float\n",
    "\n",
    "- Process all data and convert he `imdb_score` to `float`."
   ]
  },
  {
   "cell_type": "code",
   "execution_count": 4,
   "id": "c302c8fc",
   "metadata": {},
   "outputs": [],
   "source": [
    "for record in records:\n",
    "    record['imdb_score'] = float(record['imdb_score'])"
   ]
  },
  {
   "cell_type": "code",
   "execution_count": 5,
   "id": "2ef85557",
   "metadata": {},
   "outputs": [
    {
     "data": {
      "text/plain": [
       "{'color': 'Color',\n",
       " 'director_name': 'James Cameron',\n",
       " 'num_critic_for_reviews': '723',\n",
       " 'duration': '178',\n",
       " 'director_facebook_likes': '0',\n",
       " 'actor_3_facebook_likes': '855',\n",
       " 'actor_2_name': 'Joel David Moore',\n",
       " 'actor_1_facebook_likes': '1000',\n",
       " 'gross': '760505847',\n",
       " 'genres': 'Action|Adventure|Fantasy|Sci-Fi',\n",
       " 'actor_1_name': 'CCH Pounder',\n",
       " 'movie_title': 'Avatar',\n",
       " 'num_voted_users': '886204',\n",
       " 'cast_total_facebook_likes': '4834',\n",
       " 'actor_3_name': 'Wes Studi',\n",
       " 'facenumber_in_poster': '0',\n",
       " 'plot_keywords': 'avatar|future|marine|native|paraplegic',\n",
       " 'movie_imdb_link': 'http://www.imdb.com/title/tt0499549/?ref_=fn_tt_tt_1',\n",
       " 'num_user_for_reviews': '3054',\n",
       " 'language': 'English',\n",
       " 'country': 'USA',\n",
       " 'content_rating': 'PG-13',\n",
       " 'budget': '237000000',\n",
       " 'title_year': '2009',\n",
       " 'actor_2_facebook_likes': '936',\n",
       " 'imdb_score': 7.9,\n",
       " 'aspect_ratio': '1.78',\n",
       " 'movie_facebook_likes': '33000'}"
      ]
     },
     "execution_count": 5,
     "metadata": {},
     "output_type": "execute_result"
    }
   ],
   "source": [
    "records[0]"
   ]
  },
  {
   "cell_type": "raw",
   "id": "f39a9ffd",
   "metadata": {},
   "source": []
  },
  {
   "cell_type": "markdown",
   "id": "17bb5a25",
   "metadata": {},
   "source": [
    "### Step 3: Process data\n",
    "\n",
    "- You will only need to keep the `movie_title` and the `imdb_score` if the score is above 7.\n",
    "- To process that you could make a new list and add new dicts if the score is above 7."
   ]
  },
  {
   "cell_type": "code",
   "execution_count": 6,
   "id": "f6966397",
   "metadata": {},
   "outputs": [],
   "source": [
    "records_processed = []\n",
    "\n",
    "for record in records:\n",
    "    if record['imdb_score'] > 7:\n",
    "        new_record = {\n",
    "            'movie_title': record['movie_title'],\n",
    "            'imdb_score': record['imdb_score']\n",
    "        }\n",
    "        records_processed.append(new_record)"
   ]
  },
  {
   "cell_type": "code",
   "execution_count": null,
   "id": "b0ffcbcf",
   "metadata": {},
   "outputs": [],
   "source": []
  },
  {
   "cell_type": "code",
   "execution_count": null,
   "id": "45897c18",
   "metadata": {},
   "outputs": [],
   "source": []
  },
  {
   "cell_type": "markdown",
   "id": "6234d135",
   "metadata": {},
   "source": [
    "### Step 4: Write Data\n",
    "\n",
    "- Write the new data to a CSV file `best_movies.csv`\n",
    "- Remember to write the header."
   ]
  },
  {
   "cell_type": "code",
   "execution_count": 7,
   "id": "6feb4270",
   "metadata": {},
   "outputs": [],
   "source": [
    "with open('best_movies.csv', 'w') as f:\n",
    "    csv_writer = csv.DictWriter(f, fieldnames=['movie_title', 'imdb_score'])\n",
    "    csv_writer.writeheader()\n",
    "    csv_writer.writerows(records_processed)"
   ]
  },
  {
   "cell_type": "code",
   "execution_count": 8,
   "id": "089000ff",
   "metadata": {},
   "outputs": [
    {
     "name": "stdout",
     "output_type": "stream",
     "text": [
      "{'movie_title': 'Avatar', 'imdb_score': 7.9}\n",
      "{'movie_title': \"Pirates of the Caribbean: At World's End\", 'imdb_score': 7.1}\n",
      "{'movie_title': 'The Dark Knight Rises', 'imdb_score': 8.5}\n",
      "{'movie_title': 'Star Wars: Episode VII - The Force Awakens            ', 'imdb_score': 7.1}\n",
      "{'movie_title': 'Tangled', 'imdb_score': 7.8}\n"
     ]
    }
   ],
   "source": [
    "for rec in records_processed[:5]:\n",
    "    print(rec)"
   ]
  },
  {
   "cell_type": "code",
   "execution_count": null,
   "id": "67465402",
   "metadata": {},
   "outputs": [],
   "source": []
  }
 ],
 "metadata": {
  "kernelspec": {
   "display_name": "Python 3 (ipykernel)",
   "language": "python",
   "name": "python3"
  },
  "language_info": {
   "codemirror_mode": {
    "name": "ipython",
    "version": 3
   },
   "file_extension": ".py",
   "mimetype": "text/x-python",
   "name": "python",
   "nbconvert_exporter": "python",
   "pygments_lexer": "ipython3",
   "version": "3.9.13"
  }
 },
 "nbformat": 4,
 "nbformat_minor": 5
}
