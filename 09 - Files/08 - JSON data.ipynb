{
 "cells": [
  {
   "cell_type": "markdown",
   "id": "3b267726",
   "metadata": {},
   "source": [
    "# JSON data / NICE-TO-KNOW\n",
    "\n",
    "JSON (JavaScript Object Notation) is an open standard file format and data interchange format that uses human-readable text to store and transmit data objects consisting of attribute–value pairs and arrays (or other serializable values).\n",
    "\n",
    "Translated to Python.\n",
    "- Dicts and Lists (almost)."
   ]
  },
  {
   "cell_type": "markdown",
   "id": "ce5f7f87",
   "metadata": {},
   "source": [
    "### Example\n",
    "\n",
    "```\n",
    "{\n",
    "  \"firstName\": \"John\",\n",
    "  \"lastName\": \"Smith\",\n",
    "  \"isAlive\": true,\n",
    "  \"age\": 27,\n",
    "  \"address\": {\n",
    "    \"streetAddress\": \"21 2nd Street\",\n",
    "    \"city\": \"New York\",\n",
    "    \"state\": \"NY\",\n",
    "    \"postalCode\": \"10021-3100\"\n",
    "  },\n",
    "  \"phoneNumbers\": [\n",
    "    {\n",
    "      \"type\": \"home\",\n",
    "      \"number\": \"212 555-1234\"\n",
    "    },\n",
    "    {\n",
    "      \"type\": \"office\",\n",
    "      \"number\": \"646 555-4567\"\n",
    "    }\n",
    "  ],\n",
    "  \"children\": [\n",
    "      \"Catherine\",\n",
    "      \"Thomas\",\n",
    "      \"Trevor\"\n",
    "  ],\n",
    "  \"spouse\": null\n",
    "}\n",
    "```"
   ]
  },
  {
   "cell_type": "markdown",
   "id": "8c0e71cd",
   "metadata": {},
   "source": [
    "### How to read JSON data\n",
    "\n",
    "```Python\n",
    "import json\n",
    "\n",
    "with open('person.json') as f:\n",
    "    person = json.load(f)\n",
    "```"
   ]
  },
  {
   "cell_type": "code",
   "execution_count": 1,
   "id": "ead2f5b3",
   "metadata": {},
   "outputs": [],
   "source": [
    "import json"
   ]
  },
  {
   "cell_type": "code",
   "execution_count": 3,
   "id": "cb6ef976",
   "metadata": {},
   "outputs": [],
   "source": [
    "import json\n",
    "\n",
    "with open('person.json') as f:\n",
    "    person = json.load(f)"
   ]
  },
  {
   "cell_type": "code",
   "execution_count": 6,
   "id": "201d953a",
   "metadata": {},
   "outputs": [
    {
     "data": {
      "text/plain": [
       "{'firstName': 'John',\n",
       " 'lastName': 'Smith',\n",
       " 'isAlive': True,\n",
       " 'age': 27,\n",
       " 'address': {'streetAddress': '21 2nd Street',\n",
       "  'city': 'New York',\n",
       "  'state': 'NY',\n",
       "  'postalCode': '10021-3100'},\n",
       " 'phoneNumbers': [{'type': 'home', 'number': '212 555-1234'},\n",
       "  {'type': 'office', 'number': '646 555-4567'}],\n",
       " 'children': ['Catherine', 'Thomas', 'Trevor'],\n",
       " 'spouse': None}"
      ]
     },
     "execution_count": 6,
     "metadata": {},
     "output_type": "execute_result"
    }
   ],
   "source": [
    "person"
   ]
  },
  {
   "cell_type": "code",
   "execution_count": 9,
   "id": "29c6663b",
   "metadata": {},
   "outputs": [
    {
     "data": {
      "text/plain": [
       "'home'"
      ]
     },
     "execution_count": 9,
     "metadata": {},
     "output_type": "execute_result"
    }
   ],
   "source": [
    "person['phoneNumbers'][0]['type']"
   ]
  },
  {
   "cell_type": "code",
   "execution_count": null,
   "id": "f4f81c41",
   "metadata": {},
   "outputs": [],
   "source": []
  },
  {
   "cell_type": "markdown",
   "id": "da0d8f62",
   "metadata": {},
   "source": [
    "### Write JSON data\n",
    "\n",
    "```Python\n",
    "with open('person_v2.json', 'w') as f:\n",
    "    json.dump(person, f, indent=2)\n",
    "```\n",
    "\n",
    "The `indent=2` formats it nicely."
   ]
  },
  {
   "cell_type": "code",
   "execution_count": 11,
   "id": "1c86591f",
   "metadata": {},
   "outputs": [],
   "source": [
    "with open('person_v2.json', 'w') as f:\n",
    "    json.dump(person, f, indent=2)"
   ]
  },
  {
   "cell_type": "code",
   "execution_count": null,
   "id": "60b8d2d7",
   "metadata": {},
   "outputs": [],
   "source": []
  },
  {
   "cell_type": "code",
   "execution_count": null,
   "id": "81676179",
   "metadata": {},
   "outputs": [],
   "source": []
  },
  {
   "cell_type": "markdown",
   "id": "947f259a",
   "metadata": {},
   "source": [
    "### JSON strings\n",
    "\n",
    "- JSON data is often saved in strings.\n",
    "\n",
    "```Python\n",
    "json_str = json.dumps(person)\n",
    "json_data = json.loads(json_str)\n",
    "```"
   ]
  },
  {
   "cell_type": "code",
   "execution_count": 12,
   "id": "c06d4d47",
   "metadata": {},
   "outputs": [
    {
     "data": {
      "text/plain": [
       "{'firstName': 'John',\n",
       " 'lastName': 'Smith',\n",
       " 'isAlive': True,\n",
       " 'age': 27,\n",
       " 'address': {'streetAddress': '21 2nd Street',\n",
       "  'city': 'New York',\n",
       "  'state': 'NY',\n",
       "  'postalCode': '10021-3100'},\n",
       " 'phoneNumbers': [{'type': 'home', 'number': '212 555-1234'},\n",
       "  {'type': 'office', 'number': '646 555-4567'}],\n",
       " 'children': ['Catherine', 'Thomas', 'Trevor'],\n",
       " 'spouse': None}"
      ]
     },
     "execution_count": 12,
     "metadata": {},
     "output_type": "execute_result"
    }
   ],
   "source": [
    "person"
   ]
  },
  {
   "cell_type": "code",
   "execution_count": 13,
   "id": "0047b2b3",
   "metadata": {},
   "outputs": [],
   "source": [
    "json_str = json.dumps(person)"
   ]
  },
  {
   "cell_type": "code",
   "execution_count": 14,
   "id": "af519550",
   "metadata": {},
   "outputs": [
    {
     "data": {
      "text/plain": [
       "'{\"firstName\": \"John\", \"lastName\": \"Smith\", \"isAlive\": true, \"age\": 27, \"address\": {\"streetAddress\": \"21 2nd Street\", \"city\": \"New York\", \"state\": \"NY\", \"postalCode\": \"10021-3100\"}, \"phoneNumbers\": [{\"type\": \"home\", \"number\": \"212 555-1234\"}, {\"type\": \"office\", \"number\": \"646 555-4567\"}], \"children\": [\"Catherine\", \"Thomas\", \"Trevor\"], \"spouse\": null}'"
      ]
     },
     "execution_count": 14,
     "metadata": {},
     "output_type": "execute_result"
    }
   ],
   "source": [
    "json_str"
   ]
  },
  {
   "cell_type": "code",
   "execution_count": 15,
   "id": "53b839d4",
   "metadata": {},
   "outputs": [],
   "source": [
    "json_data = json.loads(json_str)"
   ]
  },
  {
   "cell_type": "code",
   "execution_count": 16,
   "id": "31c8f7d9",
   "metadata": {},
   "outputs": [
    {
     "data": {
      "text/plain": [
       "{'firstName': 'John',\n",
       " 'lastName': 'Smith',\n",
       " 'isAlive': True,\n",
       " 'age': 27,\n",
       " 'address': {'streetAddress': '21 2nd Street',\n",
       "  'city': 'New York',\n",
       "  'state': 'NY',\n",
       "  'postalCode': '10021-3100'},\n",
       " 'phoneNumbers': [{'type': 'home', 'number': '212 555-1234'},\n",
       "  {'type': 'office', 'number': '646 555-4567'}],\n",
       " 'children': ['Catherine', 'Thomas', 'Trevor'],\n",
       " 'spouse': None}"
      ]
     },
     "execution_count": 16,
     "metadata": {},
     "output_type": "execute_result"
    }
   ],
   "source": [
    "json_data"
   ]
  },
  {
   "cell_type": "code",
   "execution_count": null,
   "id": "5e97756f",
   "metadata": {},
   "outputs": [],
   "source": []
  },
  {
   "cell_type": "markdown",
   "id": "4027b124",
   "metadata": {},
   "source": [
    "###  JSON\n",
    "\n",
    "While JSON provides a syntactic framework for data interchange, unambiguous data interchange also requires agreement between producer and consumer on the semantics of specific use of the JSON syntax.\n",
    "\n",
    "Accepting special cases.\n",
    "```Python\n",
    "record_1 = {\n",
    "    'firstName': 'Allan',\n",
    "    'lastName': 'Cave'\n",
    "}\n",
    "\n",
    "record_2 = {\n",
    "    'firstName': ['Allan', 'James'],\n",
    "    'lastName': 'Cave'\n",
    "}\n",
    "```\n",
    "\n",
    "No definition (example given).\n",
    "\n",
    "```Python\n",
    "# Response example is\n",
    "record = {\n",
    "    'firstName': 'Allan',\n",
    "    'lastName': 'Cave'\n",
    "}\n",
    "\n",
    "# Reality can be (or worse)\n",
    "record = {\n",
    "    'firstName': 'Allan'\n",
    "}\n",
    "```"
   ]
  },
  {
   "cell_type": "code",
   "execution_count": null,
   "id": "f9adf79c",
   "metadata": {},
   "outputs": [],
   "source": []
  },
  {
   "cell_type": "code",
   "execution_count": null,
   "id": "99b06c6d",
   "metadata": {},
   "outputs": [],
   "source": []
  },
  {
   "cell_type": "code",
   "execution_count": null,
   "id": "c6a79533",
   "metadata": {},
   "outputs": [],
   "source": []
  }
 ],
 "metadata": {
  "kernelspec": {
   "display_name": "Python 3 (ipykernel)",
   "language": "python",
   "name": "python3"
  },
  "language_info": {
   "codemirror_mode": {
    "name": "ipython",
    "version": 3
   },
   "file_extension": ".py",
   "mimetype": "text/x-python",
   "name": "python",
   "nbconvert_exporter": "python",
   "pygments_lexer": "ipython3",
   "version": "3.9.13"
  }
 },
 "nbformat": 4,
 "nbformat_minor": 5
}
