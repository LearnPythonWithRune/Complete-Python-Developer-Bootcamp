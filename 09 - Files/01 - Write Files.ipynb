{
 "cells": [
  {
   "cell_type": "markdown",
   "id": "088bd3ee",
   "metadata": {},
   "source": [
    "# Write Files / NEED-TO-KNOW\n",
    "\n",
    "A file can be opened in different modes.\n",
    "\n",
    "```\n",
    "open(\n",
    "    file,\n",
    "    mode='r',\n",
    "    buffering=-1,\n",
    "    encoding=None,\n",
    "    errors=None,\n",
    "    newline=None,\n",
    "    closefd=True,\n",
    "    opener=None,\n",
    ")\n",
    "\n",
    "modes\n",
    "- 'r'       open for reading (default)\n",
    "- 'w'       open for writing, truncating the file first\n",
    "- 'x'       create a new file and open it for writing\n",
    "- 'a'       open for writing, appending to the end of the file if it exists\n",
    "- 'b'       binary mode\n",
    "- 't'       text mode (default)\n",
    "- '+'       open a disk file for updating (reading and writing)\n",
    "- 'U'       universal newline mode (deprecated)\n",
    "```"
   ]
  },
  {
   "cell_type": "markdown",
   "id": "a0b8f940",
   "metadata": {},
   "source": [
    "### Write a file\n",
    "\n",
    "```Python\n",
    "with open('my_file.txt', 'w', encoding='utf-8') as f:\n",
    "    f.write('First line\\n')\n",
    "    f.write('Second line\\n')\n",
    "```"
   ]
  },
  {
   "cell_type": "markdown",
   "id": "3ff76230",
   "metadata": {},
   "source": [
    "### Writeing newlines\n",
    "\n",
    "In Python use `\\n` for newlines.\n",
    "- `'\\n'` characters written are translated to the system line separator `os.linesep`. "
   ]
  },
  {
   "cell_type": "code",
   "execution_count": 2,
   "id": "182abb29",
   "metadata": {},
   "outputs": [],
   "source": [
    "with open('my_file.txt', 'w', encoding='utf-8') as f:\n",
    "    f.write('First line\\n')\n",
    "    f.write('Second line\\n')"
   ]
  },
  {
   "cell_type": "code",
   "execution_count": 5,
   "id": "11bd41a9",
   "metadata": {},
   "outputs": [],
   "source": [
    "with open('my_file.txt', 'w', encoding='utf-8') as f:\n",
    "    for i in range(10):\n",
    "        line = 'Line ' + str(i) + '\\n'\n",
    "        f.write(line)"
   ]
  },
  {
   "cell_type": "code",
   "execution_count": null,
   "id": "43bccb29",
   "metadata": {},
   "outputs": [],
   "source": []
  },
  {
   "cell_type": "markdown",
   "id": "bb92b242",
   "metadata": {},
   "source": [
    "### Not using `with`\n",
    "\n",
    "```Python\n",
    "f = open('my_file.txt', 'w', encoding='utf-8')\n",
    "f.write('My content\\n')\n",
    "```\n",
    "\n",
    "If `f.close()` is not called, there is no guarantee the content is written, also after program is terminated."
   ]
  },
  {
   "cell_type": "code",
   "execution_count": 3,
   "id": "1bde95e8",
   "metadata": {},
   "outputs": [
    {
     "data": {
      "text/plain": [
       "11"
      ]
     },
     "execution_count": 3,
     "metadata": {},
     "output_type": "execute_result"
    }
   ],
   "source": [
    "f = open('my_file_2.txt', 'w', encoding='utf-8')\n",
    "f.write('My content\\n')"
   ]
  },
  {
   "cell_type": "code",
   "execution_count": 4,
   "id": "b1a67d63",
   "metadata": {},
   "outputs": [],
   "source": [
    "f.close()"
   ]
  },
  {
   "cell_type": "code",
   "execution_count": null,
   "id": "31016b68",
   "metadata": {},
   "outputs": [],
   "source": []
  },
  {
   "cell_type": "markdown",
   "id": "af0e99e7",
   "metadata": {},
   "source": [
    "### Appending to a file\n",
    "\n",
    "```Python\n",
    "with open('my_file.txt', 'w') as f:\n",
    "    f.write('10:32 processing starts\\n')\n",
    "\n",
    "# Some stuff\n",
    "\n",
    "with open('my_file.txt', 'a') as f:\n",
    "    f.write('10:35 processing ends\\n')\n",
    "```"
   ]
  },
  {
   "cell_type": "code",
   "execution_count": 6,
   "id": "2a78aa10",
   "metadata": {},
   "outputs": [],
   "source": [
    "with open('my_file.txt', 'w') as f:\n",
    "    f.write('10:32 processing starts\\n')"
   ]
  },
  {
   "cell_type": "code",
   "execution_count": null,
   "id": "da8cc197",
   "metadata": {},
   "outputs": [],
   "source": [
    "# A lot of work"
   ]
  },
  {
   "cell_type": "code",
   "execution_count": 7,
   "id": "28587b3b",
   "metadata": {},
   "outputs": [],
   "source": [
    "with open('my_file.txt', 'a') as f:\n",
    "    f.write('10:35 processing ends\\n')"
   ]
  },
  {
   "cell_type": "code",
   "execution_count": null,
   "id": "0726ee3e",
   "metadata": {},
   "outputs": [],
   "source": []
  },
  {
   "cell_type": "markdown",
   "id": "6c8a38a4",
   "metadata": {},
   "source": [
    "### Processing files\n",
    "- When you need to read and write the same file consider the following.\n",
    "\n",
    "Do it in these steps.\n",
    "1. Read the file content and close the file.\n",
    "2. Process the data in memory.\n",
    "3. Write the file (consider to use another filename or location) and close the file."
   ]
  },
  {
   "cell_type": "code",
   "execution_count": null,
   "id": "d813b3e8",
   "metadata": {},
   "outputs": [],
   "source": []
  },
  {
   "cell_type": "code",
   "execution_count": null,
   "id": "6cf337f8",
   "metadata": {},
   "outputs": [],
   "source": []
  },
  {
   "cell_type": "code",
   "execution_count": null,
   "id": "57f52c45",
   "metadata": {},
   "outputs": [],
   "source": []
  }
 ],
 "metadata": {
  "kernelspec": {
   "display_name": "Python 3 (ipykernel)",
   "language": "python",
   "name": "python3"
  },
  "language_info": {
   "codemirror_mode": {
    "name": "ipython",
    "version": 3
   },
   "file_extension": ".py",
   "mimetype": "text/x-python",
   "name": "python",
   "nbconvert_exporter": "python",
   "pygments_lexer": "ipython3",
   "version": "3.9.13"
  }
 },
 "nbformat": 4,
 "nbformat_minor": 5
}
