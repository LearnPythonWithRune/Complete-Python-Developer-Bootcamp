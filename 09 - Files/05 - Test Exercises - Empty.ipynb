{
 "cells": [
  {
   "cell_type": "markdown",
   "id": "a46d44e6",
   "metadata": {},
   "source": [
    "# Test Exercises"
   ]
  },
  {
   "cell_type": "markdown",
   "id": "97ac8ce6",
   "metadata": {},
   "source": [
    "### Exercise 1: Read CSV file\n",
    "- Read `records.csv` and count how first names start with `C`."
   ]
  },
  {
   "cell_type": "code",
   "execution_count": null,
   "id": "6cbbcfbc",
   "metadata": {},
   "outputs": [],
   "source": []
  },
  {
   "cell_type": "code",
   "execution_count": null,
   "id": "c3258af6",
   "metadata": {},
   "outputs": [],
   "source": []
  },
  {
   "cell_type": "code",
   "execution_count": null,
   "id": "113d0f73",
   "metadata": {},
   "outputs": [],
   "source": []
  },
  {
   "cell_type": "markdown",
   "id": "9df685d6",
   "metadata": {},
   "source": [
    "### Exercise 2: Process CSV files\n",
    "- Process the CSV file `records.csv` by converting the last names to be in upper case.\n",
    "\n",
    "Example.\n",
    "- `Christina,Winters,75` should be `Christina,WINTERS,75`\n",
    "\n",
    "- To avoid chaning already existing data write the output to `records_processed.csv`"
   ]
  },
  {
   "cell_type": "code",
   "execution_count": null,
   "id": "37e75b71",
   "metadata": {},
   "outputs": [],
   "source": []
  },
  {
   "cell_type": "code",
   "execution_count": null,
   "id": "b331487c",
   "metadata": {},
   "outputs": [],
   "source": []
  },
  {
   "cell_type": "code",
   "execution_count": null,
   "id": "6c465cf4",
   "metadata": {},
   "outputs": [],
   "source": []
  },
  {
   "cell_type": "markdown",
   "id": "9c753039",
   "metadata": {},
   "source": [
    "### Exercise 3: Convert input (Challenging)\n",
    "\n",
    "- The data in `records.csv` contains an age for each row.\n",
    "- When you use `DictReader` it will read the column `Age` as a `str` (string).\n",
    "- If you want to use the `Age` as an integer, you need to convert it to an age.\n",
    "- Process all the ages by adding one to them.\n",
    "- The write the result to `records_next_year.csv`"
   ]
  },
  {
   "cell_type": "code",
   "execution_count": null,
   "id": "91a47cc4",
   "metadata": {},
   "outputs": [],
   "source": []
  },
  {
   "cell_type": "code",
   "execution_count": null,
   "id": "40a03024",
   "metadata": {},
   "outputs": [],
   "source": []
  },
  {
   "cell_type": "code",
   "execution_count": null,
   "id": "0880b221",
   "metadata": {},
   "outputs": [],
   "source": []
  }
 ],
 "metadata": {
  "kernelspec": {
   "display_name": "Python 3 (ipykernel)",
   "language": "python",
   "name": "python3"
  },
  "language_info": {
   "codemirror_mode": {
    "name": "ipython",
    "version": 3
   },
   "file_extension": ".py",
   "mimetype": "text/x-python",
   "name": "python",
   "nbconvert_exporter": "python",
   "pygments_lexer": "ipython3",
   "version": "3.9.13"
  }
 },
 "nbformat": 4,
 "nbformat_minor": 5
}
