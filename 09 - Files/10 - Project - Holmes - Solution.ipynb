{
 "cells": [
  {
   "cell_type": "markdown",
   "id": "79ea2f6e",
   "metadata": {},
   "source": [
    "# Project - Holmes\n",
    "\n",
    "Consider the file `bachelor.txt`.\n",
    "\n",
    "What are the most likely words after the name `Holmes` occurs in the text.\n",
    "\n",
    "Examples\n",
    "```\n",
    "...\n",
    "     friend Sherlock Holmes had a considerable share in clearing the\n",
    "...\n",
    "     still sharing rooms with Holmes in Baker Street, that he came home\n",
    "...\n",
    "```\n",
    "\n",
    "In the two examples the word after Holmes is `had` and `in`."
   ]
  },
  {
   "cell_type": "code",
   "execution_count": 1,
   "id": "f813c451",
   "metadata": {},
   "outputs": [],
   "source": [
    "# 1: Read data\n",
    "\n",
    "with open('bachelor.txt', encoding='utf-8') as f:\n",
    "    content = f.read()"
   ]
  },
  {
   "cell_type": "code",
   "execution_count": 2,
   "id": "96ec34f2",
   "metadata": {},
   "outputs": [
    {
     "data": {
      "text/plain": [
       "'                       THE ADVENTURE OF THE NOBLE BACHELOR\\n\\n     The Lord St. Simon marriage, and it'"
      ]
     },
     "execution_count": 2,
     "metadata": {},
     "output_type": "execute_result"
    }
   ],
   "source": [
    "content[:100]"
   ]
  },
  {
   "cell_type": "code",
   "execution_count": 3,
   "id": "b1984e57",
   "metadata": {},
   "outputs": [],
   "source": [
    "# 2: Prepare data for processing\n",
    "\n",
    "words = content.split()"
   ]
  },
  {
   "cell_type": "code",
   "execution_count": 4,
   "id": "4c3b1361",
   "metadata": {},
   "outputs": [
    {
     "data": {
      "text/plain": [
       "['THE',\n",
       " 'ADVENTURE',\n",
       " 'OF',\n",
       " 'THE',\n",
       " 'NOBLE',\n",
       " 'BACHELOR',\n",
       " 'The',\n",
       " 'Lord',\n",
       " 'St.',\n",
       " 'Simon',\n",
       " 'marriage,',\n",
       " 'and',\n",
       " 'its',\n",
       " 'curious',\n",
       " 'termination,',\n",
       " 'have',\n",
       " 'long',\n",
       " 'ceased',\n",
       " 'to',\n",
       " 'be',\n",
       " 'a',\n",
       " 'subject',\n",
       " 'of',\n",
       " 'interest',\n",
       " 'in',\n",
       " 'those',\n",
       " 'exalted',\n",
       " 'circles',\n",
       " 'in',\n",
       " 'which']"
      ]
     },
     "execution_count": 4,
     "metadata": {},
     "output_type": "execute_result"
    }
   ],
   "source": [
    "words[:30]"
   ]
  },
  {
   "cell_type": "code",
   "execution_count": 7,
   "id": "d6522537",
   "metadata": {},
   "outputs": [],
   "source": [
    "# 3: Process data\n",
    "\n",
    "freq = {}\n",
    "\n",
    "last_word_holmes = False\n",
    "\n",
    "for word in words:\n",
    "    if last_word_holmes:\n",
    "        last_word_holmes = False\n",
    "        \n",
    "        word_to_add = word.replace('\"', '').replace(\"'\", '').replace(',', '')\n",
    "        word_to_add = word_to_add.replace('.', '')\n",
    "        word_to_add = word_to_add.lower()\n",
    "        \n",
    "        freq[word_to_add] = freq.get(word_to_add, 0) + 1\n",
    "    \n",
    "    if 'Holmes' in word:\n",
    "        last_word_holmes = True\n",
    "        \n",
    "    "
   ]
  },
  {
   "cell_type": "code",
   "execution_count": 9,
   "id": "3a96e9a8",
   "metadata": {},
   "outputs": [
    {
     "name": "stdout",
     "output_type": "stream",
     "text": [
      "with 2\n",
      "i 2\n",
      "smiling 2\n",
      "laughing 2\n",
      "that 2\n",
      "yes 2\n"
     ]
    }
   ],
   "source": [
    "# 4: Output the result\n",
    "\n",
    "for word, count in freq.items():\n",
    "    if count > 1:\n",
    "        print(word, count)"
   ]
  },
  {
   "cell_type": "code",
   "execution_count": null,
   "id": "3efc76fd",
   "metadata": {},
   "outputs": [],
   "source": []
  }
 ],
 "metadata": {
  "kernelspec": {
   "display_name": "Python 3 (ipykernel)",
   "language": "python",
   "name": "python3"
  },
  "language_info": {
   "codemirror_mode": {
    "name": "ipython",
    "version": 3
   },
   "file_extension": ".py",
   "mimetype": "text/x-python",
   "name": "python",
   "nbconvert_exporter": "python",
   "pygments_lexer": "ipython3",
   "version": "3.9.13"
  }
 },
 "nbformat": 4,
 "nbformat_minor": 5
}
