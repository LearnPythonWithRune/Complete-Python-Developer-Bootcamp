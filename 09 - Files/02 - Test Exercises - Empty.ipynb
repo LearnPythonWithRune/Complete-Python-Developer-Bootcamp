{
 "cells": [
  {
   "cell_type": "markdown",
   "id": "939b52ae",
   "metadata": {},
   "source": [
    "# Test Exercises"
   ]
  },
  {
   "cell_type": "markdown",
   "id": "b2b15f54",
   "metadata": {},
   "source": [
    "### Exercise 1: Read file\n",
    "\n",
    "- Open the file `bachelor.txt` and count the number of lines."
   ]
  },
  {
   "cell_type": "markdown",
   "id": "65b2509d",
   "metadata": {},
   "source": [
    "#### DOUBLE CLICK TO GET HINT\n",
    "\n",
    "<!--\n",
    "\n",
    "The method `splitline()` will split the content into a list of lines.\n",
    "\n",
    "-->"
   ]
  },
  {
   "cell_type": "code",
   "execution_count": null,
   "id": "1d3c41de",
   "metadata": {},
   "outputs": [],
   "source": []
  },
  {
   "cell_type": "code",
   "execution_count": null,
   "id": "7d6a655c",
   "metadata": {},
   "outputs": [],
   "source": []
  },
  {
   "cell_type": "code",
   "execution_count": null,
   "id": "ec53a8d7",
   "metadata": {},
   "outputs": [],
   "source": []
  },
  {
   "cell_type": "markdown",
   "id": "e0a8034c",
   "metadata": {},
   "source": [
    "### Exercise 2: Write a file\n",
    "\n",
    "Write a new file `exercise_2.txt` with the following content.\n",
    "\n",
    "```\n",
    "First line.\n",
    "Second line.\n",
    "```"
   ]
  },
  {
   "cell_type": "code",
   "execution_count": null,
   "id": "494d6caa",
   "metadata": {},
   "outputs": [],
   "source": []
  },
  {
   "cell_type": "code",
   "execution_count": null,
   "id": "116350a3",
   "metadata": {},
   "outputs": [],
   "source": []
  },
  {
   "cell_type": "code",
   "execution_count": null,
   "id": "08c66be7",
   "metadata": {},
   "outputs": [],
   "source": []
  },
  {
   "cell_type": "markdown",
   "id": "0f721a24",
   "metadata": {},
   "source": [
    "### Exercise 3: Process data (Difficult)\n",
    "\n",
    "The file `bachelor.txt` contains leading spaces on most lines.\n",
    "\n",
    "Example:\n",
    "```\n",
    "                       THE ADVENTURE OF THE NOBLE BACHELOR\n",
    "\n",
    "     The Lord St. Simon marriage, and its curious termination, have long\n",
    "     ceased to be a subject of interest in those exalted circles in which\n",
    "     the unfortunate bridegroom moves. Fresh scandals have eclipsed it,\n",
    "```\n",
    "Both the title and the lines have leading spaces (white spaces before the first letter).\n",
    "\n",
    "Create a program that removes them and writes the content to a new file.\n",
    "\n",
    "Do the following.\n",
    "1. Read the content.\n",
    "2. Process the data.\n",
    "3. Write the data to another file, e.g., `bachelor_processed.txt`"
   ]
  },
  {
   "cell_type": "markdown",
   "id": "967af8b3",
   "metadata": {},
   "source": [
    "#### DOUBLE CLICK TO GET HINT HOW TO PROCESS DATA\n",
    "\n",
    "<!--\n",
    "\n",
    "After reading the full content use `splitlines()` to split the content into a list of lines.\n",
    "\n",
    "This makes it easier to process.\n",
    "\n",
    "-->"
   ]
  },
  {
   "cell_type": "markdown",
   "id": "3f685674",
   "metadata": {},
   "source": [
    "#### DOUBLE CLICK TO GET HINT TO REMOVE LEADING WHITE SPACES\n",
    "\n",
    "<!--\n",
    "\n",
    "The string method `strip()` will remove leading and trailing white spaces.\n",
    "\n",
    ">>> '  foo bar   '.strip()\n",
    "'foo bar'\n",
    "\n",
    "-->"
   ]
  },
  {
   "cell_type": "markdown",
   "id": "b9ff1f01",
   "metadata": {},
   "source": [
    "#### DOUBLE CLICK TO PREPARE DATA TO WRITE IT\n",
    "\n",
    "<!--\n",
    "\n",
    "It is a great idea to prepare data for a single write.\n",
    "\n",
    "Now the data is in a list of lines.\n",
    "\n",
    "To join the data into a full text content using `\\n` for new lines do as follows.\n",
    "\n",
    ">>> lines = ['line one', 'line two', 'line three']\n",
    ">>> '\\n'.join(lines)\n",
    "'line one\\nline two\\nline three'\n",
    "\n",
    "-->"
   ]
  },
  {
   "cell_type": "code",
   "execution_count": null,
   "id": "5761f34a",
   "metadata": {},
   "outputs": [],
   "source": []
  },
  {
   "cell_type": "code",
   "execution_count": null,
   "id": "f522c5d3",
   "metadata": {},
   "outputs": [],
   "source": []
  },
  {
   "cell_type": "code",
   "execution_count": null,
   "id": "b44f8bb7",
   "metadata": {},
   "outputs": [],
   "source": []
  }
 ],
 "metadata": {
  "kernelspec": {
   "display_name": "Python 3 (ipykernel)",
   "language": "python",
   "name": "python3"
  },
  "language_info": {
   "codemirror_mode": {
    "name": "ipython",
    "version": 3
   },
   "file_extension": ".py",
   "mimetype": "text/x-python",
   "name": "python",
   "nbconvert_exporter": "python",
   "pygments_lexer": "ipython3",
   "version": "3.9.13"
  }
 },
 "nbformat": 4,
 "nbformat_minor": 5
}
