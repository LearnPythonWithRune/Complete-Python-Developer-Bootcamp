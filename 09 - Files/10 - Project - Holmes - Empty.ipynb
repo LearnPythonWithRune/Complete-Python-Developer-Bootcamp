{
 "cells": [
  {
   "cell_type": "markdown",
   "id": "79ea2f6e",
   "metadata": {},
   "source": [
    "# Project - Holmes\n",
    "\n",
    "Consider the file `bachelor.txt`.\n",
    "\n",
    "What are the most likely words after the name `Holmes` occurs in the text.\n",
    "\n",
    "Examples\n",
    "```\n",
    "...\n",
    "     friend Sherlock Holmes had a considerable share in clearing the\n",
    "...\n",
    "     still sharing rooms with Holmes in Baker Street, that he came home\n",
    "...\n",
    "```\n",
    "\n",
    "In the two examples the word after Holmes is `had` and `in`."
   ]
  },
  {
   "cell_type": "code",
   "execution_count": null,
   "id": "f813c451",
   "metadata": {},
   "outputs": [],
   "source": []
  },
  {
   "cell_type": "code",
   "execution_count": null,
   "id": "96ec34f2",
   "metadata": {},
   "outputs": [],
   "source": []
  },
  {
   "cell_type": "code",
   "execution_count": null,
   "id": "b1984e57",
   "metadata": {},
   "outputs": [],
   "source": []
  }
 ],
 "metadata": {
  "kernelspec": {
   "display_name": "Python 3 (ipykernel)",
   "language": "python",
   "name": "python3"
  },
  "language_info": {
   "codemirror_mode": {
    "name": "ipython",
    "version": 3
   },
   "file_extension": ".py",
   "mimetype": "text/x-python",
   "name": "python",
   "nbconvert_exporter": "python",
   "pygments_lexer": "ipython3",
   "version": "3.9.13"
  }
 },
 "nbformat": 4,
 "nbformat_minor": 5
}
