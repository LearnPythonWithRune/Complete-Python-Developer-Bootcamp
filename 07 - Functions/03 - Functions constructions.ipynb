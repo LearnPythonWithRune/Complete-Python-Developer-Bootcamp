{
 "cells": [
  {
   "cell_type": "markdown",
   "id": "868b1b2c",
   "metadata": {},
   "source": [
    "# Functions Constructions / NEED-TO-KNOW"
   ]
  },
  {
   "cell_type": "markdown",
   "id": "abb14dfd",
   "metadata": {},
   "source": [
    "### Functions and dynamic argument types\n",
    "\n",
    "Consider the following\n",
    "```Python\n",
    "def add_numbers(a, b):\n",
    "    return a + b\n",
    "```"
   ]
  },
  {
   "cell_type": "code",
   "execution_count": 6,
   "id": "9048ffe2",
   "metadata": {},
   "outputs": [],
   "source": [
    "def add_numbers(a, b):\n",
    "    \"\"\"Takes two numbers (int or float) and returns the sum.\"\"\"\n",
    "    return a + b"
   ]
  },
  {
   "cell_type": "code",
   "execution_count": 3,
   "id": "919ed086",
   "metadata": {},
   "outputs": [
    {
     "data": {
      "text/plain": [
       "3.0"
      ]
     },
     "execution_count": 3,
     "metadata": {},
     "output_type": "execute_result"
    }
   ],
   "source": [
    "add_numbers(1, 2.0)"
   ]
  },
  {
   "cell_type": "code",
   "execution_count": 4,
   "id": "8d90c29d",
   "metadata": {},
   "outputs": [
    {
     "data": {
      "text/plain": [
       "'11'"
      ]
     },
     "execution_count": 4,
     "metadata": {},
     "output_type": "execute_result"
    }
   ],
   "source": [
    "add_numbers('1', '1')"
   ]
  },
  {
   "cell_type": "code",
   "execution_count": 5,
   "id": "58b2e340",
   "metadata": {},
   "outputs": [
    {
     "ename": "TypeError",
     "evalue": "unsupported operand type(s) for +: 'int' and 'str'",
     "output_type": "error",
     "traceback": [
      "\u001b[0;31m---------------------------------------------------------------------------\u001b[0m",
      "\u001b[0;31mTypeError\u001b[0m                                 Traceback (most recent call last)",
      "\u001b[0;32m/var/folders/5f/vgbh9pkd4wzf4ysrpf9wsr800000gn/T/ipykernel_20097/1223100992.py\u001b[0m in \u001b[0;36m<module>\u001b[0;34m\u001b[0m\n\u001b[0;32m----> 1\u001b[0;31m \u001b[0madd_numbers\u001b[0m\u001b[0;34m(\u001b[0m\u001b[0;36m1\u001b[0m\u001b[0;34m,\u001b[0m \u001b[0;34m'1'\u001b[0m\u001b[0;34m)\u001b[0m\u001b[0;34m\u001b[0m\u001b[0;34m\u001b[0m\u001b[0m\n\u001b[0m",
      "\u001b[0;32m/var/folders/5f/vgbh9pkd4wzf4ysrpf9wsr800000gn/T/ipykernel_20097/2548778205.py\u001b[0m in \u001b[0;36madd_numbers\u001b[0;34m(a, b)\u001b[0m\n\u001b[1;32m      1\u001b[0m \u001b[0;32mdef\u001b[0m \u001b[0madd_numbers\u001b[0m\u001b[0;34m(\u001b[0m\u001b[0ma\u001b[0m\u001b[0;34m,\u001b[0m \u001b[0mb\u001b[0m\u001b[0;34m)\u001b[0m\u001b[0;34m:\u001b[0m\u001b[0;34m\u001b[0m\u001b[0;34m\u001b[0m\u001b[0m\n\u001b[0;32m----> 2\u001b[0;31m     \u001b[0;32mreturn\u001b[0m \u001b[0ma\u001b[0m \u001b[0;34m+\u001b[0m \u001b[0mb\u001b[0m\u001b[0;34m\u001b[0m\u001b[0;34m\u001b[0m\u001b[0m\n\u001b[0m",
      "\u001b[0;31mTypeError\u001b[0m: unsupported operand type(s) for +: 'int' and 'str'"
     ]
    }
   ],
   "source": [
    "add_numbers(1, '1')"
   ]
  },
  {
   "cell_type": "markdown",
   "id": "97fe2f6f",
   "metadata": {},
   "source": [
    "### Recap\n",
    "The modular-operator `%`\n",
    "\n",
    "Example\n",
    "```Python\n",
    "for i in range(10):\n",
    "    if i % 2 == 0:\n",
    "        print(i, 'Even')\n",
    "    else:\n",
    "        print(i, 'Odd')\n",
    "```"
   ]
  },
  {
   "cell_type": "code",
   "execution_count": 8,
   "id": "11a9f063",
   "metadata": {},
   "outputs": [
    {
     "name": "stdout",
     "output_type": "stream",
     "text": [
      "0 0\n",
      "1 1\n",
      "2 0\n",
      "3 1\n",
      "4 0\n",
      "5 1\n",
      "6 0\n",
      "7 1\n",
      "8 0\n",
      "9 1\n"
     ]
    }
   ],
   "source": [
    "for i in range(10):\n",
    "    print(i, i % 2)"
   ]
  },
  {
   "cell_type": "code",
   "execution_count": 9,
   "id": "3646ec25",
   "metadata": {},
   "outputs": [
    {
     "name": "stdout",
     "output_type": "stream",
     "text": [
      "0 Even\n",
      "1 Odd\n",
      "2 Even\n",
      "3 Odd\n",
      "4 Even\n",
      "5 Odd\n",
      "6 Even\n",
      "7 Odd\n",
      "8 Even\n",
      "9 Odd\n"
     ]
    }
   ],
   "source": [
    "for i in range(10):\n",
    "    if i % 2 == 0:\n",
    "        print(i, 'Even')\n",
    "    else:\n",
    "        print(i, 'Odd')"
   ]
  },
  {
   "cell_type": "markdown",
   "id": "6d1b969b",
   "metadata": {},
   "source": [
    "### Mutliple return statements\n",
    "\n",
    "You can have multiple return statements in a function.\n",
    "\n",
    "```Python\n",
    "def is_even(number):\n",
    "    if number % 2 == 0:\n",
    "        return True\n",
    "    else:\n",
    "        return False\n",
    "```"
   ]
  },
  {
   "cell_type": "code",
   "execution_count": 10,
   "id": "60df7798",
   "metadata": {},
   "outputs": [],
   "source": [
    "def is_even(number):\n",
    "    if number % 2 == 0:\n",
    "        return True\n",
    "    else:\n",
    "        return False"
   ]
  },
  {
   "cell_type": "code",
   "execution_count": 13,
   "id": "507fe24a",
   "metadata": {},
   "outputs": [
    {
     "name": "stdout",
     "output_type": "stream",
     "text": [
      "Number is not even\n",
      "Number is not even\n"
     ]
    }
   ],
   "source": [
    "number = 7\n",
    "\n",
    "if is_even(number):\n",
    "    print('Number is even')\n",
    "else:\n",
    "    print('Number is not even')\n",
    "    \n",
    "if not is_even(number):\n",
    "    print('Number is not even')"
   ]
  },
  {
   "cell_type": "markdown",
   "id": "eb2281c2",
   "metadata": {},
   "source": [
    "### Functions with loops\n",
    "\n",
    "Notice where the `False` return statement is placed.\n",
    "\n",
    "```Python\n",
    "def contains_even(numbers):\n",
    "    for number in numbers:\n",
    "        if number % 2 == 0:\n",
    "            return True\n",
    "        \n",
    "    return False\n",
    "```"
   ]
  },
  {
   "cell_type": "code",
   "execution_count": 19,
   "id": "ef316814",
   "metadata": {},
   "outputs": [],
   "source": [
    "def contains_even(numbers):\n",
    "    for number in numbers:\n",
    "        if is_even(number):\n",
    "            return True\n",
    "        else:\n",
    "            pass\n",
    "        \n",
    "    return False"
   ]
  },
  {
   "cell_type": "code",
   "execution_count": 18,
   "id": "1090d1fc",
   "metadata": {},
   "outputs": [
    {
     "data": {
      "text/plain": [
       "False"
      ]
     },
     "execution_count": 18,
     "metadata": {},
     "output_type": "execute_result"
    }
   ],
   "source": [
    "numbers = [1, 3, 5]\n",
    "\n",
    "contains_even(numbers)"
   ]
  },
  {
   "cell_type": "code",
   "execution_count": null,
   "id": "7fa73041",
   "metadata": {},
   "outputs": [],
   "source": []
  }
 ],
 "metadata": {
  "kernelspec": {
   "display_name": "Python 3 (ipykernel)",
   "language": "python",
   "name": "python3"
  },
  "language_info": {
   "codemirror_mode": {
    "name": "ipython",
    "version": 3
   },
   "file_extension": ".py",
   "mimetype": "text/x-python",
   "name": "python",
   "nbconvert_exporter": "python",
   "pygments_lexer": "ipython3",
   "version": "3.9.13"
  }
 },
 "nbformat": 4,
 "nbformat_minor": 5
}
