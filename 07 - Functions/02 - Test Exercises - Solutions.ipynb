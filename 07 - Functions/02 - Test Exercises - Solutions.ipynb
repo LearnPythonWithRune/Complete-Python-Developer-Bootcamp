{
 "cells": [
  {
   "cell_type": "markdown",
   "id": "f6afe355",
   "metadata": {},
   "source": [
    "# Test Exercises"
   ]
  },
  {
   "cell_type": "markdown",
   "id": "309c7d45",
   "metadata": {},
   "source": [
    "### Exercise 1\n",
    "\n",
    "Write a function `add_numbers` that returns the sum of two numbers.\n",
    "\n",
    "Test data\n",
    "- `add_numbers(1, 1)` ➞ `2`\n",
    "- `add_numbers(10, 1)` ➞ `11`\n",
    "- `add_numbers(12, -12)` ➞ `0`\n",
    "- `add_numbers(10, 90)` ➞ `100`"
   ]
  },
  {
   "cell_type": "markdown",
   "id": "89787f2e",
   "metadata": {},
   "source": [
    "#### Double click here for a hint\n",
    "\n",
    "<!--\n",
    "\n",
    "The definition of the function could be as follows.\n",
    "\n",
    "def add_numbers(a, b):\n",
    "    # pass\n",
    "\n",
    "-->"
   ]
  },
  {
   "cell_type": "code",
   "execution_count": 1,
   "id": "c368cc83",
   "metadata": {},
   "outputs": [],
   "source": [
    "def add_numbers(a, b):\n",
    "    c = a + b\n",
    "    return c"
   ]
  },
  {
   "cell_type": "code",
   "execution_count": 2,
   "id": "ac9e37ff",
   "metadata": {},
   "outputs": [
    {
     "data": {
      "text/plain": [
       "2"
      ]
     },
     "execution_count": 2,
     "metadata": {},
     "output_type": "execute_result"
    }
   ],
   "source": [
    "add_numbers(1, 1)"
   ]
  },
  {
   "cell_type": "code",
   "execution_count": 3,
   "id": "d0e3c9ed",
   "metadata": {},
   "outputs": [
    {
     "data": {
      "text/plain": [
       "11"
      ]
     },
     "execution_count": 3,
     "metadata": {},
     "output_type": "execute_result"
    }
   ],
   "source": [
    "add_numbers(10, 1)"
   ]
  },
  {
   "cell_type": "code",
   "execution_count": 4,
   "id": "e358422d",
   "metadata": {},
   "outputs": [
    {
     "data": {
      "text/plain": [
       "0"
      ]
     },
     "execution_count": 4,
     "metadata": {},
     "output_type": "execute_result"
    }
   ],
   "source": [
    "add_numbers(12, -12)"
   ]
  },
  {
   "cell_type": "code",
   "execution_count": 5,
   "id": "d7b481e2",
   "metadata": {},
   "outputs": [
    {
     "data": {
      "text/plain": [
       "100"
      ]
     },
     "execution_count": 5,
     "metadata": {},
     "output_type": "execute_result"
    }
   ],
   "source": [
    "add_numbers(10, 90)"
   ]
  },
  {
   "cell_type": "markdown",
   "id": "69b63051",
   "metadata": {},
   "source": [
    "### Exercise 2\n",
    "\n",
    "Write a function `ascii_art` that takes an argument and prints it like this.\n",
    "\n",
    "`(¯·._.·(¯·._.· Argument text ·._.·¯)·._.·¯`\n",
    "\n",
    "Test data\n",
    "- `ascii_art('Hello!')` ➞ `(¯·._.·(¯·._.· Hello! ·._.·¯)·._.·¯`\n",
    "- `ascii_art('Are you ready?')` ➞ `(¯·._.·(¯·._.· Are you ready? ·._.·¯)·._.·¯`\n",
    "- `ascii_art('Python is AWESOME!')` ➞ `(¯·._.·(¯·._.· Python is AWESOME! ·._.·¯)·._.·¯`"
   ]
  },
  {
   "cell_type": "code",
   "execution_count": 6,
   "id": "cce7c68d",
   "metadata": {},
   "outputs": [],
   "source": [
    "def ascii_art(text):\n",
    "    print('(¯·._.·(¯·._.·', text, '·._.·¯)·._.·¯')"
   ]
  },
  {
   "cell_type": "code",
   "execution_count": null,
   "id": "00838b52",
   "metadata": {},
   "outputs": [],
   "source": [
    "def ascii_art(text):\n",
    "    print('(¯·._.·(¯·._.· ' + text + ' ·._.·¯)·._.·¯')"
   ]
  },
  {
   "cell_type": "code",
   "execution_count": 7,
   "id": "7db3b6de",
   "metadata": {},
   "outputs": [
    {
     "name": "stdout",
     "output_type": "stream",
     "text": [
      "(¯·._.·(¯·._.· Hello! ·._.·¯)·._.·¯\n"
     ]
    }
   ],
   "source": [
    "ascii_art('Hello!')"
   ]
  },
  {
   "cell_type": "code",
   "execution_count": 8,
   "id": "3be14326",
   "metadata": {},
   "outputs": [
    {
     "name": "stdout",
     "output_type": "stream",
     "text": [
      "(¯·._.·(¯·._.· Are you ready? ·._.·¯)·._.·¯\n"
     ]
    }
   ],
   "source": [
    "ascii_art('Are you ready?')"
   ]
  },
  {
   "cell_type": "code",
   "execution_count": 9,
   "id": "733b85b5",
   "metadata": {},
   "outputs": [
    {
     "name": "stdout",
     "output_type": "stream",
     "text": [
      "(¯·._.·(¯·._.· Python is AWESOME! ·._.·¯)·._.·¯\n"
     ]
    }
   ],
   "source": [
    "ascii_art('Python is AWESOME!')"
   ]
  },
  {
   "cell_type": "code",
   "execution_count": null,
   "id": "a5302ca3",
   "metadata": {},
   "outputs": [],
   "source": []
  },
  {
   "cell_type": "markdown",
   "id": "35bf3419",
   "metadata": {},
   "source": [
    "### Exercise 3\n",
    "\n",
    "Write a function `double_value` that takes an argument and returns the double of that value.\n",
    "\n",
    "Test data\n",
    "- `double_value(1)` ➞ `2`\n",
    "- `double_value(2)` ➞ `4`\n",
    "- `double_value(4)` ➞ `8`\n",
    "- `double_value(8)` ➞ `16`"
   ]
  },
  {
   "cell_type": "markdown",
   "id": "718a4056",
   "metadata": {},
   "source": [
    "#### Double click here for hint\n",
    "\n",
    "<!--\n",
    "\n",
    "A function can have multiple return statements like this.\n",
    "\n",
    "def less_than(a, b):\n",
    "    if a < b:\n",
    "        return True\n",
    "    return False\n",
    "\n",
    "The function less_than(a, b) will return True if a < b and False otherwise.\n",
    "\n",
    "-->"
   ]
  },
  {
   "cell_type": "code",
   "execution_count": 10,
   "id": "e5cdcaae",
   "metadata": {},
   "outputs": [],
   "source": [
    "def double_value(a):\n",
    "    return 2*a"
   ]
  },
  {
   "cell_type": "code",
   "execution_count": 11,
   "id": "1b4d0e6e",
   "metadata": {},
   "outputs": [
    {
     "data": {
      "text/plain": [
       "2"
      ]
     },
     "execution_count": 11,
     "metadata": {},
     "output_type": "execute_result"
    }
   ],
   "source": [
    "double_value(1)"
   ]
  },
  {
   "cell_type": "code",
   "execution_count": 12,
   "id": "2c651d44",
   "metadata": {},
   "outputs": [
    {
     "data": {
      "text/plain": [
       "16"
      ]
     },
     "execution_count": 12,
     "metadata": {},
     "output_type": "execute_result"
    }
   ],
   "source": [
    "double_value(8)"
   ]
  },
  {
   "cell_type": "markdown",
   "id": "f3f92933",
   "metadata": {},
   "source": [
    "### Exercise 4 (Difficult)\n",
    "\n",
    "Write a function range check `range_check(number, low, high)` that returns whether `number` is in the range between `low` and `high`.\n",
    "\n",
    "Test data\n",
    "- `range_check(0, 10, 20)` ➞ `False`\n",
    "- `range_check(10, 10, 20)` ➞ `False`\n",
    "- `range_check(11, 10, 20)` ➞ `True`\n",
    "- `range_check(19, 10, 20)` ➞ `True`\n",
    "- `range_check(20, 10, 20)` ➞ `False`"
   ]
  },
  {
   "cell_type": "code",
   "execution_count": 13,
   "id": "ee4999e3",
   "metadata": {},
   "outputs": [],
   "source": [
    "def range_check(number, low, high):\n",
    "    if number <= low:\n",
    "        return False\n",
    "    if number >= high:\n",
    "        return False\n",
    "    return True"
   ]
  },
  {
   "cell_type": "code",
   "execution_count": 18,
   "id": "47a4034f",
   "metadata": {},
   "outputs": [
    {
     "data": {
      "text/plain": [
       "False"
      ]
     },
     "execution_count": 18,
     "metadata": {},
     "output_type": "execute_result"
    }
   ],
   "source": [
    "range_check(20, 10, 20)"
   ]
  },
  {
   "cell_type": "code",
   "execution_count": null,
   "id": "7f60581b",
   "metadata": {},
   "outputs": [],
   "source": []
  }
 ],
 "metadata": {
  "kernelspec": {
   "display_name": "Python 3 (ipykernel)",
   "language": "python",
   "name": "python3"
  },
  "language_info": {
   "codemirror_mode": {
    "name": "ipython",
    "version": 3
   },
   "file_extension": ".py",
   "mimetype": "text/x-python",
   "name": "python",
   "nbconvert_exporter": "python",
   "pygments_lexer": "ipython3",
   "version": "3.9.13"
  }
 },
 "nbformat": 4,
 "nbformat_minor": 5
}
