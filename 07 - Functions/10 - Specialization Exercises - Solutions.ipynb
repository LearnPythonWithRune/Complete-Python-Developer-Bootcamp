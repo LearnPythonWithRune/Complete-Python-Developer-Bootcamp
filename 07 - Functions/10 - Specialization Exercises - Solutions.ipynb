{
 "cells": [
  {
   "cell_type": "markdown",
   "id": "fe4d3213",
   "metadata": {},
   "source": [
    "# Specialization Exercises"
   ]
  },
  {
   "cell_type": "markdown",
   "id": "5dff9f06",
   "metadata": {},
   "source": [
    "### Exercise 1\n",
    "\n",
    "Create a function that takes a list of numbers of input and a value. It should return the number of numbers less than the value and greater and equal than the value.\n",
    "\n",
    "Example\n",
    "- Input: `[1, 2, 3, 4, 5, 6]`, `4` output: `3`, `3`\n",
    "- Input: `[1, 2, 3, 4, 5, 6, 7, 8]`, `4` output: `3`, `5`"
   ]
  },
  {
   "cell_type": "code",
   "execution_count": 1,
   "id": "94ce2d52",
   "metadata": {},
   "outputs": [],
   "source": [
    "def my_func(numbers, value):\n",
    "    no_less_than = 0\n",
    "    no_greater_eq = 0\n",
    "    \n",
    "    for number in numbers:\n",
    "        if number < value:\n",
    "            no_less_than += 1\n",
    "        else:\n",
    "            no_greater_eq += 1\n",
    "            \n",
    "    return no_less_than, no_greater_eq\n",
    "            "
   ]
  },
  {
   "cell_type": "code",
   "execution_count": 2,
   "id": "247c0b79",
   "metadata": {},
   "outputs": [
    {
     "data": {
      "text/plain": [
       "(3, 3)"
      ]
     },
     "execution_count": 2,
     "metadata": {},
     "output_type": "execute_result"
    }
   ],
   "source": [
    "my_func([1, 2, 3, 4, 5, 6], 4)"
   ]
  },
  {
   "cell_type": "code",
   "execution_count": 3,
   "id": "5646bd8c",
   "metadata": {},
   "outputs": [
    {
     "data": {
      "text/plain": [
       "(3, 5)"
      ]
     },
     "execution_count": 3,
     "metadata": {},
     "output_type": "execute_result"
    }
   ],
   "source": [
    "my_func([1, 2, 3, 4, 5, 6, 7, 8], 4)"
   ]
  },
  {
   "cell_type": "markdown",
   "id": "0200ebd6",
   "metadata": {},
   "source": [
    "### Exercise 2\n",
    "\n",
    "Create a function that returns the sales representant with the highest sale.\n",
    "\n",
    "Input\n",
    "```Python\n",
    "sales_reps = ['Jimmy', 'Anna', 'Jack', 'Matilde']\n",
    "sale = [1000, 2000, 1500, 2300]\n",
    "```\n",
    "\n",
    "Output: `Matilde`, `2300`\n",
    "\n",
    "The function should take the two lists as input and return output as specified.\n",
    "- You can assume the lists are of same length."
   ]
  },
  {
   "cell_type": "code",
   "execution_count": 4,
   "id": "86ef41ca",
   "metadata": {},
   "outputs": [],
   "source": [
    "def highest_sale_rep(sales_rep, sale):\n",
    "    highest_sale_rep = ''\n",
    "    highest_sale = 0\n",
    "    \n",
    "    for sale_rep, sale_value in zip(sales_rep, sale):\n",
    "        if sale_value > highest_sale:\n",
    "            highest_sale_rep = sale_rep\n",
    "            highest_sale = sale_value\n",
    "            \n",
    "    return highest_sale_rep, highest_sale"
   ]
  },
  {
   "cell_type": "code",
   "execution_count": 5,
   "id": "a51a18ec",
   "metadata": {},
   "outputs": [
    {
     "data": {
      "text/plain": [
       "('Matilde', 2300)"
      ]
     },
     "execution_count": 5,
     "metadata": {},
     "output_type": "execute_result"
    }
   ],
   "source": [
    "highest_sale_rep(\n",
    "    ['Jimmy', 'Anna', 'Jack', 'Matilde'], \n",
    "    [1000, 2000, 1500, 2300]  \n",
    ")"
   ]
  },
  {
   "cell_type": "code",
   "execution_count": null,
   "id": "a53c8777",
   "metadata": {},
   "outputs": [],
   "source": []
  }
 ],
 "metadata": {
  "kernelspec": {
   "display_name": "Python 3 (ipykernel)",
   "language": "python",
   "name": "python3"
  },
  "language_info": {
   "codemirror_mode": {
    "name": "ipython",
    "version": 3
   },
   "file_extension": ".py",
   "mimetype": "text/x-python",
   "name": "python",
   "nbconvert_exporter": "python",
   "pygments_lexer": "ipython3",
   "version": "3.9.13"
  }
 },
 "nbformat": 4,
 "nbformat_minor": 5
}
