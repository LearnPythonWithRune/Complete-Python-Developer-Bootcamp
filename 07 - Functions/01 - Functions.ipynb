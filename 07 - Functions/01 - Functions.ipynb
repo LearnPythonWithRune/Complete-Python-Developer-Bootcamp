{
 "cells": [
  {
   "cell_type": "markdown",
   "id": "3ad6f664",
   "metadata": {},
   "source": [
    "# Python Functions / NEED-TO-KNOW\n",
    "\n",
    "Functions are the main building blocks when a programmer constructs larger and larger amounts of code to solve problems.\n",
    "\n",
    "Functions make abstract building blocks.\n",
    "\n",
    "<img src=\"img/robot-build.png\" width=400>\n",
    "\n",
    "Say you needed to build a robot.\n",
    "- You could build it from basic components.\n",
    "- Or you could build it from pre-designed units.\n",
    "\n",
    "Building a Python program is the same.\n",
    "- You can build everything in one big chuck of code.\n",
    "- Or you can build it from functions."
   ]
  },
  {
   "cell_type": "markdown",
   "id": "645d910a",
   "metadata": {},
   "source": [
    "### What is a Function?\n",
    "\n",
    "The normal way to define it is something like this.\n",
    "\n",
    "*Functions allow us to not have to repeatedly write the same code again and again.*\n",
    "\n",
    "While this is true, it doesn't capture the full power of functions.\n",
    "\n",
    "#### A function abstracts code away with the following benefits\n",
    "- Hides complexity away\n",
    "- Enables you to test chucks of code if it works as expected\n",
    "- It makes your code in individual modules so you can ensure works isolated\n",
    "- Makes your code easier to construct\n",
    "- Makes your code readable\n"
   ]
  },
  {
   "cell_type": "markdown",
   "id": "bbd0fd51",
   "metadata": {},
   "source": [
    "### Example\n",
    "\n",
    "```Python\n",
    "def add_numbers(a, b):\n",
    "    c = a + b\n",
    "    return c\n",
    "```\n",
    "\n",
    "Notice\n",
    "- `def` keyword is used to define the function\n",
    "- `my_function` is the name you use to call it (use lowercase and undersscore)\n",
    "- `(a, b)` are the arguments (also often called parameters) to the function\n",
    "- The function code is indendented\n",
    "- `return` is what the function returns"
   ]
  },
  {
   "cell_type": "markdown",
   "id": "9873aa41",
   "metadata": {},
   "source": [
    "### First example\n",
    "\n",
    "```Python\n",
    "def say_hello():\n",
    "    print('Hello')\n",
    "```\n",
    "\n",
    "What to notice?"
   ]
  },
  {
   "cell_type": "code",
   "execution_count": 3,
   "id": "45b0302a",
   "metadata": {},
   "outputs": [],
   "source": [
    "def say_hello():\n",
    "    print('Hello')\n",
    "    print('My Friend')"
   ]
  },
  {
   "cell_type": "code",
   "execution_count": 4,
   "id": "4dce96ef",
   "metadata": {},
   "outputs": [
    {
     "name": "stdout",
     "output_type": "stream",
     "text": [
      "Hello\n",
      "My Friend\n"
     ]
    }
   ],
   "source": [
    "say_hello()"
   ]
  },
  {
   "cell_type": "code",
   "execution_count": 5,
   "id": "a5879368",
   "metadata": {},
   "outputs": [
    {
     "data": {
      "text/plain": [
       "<function __main__.say_hello()>"
      ]
     },
     "execution_count": 5,
     "metadata": {},
     "output_type": "execute_result"
    }
   ],
   "source": [
    "say_hello"
   ]
  },
  {
   "cell_type": "markdown",
   "id": "2c084c6b",
   "metadata": {},
   "source": [
    "### Return vs no-return\n",
    "\n",
    "```Python\n",
    "def return_hello():\n",
    "    return 'Hello'\n",
    "```"
   ]
  },
  {
   "cell_type": "code",
   "execution_count": 6,
   "id": "25c44eef",
   "metadata": {},
   "outputs": [],
   "source": [
    "def return_hello():\n",
    "    return 'Hello'"
   ]
  },
  {
   "cell_type": "code",
   "execution_count": 7,
   "id": "d131af13",
   "metadata": {},
   "outputs": [
    {
     "data": {
      "text/plain": [
       "'Hello'"
      ]
     },
     "execution_count": 7,
     "metadata": {},
     "output_type": "execute_result"
    }
   ],
   "source": [
    "return_hello()"
   ]
  },
  {
   "cell_type": "code",
   "execution_count": 9,
   "id": "7d556b45",
   "metadata": {},
   "outputs": [],
   "source": [
    "return_value = return_hello()"
   ]
  },
  {
   "cell_type": "code",
   "execution_count": 10,
   "id": "c5c17b3e",
   "metadata": {},
   "outputs": [
    {
     "name": "stdout",
     "output_type": "stream",
     "text": [
      "Hello\n"
     ]
    }
   ],
   "source": [
    "print(return_value)"
   ]
  },
  {
   "cell_type": "code",
   "execution_count": null,
   "id": "f4e245e0",
   "metadata": {},
   "outputs": [],
   "source": []
  },
  {
   "cell_type": "code",
   "execution_count": null,
   "id": "269f0a4a",
   "metadata": {},
   "outputs": [],
   "source": []
  },
  {
   "cell_type": "markdown",
   "id": "87ea5a8f",
   "metadata": {},
   "source": [
    "### Arguments\n",
    "\n",
    "```Python\n",
    "def greeting(name):\n",
    "    print('Hello', name)\n",
    "```    "
   ]
  },
  {
   "cell_type": "code",
   "execution_count": 11,
   "id": "3370b79f",
   "metadata": {},
   "outputs": [],
   "source": [
    "def greeting(name):\n",
    "    print('Hello', name)"
   ]
  },
  {
   "cell_type": "code",
   "execution_count": 12,
   "id": "a19b0520",
   "metadata": {},
   "outputs": [
    {
     "name": "stdout",
     "output_type": "stream",
     "text": [
      "Hello Charles\n"
     ]
    }
   ],
   "source": [
    "greeting('Charles')"
   ]
  },
  {
   "cell_type": "code",
   "execution_count": null,
   "id": "62862348",
   "metadata": {},
   "outputs": [],
   "source": []
  },
  {
   "cell_type": "markdown",
   "id": "fe556d8d",
   "metadata": {},
   "source": [
    "### Docstrings\n",
    "\n",
    "```Python\n",
    "def my_function():\n",
    "    \"\"\"My docstring\"\"\"\n",
    "    # The stuff\n",
    "    return None\n",
    "```"
   ]
  },
  {
   "cell_type": "code",
   "execution_count": 13,
   "id": "fc2d7f70",
   "metadata": {},
   "outputs": [],
   "source": [
    "def my_function():\n",
    "    \"\"\"My docstring\"\"\"\n",
    "    # The stuff\n",
    "    return None"
   ]
  },
  {
   "cell_type": "code",
   "execution_count": null,
   "id": "a2223141",
   "metadata": {},
   "outputs": [],
   "source": [
    "my_function()"
   ]
  },
  {
   "cell_type": "code",
   "execution_count": null,
   "id": "974d93f6",
   "metadata": {},
   "outputs": [],
   "source": []
  }
 ],
 "metadata": {
  "kernelspec": {
   "display_name": "Python 3 (ipykernel)",
   "language": "python",
   "name": "python3"
  },
  "language_info": {
   "codemirror_mode": {
    "name": "ipython",
    "version": 3
   },
   "file_extension": ".py",
   "mimetype": "text/x-python",
   "name": "python",
   "nbconvert_exporter": "python",
   "pygments_lexer": "ipython3",
   "version": "3.9.13"
  }
 },
 "nbformat": 4,
 "nbformat_minor": 5
}
