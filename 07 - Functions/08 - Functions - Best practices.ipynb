{
 "cells": [
  {
   "cell_type": "markdown",
   "id": "632f259d",
   "metadata": {},
   "source": [
    "# Python Functions and Best Practices / NEED-TO-KNOW"
   ]
  },
  {
   "cell_type": "markdown",
   "id": "fd9eae6c",
   "metadata": {},
   "source": [
    "### Return vs print\n",
    "\n",
    "Consider the following\n",
    "\n",
    "```Python\n",
    "def print_hello():\n",
    "    print('Hello!')\n",
    "    \n",
    "def return_hello():\n",
    "    return 'Hello!'\n",
    "```\n",
    "\n",
    "What is good practice?\n",
    "- In general you want to minimize side-effects.\n",
    "\n",
    "What is side-effects in programming?\n",
    "- print statements\n",
    "- changing data structures\n",
    "- read/write to storage\n",
    "- ...and similar things\n",
    "\n",
    "Can you avoid it?\n",
    "- No but try to strucutre code with minimal side-effects.\n",
    "- Keep functions with side-effects minimal (meaning not doing more than the side-effects)\n",
    "- Have the side-effect functions visible in the code\n",
    "\n",
    "Key points\n",
    "- Ensure function names tell the user about side-effects."
   ]
  },
  {
   "cell_type": "code",
   "execution_count": null,
   "id": "cf714df0",
   "metadata": {},
   "outputs": [],
   "source": []
  },
  {
   "cell_type": "code",
   "execution_count": null,
   "id": "c0424951",
   "metadata": {},
   "outputs": [],
   "source": []
  },
  {
   "cell_type": "code",
   "execution_count": null,
   "id": "a827af27",
   "metadata": {},
   "outputs": [],
   "source": []
  },
  {
   "cell_type": "markdown",
   "id": "94078dae",
   "metadata": {},
   "source": [
    "### Change global variables\n",
    "\n",
    "Consider the following code.\n",
    "\n",
    "```Python\n",
    "v = 0\n",
    "\n",
    "def add_to_v(a):\n",
    "    global v\n",
    "    v += a\n",
    "\n",
    "add_to_v(10)\n",
    "```"
   ]
  },
  {
   "cell_type": "code",
   "execution_count": 1,
   "id": "96a8ffc7",
   "metadata": {},
   "outputs": [
    {
     "data": {
      "text/plain": [
       "10"
      ]
     },
     "execution_count": 1,
     "metadata": {},
     "output_type": "execute_result"
    }
   ],
   "source": [
    "v = 0\n",
    "\n",
    "def add_to_v(a):\n",
    "    global v\n",
    "    v += a\n",
    "\n",
    "add_to_v(10)\n",
    "\n",
    "v"
   ]
  },
  {
   "cell_type": "code",
   "execution_count": 2,
   "id": "3ae0ddeb",
   "metadata": {},
   "outputs": [
    {
     "data": {
      "text/plain": [
       "10"
      ]
     },
     "execution_count": 2,
     "metadata": {},
     "output_type": "execute_result"
    }
   ],
   "source": [
    "v = 0\n",
    "\n",
    "def add_numbers(a, v):\n",
    "    return a + v\n",
    "\n",
    "v = add_numbers(10, v)\n",
    "\n",
    "v"
   ]
  },
  {
   "cell_type": "code",
   "execution_count": null,
   "id": "1f20988b",
   "metadata": {},
   "outputs": [],
   "source": []
  },
  {
   "cell_type": "markdown",
   "id": "728a150a",
   "metadata": {},
   "source": [
    "### Example of poor code\n",
    "\n",
    "#### DON'T DO THIS\n",
    "```Python\n",
    "def contains_even_SIDE_EFFECTS(lst):\n",
    "    while lst:\n",
    "        element = lst.pop()\n",
    "        if element % 2 == 0:\n",
    "            return True\n",
    "    return False\n",
    "\n",
    "my_list = [1, 3, 5, 7, 8, 9, 11, 13]\n",
    "```"
   ]
  },
  {
   "cell_type": "code",
   "execution_count": 3,
   "id": "d3844073",
   "metadata": {},
   "outputs": [],
   "source": [
    "def contains_even_SIDE_EFFECTS(lst):\n",
    "    while lst:\n",
    "        element = lst.pop()\n",
    "        if element % 2 == 0:\n",
    "            return True\n",
    "    return False\n",
    "\n",
    "my_list = [1, 3, 5, 7, 8, 9, 11, 13]"
   ]
  },
  {
   "cell_type": "code",
   "execution_count": 4,
   "id": "dc482545",
   "metadata": {},
   "outputs": [
    {
     "data": {
      "text/plain": [
       "True"
      ]
     },
     "execution_count": 4,
     "metadata": {},
     "output_type": "execute_result"
    }
   ],
   "source": [
    "contains_even_SIDE_EFFECTS(my_list)"
   ]
  },
  {
   "cell_type": "code",
   "execution_count": 5,
   "id": "7de53cf1",
   "metadata": {},
   "outputs": [
    {
     "data": {
      "text/plain": [
       "[1, 3, 5, 7]"
      ]
     },
     "execution_count": 5,
     "metadata": {},
     "output_type": "execute_result"
    }
   ],
   "source": [
    "my_list"
   ]
  },
  {
   "cell_type": "code",
   "execution_count": 6,
   "id": "ff6779b9",
   "metadata": {},
   "outputs": [],
   "source": [
    "def contains_even(numbers):\n",
    "    for number in numbers:\n",
    "        if number % 2 == 0:\n",
    "            return True\n",
    "    \n",
    "    return False"
   ]
  },
  {
   "cell_type": "code",
   "execution_count": 7,
   "id": "1336eaf0",
   "metadata": {},
   "outputs": [
    {
     "data": {
      "text/plain": [
       "True"
      ]
     },
     "execution_count": 7,
     "metadata": {},
     "output_type": "execute_result"
    }
   ],
   "source": [
    "my_list = [1, 3, 5, 7, 8, 9, 11, 13]\n",
    "\n",
    "contains_even(my_list)"
   ]
  },
  {
   "cell_type": "code",
   "execution_count": 8,
   "id": "8541f885",
   "metadata": {},
   "outputs": [
    {
     "data": {
      "text/plain": [
       "[1, 3, 5, 7, 8, 9, 11, 13]"
      ]
     },
     "execution_count": 8,
     "metadata": {},
     "output_type": "execute_result"
    }
   ],
   "source": [
    "my_list"
   ]
  },
  {
   "cell_type": "code",
   "execution_count": null,
   "id": "daf55151",
   "metadata": {},
   "outputs": [],
   "source": []
  }
 ],
 "metadata": {
  "kernelspec": {
   "display_name": "Python 3 (ipykernel)",
   "language": "python",
   "name": "python3"
  },
  "language_info": {
   "codemirror_mode": {
    "name": "ipython",
    "version": 3
   },
   "file_extension": ".py",
   "mimetype": "text/x-python",
   "name": "python",
   "nbconvert_exporter": "python",
   "pygments_lexer": "ipython3",
   "version": "3.9.13"
  }
 },
 "nbformat": 4,
 "nbformat_minor": 5
}
