{
 "cells": [
  {
   "cell_type": "markdown",
   "id": "fe4d3213",
   "metadata": {},
   "source": [
    "# Specialization Exercises"
   ]
  },
  {
   "cell_type": "markdown",
   "id": "5dff9f06",
   "metadata": {},
   "source": [
    "### Exercise 1\n",
    "\n",
    "Create a function that takes a list of numbers of input and a value. It should return the number of numbers less than the value and greater and equal than the value.\n",
    "\n",
    "Example\n",
    "- Input: `[1, 2, 3, 4, 5, 6]`, `4` output: `3`, `3`\n",
    "- Input: `[1, 2, 3, 4, 5, 6, 7, 8]`, `4` output: `3`, `5`"
   ]
  },
  {
   "cell_type": "code",
   "execution_count": null,
   "id": "94ce2d52",
   "metadata": {},
   "outputs": [],
   "source": []
  },
  {
   "cell_type": "code",
   "execution_count": null,
   "id": "247c0b79",
   "metadata": {},
   "outputs": [],
   "source": []
  },
  {
   "cell_type": "code",
   "execution_count": null,
   "id": "5646bd8c",
   "metadata": {},
   "outputs": [],
   "source": []
  },
  {
   "cell_type": "markdown",
   "id": "0200ebd6",
   "metadata": {},
   "source": [
    "### Exercise 2\n",
    "\n",
    "Create a function that returns the sales representant with the highest sale.\n",
    "\n",
    "Input\n",
    "```Python\n",
    "sales_reps = ['Jimmy', 'Anna', 'Jack', 'Matilde']\n",
    "sale = [1000, 2000, 1500, 2300]\n",
    "```\n",
    "\n",
    "Output: `Matilde`, `2300`\n",
    "\n",
    "The function should take the two lists as input and return output as specified.\n",
    "- You can assume the lists are of same length."
   ]
  },
  {
   "cell_type": "code",
   "execution_count": null,
   "id": "86ef41ca",
   "metadata": {},
   "outputs": [],
   "source": []
  },
  {
   "cell_type": "code",
   "execution_count": null,
   "id": "a51a18ec",
   "metadata": {},
   "outputs": [],
   "source": []
  },
  {
   "cell_type": "code",
   "execution_count": null,
   "id": "a53c8777",
   "metadata": {},
   "outputs": [],
   "source": []
  }
 ],
 "metadata": {
  "kernelspec": {
   "display_name": "Python 3 (ipykernel)",
   "language": "python",
   "name": "python3"
  },
  "language_info": {
   "codemirror_mode": {
    "name": "ipython",
    "version": 3
   },
   "file_extension": ".py",
   "mimetype": "text/x-python",
   "name": "python",
   "nbconvert_exporter": "python",
   "pygments_lexer": "ipython3",
   "version": "3.9.13"
  }
 },
 "nbformat": 4,
 "nbformat_minor": 5
}
