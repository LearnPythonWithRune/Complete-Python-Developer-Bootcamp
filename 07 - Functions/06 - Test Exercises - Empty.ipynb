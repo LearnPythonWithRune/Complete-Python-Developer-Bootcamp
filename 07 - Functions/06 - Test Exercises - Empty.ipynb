{
 "cells": [
  {
   "cell_type": "markdown",
   "id": "2864a521",
   "metadata": {},
   "source": [
    "# Test Exercises"
   ]
  },
  {
   "cell_type": "markdown",
   "id": "8ca573ff",
   "metadata": {},
   "source": [
    "### Exercise 1\n",
    "\n",
    "Consider the following code.\n",
    "\n",
    "```Python\n",
    "for i in range(1, 100):\n",
    "    if i % 15 == 0:\n",
    "        print('FizzBuzz')\n",
    "    elif i % 3 == 0:\n",
    "        print('Fizz')\n",
    "    elif i % 5 == 0:\n",
    "        print('Buzz')\n",
    "    else:\n",
    "        print(i)\n",
    "```\n",
    "\n",
    "Given the following two functions.\n",
    "```Python\n",
    "def is_divisible_by_3(number):\n",
    "    \"\"\"\n",
    "    Returns True if number is divisible by 3, False otherwise.\n",
    "    \"\"\"\n",
    "    if number % 3 == 0:\n",
    "        return True\n",
    "    return False\n",
    "\n",
    "def is_divisible_by_5(number):\n",
    "    \"\"\"\n",
    "    Returns True if number is divisible by 5, False otherwise.\n",
    "    \"\"\"\n",
    "    if number % 5 == 0:\n",
    "        return True\n",
    "    return False\n",
    "```\n",
    "\n",
    "How can you rewrite the FizzBuzz code to use these two functions and make it more readable?\n",
    "\n",
    "- Do not write more functions, use the two you are given to solve the problem."
   ]
  },
  {
   "cell_type": "markdown",
   "id": "4abf1fe1",
   "metadata": {},
   "source": [
    "#### Double click here for a hint.\n",
    "\n",
    "<!--\n",
    "\n",
    "You can use the `and` boolean operator with the two functions.\n",
    "\n",
    "This:\n",
    "\n",
    "is_divisible_by_3(i) and is_divisible_by_5(i)\n",
    "\n",
    "Will return True if i is divisible by both 3 and 5.\n",
    "-->"
   ]
  },
  {
   "cell_type": "code",
   "execution_count": null,
   "id": "fa21b72a",
   "metadata": {},
   "outputs": [],
   "source": []
  },
  {
   "cell_type": "code",
   "execution_count": null,
   "id": "fca4d361",
   "metadata": {},
   "outputs": [],
   "source": []
  },
  {
   "cell_type": "code",
   "execution_count": null,
   "id": "0e3203f9",
   "metadata": {},
   "outputs": [],
   "source": []
  },
  {
   "cell_type": "markdown",
   "id": "f20bad4d",
   "metadata": {},
   "source": [
    "### Exercise 2\n",
    "\n",
    "Consider the following code.\n",
    "\n",
    "```Python\n",
    "numbers = [1, 2, 3, 4, 5, 6, 7, 8, 9, 10]\n",
    "\n",
    "even_numbers = []\n",
    "\n",
    "for number in numbers:\n",
    "    if number % 2 == 0:\n",
    "        even_numbers.append(number)\n",
    "```\n",
    "\n",
    "Create a function `is_even` and use it in the code above."
   ]
  },
  {
   "cell_type": "code",
   "execution_count": null,
   "id": "290d48c9",
   "metadata": {},
   "outputs": [],
   "source": []
  },
  {
   "cell_type": "code",
   "execution_count": null,
   "id": "47e47823",
   "metadata": {},
   "outputs": [],
   "source": []
  },
  {
   "cell_type": "code",
   "execution_count": null,
   "id": "703fa058",
   "metadata": {},
   "outputs": [],
   "source": []
  }
 ],
 "metadata": {
  "kernelspec": {
   "display_name": "Python 3 (ipykernel)",
   "language": "python",
   "name": "python3"
  },
  "language_info": {
   "codemirror_mode": {
    "name": "ipython",
    "version": 3
   },
   "file_extension": ".py",
   "mimetype": "text/x-python",
   "name": "python",
   "nbconvert_exporter": "python",
   "pygments_lexer": "ipython3",
   "version": "3.9.13"
  }
 },
 "nbformat": 4,
 "nbformat_minor": 5
}
