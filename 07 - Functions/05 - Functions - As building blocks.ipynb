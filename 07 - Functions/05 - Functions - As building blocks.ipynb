{
 "cells": [
  {
   "cell_type": "markdown",
   "id": "58c46eab",
   "metadata": {},
   "source": [
    "# Python Functions as Building Blocks / NEED-TO-KNOW\n",
    "\n",
    "### Exploring how to use functions\n",
    "\n",
    "Consider the following FizzBuzz code.\n",
    "\n",
    "```Python\n",
    "for i in range(1, 100):\n",
    "    if i % 15 == 0:\n",
    "        print('FizzBuzz')\n",
    "    elif i % 3 == 0:\n",
    "        print('Fizz')\n",
    "    elif i % 5 == 0:\n",
    "        print('Buzz')\n",
    "    else:\n",
    "        print(i)\n",
    "```\n",
    "\n",
    "Now cosider the following function.\n",
    "\n",
    "```Python\n",
    "def is_divisible_by_3_and_5(number):\n",
    "    \"\"\"\n",
    "    Returns True if number is divisible by both 3 and 5, False otherwise.\n",
    "    \"\"\"\n",
    "    if number % 3 == 0:\n",
    "        if number % 5 == 0:\n",
    "            return True\n",
    "    return False\n",
    "```\n",
    "\n",
    "This will enable you to\n",
    "- Break code down and test it\n",
    "- Make your code more readable and easier to maintain"
   ]
  },
  {
   "cell_type": "code",
   "execution_count": 9,
   "id": "832876da",
   "metadata": {},
   "outputs": [],
   "source": [
    "def is_divisible_by_3_and_5(number):\n",
    "    \"\"\"\n",
    "    Returns True if number is divisible by both 3 and 5, False otherwise.\n",
    "    \"\"\"\n",
    "    if number % 3 == 0:\n",
    "        if number % 5 == 0:\n",
    "            return True\n",
    "    return False\n",
    "\n",
    "def is_divisible_by_3(number):\n",
    "    if number % 3 == 0:\n",
    "        return True\n",
    "    return False\n",
    "\n",
    "def is_divisible_by_5(number):\n",
    "    if number % 5 == 0:\n",
    "        return True\n",
    "    return False"
   ]
  },
  {
   "cell_type": "code",
   "execution_count": 3,
   "id": "c26814a1",
   "metadata": {},
   "outputs": [
    {
     "data": {
      "text/plain": [
       "False"
      ]
     },
     "execution_count": 3,
     "metadata": {},
     "output_type": "execute_result"
    }
   ],
   "source": [
    "is_divisible_by_3_and_5(3*5 + 1)"
   ]
  },
  {
   "cell_type": "code",
   "execution_count": 8,
   "id": "b92c2d07",
   "metadata": {},
   "outputs": [
    {
     "data": {
      "text/plain": [
       "False"
      ]
     },
     "execution_count": 8,
     "metadata": {},
     "output_type": "execute_result"
    }
   ],
   "source": [
    "is_divisible_by_3(5)"
   ]
  },
  {
   "cell_type": "code",
   "execution_count": null,
   "id": "623fb1f3",
   "metadata": {},
   "outputs": [],
   "source": []
  },
  {
   "cell_type": "code",
   "execution_count": 10,
   "id": "5fe918a3",
   "metadata": {},
   "outputs": [
    {
     "name": "stdout",
     "output_type": "stream",
     "text": [
      "1\n",
      "2\n",
      "Fizz\n",
      "4\n",
      "Buzz\n",
      "Fizz\n",
      "7\n",
      "8\n",
      "Fizz\n",
      "Buzz\n",
      "11\n",
      "Fizz\n",
      "13\n",
      "14\n",
      "FizzBuzz\n",
      "16\n",
      "17\n",
      "Fizz\n",
      "19\n"
     ]
    }
   ],
   "source": [
    "for i in range(1, 20):\n",
    "    if is_divisible_by_3_and_5(i):\n",
    "        print('FizzBuzz')\n",
    "    elif is_divisible_by_3(i):\n",
    "        print('Fizz')\n",
    "    elif is_divisible_by_5(i):\n",
    "        print('Buzz')\n",
    "    else:\n",
    "        print(i)"
   ]
  },
  {
   "cell_type": "markdown",
   "id": "89f93c23",
   "metadata": {},
   "source": [
    "### A note on readability\n",
    "\n",
    "Consider the following functions.\n",
    "\n",
    "```Python\n",
    "def is_divisible_by_3_and_5(number):\n",
    "    \"\"\"\n",
    "    Returns True if number is divisible by both 3 and 5, False otherwise.\n",
    "    \"\"\"\n",
    "    if number % 3 == 0:\n",
    "        if number % 5 == 0:\n",
    "            return True\n",
    "    return False\n",
    "\n",
    "def is_divisible_by_3_and_5(number):\n",
    "    \"\"\"\n",
    "    Returns True if number is divisible by both 3 and 5, False otherwise.\n",
    "    \"\"\"\n",
    "    return number % 3 == 0 and number % 5 == 0\n",
    "\n",
    "```\n",
    "\n",
    "How to write code?\n",
    "- What is most readable for you or someone that might read it in the future?\n",
    "\n",
    "What about speed?\n",
    "- 20% of the code is accountable for 80% of the process time.\n",
    "- Readability is first priority."
   ]
  },
  {
   "cell_type": "code",
   "execution_count": 11,
   "id": "806a0647",
   "metadata": {},
   "outputs": [],
   "source": [
    "def is_divisible_by_3_and_5(number):\n",
    "    \"\"\"\n",
    "    Returns True if number is divisible by both 3 and 5, False otherwise.\n",
    "    \"\"\"\n",
    "    if number % 3 == 0:\n",
    "        if number % 5 == 0:\n",
    "            return True\n",
    "    return False\n",
    "\n",
    "def is_divisible_by_3_and_5_v2(number):\n",
    "    \"\"\"\n",
    "    Returns True if number is divisible by both 3 and 5, False otherwise.\n",
    "    \"\"\"\n",
    "    return number % 3 == 0 and number % 5 == 0"
   ]
  },
  {
   "cell_type": "code",
   "execution_count": 12,
   "id": "11067505",
   "metadata": {},
   "outputs": [],
   "source": [
    "for i in range(109):\n",
    "    if is_divisible_by_3_and_5(i) != is_divisible_by_3_and_5_v2(i):\n",
    "        print('FAILURE')"
   ]
  },
  {
   "cell_type": "code",
   "execution_count": null,
   "id": "adc6d983",
   "metadata": {},
   "outputs": [],
   "source": []
  }
 ],
 "metadata": {
  "kernelspec": {
   "display_name": "Python 3 (ipykernel)",
   "language": "python",
   "name": "python3"
  },
  "language_info": {
   "codemirror_mode": {
    "name": "ipython",
    "version": 3
   },
   "file_extension": ".py",
   "mimetype": "text/x-python",
   "name": "python",
   "nbconvert_exporter": "python",
   "pygments_lexer": "ipython3",
   "version": "3.9.13"
  }
 },
 "nbformat": 4,
 "nbformat_minor": 5
}
