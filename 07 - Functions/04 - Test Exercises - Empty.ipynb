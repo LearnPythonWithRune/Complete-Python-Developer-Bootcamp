{
 "cells": [
  {
   "cell_type": "markdown",
   "id": "0d9445f2",
   "metadata": {},
   "source": [
    "# Test Exercises"
   ]
  },
  {
   "cell_type": "markdown",
   "id": "33ede52c",
   "metadata": {},
   "source": [
    "### Exercise 1\n",
    "\n",
    "Create a function that returns True if a number is odd, otherwise it should return false.\n",
    "\n",
    "Test data\n",
    "- `1` ➞ `True`\n",
    "- `2` ➞ `False`\n",
    "- `3` ➞ `True`"
   ]
  },
  {
   "cell_type": "markdown",
   "id": "db526909",
   "metadata": {},
   "source": [
    "#### Double click here for the naming of the function\n",
    "\n",
    "<!--\n",
    "\n",
    "A good name could be `is_odd()`\n",
    "\n",
    "This makes the code readable. Consider the following.\n",
    "\n",
    "a = 10\n",
    "\n",
    "if is_odd(a):\n",
    "    print('Number is odd')\n",
    "\n",
    "-->"
   ]
  },
  {
   "cell_type": "markdown",
   "id": "8ee2f272",
   "metadata": {},
   "source": [
    "#### Double click here for implementation details\n",
    "\n",
    "<!--\n",
    "\n",
    "You need to create a function that returns the opposite of this one.\n",
    "\n",
    "def is_even(number):\n",
    "    if number % 2 == 0:\n",
    "        return True\n",
    "    else:\n",
    "        return False\n",
    "\n",
    "-->"
   ]
  },
  {
   "cell_type": "code",
   "execution_count": null,
   "id": "86841d09",
   "metadata": {},
   "outputs": [],
   "source": []
  },
  {
   "cell_type": "code",
   "execution_count": null,
   "id": "36e4742c",
   "metadata": {},
   "outputs": [],
   "source": []
  },
  {
   "cell_type": "code",
   "execution_count": null,
   "id": "8e1c51c1",
   "metadata": {},
   "outputs": [],
   "source": []
  },
  {
   "cell_type": "markdown",
   "id": "06563feb",
   "metadata": {},
   "source": [
    "### Exercise 2\n",
    "\n",
    "Create a function `return_even_numbers` that returns all the even numbers from a list.\n",
    "\n",
    "Test data\n",
    "- `return_even_numbers([1, 2, 3, 4])` ➞ `[2, 4]`\n",
    "- `return_even_numbers([1, 3, 5, 7])` ➞ `[]`\n",
    "- `return_even_numbers([1, 1, 1, 2])` ➞ `[2]`\n",
    "- `return_even_numbers([2, 1, 1, 1])` ➞ `[2]`\n"
   ]
  },
  {
   "cell_type": "markdown",
   "id": "456a9dff",
   "metadata": {},
   "source": [
    "#### Double click to see the function signature\n",
    "\n",
    "<!--\n",
    "\n",
    "The function could be defined as follows\n",
    "\n",
    "def return_even_numbers(numbers):\n",
    "    pass\n",
    "\n",
    "\n",
    "Please notice, that the `pass` statement is a placeholder for your code.\n",
    "-->"
   ]
  },
  {
   "cell_type": "markdown",
   "id": "bfed3d1e",
   "metadata": {},
   "source": [
    "#### Double click to get an idea of how to solve the problem\n",
    "\n",
    "<!--\n",
    "\n",
    "def return_even_numbers(numbers):\n",
    "    even_numbers = []\n",
    "\n",
    "    for number in numbers:\n",
    "        pass\n",
    "\n",
    "    return even_numbers\n",
    "\n",
    "Again, you should insert the missing code at the `pass` statement\n",
    "\n",
    "-->"
   ]
  },
  {
   "cell_type": "markdown",
   "id": "f2ffd1e2",
   "metadata": {},
   "source": [
    "#### Double click to get help on how to append an element to a list\n",
    "\n",
    "<!--\n",
    "\n",
    "my_list = []\n",
    "\n",
    "my_list.append(3)\n",
    "# my_list = [3]\n",
    "\n",
    "my_list.append(5)\n",
    "# my_list = [3, 5]\n",
    "\n",
    "-->"
   ]
  },
  {
   "cell_type": "code",
   "execution_count": null,
   "id": "d4aa1b2c",
   "metadata": {},
   "outputs": [],
   "source": []
  },
  {
   "cell_type": "code",
   "execution_count": null,
   "id": "55be7373",
   "metadata": {},
   "outputs": [],
   "source": []
  },
  {
   "cell_type": "code",
   "execution_count": null,
   "id": "7f6daf3b",
   "metadata": {},
   "outputs": [],
   "source": []
  },
  {
   "cell_type": "markdown",
   "id": "53270917",
   "metadata": {},
   "source": [
    "### Exercise 3\n",
    "\n",
    "Create a functions that takes a string and calcualtes the number of upper case and lower case letters.\n",
    "\n",
    "Example\n",
    "- Input string: `Are you joining this Friday?'\n",
    "- Expected output\n",
    "```\n",
    "No. of upper case letters: 2\n",
    "No. of lower case letters: 20\n",
    "```"
   ]
  },
  {
   "cell_type": "markdown",
   "id": "1d5d3ecf",
   "metadata": {},
   "source": [
    "#### Double click here to see how to check whether a character is lower case or upper case\n",
    "\n",
    "<!--\n",
    "\n",
    "c = 'a'\n",
    "\n",
    "c.isupper() returns True if c is in upper case, and False otherwise.\n",
    "c.islower() returns True if c is in upper case, and False otherwise.\n",
    "\n",
    "-->"
   ]
  },
  {
   "cell_type": "code",
   "execution_count": null,
   "id": "5f149e40",
   "metadata": {},
   "outputs": [],
   "source": []
  },
  {
   "cell_type": "code",
   "execution_count": null,
   "id": "3b941636",
   "metadata": {},
   "outputs": [],
   "source": []
  },
  {
   "cell_type": "code",
   "execution_count": null,
   "id": "0e3d3bef",
   "metadata": {},
   "outputs": [],
   "source": []
  },
  {
   "cell_type": "markdown",
   "id": "2fbe0da2",
   "metadata": {},
   "source": [
    "### Exercise 4 (Difficult)\n",
    "\n",
    "Create a function that takes a string as input and returns a string where every even letter is in upper case.\n",
    "\n",
    "Example\n",
    "- 'abcdefg' ➞ 'aBcDeFg'"
   ]
  },
  {
   "cell_type": "code",
   "execution_count": null,
   "id": "4b4f3da9",
   "metadata": {},
   "outputs": [],
   "source": []
  },
  {
   "cell_type": "code",
   "execution_count": null,
   "id": "1b968093",
   "metadata": {},
   "outputs": [],
   "source": []
  },
  {
   "cell_type": "code",
   "execution_count": null,
   "id": "d280af9e",
   "metadata": {},
   "outputs": [],
   "source": []
  },
  {
   "cell_type": "code",
   "execution_count": null,
   "id": "c83118a0",
   "metadata": {},
   "outputs": [],
   "source": []
  }
 ],
 "metadata": {
  "kernelspec": {
   "display_name": "Python 3 (ipykernel)",
   "language": "python",
   "name": "python3"
  },
  "language_info": {
   "codemirror_mode": {
    "name": "ipython",
    "version": 3
   },
   "file_extension": ".py",
   "mimetype": "text/x-python",
   "name": "python",
   "nbconvert_exporter": "python",
   "pygments_lexer": "ipython3",
   "version": "3.9.13"
  }
 },
 "nbformat": 4,
 "nbformat_minor": 5
}
