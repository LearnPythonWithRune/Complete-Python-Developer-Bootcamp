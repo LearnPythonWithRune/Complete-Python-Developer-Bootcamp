{
 "cells": [
  {
   "cell_type": "markdown",
   "id": "f5116ba2",
   "metadata": {},
   "source": [
    "# Project - Head or Tails\n",
    "\n",
    "This is a simple project to create, but we need to learn to work with functions.\n",
    "\n",
    "You should build a guessing game of a head or tails.\n",
    "\n",
    "Game description.\n",
    "1. The user is asked to guess `head` or `tails`\n",
    "2. The game will \"flip\" a coin to either `head` or `tails`.\n",
    "3. The game will write if the user guessed correct or not.\n",
    "\n",
    "Your goal is not to write the code, it is to use functions to create it.\n",
    "\n",
    "Note: *An advantage of writing functions is that it enables you to test it isolated.*"
   ]
  },
  {
   "cell_type": "markdown",
   "id": "b85f866f",
   "metadata": {},
   "source": [
    "### Step 1: Design\n",
    "\n",
    "Think what functions would make it easy to create this game."
   ]
  },
  {
   "cell_type": "markdown",
   "id": "91febcf3",
   "metadata": {},
   "source": [
    "### Double click here for an idea\n",
    "\n",
    "<!--\n",
    "\n",
    "There are three things happening in this game.\n",
    "1. It prompts the user for a guess.\n",
    "2. The game flips a coin.\n",
    "3. The checks if guess is correct.\n",
    "\n",
    "That could be a way to divide it into functions.\n",
    "-->"
   ]
  },
  {
   "cell_type": "code",
   "execution_count": null,
   "id": "b5162d9d",
   "metadata": {},
   "outputs": [],
   "source": []
  },
  {
   "cell_type": "code",
   "execution_count": null,
   "id": "75e742c2",
   "metadata": {},
   "outputs": [],
   "source": []
  },
  {
   "cell_type": "markdown",
   "id": "903f599f",
   "metadata": {},
   "source": [
    "### Step 2: Input from user\n",
    "\n",
    "The first function is the input from the user.\n",
    "\n",
    "Consider the following.\n",
    "- The user might not give a valid answer, what then?"
   ]
  },
  {
   "cell_type": "code",
   "execution_count": 29,
   "id": "9f2b0d1c",
   "metadata": {},
   "outputs": [],
   "source": [
    "def input_from_user():\n",
    "    while True:\n",
    "        guess = input('head or tails? ')\n",
    "        \n",
    "        if guess in ['head', 'tails']:\n",
    "            return guess\n",
    "        \n",
    "        print('Not valid input: head or tails')\n",
    "    "
   ]
  },
  {
   "cell_type": "code",
   "execution_count": 31,
   "id": "a25ec78b",
   "metadata": {},
   "outputs": [
    {
     "name": "stdout",
     "output_type": "stream",
     "text": [
      "head or tails? tails\n"
     ]
    },
    {
     "data": {
      "text/plain": [
       "'tails'"
      ]
     },
     "execution_count": 31,
     "metadata": {},
     "output_type": "execute_result"
    }
   ],
   "source": [
    "input_from_user()"
   ]
  },
  {
   "cell_type": "code",
   "execution_count": null,
   "id": "411c6366",
   "metadata": {},
   "outputs": [],
   "source": []
  },
  {
   "cell_type": "markdown",
   "id": "39a128ff",
   "metadata": {},
   "source": [
    "### Step 3: Flip a coin\n",
    "\n",
    "Create a function that returns a random flip of a coin.\n",
    "\n",
    "- This function should return either `head` or `tails`"
   ]
  },
  {
   "cell_type": "markdown",
   "id": "f3db5ba9",
   "metadata": {},
   "source": [
    "#### Double click here to get help on how to simulate the random flip\n",
    "\n",
    "<!--\n",
    "\n",
    "You need some randomness, for that you can use the library function randrange from random.\n",
    "\n",
    "The function randrange(number) returns a random integer from the range 0 to number - 1.\n",
    "\n",
    "-->"
   ]
  },
  {
   "cell_type": "markdown",
   "id": "aad28742",
   "metadata": {},
   "source": [
    "#### Double click here to get hint on how to convert random number to string\n",
    "\n",
    "<!--\n",
    "\n",
    "You can use an if statement to return either `head` or `tails`\n",
    "\n",
    "-->"
   ]
  },
  {
   "cell_type": "code",
   "execution_count": 32,
   "id": "e04d30b0",
   "metadata": {},
   "outputs": [],
   "source": [
    "from random import randrange"
   ]
  },
  {
   "cell_type": "code",
   "execution_count": 33,
   "id": "54d85c9b",
   "metadata": {},
   "outputs": [],
   "source": [
    "def flip_a_coin():\n",
    "    coin = randrange(2)\n",
    "    if coin == 0:\n",
    "        return 'tails'\n",
    "    else:\n",
    "        return 'head'"
   ]
  },
  {
   "cell_type": "code",
   "execution_count": 39,
   "id": "20cb417f",
   "metadata": {},
   "outputs": [
    {
     "data": {
      "text/plain": [
       "'tails'"
      ]
     },
     "execution_count": 39,
     "metadata": {},
     "output_type": "execute_result"
    }
   ],
   "source": [
    "flip_a_coin()"
   ]
  },
  {
   "cell_type": "markdown",
   "id": "224b78bd",
   "metadata": {},
   "source": [
    "### Step 4: Check guess\n",
    "\n",
    "Create a function that checks whether the input from the user is the same as the flip of from the game.\n",
    "\n",
    "The function should output whether the guess is correct or not."
   ]
  },
  {
   "cell_type": "code",
   "execution_count": 40,
   "id": "d1560a82",
   "metadata": {},
   "outputs": [],
   "source": [
    "def print_result(user_guess, coin):\n",
    "    if user_guess == coin:\n",
    "        print('YES! You won')\n",
    "    else:\n",
    "        print('No! You lost')"
   ]
  },
  {
   "cell_type": "code",
   "execution_count": 44,
   "id": "154319d6",
   "metadata": {},
   "outputs": [
    {
     "name": "stdout",
     "output_type": "stream",
     "text": [
      "YES! You won\n"
     ]
    }
   ],
   "source": [
    "print_result('tails', 'tails')"
   ]
  },
  {
   "cell_type": "code",
   "execution_count": null,
   "id": "a3e80668",
   "metadata": {},
   "outputs": [],
   "source": []
  },
  {
   "cell_type": "markdown",
   "id": "1d5973bb",
   "metadata": {},
   "source": [
    "### Step 5: Combining it all\n",
    "\n",
    "Here in the final step you need to combine your functions to create the game."
   ]
  },
  {
   "cell_type": "code",
   "execution_count": 49,
   "id": "2959d37f",
   "metadata": {},
   "outputs": [
    {
     "name": "stdout",
     "output_type": "stream",
     "text": [
      "head or tails? foo\n",
      "Not valid input: head or tails\n",
      "head or tails? tails\n",
      "No! You lost\n"
     ]
    }
   ],
   "source": [
    "# Input from user\n",
    "user_guess = input_from_user()\n",
    "\n",
    "# Flip a random coin\n",
    "coin = flip_a_coin()\n",
    "\n",
    "# Print the result of the game\n",
    "print_result(user_guess, coin)"
   ]
  },
  {
   "cell_type": "code",
   "execution_count": null,
   "id": "ee00c5b5",
   "metadata": {},
   "outputs": [],
   "source": []
  },
  {
   "cell_type": "code",
   "execution_count": null,
   "id": "81c1761b",
   "metadata": {},
   "outputs": [],
   "source": []
  }
 ],
 "metadata": {
  "kernelspec": {
   "display_name": "Python 3 (ipykernel)",
   "language": "python",
   "name": "python3"
  },
  "language_info": {
   "codemirror_mode": {
    "name": "ipython",
    "version": 3
   },
   "file_extension": ".py",
   "mimetype": "text/x-python",
   "name": "python",
   "nbconvert_exporter": "python",
   "pygments_lexer": "ipython3",
   "version": "3.9.13"
  }
 },
 "nbformat": 4,
 "nbformat_minor": 5
}
