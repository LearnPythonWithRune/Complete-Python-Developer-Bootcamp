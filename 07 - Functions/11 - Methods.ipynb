{
 "cells": [
  {
   "cell_type": "markdown",
   "id": "dbac9fa6",
   "metadata": {},
   "source": [
    "# Python methods / NEED-TO-KNOW\n",
    "\n",
    "Methods perform actions on an object and can also take arguments, just like a function.\n",
    "\n",
    "We already know objects and applying methods on them.\n",
    "\n",
    "Example\n",
    "```Python\n",
    "numbers = [1, 2, 3, 4, 5]\n",
    "\n",
    "numbers.append(0)\n",
    "numbers.sort()\n",
    "numbers.reverse()\n",
    "```"
   ]
  },
  {
   "cell_type": "code",
   "execution_count": 1,
   "id": "0b4639ea",
   "metadata": {},
   "outputs": [],
   "source": [
    "numbers = [1, 2, 3, 4, 5]"
   ]
  },
  {
   "cell_type": "code",
   "execution_count": 2,
   "id": "84daf55a",
   "metadata": {},
   "outputs": [
    {
     "data": {
      "text/plain": [
       "[1, 2, 3, 4, 5, 0]"
      ]
     },
     "execution_count": 2,
     "metadata": {},
     "output_type": "execute_result"
    }
   ],
   "source": [
    "numbers.append(0)\n",
    "numbers"
   ]
  },
  {
   "cell_type": "code",
   "execution_count": 3,
   "id": "51441e9a",
   "metadata": {},
   "outputs": [
    {
     "data": {
      "text/plain": [
       "[0, 1, 2, 3, 4, 5]"
      ]
     },
     "execution_count": 3,
     "metadata": {},
     "output_type": "execute_result"
    }
   ],
   "source": [
    "numbers.sort()\n",
    "numbers"
   ]
  },
  {
   "cell_type": "code",
   "execution_count": 4,
   "id": "06674d46",
   "metadata": {},
   "outputs": [
    {
     "data": {
      "text/plain": [
       "[5, 4, 3, 2, 1, 0]"
      ]
     },
     "execution_count": 4,
     "metadata": {},
     "output_type": "execute_result"
    }
   ],
   "source": [
    "numbers.reverse()\n",
    "numbers"
   ]
  },
  {
   "cell_type": "code",
   "execution_count": 5,
   "id": "ad560d29",
   "metadata": {},
   "outputs": [
    {
     "data": {
      "text/plain": [
       "'my-string-is-great'"
      ]
     },
     "execution_count": 5,
     "metadata": {},
     "output_type": "execute_result"
    }
   ],
   "source": [
    "'my string is great'.replace(' ', '-')"
   ]
  },
  {
   "cell_type": "markdown",
   "id": "108aeecf",
   "metadata": {},
   "source": [
    "### What are objects in Python?\n",
    "\n",
    "In Python everything is an Object.\n",
    "\n",
    "\n",
    "```Python\n",
    "isinstance(1, object)\n",
    "```"
   ]
  },
  {
   "cell_type": "code",
   "execution_count": 6,
   "id": "8e2ed45f",
   "metadata": {},
   "outputs": [
    {
     "data": {
      "text/plain": [
       "True"
      ]
     },
     "execution_count": 6,
     "metadata": {},
     "output_type": "execute_result"
    }
   ],
   "source": [
    "isinstance(1, object)"
   ]
  },
  {
   "cell_type": "code",
   "execution_count": null,
   "id": "7022c367",
   "metadata": {},
   "outputs": [],
   "source": []
  },
  {
   "cell_type": "code",
   "execution_count": null,
   "id": "c8b25797",
   "metadata": {},
   "outputs": [],
   "source": []
  },
  {
   "cell_type": "markdown",
   "id": "7df4db1a",
   "metadata": {},
   "source": [
    "### What is the difference between functions and methods in Python?\n",
    "\n",
    "How it is used.\n",
    "- A **method** is applied on an object.\n",
    "- A **function** can be called its name.\n",
    "\n",
    "Example\n",
    "```Python\n",
    "s = 'My String'\n",
    "s.lower()  # I apply the method lower on object s\n",
    "\n",
    "def add_one(number):\n",
    "    return number + 1\n",
    "\n",
    "n = add_one(4)  # you call the fuction add_one\n",
    "```"
   ]
  },
  {
   "cell_type": "code",
   "execution_count": null,
   "id": "af76c9ff",
   "metadata": {},
   "outputs": [],
   "source": []
  },
  {
   "cell_type": "code",
   "execution_count": null,
   "id": "6535e577",
   "metadata": {},
   "outputs": [],
   "source": []
  },
  {
   "cell_type": "code",
   "execution_count": null,
   "id": "f06ffe65",
   "metadata": {},
   "outputs": [],
   "source": []
  }
 ],
 "metadata": {
  "kernelspec": {
   "display_name": "Python 3 (ipykernel)",
   "language": "python",
   "name": "python3"
  },
  "language_info": {
   "codemirror_mode": {
    "name": "ipython",
    "version": 3
   },
   "file_extension": ".py",
   "mimetype": "text/x-python",
   "name": "python",
   "nbconvert_exporter": "python",
   "pygments_lexer": "ipython3",
   "version": "3.9.13"
  }
 },
 "nbformat": 4,
 "nbformat_minor": 5
}
