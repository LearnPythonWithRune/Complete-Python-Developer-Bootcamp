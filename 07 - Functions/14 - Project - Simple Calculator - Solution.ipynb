{
 "cells": [
  {
   "cell_type": "markdown",
   "id": "e4f89401",
   "metadata": {},
   "source": [
    "# Project - Simple Calculator\n",
    "\n",
    "In this projects you will create a simple calculator.\n",
    "\n",
    "The calculator will take input from the user and create the calculation.\n",
    "\n",
    "It will only accept input with one operator. \n",
    "\n",
    "Examples valid input.\n",
    "- `1+4`\n",
    "- `6*10`\n",
    "- `100-90`\n",
    "- `1000/50`\n",
    "\n",
    "Examples of invalid input.\n",
    "- `1+2+3`\n",
    "- `1/3*6`"
   ]
  },
  {
   "cell_type": "markdown",
   "id": "f5e76599",
   "metadata": {},
   "source": [
    "#### Test data\n",
    "- `100+10` ➞ `110`\n",
    "- `99-88` ➞ `11`\n",
    "- `10*10` ➞ `100`\n",
    "- `100/10` ➞ `10.0`"
   ]
  },
  {
   "cell_type": "markdown",
   "id": "f991be03",
   "metadata": {},
   "source": [
    "### Design choices\n",
    "\n",
    "When a developer gets a task, often there are things not specified.\n",
    "\n",
    "Examples\n",
    "- What happens if user inputs data in wrong format (invalid input)?\n",
    "- How should it output the result data?\n",
    "\n",
    "### What to do?\n",
    "\n",
    "- Sometimes you can clarify these issues with the user.\n",
    "- Othertimes you can make choices based on your knowledge or best guesses.\n",
    "\n",
    "When to do what?\n",
    "- Who is the user or owner of the code you develop?\n",
    "- How big impact does the decision have?"
   ]
  },
  {
   "cell_type": "markdown",
   "id": "cd7624f9",
   "metadata": {},
   "source": [
    "### Step 1: Design choices\n",
    "\n",
    "Consider the following two unknowns.\n",
    "- What happens if user inputs data in wrong format (invalid input)?\n",
    "- How should it output the result data?\n",
    "\n",
    "1. Consider what the consequences are for making a decision as the developer."
   ]
  },
  {
   "cell_type": "code",
   "execution_count": null,
   "id": "8d79bf42",
   "metadata": {},
   "outputs": [],
   "source": []
  },
  {
   "cell_type": "code",
   "execution_count": null,
   "id": "223c32fb",
   "metadata": {},
   "outputs": [],
   "source": []
  },
  {
   "cell_type": "markdown",
   "id": "a027effc",
   "metadata": {},
   "source": [
    "### Step 2: Design of Calculator\n",
    "\n",
    "We make the following decision.\n",
    "- The user is prompted until the format is correct.\n",
    "- To program should output in the following format: `The result of [calculation] is [result]`\n",
    "\n",
    "How can we now break down the program in steps."
   ]
  },
  {
   "cell_type": "code",
   "execution_count": null,
   "id": "9ed9e7de",
   "metadata": {},
   "outputs": [],
   "source": []
  },
  {
   "cell_type": "code",
   "execution_count": null,
   "id": "7c29bae1",
   "metadata": {},
   "outputs": [],
   "source": []
  },
  {
   "cell_type": "code",
   "execution_count": null,
   "id": "4175643e",
   "metadata": {},
   "outputs": [],
   "source": []
  },
  {
   "cell_type": "markdown",
   "id": "9f809d8a",
   "metadata": {},
   "source": [
    "### Step 3: Breaking down in functions\n",
    "\n",
    "One way to break it down is as follows.\n",
    "\n",
    "1. Input and validate from user\n",
    "2. Calculate the result\n",
    "3. Output the result\n",
    "\n",
    "Why are input and validation put together?\n",
    "\n",
    "Now we can break down the steps into functions.\n",
    "\n",
    "Note: *Each step can have more than 1 function*"
   ]
  },
  {
   "cell_type": "code",
   "execution_count": null,
   "id": "90e3c43f",
   "metadata": {},
   "outputs": [],
   "source": []
  },
  {
   "cell_type": "code",
   "execution_count": null,
   "id": "7c309c52",
   "metadata": {},
   "outputs": [],
   "source": []
  },
  {
   "cell_type": "code",
   "execution_count": null,
   "id": "d89dc37d",
   "metadata": {},
   "outputs": [],
   "source": []
  },
  {
   "cell_type": "markdown",
   "id": "6a278a90",
   "metadata": {},
   "source": [
    "### Step 4: Input and validation step\n",
    "\n",
    "Consider to create a function that takes input from the user and validates it.\n",
    "\n",
    "Now break that down into two functions.\n",
    "1. One that validates the input.\n",
    "2. One that takes input from the user and uses the above function to validate it.\n",
    "\n",
    "For the first function create the following (we will implement it in next step).\n",
    "```Python\n",
    "def is_input_format_correct(input_str):\n",
    "    return True\n",
    "```\n",
    "\n",
    "Implement the second function.\n",
    "- It should prompt the user until `is_input_format_correct(.)` is True. "
   ]
  },
  {
   "cell_type": "code",
   "execution_count": 5,
   "id": "ec1976c8",
   "metadata": {},
   "outputs": [],
   "source": [
    "def is_input_format_correct(input_str):\n",
    "    return False"
   ]
  },
  {
   "cell_type": "code",
   "execution_count": 6,
   "id": "8f17e957",
   "metadata": {},
   "outputs": [],
   "source": [
    "def input_calculation():\n",
    "    while True:\n",
    "        calculation = input('Input calculation: ')\n",
    "        if is_input_format_correct(calculation):\n",
    "            return calculation\n",
    "        \n",
    "        print('Wrong format: [number][operator][number]')"
   ]
  },
  {
   "cell_type": "code",
   "execution_count": 7,
   "id": "c3355cbd",
   "metadata": {},
   "outputs": [
    {
     "name": "stdout",
     "output_type": "stream",
     "text": [
      "Input calculation: foo\n",
      "Wrong format: [number][operator][number]\n",
      "Input calculation: 1+2\n",
      "Wrong format: [number][operator][number]\n"
     ]
    },
    {
     "ename": "KeyboardInterrupt",
     "evalue": "Interrupted by user",
     "output_type": "error",
     "traceback": [
      "\u001b[0;31m---------------------------------------------------------------------------\u001b[0m",
      "\u001b[0;31mKeyboardInterrupt\u001b[0m                         Traceback (most recent call last)",
      "\u001b[0;32m/var/folders/5f/vgbh9pkd4wzf4ysrpf9wsr800000gn/T/ipykernel_21511/1902590332.py\u001b[0m in \u001b[0;36m<module>\u001b[0;34m\u001b[0m\n\u001b[0;32m----> 1\u001b[0;31m \u001b[0minput_calculation\u001b[0m\u001b[0;34m(\u001b[0m\u001b[0;34m)\u001b[0m\u001b[0;34m\u001b[0m\u001b[0;34m\u001b[0m\u001b[0m\n\u001b[0m",
      "\u001b[0;32m/var/folders/5f/vgbh9pkd4wzf4ysrpf9wsr800000gn/T/ipykernel_21511/4084552257.py\u001b[0m in \u001b[0;36minput_calculation\u001b[0;34m()\u001b[0m\n\u001b[1;32m      1\u001b[0m \u001b[0;32mdef\u001b[0m \u001b[0minput_calculation\u001b[0m\u001b[0;34m(\u001b[0m\u001b[0;34m)\u001b[0m\u001b[0;34m:\u001b[0m\u001b[0;34m\u001b[0m\u001b[0;34m\u001b[0m\u001b[0m\n\u001b[1;32m      2\u001b[0m     \u001b[0;32mwhile\u001b[0m \u001b[0;32mTrue\u001b[0m\u001b[0;34m:\u001b[0m\u001b[0;34m\u001b[0m\u001b[0;34m\u001b[0m\u001b[0m\n\u001b[0;32m----> 3\u001b[0;31m         \u001b[0mcalculation\u001b[0m \u001b[0;34m=\u001b[0m \u001b[0minput\u001b[0m\u001b[0;34m(\u001b[0m\u001b[0;34m'Input calculation: '\u001b[0m\u001b[0;34m)\u001b[0m\u001b[0;34m\u001b[0m\u001b[0;34m\u001b[0m\u001b[0m\n\u001b[0m\u001b[1;32m      4\u001b[0m         \u001b[0;32mif\u001b[0m \u001b[0mis_input_format_correct\u001b[0m\u001b[0;34m(\u001b[0m\u001b[0mcalculation\u001b[0m\u001b[0;34m)\u001b[0m\u001b[0;34m:\u001b[0m\u001b[0;34m\u001b[0m\u001b[0;34m\u001b[0m\u001b[0m\n\u001b[1;32m      5\u001b[0m             \u001b[0;32mreturn\u001b[0m \u001b[0mcalculation\u001b[0m\u001b[0;34m\u001b[0m\u001b[0;34m\u001b[0m\u001b[0m\n",
      "\u001b[0;32m~/opt/anaconda3/lib/python3.9/site-packages/ipykernel/kernelbase.py\u001b[0m in \u001b[0;36mraw_input\u001b[0;34m(self, prompt)\u001b[0m\n\u001b[1;32m   1175\u001b[0m                 \u001b[0;34m\"raw_input was called, but this frontend does not support input requests.\"\u001b[0m\u001b[0;34m\u001b[0m\u001b[0;34m\u001b[0m\u001b[0m\n\u001b[1;32m   1176\u001b[0m             )\n\u001b[0;32m-> 1177\u001b[0;31m         return self._input_request(\n\u001b[0m\u001b[1;32m   1178\u001b[0m             \u001b[0mstr\u001b[0m\u001b[0;34m(\u001b[0m\u001b[0mprompt\u001b[0m\u001b[0;34m)\u001b[0m\u001b[0;34m,\u001b[0m\u001b[0;34m\u001b[0m\u001b[0;34m\u001b[0m\u001b[0m\n\u001b[1;32m   1179\u001b[0m             \u001b[0mself\u001b[0m\u001b[0;34m.\u001b[0m\u001b[0m_parent_ident\u001b[0m\u001b[0;34m[\u001b[0m\u001b[0;34m\"shell\"\u001b[0m\u001b[0;34m]\u001b[0m\u001b[0;34m,\u001b[0m\u001b[0;34m\u001b[0m\u001b[0;34m\u001b[0m\u001b[0m\n",
      "\u001b[0;32m~/opt/anaconda3/lib/python3.9/site-packages/ipykernel/kernelbase.py\u001b[0m in \u001b[0;36m_input_request\u001b[0;34m(self, prompt, ident, parent, password)\u001b[0m\n\u001b[1;32m   1217\u001b[0m             \u001b[0;32mexcept\u001b[0m \u001b[0mKeyboardInterrupt\u001b[0m\u001b[0;34m:\u001b[0m\u001b[0;34m\u001b[0m\u001b[0;34m\u001b[0m\u001b[0m\n\u001b[1;32m   1218\u001b[0m                 \u001b[0;31m# re-raise KeyboardInterrupt, to truncate traceback\u001b[0m\u001b[0;34m\u001b[0m\u001b[0;34m\u001b[0m\u001b[0m\n\u001b[0;32m-> 1219\u001b[0;31m                 \u001b[0;32mraise\u001b[0m \u001b[0mKeyboardInterrupt\u001b[0m\u001b[0;34m(\u001b[0m\u001b[0;34m\"Interrupted by user\"\u001b[0m\u001b[0;34m)\u001b[0m \u001b[0;32mfrom\u001b[0m \u001b[0;32mNone\u001b[0m\u001b[0;34m\u001b[0m\u001b[0;34m\u001b[0m\u001b[0m\n\u001b[0m\u001b[1;32m   1220\u001b[0m             \u001b[0;32mexcept\u001b[0m \u001b[0mException\u001b[0m\u001b[0;34m:\u001b[0m\u001b[0;34m\u001b[0m\u001b[0;34m\u001b[0m\u001b[0m\n\u001b[1;32m   1221\u001b[0m                 \u001b[0mself\u001b[0m\u001b[0;34m.\u001b[0m\u001b[0mlog\u001b[0m\u001b[0;34m.\u001b[0m\u001b[0mwarning\u001b[0m\u001b[0;34m(\u001b[0m\u001b[0;34m\"Invalid Message:\"\u001b[0m\u001b[0;34m,\u001b[0m \u001b[0mexc_info\u001b[0m\u001b[0;34m=\u001b[0m\u001b[0;32mTrue\u001b[0m\u001b[0;34m)\u001b[0m\u001b[0;34m\u001b[0m\u001b[0;34m\u001b[0m\u001b[0m\n",
      "\u001b[0;31mKeyboardInterrupt\u001b[0m: Interrupted by user"
     ]
    }
   ],
   "source": [
    "input_calculation()"
   ]
  },
  {
   "cell_type": "markdown",
   "id": "6bca3373",
   "metadata": {},
   "source": [
    "### Step 5: Breaking the validation down\n",
    "\n",
    "The function `is_input_format_correct(input_str)` needs to validate 3 things.\n",
    "1. If `input_str` only contains the following characters `0123456789+-*/`\n",
    "2. If `input_str` only contains one operator (one of the following `+`, `-`, `*`, or `/`).\n",
    "3. If `input_str` is on format `[number][operator][number]` (example `123+456`)\n",
    "\n",
    "A great way to do that is to make 3 functions for that. This way you can test if they do what you expect.\n",
    "\n",
    "Write the 3 functions and test that they do what you expect."
   ]
  },
  {
   "cell_type": "markdown",
   "id": "73b8f909",
   "metadata": {},
   "source": [
    "#### Double click here to get a hint to check how a string only contains specific characters\n",
    "\n",
    "<!--\n",
    "\n",
    "To check whether a string `s` only contains characters 'abc', you can do the following.\n",
    "\n",
    "def contains_only_abc(s):\n",
    "    for c in s:\n",
    "        if c not in 'abc':\n",
    "            return False\n",
    "\n",
    "    return True\n",
    "\n",
    "-->"
   ]
  },
  {
   "cell_type": "markdown",
   "id": "0a07f192",
   "metadata": {},
   "source": [
    "#### Double click here to get a hint to check how many operators are in a string\n",
    "\n",
    "<!--\n",
    "\n",
    "If you have a string `s` then `s.count('+')` will return how many occurences of '+' the string has.\n",
    "\n",
    "-->"
   ]
  },
  {
   "cell_type": "markdown",
   "id": "61ae096f",
   "metadata": {},
   "source": [
    "#### Double click here to get a hin to check if format is correct\n",
    "\n",
    "<!--\n",
    "\n",
    "Here we assume that the string only contains '0123456789+-*/' and it only has one operator (one of the following '+', '-', '*', or'/')\n",
    "\n",
    "Then you know that the first and the last character of the string is numeric.\n",
    "\n",
    "Example: 's = 123+456'\n",
    "Then s[0] is '1' and s[-1] is '6'.\n",
    "\n",
    "-->"
   ]
  },
  {
   "cell_type": "code",
   "execution_count": 8,
   "id": "e22871a0",
   "metadata": {},
   "outputs": [],
   "source": [
    "def contains_valid_chars(input_str):\n",
    "    for c in input_str:\n",
    "        if c not in '0123456789+-*/':\n",
    "            return False\n",
    "        \n",
    "    return True"
   ]
  },
  {
   "cell_type": "code",
   "execution_count": 10,
   "id": "477c87d5",
   "metadata": {},
   "outputs": [
    {
     "data": {
      "text/plain": [
       "False"
      ]
     },
     "execution_count": 10,
     "metadata": {},
     "output_type": "execute_result"
    }
   ],
   "source": [
    "contains_valid_chars('123+*d')"
   ]
  },
  {
   "cell_type": "code",
   "execution_count": 16,
   "id": "c8d03347",
   "metadata": {},
   "outputs": [],
   "source": [
    "def contains_one_operator(input_str):\n",
    "    no_addition = input_str.count('+')\n",
    "    no_minus = input_str.count('-')\n",
    "    no_mult = input_str.count('*')\n",
    "    no_div = input_str.count('/')\n",
    "    \n",
    "    no_operators = no_addition + no_minus + no_mult + no_div\n",
    "    \n",
    "    if no_operators == 1:\n",
    "        return True\n",
    "    else:\n",
    "        return False"
   ]
  },
  {
   "cell_type": "code",
   "execution_count": 17,
   "id": "3fd538de",
   "metadata": {},
   "outputs": [
    {
     "data": {
      "text/plain": [
       "True"
      ]
     },
     "execution_count": 17,
     "metadata": {},
     "output_type": "execute_result"
    }
   ],
   "source": [
    "contains_one_operator('1234/33')"
   ]
  },
  {
   "cell_type": "code",
   "execution_count": 18,
   "id": "f73a75c4",
   "metadata": {},
   "outputs": [],
   "source": [
    "def correct_format(input_str):\n",
    "    if input_str[0] not in '0123456789':\n",
    "        return False\n",
    "    if input_str[-1] not in '0123456789':\n",
    "        return False\n",
    "    \n",
    "    return True"
   ]
  },
  {
   "cell_type": "code",
   "execution_count": 22,
   "id": "b3bc0d63",
   "metadata": {},
   "outputs": [
    {
     "data": {
      "text/plain": [
       "False"
      ]
     },
     "execution_count": 22,
     "metadata": {},
     "output_type": "execute_result"
    }
   ],
   "source": [
    "correct_format('/123456734')"
   ]
  },
  {
   "cell_type": "markdown",
   "id": "bcc4aa96",
   "metadata": {},
   "source": [
    "### Step 6: Combining the functions\n",
    "\n",
    "Using the 3 functions from the above step, create the function `is_input_format_correct(input_str)` using them."
   ]
  },
  {
   "cell_type": "code",
   "execution_count": 23,
   "id": "b47ccce6",
   "metadata": {},
   "outputs": [],
   "source": [
    "def is_input_format_correct(input_str):\n",
    "    if not contains_valid_chars(input_str):\n",
    "        return False\n",
    "    \n",
    "    if not contains_one_operator(input_str):\n",
    "        return False\n",
    "    \n",
    "    if not correct_format(input_str):\n",
    "        return False\n",
    "    \n",
    "    return True"
   ]
  },
  {
   "cell_type": "code",
   "execution_count": 29,
   "id": "fbb6123c",
   "metadata": {},
   "outputs": [
    {
     "data": {
      "text/plain": [
       "True"
      ]
     },
     "execution_count": 29,
     "metadata": {},
     "output_type": "execute_result"
    }
   ],
   "source": [
    "is_input_format_correct('12345*123')"
   ]
  },
  {
   "cell_type": "code",
   "execution_count": 30,
   "id": "3ed5b616",
   "metadata": {},
   "outputs": [
    {
     "name": "stdout",
     "output_type": "stream",
     "text": [
      "Input calculation: foo\n",
      "Wrong format: [number][operator][number]\n",
      "Input calculation: 123*123\n"
     ]
    },
    {
     "data": {
      "text/plain": [
       "'123*123'"
      ]
     },
     "execution_count": 30,
     "metadata": {},
     "output_type": "execute_result"
    }
   ],
   "source": [
    "input_calculation()"
   ]
  },
  {
   "cell_type": "markdown",
   "id": "83154a71",
   "metadata": {},
   "source": [
    "### Step 7: Calcualte the result\n",
    "\n",
    "This function can assume that the input is in the correct format.\n",
    "\n",
    "Examples\n",
    "- `1+4`\n",
    "- `6*10`\n",
    "- `100-90`\n",
    "- `1000/50`\n",
    "\n",
    "Create a function that makes the calculation."
   ]
  },
  {
   "cell_type": "markdown",
   "id": "54a3e964",
   "metadata": {},
   "source": [
    "#### Double click here to get a hint on how to check which case the input string is\n",
    "\n",
    "<!--\n",
    "\n",
    "s = '1+4'\n",
    "\n",
    "if '+' in s:\n",
    "    # Will only happen if s contains '+'\n",
    "\n",
    "-->"
   ]
  },
  {
   "cell_type": "markdown",
   "id": "b80c47f0",
   "metadata": {},
   "source": [
    "#### Double click here to get a hint on how to break the string down into number operator number\n",
    "\n",
    "<!--\n",
    "\n",
    "s = '1+4'\n",
    "\n",
    "Then s.split('+') will return ['1', '4']\n",
    "\n",
    "-->"
   ]
  },
  {
   "cell_type": "markdown",
   "id": "7fb08a61",
   "metadata": {},
   "source": [
    "#### Double click here to get a hint convert string to int\n",
    "\n",
    "<!--\n",
    "\n",
    "s = '4'\n",
    "\n",
    "a = int(s)  # returns 4 as an int\n",
    "\n",
    "-->"
   ]
  },
  {
   "cell_type": "code",
   "execution_count": 35,
   "id": "48d99ff8",
   "metadata": {},
   "outputs": [],
   "source": [
    "def convert_to_int(numbers_str):\n",
    "    numbers = []\n",
    "    \n",
    "    for number_str in numbers_str:\n",
    "        numbers.append(int(number_str))\n",
    "\n",
    "    return numbers\n",
    "\n",
    "        \n",
    "def calculate_result(input_str):\n",
    "    if '+' in input_str:\n",
    "        numbers_str = input_str.split('+')\n",
    "        numbers = convert_to_int(numbers_str)\n",
    "        return numbers[0] + numbers[1]\n",
    "    \n",
    "    if '-' in input_str:\n",
    "        numbers_str = input_str.split('-')\n",
    "        numbers = convert_to_int(numbers_str)\n",
    "        return numbers[0] - numbers[1]\n",
    "\n",
    "    if '*' in input_str:\n",
    "        numbers_str = input_str.split('*')\n",
    "        numbers = convert_to_int(numbers_str)\n",
    "        return numbers[0]*numbers[1]\n",
    "\n",
    "    if '/' in input_str:\n",
    "        numbers_str = input_str.split('/')\n",
    "        numbers = convert_to_int(numbers_str)\n",
    "        return numbers[0]/numbers[1]\n"
   ]
  },
  {
   "cell_type": "code",
   "execution_count": 38,
   "id": "c8b71f46",
   "metadata": {},
   "outputs": [
    {
     "data": {
      "text/plain": [
       "0.5"
      ]
     },
     "execution_count": 38,
     "metadata": {},
     "output_type": "execute_result"
    }
   ],
   "source": [
    "calculate_result('1/2')"
   ]
  },
  {
   "cell_type": "code",
   "execution_count": null,
   "id": "5c67359d",
   "metadata": {},
   "outputs": [],
   "source": []
  },
  {
   "cell_type": "markdown",
   "id": "d4502703",
   "metadata": {},
   "source": [
    "### Step 8: Output the result\n",
    "\n",
    "Create a function that outputs the result in the correct format.\n",
    "- `The result of [calculation] is [result]`\n",
    "\n",
    "The function will take the `calculation` and `result` as input arguments."
   ]
  },
  {
   "cell_type": "code",
   "execution_count": 39,
   "id": "f193f27b",
   "metadata": {},
   "outputs": [],
   "source": [
    "def print_result(input_str, result):\n",
    "    print('The result of', input_str, 'is', result)"
   ]
  },
  {
   "cell_type": "code",
   "execution_count": 40,
   "id": "de44c591",
   "metadata": {},
   "outputs": [
    {
     "name": "stdout",
     "output_type": "stream",
     "text": [
      "The result of 1+2 is 3\n"
     ]
    }
   ],
   "source": [
    "print_result('1+2', 3)"
   ]
  },
  {
   "cell_type": "code",
   "execution_count": null,
   "id": "f890dddf",
   "metadata": {},
   "outputs": [],
   "source": []
  },
  {
   "cell_type": "markdown",
   "id": "4a59eb94",
   "metadata": {},
   "source": [
    "### Step 9: Combine it all\n",
    "\n",
    "Combine all the functions togeter in the correct way."
   ]
  },
  {
   "cell_type": "code",
   "execution_count": 41,
   "id": "ba5b8a80",
   "metadata": {},
   "outputs": [
    {
     "name": "stdout",
     "output_type": "stream",
     "text": [
      "Input calculation: abc\n",
      "Wrong format: [number][operator][number]\n",
      "Input calculation: 1+2\n",
      "The result of 1+2 is 3\n"
     ]
    }
   ],
   "source": [
    "input_str = input_calculation()\n",
    "\n",
    "result = calculate_result(input_str)\n",
    "\n",
    "print_result(input_str, result)"
   ]
  },
  {
   "cell_type": "code",
   "execution_count": null,
   "id": "3cf4c464",
   "metadata": {},
   "outputs": [],
   "source": []
  },
  {
   "cell_type": "code",
   "execution_count": null,
   "id": "dbb90a2f",
   "metadata": {},
   "outputs": [],
   "source": []
  },
  {
   "cell_type": "code",
   "execution_count": null,
   "id": "7cfa8925",
   "metadata": {},
   "outputs": [],
   "source": []
  }
 ],
 "metadata": {
  "kernelspec": {
   "display_name": "Python 3 (ipykernel)",
   "language": "python",
   "name": "python3"
  },
  "language_info": {
   "codemirror_mode": {
    "name": "ipython",
    "version": 3
   },
   "file_extension": ".py",
   "mimetype": "text/x-python",
   "name": "python",
   "nbconvert_exporter": "python",
   "pygments_lexer": "ipython3",
   "version": "3.9.13"
  }
 },
 "nbformat": 4,
 "nbformat_minor": 5
}
