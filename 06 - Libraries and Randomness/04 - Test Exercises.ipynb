{
 "cells": [
  {
   "cell_type": "markdown",
   "id": "b592a730",
   "metadata": {},
   "source": [
    "# Test Exercises"
   ]
  },
  {
   "cell_type": "markdown",
   "id": "e24f8d44",
   "metadata": {},
   "source": [
    "### Exercise 1: Coinflip\n",
    "\n",
    "Create a simple coinflip.\n",
    "\n",
    "The program should either print `head` or `tails`"
   ]
  },
  {
   "cell_type": "markdown",
   "id": "9b6e2875",
   "metadata": {},
   "source": [
    "#### DOUBLE CLICK HERE TO GET HELP TO IMPORT\n",
    "\n",
    "<!-- \n",
    "\n",
    "You can solve this problem with using randrange. You import it as follows.\n",
    "\n",
    "from random import randrange\n",
    "\n",
    "-->"
   ]
  },
  {
   "cell_type": "markdown",
   "id": "8d13fe4f",
   "metadata": {},
   "source": [
    "#### DOUBLE CLICK HERE TO GET MORE HELP\n",
    "\n",
    "<!--\n",
    "\n",
    "Make a random integer that is either 0 or 1.\n",
    "\n",
    "Then use an if-statement to print head if 1 and tails otherwise.\n",
    "\n",
    "-->"
   ]
  },
  {
   "cell_type": "code",
   "execution_count": 1,
   "id": "004fcfd2",
   "metadata": {},
   "outputs": [],
   "source": [
    "from random import randrange"
   ]
  },
  {
   "cell_type": "code",
   "execution_count": 12,
   "id": "9fc59274",
   "metadata": {},
   "outputs": [
    {
     "name": "stdout",
     "output_type": "stream",
     "text": [
      "Head\n"
     ]
    }
   ],
   "source": [
    "coin = randrange(2)\n",
    "\n",
    "if coin == 0:\n",
    "    print('Tails')\n",
    "elif coin == 1:\n",
    "    print('Head')\n",
    "else:\n",
    "    print('unkown')"
   ]
  },
  {
   "cell_type": "code",
   "execution_count": null,
   "id": "d72b10d5",
   "metadata": {},
   "outputs": [],
   "source": []
  },
  {
   "cell_type": "markdown",
   "id": "899ab298",
   "metadata": {},
   "source": [
    "### Exercise 2\n",
    "\n",
    "Create a simple program that outputs the rolling two dice and the sum."
   ]
  },
  {
   "cell_type": "markdown",
   "id": "09fd6f6a",
   "metadata": {},
   "source": [
    "#### DOUBLE CLICK HERE TO GET HELP\n",
    "\n",
    "<!--\n",
    "\n",
    "randrange(start, stop) will return a random integer from the range [start (inclusive), stop (not inclusive)]\n",
    "\n",
    "-->"
   ]
  },
  {
   "cell_type": "code",
   "execution_count": 21,
   "id": "16666ae3",
   "metadata": {},
   "outputs": [
    {
     "name": "stdout",
     "output_type": "stream",
     "text": [
      "3 2 5\n"
     ]
    }
   ],
   "source": [
    "d1 = randrange(1, 7)\n",
    "d2 = randrange(1, 7)\n",
    "\n",
    "print(d1, d2, d1 + d2)"
   ]
  },
  {
   "cell_type": "code",
   "execution_count": null,
   "id": "9fb61015",
   "metadata": {},
   "outputs": [],
   "source": []
  },
  {
   "cell_type": "markdown",
   "id": "8fcc7b02",
   "metadata": {},
   "source": [
    "### Exercise 3: Guess the capital\n",
    "\n",
    "The following small selction of a few big capitals of the world.\n",
    "```Python\n",
    "capitals = {\n",
    "    'China': 'Beijing',\n",
    "    'Japan': 'Tokyo',\n",
    "    'DR Congo': 'Kinshasa',\n",
    "    'Russia': 'Moscow',\n",
    "    'Indonesia': 'Jakarta',\n",
    "    'Egypt': 'Cairo'\n",
    "}\n",
    "```\n",
    "\n",
    "Create a simple game that asks the user to guess a capital from a random country from `capitals`."
   ]
  },
  {
   "cell_type": "markdown",
   "id": "c20869d0",
   "metadata": {},
   "source": [
    "#### DOUBLE CLICK HERE TO GET HELP TO IMPORT\n",
    "\n",
    "<!--\n",
    "\n",
    "You can use choice from the random library. You import choice as follows.\n",
    "\n",
    "from random import choice\n",
    "\n",
    "-->"
   ]
  },
  {
   "cell_type": "markdown",
   "id": "37ee859b",
   "metadata": {},
   "source": [
    "#### DOUBLE CLICK HERE TO GET HELP\n",
    "\n",
    "<!--\n",
    "\n",
    "The overall structure is as follows.\n",
    "\n",
    "1. Get a random country (a random key from the dict capitals)\n",
    "2. Ask the user to write the capital of that country\n",
    "3. Check if it is correct and print feedback to the user\n",
    "\n",
    "-->"
   ]
  },
  {
   "cell_type": "markdown",
   "id": "4aa618eb",
   "metadata": {},
   "source": [
    "#### DOUBLE CLICK HERE TO GET HELP TO CHOOSE A RANDOM COUNTRY\n",
    "\n",
    "<!--\n",
    "\n",
    "You need a list of all the keys from the dict capitals, then you can use choice to get a random country.\n",
    "\n",
    "country = choice(list(capitals))\n",
    "\n",
    "-->"
   ]
  },
  {
   "cell_type": "code",
   "execution_count": 24,
   "id": "c52438a5",
   "metadata": {},
   "outputs": [
    {
     "name": "stdout",
     "output_type": "stream",
     "text": [
      "What is the capital of Japan? Tokyo\n",
      "Correct!!!\n",
      "What is the capital of Japan? Tanjo\n",
      "Wrong the capital is Tokyo\n",
      "What is the capital of Indonesia? Jakarta\n",
      "Correct!!!\n",
      "What is the capital of Indonesia? \n"
     ]
    }
   ],
   "source": [
    "from random import choice\n",
    "\n",
    "capitals = {\n",
    "    'China': 'Beijing',\n",
    "    'Japan': 'Tokyo',\n",
    "    'DR Congo': 'Kinshasa',\n",
    "    'Russia': 'Moscow',\n",
    "    'Indonesia': 'Jakarta',\n",
    "    'Egypt': 'Cairo'\n",
    "}\n",
    "\n",
    "country = choice(list(capitals))\n",
    "answer = input('What is the capital of ' + country + '? ')\n",
    "if answer == capitals[country]:\n",
    "    print('Correct!!!')\n",
    "else:\n",
    "    print('Wrong the capital is ' + capitals[country])"
   ]
  },
  {
   "cell_type": "code",
   "execution_count": null,
   "id": "455ff737",
   "metadata": {},
   "outputs": [],
   "source": []
  },
  {
   "cell_type": "markdown",
   "id": "7ae3326d",
   "metadata": {},
   "source": [
    "### Exercise 4: Password Generator\n",
    "\n",
    "Given the following characters.\n",
    "\n",
    "```Python\n",
    "alphabet = 'abcdefghijklmnopqrstuvwxyz'\n",
    "numbers = '1234567890'\n",
    "specials = '$!#%&'\n",
    "```\n",
    "\n",
    "1. Create a full set of characters `alphabet` both in lower and upper case, `numbers`, and `specials`.\n",
    "2. Generate a password of 18 characters"
   ]
  },
  {
   "cell_type": "markdown",
   "id": "038d5e25",
   "metadata": {},
   "source": [
    "#### DOUBLE CLICK HERE TO GET HELP TO IMPORT\n",
    "\n",
    "<!--\n",
    "\n",
    "You can use choice from the random library. You import choice as follows.\n",
    "\n",
    "from random import choice\n",
    "\n",
    "--> "
   ]
  },
  {
   "cell_type": "markdown",
   "id": "398efaaa",
   "metadata": {},
   "source": [
    "#### DOUBLE CLICK HERE TO GET HELP\n",
    "\n",
    "<!--\n",
    "\n",
    "The overall structure is as follows.\n",
    "\n",
    "1. Create a variable characters with the concatenation as described.\n",
    "2. Create an empty string variable named password\n",
    "3. Make a for loop that iterates 18 times\n",
    "4. In the loop add a character from characters\n",
    "\n",
    "-->"
   ]
  },
  {
   "cell_type": "markdown",
   "id": "165c4015",
   "metadata": {},
   "source": [
    "#### DOUBLE CLICK HERE TO GET HELP TO CHOOSE A RANDOM COUNTRY\n",
    "\n",
    "<!--\n",
    "\n",
    "Convert the characters to a list and use choice (importet from random).\n",
    "\n",
    "-->"
   ]
  },
  {
   "cell_type": "code",
   "execution_count": 25,
   "id": "7edef130",
   "metadata": {},
   "outputs": [
    {
     "data": {
      "text/plain": [
       "'abcdefghijklmnopqrstuvwxyzABCDEFGHIJKLMNOPQRSTUVWXYZ1234567890$!#%&'"
      ]
     },
     "execution_count": 25,
     "metadata": {},
     "output_type": "execute_result"
    }
   ],
   "source": [
    "alphabet = 'abcdefghijklmnopqrstuvwxyz'\n",
    "numbers = '1234567890'\n",
    "specials = '$!#%&'\n",
    "characters = alphabet + alphabet.upper() + numbers + specials\n",
    "\n",
    "characters"
   ]
  },
  {
   "cell_type": "code",
   "execution_count": 33,
   "id": "9c6974f2",
   "metadata": {},
   "outputs": [
    {
     "data": {
      "text/plain": [
       "'#%poaEPscP6i8S0CTj'"
      ]
     },
     "execution_count": 33,
     "metadata": {},
     "output_type": "execute_result"
    }
   ],
   "source": [
    "password = ''\n",
    "\n",
    "for _ in range(18):\n",
    "    password += choice(list(characters))\n",
    "\n",
    "password"
   ]
  },
  {
   "cell_type": "code",
   "execution_count": 34,
   "id": "56f7a440",
   "metadata": {},
   "outputs": [
    {
     "data": {
      "text/plain": [
       "'#%poaE-PscP6i-8S0CTj'"
      ]
     },
     "execution_count": 34,
     "metadata": {},
     "output_type": "execute_result"
    }
   ],
   "source": [
    "'-'.join(password[i:i+6] for i in range(0,len(password),6))"
   ]
  },
  {
   "cell_type": "code",
   "execution_count": null,
   "id": "dc636aed",
   "metadata": {},
   "outputs": [],
   "source": []
  }
 ],
 "metadata": {
  "kernelspec": {
   "display_name": "Python 3 (ipykernel)",
   "language": "python",
   "name": "python3"
  },
  "language_info": {
   "codemirror_mode": {
    "name": "ipython",
    "version": 3
   },
   "file_extension": ".py",
   "mimetype": "text/x-python",
   "name": "python",
   "nbconvert_exporter": "python",
   "pygments_lexer": "ipython3",
   "version": "3.8.8"
  }
 },
 "nbformat": 4,
 "nbformat_minor": 5
}
