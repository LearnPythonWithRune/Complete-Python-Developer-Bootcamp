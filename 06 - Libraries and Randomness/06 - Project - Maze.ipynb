{
 "cells": [
  {
   "cell_type": "code",
   "execution_count": 6,
   "id": "2c71d5ed",
   "metadata": {},
   "outputs": [
    {
     "name": "stdout",
     "output_type": "stream",
     "text": [
      "you finished\n"
     ]
    }
   ],
   "source": [
    "from IPython.display import clear_output\n",
    "\n",
    "\n",
    "maze = [\n",
    "    list('######################'),\n",
    "    list('#### ###   #   # ### #'),\n",
    "    list('# #   ## # # #     #  '),\n",
    "    list('# # #    #   ##### # #'),\n",
    "    list('# # # ########   # # #'),\n",
    "    list('# # #      #   # # # #'),\n",
    "    list('#   # ## #   #   #   #'),\n",
    "    list('######################'),\n",
    "]\n",
    "\n",
    "loc = (2, 1)\n",
    "\n",
    "while True:\n",
    "    x, y = loc\n",
    "        \n",
    "    print('###' + maze[x-1][y]*3 + '###')\n",
    "    print('###' + maze[x-1][y]*3 + '###')\n",
    "    print(maze[x][y-1]*3 + ' o ' + maze[x][y+1]*3)\n",
    "    print('###' + maze[x+1][y]*3 + '###')\n",
    "    print('###' + maze[x+1][y]*3 + '###')\n",
    "    \n",
    "    move = input('w: up, s: down, a: left, d:right - ')\n",
    "    clear_output()\n",
    "    \n",
    "    if move == 'w' and maze[x-1][y] != '#':\n",
    "        x -= 1\n",
    "    elif move == 's' and maze[x+1][y] != '#':\n",
    "        x += 1\n",
    "    elif move == 'a' and maze[x][y-1] != '#':\n",
    "        y -= 1\n",
    "    elif move == 'd' and maze[x][y+1] != '#':\n",
    "        y += 1\n",
    "    elif move == 'h':\n",
    "        maze[x][y] = 'o'\n",
    "        for row in maze:\n",
    "            print(''.join(row))\n",
    "        maze[x][y] = ' '\n",
    "        input('Press enter to continue')\n",
    "        clear_output()\n",
    "    else:\n",
    "        print('Illegal or unknown move')\n",
    "    \n",
    "    if y == len(maze[0]) - 1:\n",
    "        print('you finished')\n",
    "        break\n",
    "    \n",
    "    loc = (x, y)"
   ]
  },
  {
   "cell_type": "code",
   "execution_count": null,
   "id": "d2ae7a58",
   "metadata": {},
   "outputs": [],
   "source": []
  }
 ],
 "metadata": {
  "kernelspec": {
   "display_name": "Python 3 (ipykernel)",
   "language": "python",
   "name": "python3"
  },
  "language_info": {
   "codemirror_mode": {
    "name": "ipython",
    "version": 3
   },
   "file_extension": ".py",
   "mimetype": "text/x-python",
   "name": "python",
   "nbconvert_exporter": "python",
   "pygments_lexer": "ipython3",
   "version": "3.8.8"
  }
 },
 "nbformat": 4,
 "nbformat_minor": 5
}
