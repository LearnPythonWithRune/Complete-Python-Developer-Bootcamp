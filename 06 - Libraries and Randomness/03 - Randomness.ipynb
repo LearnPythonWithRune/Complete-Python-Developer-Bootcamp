{
 "cells": [
  {
   "cell_type": "markdown",
   "id": "8f951e28",
   "metadata": {},
   "source": [
    "# Randomness / NEED-TO-KNOW"
   ]
  },
  {
   "cell_type": "markdown",
   "id": "eea1c9cc",
   "metadata": {},
   "source": [
    "### What is randomness?\n",
    "\n",
    "- Let's figure it out\n",
    "- Explore more in [docs](https://docs.python.org/3/library/random.html)\n",
    "\n",
    "\n",
    "```Python\n",
    "from random import randrange\n",
    "\n",
    "print(randrange(10))\n",
    "```"
   ]
  },
  {
   "cell_type": "code",
   "execution_count": 12,
   "id": "f3dca9a8",
   "metadata": {},
   "outputs": [
    {
     "name": "stdout",
     "output_type": "stream",
     "text": [
      "9\n",
      "2\n",
      "0\n",
      "0\n",
      "1\n",
      "6\n",
      "1\n",
      "2\n",
      "1\n",
      "7\n"
     ]
    }
   ],
   "source": [
    "from random import randrange\n",
    "\n",
    "for _ in range(10):\n",
    "    print(randrange(10))"
   ]
  },
  {
   "cell_type": "markdown",
   "id": "4edcdde3",
   "metadata": {},
   "source": [
    "### Shuffle a list\n",
    "\n",
    "```Python\n",
    "from random import shuffle\n",
    "\n",
    "l = ['Albert', 'Niels', 'Erwin']\n",
    "\n",
    "shuffle(l)\n",
    "```"
   ]
  },
  {
   "cell_type": "code",
   "execution_count": 13,
   "id": "dafd9cda",
   "metadata": {},
   "outputs": [],
   "source": [
    "from random import shuffle"
   ]
  },
  {
   "cell_type": "code",
   "execution_count": 17,
   "id": "28fd963a",
   "metadata": {},
   "outputs": [
    {
     "data": {
      "text/plain": [
       "['Niels', 'Albert', 'Erwin']"
      ]
     },
     "execution_count": 17,
     "metadata": {},
     "output_type": "execute_result"
    }
   ],
   "source": [
    "l = ['Albert', 'Niels', 'Erwin']\n",
    "\n",
    "shuffle(l)\n",
    "\n",
    "l"
   ]
  },
  {
   "cell_type": "code",
   "execution_count": null,
   "id": "dcaadd39",
   "metadata": {},
   "outputs": [],
   "source": []
  },
  {
   "cell_type": "code",
   "execution_count": null,
   "id": "c4d5bb68",
   "metadata": {},
   "outputs": [],
   "source": []
  },
  {
   "cell_type": "markdown",
   "id": "45fea8b8",
   "metadata": {},
   "source": [
    "### Get random item from list\n",
    "\n",
    "```Python\n",
    "from random import choice\n",
    "\n",
    "l = ['Albert', 'Niels', 'Erwin']\n",
    "\n",
    "choice(l)\n",
    "```"
   ]
  },
  {
   "cell_type": "code",
   "execution_count": 21,
   "id": "fe78c469",
   "metadata": {},
   "outputs": [
    {
     "data": {
      "text/plain": [
       "'Niels'"
      ]
     },
     "execution_count": 21,
     "metadata": {},
     "output_type": "execute_result"
    }
   ],
   "source": [
    "from random import choice\n",
    "\n",
    "l = ['Albert', 'Niels', 'Erwin']\n",
    "\n",
    "choice(l)"
   ]
  },
  {
   "cell_type": "code",
   "execution_count": null,
   "id": "564575f2",
   "metadata": {},
   "outputs": [],
   "source": []
  },
  {
   "cell_type": "markdown",
   "id": "aaa13677",
   "metadata": {},
   "source": [
    "### Get random key from dict\n",
    "\n",
    "```Python\n",
    "from random import choice\n",
    "\n",
    "d = {'key-1': 'value-1', 'key-2': 'value-2', 'key-3': 'value-3'}\n",
    "\n",
    "choice(list(d))\n",
    "```"
   ]
  },
  {
   "cell_type": "code",
   "execution_count": 37,
   "id": "656d9a5e",
   "metadata": {},
   "outputs": [
    {
     "data": {
      "text/plain": [
       "'q3'"
      ]
     },
     "execution_count": 37,
     "metadata": {},
     "output_type": "execute_result"
    }
   ],
   "source": [
    "d = {'q1': 'a1', 'q2': 'a2', 'q3': 'a3'}\n",
    "\n",
    "choice(list(d))"
   ]
  },
  {
   "cell_type": "code",
   "execution_count": 34,
   "id": "30a88166",
   "metadata": {},
   "outputs": [
    {
     "data": {
      "text/plain": [
       "['q1', 'q2', 'q3']"
      ]
     },
     "execution_count": 34,
     "metadata": {},
     "output_type": "execute_result"
    }
   ],
   "source": [
    "list(d)"
   ]
  },
  {
   "cell_type": "code",
   "execution_count": null,
   "id": "166f9be5",
   "metadata": {},
   "outputs": [],
   "source": []
  }
 ],
 "metadata": {
  "kernelspec": {
   "display_name": "Python 3 (ipykernel)",
   "language": "python",
   "name": "python3"
  },
  "language_info": {
   "codemirror_mode": {
    "name": "ipython",
    "version": 3
   },
   "file_extension": ".py",
   "mimetype": "text/x-python",
   "name": "python",
   "nbconvert_exporter": "python",
   "pygments_lexer": "ipython3",
   "version": "3.8.8"
  }
 },
 "nbformat": 4,
 "nbformat_minor": 5
}
