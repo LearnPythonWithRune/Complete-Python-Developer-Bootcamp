{
 "cells": [
  {
   "cell_type": "markdown",
   "id": "f13b5bea",
   "metadata": {},
   "source": [
    "# Python standard libraries / NEED-TO-KNOW"
   ]
  },
  {
   "cell_type": "markdown",
   "id": "c0aa1d64",
   "metadata": {},
   "source": [
    "### Built-in vs standard library\n",
    "\n",
    "- A built-in [function](https://docs.python.org/3/library/functions.html) or [type](https://docs.python.org/3/library/stdtypes.html) can be access directly from the program.\n",
    "- A standard library needs to be imported first but are available from the Python installation.\n",
    "\n",
    "### What are some standard libraries?\n",
    "- `os` - make operating system calls\n",
    "- `datetime` - to work with date and times in Python.\n",
    "- `random` - to generate random values or tasks like randomly shuffle a list.\n",
    "- `csv` - to read and write CSV files (we will learn what that is later).\n",
    "See the full list [here](https://docs.python.org/3/library/)"
   ]
  },
  {
   "cell_type": "markdown",
   "id": "37e509ff",
   "metadata": {},
   "source": [
    "## 3 common ways to import\n",
    "\n",
    "\n",
    "### Using import\n",
    "```Python\n",
    "import os\n",
    "\n",
    "for filename in os.listdir():\n",
    "    print(filename)\n",
    "```"
   ]
  },
  {
   "cell_type": "code",
   "execution_count": 1,
   "id": "c622b0b5",
   "metadata": {},
   "outputs": [],
   "source": [
    "import os"
   ]
  },
  {
   "cell_type": "code",
   "execution_count": 2,
   "id": "5835d44b",
   "metadata": {},
   "outputs": [
    {
     "data": {
      "text/plain": [
       "['06 - Project - Maze.ipynb',\n",
       " '02 - Datetime.ipynb',\n",
       " '00 - Python standard libraries.ipynb',\n",
       " '05 - Project - Guess Random Number.ipynb',\n",
       " '03 - Randomness.ipynb',\n",
       " '04 - Test Exercises - Solutions.ipynb',\n",
       " '04 - Test Exercises - Empty.ipynb',\n",
       " '.ipynb_checkpoints',\n",
       " '01 - Python packages.ipynb']"
      ]
     },
     "execution_count": 2,
     "metadata": {},
     "output_type": "execute_result"
    }
   ],
   "source": [
    "os.listdir()"
   ]
  },
  {
   "cell_type": "code",
   "execution_count": 3,
   "id": "6d7e719e",
   "metadata": {},
   "outputs": [
    {
     "name": "stdout",
     "output_type": "stream",
     "text": [
      "06 - Project - Maze.ipynb\n",
      "02 - Datetime.ipynb\n",
      "00 - Python standard libraries.ipynb\n",
      "05 - Project - Guess Random Number.ipynb\n",
      "03 - Randomness.ipynb\n",
      "04 - Test Exercises - Solutions.ipynb\n",
      "04 - Test Exercises - Empty.ipynb\n",
      ".ipynb_checkpoints\n",
      "01 - Python packages.ipynb\n"
     ]
    }
   ],
   "source": [
    "for filename in os.listdir():\n",
    "    print(filename)"
   ]
  },
  {
   "cell_type": "markdown",
   "id": "eca33128",
   "metadata": {},
   "source": [
    "### Using from\n",
    "\n",
    "```Python\n",
    "from os import listdir\n",
    "\n",
    "for filename in listdir():\n",
    "    print(filename)\n",
    "```"
   ]
  },
  {
   "cell_type": "code",
   "execution_count": 4,
   "id": "cc5c7965",
   "metadata": {},
   "outputs": [],
   "source": [
    "from os import listdir"
   ]
  },
  {
   "cell_type": "code",
   "execution_count": 5,
   "id": "8fbae950",
   "metadata": {},
   "outputs": [
    {
     "data": {
      "text/plain": [
       "['06 - Project - Maze.ipynb',\n",
       " '02 - Datetime.ipynb',\n",
       " '00 - Python standard libraries.ipynb',\n",
       " '05 - Project - Guess Random Number.ipynb',\n",
       " '03 - Randomness.ipynb',\n",
       " '04 - Test Exercises - Solutions.ipynb',\n",
       " '04 - Test Exercises - Empty.ipynb',\n",
       " '.ipynb_checkpoints',\n",
       " '01 - Python packages.ipynb']"
      ]
     },
     "execution_count": 5,
     "metadata": {},
     "output_type": "execute_result"
    }
   ],
   "source": [
    "listdir()"
   ]
  },
  {
   "cell_type": "code",
   "execution_count": 6,
   "id": "2c09b4b2",
   "metadata": {},
   "outputs": [
    {
     "name": "stdout",
     "output_type": "stream",
     "text": [
      "06 - Project - Maze.ipynb\n",
      "02 - Datetime.ipynb\n",
      "00 - Python standard libraries.ipynb\n",
      "05 - Project - Guess Random Number.ipynb\n",
      "03 - Randomness.ipynb\n",
      "04 - Test Exercises - Solutions.ipynb\n",
      "04 - Test Exercises - Empty.ipynb\n",
      ".ipynb_checkpoints\n",
      "01 - Python packages.ipynb\n"
     ]
    }
   ],
   "source": [
    "for filename in listdir():\n",
    "    print(filename)"
   ]
  },
  {
   "cell_type": "markdown",
   "id": "9e4c13ba",
   "metadata": {},
   "source": [
    "### Using as\n",
    "\n",
    "```Python\n",
    "import os as my_os\n",
    "\n",
    "for filename in my_os.listdir():\n",
    "    print(filename)\n",
    "```"
   ]
  },
  {
   "cell_type": "code",
   "execution_count": 7,
   "id": "d103e962",
   "metadata": {},
   "outputs": [],
   "source": [
    "import os as my_os"
   ]
  },
  {
   "cell_type": "code",
   "execution_count": 8,
   "id": "8139d736",
   "metadata": {},
   "outputs": [
    {
     "data": {
      "text/plain": [
       "['06 - Project - Maze.ipynb',\n",
       " '02 - Datetime.ipynb',\n",
       " '00 - Python standard libraries.ipynb',\n",
       " '05 - Project - Guess Random Number.ipynb',\n",
       " '03 - Randomness.ipynb',\n",
       " '04 - Test Exercises - Solutions.ipynb',\n",
       " '04 - Test Exercises - Empty.ipynb',\n",
       " '.ipynb_checkpoints',\n",
       " '01 - Python packages.ipynb']"
      ]
     },
     "execution_count": 8,
     "metadata": {},
     "output_type": "execute_result"
    }
   ],
   "source": [
    "my_os.listdir()"
   ]
  },
  {
   "cell_type": "code",
   "execution_count": null,
   "id": "a675c79c",
   "metadata": {},
   "outputs": [],
   "source": []
  }
 ],
 "metadata": {
  "kernelspec": {
   "display_name": "Python 3 (ipykernel)",
   "language": "python",
   "name": "python3"
  },
  "language_info": {
   "codemirror_mode": {
    "name": "ipython",
    "version": 3
   },
   "file_extension": ".py",
   "mimetype": "text/x-python",
   "name": "python",
   "nbconvert_exporter": "python",
   "pygments_lexer": "ipython3",
   "version": "3.9.13"
  }
 },
 "nbformat": 4,
 "nbformat_minor": 5
}
