{
 "cells": [
  {
   "cell_type": "markdown",
   "id": "f13b5bea",
   "metadata": {},
   "source": [
    "# Python standard libraries / NEED-TO-KNOW"
   ]
  },
  {
   "cell_type": "markdown",
   "id": "c0aa1d64",
   "metadata": {},
   "source": [
    "### Built-in vs standard library\n",
    "\n",
    "- A built-in [function](https://docs.python.org/3/library/functions.html) or [type](https://docs.python.org/3/library/stdtypes.html) can be access directly from the program.\n",
    "- A standard library needs to be imported first but are available from the Python installation.\n",
    "\n",
    "### What are some standard libraries?\n",
    "- `os` - make operating system calls\n",
    "- `datetime` - to work with date and times in Python.\n",
    "- `random` - to generate random values or tasks like randomly shuffle a list.\n",
    "- `csv` - to read and write CSV files (we will learn what that is later).\n",
    "See the full list [here](https://docs.python.org/3/library/)"
   ]
  },
  {
   "cell_type": "markdown",
   "id": "37e509ff",
   "metadata": {},
   "source": [
    "## 3 common ways to import\n",
    "\n",
    "\n",
    "### Using import\n",
    "```Python\n",
    "import os\n",
    "\n",
    "for filename in os.listdir():\n",
    "    print(filename)\n",
    "```"
   ]
  },
  {
   "cell_type": "code",
   "execution_count": 3,
   "id": "aedd55be",
   "metadata": {},
   "outputs": [],
   "source": [
    "import os"
   ]
  },
  {
   "cell_type": "code",
   "execution_count": 4,
   "id": "2abd471b",
   "metadata": {},
   "outputs": [
    {
     "data": {
      "text/plain": [
       "['00 - Python standard libraries.ipynb', '.ipynb_checkpoints']"
      ]
     },
     "execution_count": 4,
     "metadata": {},
     "output_type": "execute_result"
    }
   ],
   "source": [
    "os.listdir()"
   ]
  },
  {
   "cell_type": "code",
   "execution_count": 6,
   "id": "ff71fdc3",
   "metadata": {},
   "outputs": [
    {
     "name": "stdout",
     "output_type": "stream",
     "text": [
      "00 - Python standard libraries.ipynb\n",
      ".ipynb_checkpoints\n"
     ]
    }
   ],
   "source": [
    "import os\n",
    "\n",
    "for filename in os.listdir():\n",
    "    print(filename)"
   ]
  },
  {
   "cell_type": "markdown",
   "id": "eca33128",
   "metadata": {},
   "source": [
    "### Using from\n",
    "\n",
    "```Python\n",
    "from os import listdir\n",
    "\n",
    "for filename in listdir():\n",
    "    print(filename)\n",
    "```"
   ]
  },
  {
   "cell_type": "code",
   "execution_count": 7,
   "id": "e522d131",
   "metadata": {},
   "outputs": [
    {
     "name": "stdout",
     "output_type": "stream",
     "text": [
      "00 - Python standard libraries.ipynb\n",
      ".ipynb_checkpoints\n"
     ]
    }
   ],
   "source": [
    "from os import listdir\n",
    "\n",
    "for filename in listdir():\n",
    "    print(filename)"
   ]
  },
  {
   "cell_type": "code",
   "execution_count": null,
   "id": "2c09b4b2",
   "metadata": {},
   "outputs": [],
   "source": []
  },
  {
   "cell_type": "markdown",
   "id": "9e4c13ba",
   "metadata": {},
   "source": [
    "### Using as\n",
    "\n",
    "```Python\n",
    "import os as my_os\n",
    "\n",
    "for filename in my_os.listdir():\n",
    "    print(filename)\n",
    "```"
   ]
  },
  {
   "cell_type": "code",
   "execution_count": 8,
   "id": "a212235b",
   "metadata": {},
   "outputs": [
    {
     "name": "stdout",
     "output_type": "stream",
     "text": [
      "00 - Python standard libraries.ipynb\n",
      ".ipynb_checkpoints\n"
     ]
    }
   ],
   "source": [
    "import os as my_os\n",
    "\n",
    "for filename in my_os.listdir():\n",
    "    print(filename)"
   ]
  },
  {
   "cell_type": "code",
   "execution_count": null,
   "id": "a675c79c",
   "metadata": {},
   "outputs": [],
   "source": []
  }
 ],
 "metadata": {
  "kernelspec": {
   "display_name": "Python 3 (ipykernel)",
   "language": "python",
   "name": "python3"
  },
  "language_info": {
   "codemirror_mode": {
    "name": "ipython",
    "version": 3
   },
   "file_extension": ".py",
   "mimetype": "text/x-python",
   "name": "python",
   "nbconvert_exporter": "python",
   "pygments_lexer": "ipython3",
   "version": "3.8.8"
  }
 },
 "nbformat": 4,
 "nbformat_minor": 5
}
