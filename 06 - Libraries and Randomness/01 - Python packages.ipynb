{
 "cells": [
  {
   "cell_type": "markdown",
   "id": "c040414e",
   "metadata": {},
   "source": [
    "# Python packages / NEED-TO-KNOW"
   ]
  },
  {
   "cell_type": "markdown",
   "id": "3965b92d",
   "metadata": {},
   "source": [
    "### What is a Python package?\n",
    "\n",
    "- It is a collection of Python files.\n",
    "\n",
    "### What is the difference of Python libraries and packages?\n",
    "\n",
    "- A package is a collection of python files, and a library is a collection of packages."
   ]
  },
  {
   "cell_type": "markdown",
   "id": "108b8d1a",
   "metadata": {},
   "source": [
    "### Everyone can publish a package\n",
    "\n",
    "- The Python Package Index ([PyPi](https://pypi.org)) is the official third-party software repository for Python.\n",
    "- Everyone can publish packages.\n",
    "- You can install packages with `conda` or `pip`on your system.\n",
    "\n",
    "### Commonly used packages.\n",
    "- `pandas` a data analysis and manipulation tool, built on top of the Python programming language.\n",
    "- `numpy` the fundamental package for scientific computing with Python\n",
    "\n",
    "There are many others."
   ]
  },
  {
   "cell_type": "markdown",
   "id": "c4f832de",
   "metadata": {},
   "source": [
    "### Anaconda delivers the scientific ones installed"
   ]
  },
  {
   "cell_type": "code",
   "execution_count": null,
   "id": "6f6dab19",
   "metadata": {},
   "outputs": [],
   "source": []
  }
 ],
 "metadata": {
  "kernelspec": {
   "display_name": "Python 3 (ipykernel)",
   "language": "python",
   "name": "python3"
  },
  "language_info": {
   "codemirror_mode": {
    "name": "ipython",
    "version": 3
   },
   "file_extension": ".py",
   "mimetype": "text/x-python",
   "name": "python",
   "nbconvert_exporter": "python",
   "pygments_lexer": "ipython3",
   "version": "3.8.8"
  }
 },
 "nbformat": 4,
 "nbformat_minor": 5
}
