{
 "cells": [
  {
   "cell_type": "markdown",
   "id": "fc2dec88",
   "metadata": {},
   "source": [
    "# Project - Maze"
   ]
  },
  {
   "cell_type": "markdown",
   "id": "cfec3148",
   "metadata": {},
   "source": [
    "### The Game\n",
    "\n",
    "You will create a maze.\n",
    "\n",
    "The best way to understand this is to first see the end result (in video).\n",
    "\n",
    "Then we break it down in steps."
   ]
  },
  {
   "cell_type": "markdown",
   "id": "0ffd20b9",
   "metadata": {},
   "source": [
    "### Step 1: clear_output\n",
    "\n",
    "You will use a IPyhon library from the Notebook to clear the ouput.\n",
    "\n",
    "Import the following in the cell below\n",
    "```Python\n",
    "from IPython.display import clear_output\n",
    "```\n",
    "\n",
    "Exmample\n",
    "```Python\n",
    "print('Hello')\n",
    "print('press enter')\n",
    "input()\n",
    "clear_output()\n",
    "```"
   ]
  },
  {
   "cell_type": "code",
   "execution_count": 1,
   "id": "10913727",
   "metadata": {},
   "outputs": [],
   "source": [
    "from IPython.display import clear_output"
   ]
  },
  {
   "cell_type": "code",
   "execution_count": 2,
   "id": "a77e64db",
   "metadata": {},
   "outputs": [],
   "source": [
    "print('Hello')\n",
    "print('press enter')\n",
    "input()\n",
    "clear_output()"
   ]
  },
  {
   "cell_type": "code",
   "execution_count": null,
   "id": "ef0c157a",
   "metadata": {},
   "outputs": [],
   "source": []
  },
  {
   "cell_type": "markdown",
   "id": "a29144c2",
   "metadata": {},
   "source": [
    "### Step 2: The maze\n",
    "\n",
    "The maze will be represented as follows.\n",
    "\n",
    "```Python\n",
    "maze = [\n",
    "    list('######################'),\n",
    "    list('#### ###   #   # ### #'),\n",
    "    list('# #   ## # # #     #  '),\n",
    "    list('# # #    #   ##### # #'),\n",
    "    list('# # # ########   # # #'),\n",
    "    list('# # #      #   # # # #'),\n",
    "    list('#   # ## #   #   #   #'),\n",
    "    list('######################'),\n",
    "]\n",
    "```\n",
    "\n",
    "The walls are `#` and the player can walk in the spaces and need to find a way out.\n",
    "\n",
    "Insert the maze in the cell below and execute it.\n",
    "- Later you can make your own maze"
   ]
  },
  {
   "cell_type": "code",
   "execution_count": 3,
   "id": "7b8a8e69",
   "metadata": {},
   "outputs": [],
   "source": [
    "maze = [\n",
    "    list('######################'),\n",
    "    list('#### ###   #   # ### #'),\n",
    "    list('# #   ## # # #     #  '),\n",
    "    list('# # #    #   ##### # #'),\n",
    "    list('# # # ########   # # #'),\n",
    "    list('# # #      #   # # # #'),\n",
    "    list('#   # ## #   #   #   #'),\n",
    "    list('######################'),\n",
    "]"
   ]
  },
  {
   "cell_type": "code",
   "execution_count": 4,
   "id": "81ec9215",
   "metadata": {},
   "outputs": [
    {
     "data": {
      "text/plain": [
       "[['#',\n",
       "  '#',\n",
       "  '#',\n",
       "  '#',\n",
       "  '#',\n",
       "  '#',\n",
       "  '#',\n",
       "  '#',\n",
       "  '#',\n",
       "  '#',\n",
       "  '#',\n",
       "  '#',\n",
       "  '#',\n",
       "  '#',\n",
       "  '#',\n",
       "  '#',\n",
       "  '#',\n",
       "  '#',\n",
       "  '#',\n",
       "  '#',\n",
       "  '#',\n",
       "  '#'],\n",
       " ['#',\n",
       "  '#',\n",
       "  '#',\n",
       "  '#',\n",
       "  ' ',\n",
       "  '#',\n",
       "  '#',\n",
       "  '#',\n",
       "  ' ',\n",
       "  ' ',\n",
       "  ' ',\n",
       "  '#',\n",
       "  ' ',\n",
       "  ' ',\n",
       "  ' ',\n",
       "  '#',\n",
       "  ' ',\n",
       "  '#',\n",
       "  '#',\n",
       "  '#',\n",
       "  ' ',\n",
       "  '#'],\n",
       " ['#',\n",
       "  ' ',\n",
       "  '#',\n",
       "  ' ',\n",
       "  ' ',\n",
       "  ' ',\n",
       "  '#',\n",
       "  '#',\n",
       "  ' ',\n",
       "  '#',\n",
       "  ' ',\n",
       "  '#',\n",
       "  ' ',\n",
       "  '#',\n",
       "  ' ',\n",
       "  ' ',\n",
       "  ' ',\n",
       "  ' ',\n",
       "  ' ',\n",
       "  '#',\n",
       "  ' ',\n",
       "  ' '],\n",
       " ['#',\n",
       "  ' ',\n",
       "  '#',\n",
       "  ' ',\n",
       "  '#',\n",
       "  ' ',\n",
       "  ' ',\n",
       "  ' ',\n",
       "  ' ',\n",
       "  '#',\n",
       "  ' ',\n",
       "  ' ',\n",
       "  ' ',\n",
       "  '#',\n",
       "  '#',\n",
       "  '#',\n",
       "  '#',\n",
       "  '#',\n",
       "  ' ',\n",
       "  '#',\n",
       "  ' ',\n",
       "  '#'],\n",
       " ['#',\n",
       "  ' ',\n",
       "  '#',\n",
       "  ' ',\n",
       "  '#',\n",
       "  ' ',\n",
       "  '#',\n",
       "  '#',\n",
       "  '#',\n",
       "  '#',\n",
       "  '#',\n",
       "  '#',\n",
       "  '#',\n",
       "  '#',\n",
       "  ' ',\n",
       "  ' ',\n",
       "  ' ',\n",
       "  '#',\n",
       "  ' ',\n",
       "  '#',\n",
       "  ' ',\n",
       "  '#'],\n",
       " ['#',\n",
       "  ' ',\n",
       "  '#',\n",
       "  ' ',\n",
       "  '#',\n",
       "  ' ',\n",
       "  ' ',\n",
       "  ' ',\n",
       "  ' ',\n",
       "  ' ',\n",
       "  ' ',\n",
       "  '#',\n",
       "  ' ',\n",
       "  ' ',\n",
       "  ' ',\n",
       "  '#',\n",
       "  ' ',\n",
       "  '#',\n",
       "  ' ',\n",
       "  '#',\n",
       "  ' ',\n",
       "  '#'],\n",
       " ['#',\n",
       "  ' ',\n",
       "  ' ',\n",
       "  ' ',\n",
       "  '#',\n",
       "  ' ',\n",
       "  '#',\n",
       "  '#',\n",
       "  ' ',\n",
       "  '#',\n",
       "  ' ',\n",
       "  ' ',\n",
       "  ' ',\n",
       "  '#',\n",
       "  ' ',\n",
       "  ' ',\n",
       "  ' ',\n",
       "  '#',\n",
       "  ' ',\n",
       "  ' ',\n",
       "  ' ',\n",
       "  '#'],\n",
       " ['#',\n",
       "  '#',\n",
       "  '#',\n",
       "  '#',\n",
       "  '#',\n",
       "  '#',\n",
       "  '#',\n",
       "  '#',\n",
       "  '#',\n",
       "  '#',\n",
       "  '#',\n",
       "  '#',\n",
       "  '#',\n",
       "  '#',\n",
       "  '#',\n",
       "  '#',\n",
       "  '#',\n",
       "  '#',\n",
       "  '#',\n",
       "  '#',\n",
       "  '#',\n",
       "  '#']]"
      ]
     },
     "execution_count": 4,
     "metadata": {},
     "output_type": "execute_result"
    }
   ],
   "source": [
    "maze"
   ]
  },
  {
   "cell_type": "code",
   "execution_count": null,
   "id": "6cb64deb",
   "metadata": {},
   "outputs": [],
   "source": []
  },
  {
   "cell_type": "markdown",
   "id": "af44c285",
   "metadata": {},
   "source": [
    "### Step 3: Start point\n",
    "\n",
    "The player will use the list indexing as a point.\n",
    "\n",
    "Here we start in `x = 2` and `y = 1`.\n",
    "\n",
    "It means the player starts in the 3rd row (index 2) and the 2nd column (index 1).\n",
    "\n",
    "Create the variables below."
   ]
  },
  {
   "cell_type": "code",
   "execution_count": 5,
   "id": "b1e5a2e3",
   "metadata": {},
   "outputs": [],
   "source": [
    "x = 2\n",
    "y = 1"
   ]
  },
  {
   "cell_type": "code",
   "execution_count": null,
   "id": "91829d54",
   "metadata": {},
   "outputs": [],
   "source": []
  },
  {
   "cell_type": "code",
   "execution_count": null,
   "id": "3e929b6f",
   "metadata": {},
   "outputs": [],
   "source": []
  },
  {
   "cell_type": "markdown",
   "id": "78ca5368",
   "metadata": {},
   "source": [
    "### Step 4: Show where the player is\n",
    "\n",
    "You nee to use the `maze` to show how the walls are.\n",
    "\n",
    "This can be a bit confusing, but investigate the code below.\n",
    "\n",
    "```Python\n",
    "print('###' + maze[x-1][y]*3 + '###')\n",
    "print('###' + maze[x-1][y]*3 + '###')\n",
    "print(maze[x][y-1]*3 + ' o ' + maze[x][y+1]*3)\n",
    "print('###' + maze[x+1][y]*3 + '###')\n",
    "print('###' + maze[x+1][y]*3 + '###')\n",
    "```\n",
    "\n",
    "The player will be the `o` and the walls are taking from the player position and made thicker as you see."
   ]
  },
  {
   "cell_type": "code",
   "execution_count": 6,
   "id": "ebb6a5f8",
   "metadata": {},
   "outputs": [
    {
     "name": "stdout",
     "output_type": "stream",
     "text": [
      "#########\n",
      "#########\n",
      "### o ###\n",
      "###   ###\n",
      "###   ###\n"
     ]
    }
   ],
   "source": [
    "print('###' + maze[x-1][y]*3 + '###')\n",
    "print('###' + maze[x-1][y]*3 + '###')\n",
    "print(maze[x][y-1]*3 + ' o ' + maze[x][y+1]*3)\n",
    "print('###' + maze[x+1][y]*3 + '###')\n",
    "print('###' + maze[x+1][y]*3 + '###')"
   ]
  },
  {
   "cell_type": "code",
   "execution_count": null,
   "id": "ba14e214",
   "metadata": {},
   "outputs": [],
   "source": []
  },
  {
   "cell_type": "code",
   "execution_count": null,
   "id": "e652d1ef",
   "metadata": {},
   "outputs": [],
   "source": []
  },
  {
   "cell_type": "markdown",
   "id": "8901654d",
   "metadata": {},
   "source": [
    "### Step 5: The main loop\n",
    "\n",
    "You need to build the main loop.\n",
    "\n",
    "```Python\n",
    "while True:\n",
    "       \n",
    "    print('###' + maze[x-1][y]*3 + '###')\n",
    "    print('###' + maze[x-1][y]*3 + '###')\n",
    "    print(maze[x][y-1]*3 + ' o ' + maze[x][y+1]*3)\n",
    "    print('###' + maze[x+1][y]*3 + '###')\n",
    "    print('###' + maze[x+1][y]*3 + '###')\n",
    "    \n",
    "    # Replace this with code in next step\n",
    "    break\n",
    "```\n"
   ]
  },
  {
   "cell_type": "code",
   "execution_count": 7,
   "id": "4b5f8194",
   "metadata": {},
   "outputs": [
    {
     "name": "stdout",
     "output_type": "stream",
     "text": [
      "#########\n",
      "#########\n",
      "### o ###\n",
      "###   ###\n",
      "###   ###\n"
     ]
    }
   ],
   "source": [
    "while True:\n",
    "\n",
    "    print('###' + maze[x-1][y]*3 + '###')\n",
    "    print('###' + maze[x-1][y]*3 + '###')\n",
    "    print(maze[x][y-1]*3 + ' o ' + maze[x][y+1]*3)\n",
    "    print('###' + maze[x+1][y]*3 + '###')\n",
    "    print('###' + maze[x+1][y]*3 + '###')\n",
    "\n",
    "    # Replace this with code in next step\n",
    "    break"
   ]
  },
  {
   "cell_type": "code",
   "execution_count": null,
   "id": "c6b3f1fb",
   "metadata": {},
   "outputs": [],
   "source": []
  },
  {
   "cell_type": "code",
   "execution_count": null,
   "id": "84dc5a3a",
   "metadata": {},
   "outputs": [],
   "source": []
  },
  {
   "cell_type": "markdown",
   "id": "0e4adda4",
   "metadata": {},
   "source": [
    "### Step 6: The controls\n",
    "The player can go up, down, left, right, or see the map.\n",
    "- `w` is up\n",
    "- `s` is down\n",
    "- `a` is left\n",
    "- `d` is right\n",
    "- `h` shows the map\n",
    "\n",
    "What to do\n",
    "1. Inside the while loop take input from the user.\n",
    "2. After you take input, clear output"
   ]
  },
  {
   "cell_type": "code",
   "execution_count": 8,
   "id": "a3caee36",
   "metadata": {},
   "outputs": [],
   "source": [
    "while True:\n",
    "\n",
    "    print('###' + maze[x-1][y]*3 + '###')\n",
    "    print('###' + maze[x-1][y]*3 + '###')\n",
    "    print(maze[x][y-1]*3 + ' o ' + maze[x][y+1]*3)\n",
    "    print('###' + maze[x+1][y]*3 + '###')\n",
    "    print('###' + maze[x+1][y]*3 + '###')\n",
    "\n",
    "    move = input('w: up, s: down, a: left, d:right (h: map) - ')\n",
    "    clear_output()\n",
    "    break"
   ]
  },
  {
   "cell_type": "code",
   "execution_count": null,
   "id": "e5fb0044",
   "metadata": {},
   "outputs": [],
   "source": []
  },
  {
   "cell_type": "code",
   "execution_count": null,
   "id": "f12e9c3c",
   "metadata": {},
   "outputs": [],
   "source": []
  },
  {
   "cell_type": "markdown",
   "id": "5da0019c",
   "metadata": {},
   "source": [
    "### Step 7: Make the controls\n",
    "\n",
    "Make an if-elif-...-else statement for the different controls."
   ]
  },
  {
   "cell_type": "markdown",
   "id": "b497acac",
   "metadata": {},
   "source": [
    "#### Double click here for help\n",
    "\n",
    "<!--\n",
    "\n",
    "To start you can make a `pass` inside.\n",
    "\n",
    "Example\n",
    "```Python\n",
    "if move == 'a':\n",
    "    pass\n",
    "elif # you insert code here and below\n",
    "```\n",
    "-->"
   ]
  },
  {
   "cell_type": "code",
   "execution_count": 10,
   "id": "aa6ce7b8",
   "metadata": {},
   "outputs": [
    {
     "name": "stdout",
     "output_type": "stream",
     "text": [
      "Unknown move\n"
     ]
    }
   ],
   "source": [
    "while True:\n",
    "\n",
    "    print('###' + maze[x-1][y]*3 + '###')\n",
    "    print('###' + maze[x-1][y]*3 + '###')\n",
    "    print(maze[x][y-1]*3 + ' o ' + maze[x][y+1]*3)\n",
    "    print('###' + maze[x+1][y]*3 + '###')\n",
    "    print('###' + maze[x+1][y]*3 + '###')\n",
    "\n",
    "    move = input('w: up, s: down, a: left, d:right (h: map) - ')\n",
    "    clear_output()\n",
    "    \n",
    "    if move == 'w':  # up\n",
    "        pass\n",
    "    elif move == 's':  # down\n",
    "        pass\n",
    "    elif move == 'a':  # left\n",
    "        pass\n",
    "    elif move == 'd':  # right\n",
    "        pass\n",
    "    elif move == 'h':  # show map\n",
    "        pass\n",
    "    else:\n",
    "        print('Unknown move')\n",
    "    \n",
    "    \n",
    "    break"
   ]
  },
  {
   "cell_type": "code",
   "execution_count": null,
   "id": "025ab143",
   "metadata": {},
   "outputs": [],
   "source": []
  },
  {
   "cell_type": "code",
   "execution_count": null,
   "id": "e360236f",
   "metadata": {},
   "outputs": [],
   "source": []
  },
  {
   "cell_type": "markdown",
   "id": "4431a1d4",
   "metadata": {},
   "source": [
    "### Step 7: Display the map\n",
    "\n",
    "One way to make the map is as follows.\n",
    "\n",
    "```Python\n",
    "maze[x][y] = 'o'\n",
    "for row in maze:\n",
    "     print(''.join(row))\n",
    "maze[x][y] = ' '\n",
    "```\n",
    "\n",
    "You simply mark where the player is, then print each row.\n",
    "\n",
    "Finalize the code by inserting requesting an input and clear the output afterwards."
   ]
  },
  {
   "cell_type": "code",
   "execution_count": 11,
   "id": "1047f614",
   "metadata": {},
   "outputs": [],
   "source": [
    "while True:\n",
    "\n",
    "    print('###' + maze[x-1][y]*3 + '###')\n",
    "    print('###' + maze[x-1][y]*3 + '###')\n",
    "    print(maze[x][y-1]*3 + ' o ' + maze[x][y+1]*3)\n",
    "    print('###' + maze[x+1][y]*3 + '###')\n",
    "    print('###' + maze[x+1][y]*3 + '###')\n",
    "\n",
    "    move = input('w: up, s: down, a: left, d:right (h: map) - ')\n",
    "    clear_output()\n",
    "    \n",
    "    if move == 'w':  # up\n",
    "        pass\n",
    "    elif move == 's':  # down\n",
    "        pass\n",
    "    elif move == 'a':  # left\n",
    "        pass\n",
    "    elif move == 'd':  # right\n",
    "        pass\n",
    "    elif move == 'h':  # show map\n",
    "        maze[x][y] = 'o'\n",
    "        for row in maze:\n",
    "             print(''.join(row))\n",
    "        maze[x][y] = ' '\n",
    "        input('Press enter to continue')\n",
    "        clear_output()\n",
    "    else:\n",
    "        print('Unknown move')\n",
    "    \n",
    "    \n",
    "    break"
   ]
  },
  {
   "cell_type": "code",
   "execution_count": null,
   "id": "375421a3",
   "metadata": {},
   "outputs": [],
   "source": []
  },
  {
   "cell_type": "code",
   "execution_count": null,
   "id": "98cf157a",
   "metadata": {},
   "outputs": [],
   "source": []
  },
  {
   "cell_type": "markdown",
   "id": "8d396ca2",
   "metadata": {},
   "source": [
    "### Step 8: Insert all the moves\n",
    "\n",
    "Now insert the code for each possible move.\n",
    "\n",
    "Example if player goes up.\n",
    "- This means the player goes 1 row up.\n",
    "- The row is the variable `x`\n",
    "- To validate if that is a legal move, check if `maze[x - 1][y]` is a wall or not.\n",
    "- If it is not a wall, update `x` else print `Illegal move`\n",
    "\n",
    "Do this for all 4 controls."
   ]
  },
  {
   "cell_type": "code",
   "execution_count": 12,
   "id": "8e245e9c",
   "metadata": {},
   "outputs": [
    {
     "name": "stdout",
     "output_type": "stream",
     "text": [
      "Unknown move\n"
     ]
    }
   ],
   "source": [
    "while True:\n",
    "\n",
    "    print('###' + maze[x-1][y]*3 + '###')\n",
    "    print('###' + maze[x-1][y]*3 + '###')\n",
    "    print(maze[x][y-1]*3 + ' o ' + maze[x][y+1]*3)\n",
    "    print('###' + maze[x+1][y]*3 + '###')\n",
    "    print('###' + maze[x+1][y]*3 + '###')\n",
    "\n",
    "    move = input('w: up, s: down, a: left, d:right (h: map) - ')\n",
    "    clear_output()\n",
    "    \n",
    "    if move == 'w':  # up\n",
    "        if maze[x - 1][y] == '#':\n",
    "            print('Illegal move')\n",
    "        else:\n",
    "            x = x - 1\n",
    "    elif move == 's':  # down\n",
    "        if maze[x + 1][y] == '#':\n",
    "            print('Illegal move')\n",
    "        else:\n",
    "            x = x + 1\n",
    "    elif move == 'a':  # left\n",
    "        if maze[x][y - 1] == '#':\n",
    "            print('Illegal move')\n",
    "        else:\n",
    "            y = y - 1\n",
    "    elif move == 'd':  # right\n",
    "        if maze[x][y + 1] == '#':\n",
    "            print('Illegal move')\n",
    "        else:\n",
    "            y = y + 1\n",
    "\n",
    "    elif move == 'h':  # show map\n",
    "        maze[x][y] = 'o'\n",
    "        for row in maze:\n",
    "             print(''.join(row))\n",
    "        maze[x][y] = ' '\n",
    "        input('Press enter to continue')\n",
    "        clear_output()\n",
    "    else:\n",
    "        print('Unknown move')\n",
    "    \n",
    "    \n",
    "        break"
   ]
  },
  {
   "cell_type": "code",
   "execution_count": null,
   "id": "bebdee75",
   "metadata": {},
   "outputs": [],
   "source": []
  },
  {
   "cell_type": "code",
   "execution_count": null,
   "id": "dd25faff",
   "metadata": {},
   "outputs": [],
   "source": []
  },
  {
   "cell_type": "markdown",
   "id": "d445ac28",
   "metadata": {},
   "source": [
    "### Step 9: Check if user is done\n",
    "\n",
    "We assume that when the player reaches the far right (the only exit in the given maze), then the user is done.\n",
    "\n",
    "That means the if `y` is at position `len(maze[0]) - 1`\n",
    "\n",
    "Make that check and `break` after you write `you finished`"
   ]
  },
  {
   "cell_type": "code",
   "execution_count": 13,
   "id": "0cf3ba4d",
   "metadata": {},
   "outputs": [
    {
     "name": "stdout",
     "output_type": "stream",
     "text": [
      "you finished\n"
     ]
    }
   ],
   "source": [
    "while True:\n",
    "\n",
    "    print('###' + maze[x-1][y]*3 + '###')\n",
    "    print('###' + maze[x-1][y]*3 + '###')\n",
    "    print(maze[x][y-1]*3 + ' o ' + maze[x][y+1]*3)\n",
    "    print('###' + maze[x+1][y]*3 + '###')\n",
    "    print('###' + maze[x+1][y]*3 + '###')\n",
    "\n",
    "    move = input('w: up, s: down, a: left, d:right (h: map) - ')\n",
    "    clear_output()\n",
    "    \n",
    "    if move == 'w':  # up\n",
    "        if maze[x - 1][y] == '#':\n",
    "            print('Illegal move')\n",
    "        else:\n",
    "            x = x - 1\n",
    "    elif move == 's':  # down\n",
    "        if maze[x + 1][y] == '#':\n",
    "            print('Illegal move')\n",
    "        else:\n",
    "            x = x + 1\n",
    "    elif move == 'a':  # left\n",
    "        if maze[x][y - 1] == '#':\n",
    "            print('Illegal move')\n",
    "        else:\n",
    "            y = y - 1\n",
    "    elif move == 'd':  # right\n",
    "        if maze[x][y + 1] == '#':\n",
    "            print('Illegal move')\n",
    "        else:\n",
    "            y = y + 1\n",
    "\n",
    "    elif move == 'h':  # show map\n",
    "        maze[x][y] = 'o'\n",
    "        for row in maze:\n",
    "             print(''.join(row))\n",
    "        maze[x][y] = ' '\n",
    "        input('Press enter to continue')\n",
    "        clear_output()\n",
    "    else:\n",
    "        print('Unknown move')\n",
    "    \n",
    "    \n",
    "    if y == len(maze[0]) - 1:\n",
    "        print('you finished')\n",
    "        break"
   ]
  },
  {
   "cell_type": "code",
   "execution_count": null,
   "id": "acf328cf",
   "metadata": {},
   "outputs": [],
   "source": []
  },
  {
   "cell_type": "code",
   "execution_count": null,
   "id": "6482dd76",
   "metadata": {},
   "outputs": [],
   "source": []
  },
  {
   "cell_type": "code",
   "execution_count": null,
   "id": "1af4fd3f",
   "metadata": {},
   "outputs": [],
   "source": []
  }
 ],
 "metadata": {
  "kernelspec": {
   "display_name": "Python 3 (ipykernel)",
   "language": "python",
   "name": "python3"
  },
  "language_info": {
   "codemirror_mode": {
    "name": "ipython",
    "version": 3
   },
   "file_extension": ".py",
   "mimetype": "text/x-python",
   "name": "python",
   "nbconvert_exporter": "python",
   "pygments_lexer": "ipython3",
   "version": "3.9.13"
  }
 },
 "nbformat": 4,
 "nbformat_minor": 5
}
