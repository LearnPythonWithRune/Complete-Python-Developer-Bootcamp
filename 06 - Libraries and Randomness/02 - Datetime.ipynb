{
 "cells": [
  {
   "cell_type": "markdown",
   "id": "e1a1b6b6",
   "metadata": {},
   "source": [
    "# Datetime / NICE-TO-KNOW"
   ]
  },
  {
   "cell_type": "markdown",
   "id": "58021920",
   "metadata": {},
   "source": [
    "### What is datetime in Python?\n",
    "\n",
    "It is a standard library working with date and time.\n",
    "\n",
    "```Python\n",
    "import datetime\n",
    "\n",
    "utc_now = datetime.datetime.utcnow()\n",
    "print(utc_now)\n",
    "```"
   ]
  },
  {
   "cell_type": "code",
   "execution_count": 1,
   "id": "9390131d",
   "metadata": {},
   "outputs": [
    {
     "name": "stdout",
     "output_type": "stream",
     "text": [
      "2022-12-30 16:09:55.831772\n"
     ]
    }
   ],
   "source": [
    "import datetime\n",
    "\n",
    "utc_now = datetime.datetime.utcnow()\n",
    "print(utc_now)"
   ]
  },
  {
   "cell_type": "code",
   "execution_count": 2,
   "id": "ff1d7733",
   "metadata": {},
   "outputs": [
    {
     "data": {
      "text/plain": [
       "datetime.datetime(2022, 12, 30, 16, 9, 55, 831772)"
      ]
     },
     "execution_count": 2,
     "metadata": {},
     "output_type": "execute_result"
    }
   ],
   "source": [
    "utc_now"
   ]
  },
  {
   "cell_type": "markdown",
   "id": "82d77373",
   "metadata": {},
   "source": [
    "### The difference between two dates\n",
    "\n",
    "```Python\n",
    "from datetime import datetime\n",
    "\n",
    "day_0 = datetime(2000, 1, 1)\n",
    "utc_now = datetime.utcnow()\n",
    "\n",
    "print(utc_now - day_0)\n",
    "```\n",
    "\n",
    "A note on making code readable.\n",
    "```Python\n",
    "from datetime import datetime\n",
    "\n",
    "day_0 = datetime(year=2000, month=1, day=1, hour=13, minute=56, second=35)\n",
    "utc_now = datetime.utcnow()\n",
    "\n",
    "print(utc_now - day_0)\n",
    "```"
   ]
  },
  {
   "cell_type": "code",
   "execution_count": 6,
   "id": "ac87d8be",
   "metadata": {},
   "outputs": [
    {
     "name": "stdout",
     "output_type": "stream",
     "text": [
      "8399 days, 2:19:13.809581\n"
     ]
    }
   ],
   "source": [
    "from datetime import datetime\n",
    "\n",
    "day_0 = datetime(year=2000, month=1, day=1, hour=13, minute=56, second=35)\n",
    "utc_now = datetime.utcnow()\n",
    "\n",
    "print(utc_now - day_0)"
   ]
  },
  {
   "cell_type": "code",
   "execution_count": null,
   "id": "ae2c19ff",
   "metadata": {},
   "outputs": [],
   "source": []
  }
 ],
 "metadata": {
  "kernelspec": {
   "display_name": "Python 3 (ipykernel)",
   "language": "python",
   "name": "python3"
  },
  "language_info": {
   "codemirror_mode": {
    "name": "ipython",
    "version": 3
   },
   "file_extension": ".py",
   "mimetype": "text/x-python",
   "name": "python",
   "nbconvert_exporter": "python",
   "pygments_lexer": "ipython3",
   "version": "3.8.8"
  }
 },
 "nbformat": 4,
 "nbformat_minor": 5
}
