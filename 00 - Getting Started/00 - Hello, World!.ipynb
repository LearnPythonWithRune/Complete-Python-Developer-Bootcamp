{
 "cells": [
  {
   "cell_type": "markdown",
   "id": "e790e4d5",
   "metadata": {},
   "source": [
    "# Hello, World! / NEED-TO-KNOW"
   ]
  },
  {
   "cell_type": "markdown",
   "id": "59b9906e",
   "metadata": {},
   "source": [
    "### Understand programming\n",
    "<img src=\"img/principles-of-coding.png\" alt=\"Principles of Coding\" width=\"400\"/>\n",
    "\n",
    "### A few things\n",
    "Lectures are divided into\n",
    "- **NEED-TO-KNOW** You should follow these\n",
    "- **NICE-TO-KNOW** You are encouraged to at least watch them, but you can skip them and still be able to follow the full program.\n",
    "\n",
    "Programming Exercises\n",
    "- **Test Exercises** You should make these to make sure you understand what is covered.\n",
    "- **Specialization Exercises** You do not need to make them, but they are good to learn in-depth aspects of a subject.\n",
    "- **Project** Smaller projects you should make using the new skills you have. This is the best way to learn.\n",
    "- **Milestone Project** Important projects that are bigger and will be a key aspect of your learning.\n",
    "\n",
    "Questionaires and FAQ\n",
    "- **Questionaries** After each lecture with key aspects, there will be questionaries to ensure you understood the content.\n",
    "- **FAQ** Often the same questions turn up and there will be FAQ added to help you with common questions.\n",
    "\n",
    "### The first program you run\n",
    "The story behind [Hello, World!](https://en.wikipedia.org/wiki/%22Hello,_World!%22_program)\n",
    "\n",
    "#### Why?\n",
    "- To see everything works!"
   ]
  },
  {
   "cell_type": "code",
   "execution_count": 1,
   "id": "a7c0cf3f",
   "metadata": {},
   "outputs": [
    {
     "name": "stdout",
     "output_type": "stream",
     "text": [
      "hello world\n"
     ]
    }
   ],
   "source": [
    "print('hello world')"
   ]
  },
  {
   "cell_type": "code",
   "execution_count": 3,
   "id": "eecd5ef5",
   "metadata": {},
   "outputs": [
    {
     "name": "stdout",
     "output_type": "stream",
     "text": [
      "Python 3.9.13\r\n"
     ]
    }
   ],
   "source": [
    "!python --version"
   ]
  },
  {
   "cell_type": "code",
   "execution_count": 4,
   "id": "d725f2fa",
   "metadata": {},
   "outputs": [
    {
     "name": "stdout",
     "output_type": "stream",
     "text": [
      "/Users/rune/opt/anaconda3/bin/python\r\n"
     ]
    }
   ],
   "source": [
    "!which python"
   ]
  },
  {
   "cell_type": "code",
   "execution_count": null,
   "id": "d2ab4cb9",
   "metadata": {},
   "outputs": [],
   "source": []
  }
 ],
 "metadata": {
  "kernelspec": {
   "display_name": "Python 3 (ipykernel)",
   "language": "python",
   "name": "python3"
  },
  "language_info": {
   "codemirror_mode": {
    "name": "ipython",
    "version": 3
   },
   "file_extension": ".py",
   "mimetype": "text/x-python",
   "name": "python",
   "nbconvert_exporter": "python",
   "pygments_lexer": "ipython3",
   "version": "3.9.13"
  }
 },
 "nbformat": 4,
 "nbformat_minor": 5
}
