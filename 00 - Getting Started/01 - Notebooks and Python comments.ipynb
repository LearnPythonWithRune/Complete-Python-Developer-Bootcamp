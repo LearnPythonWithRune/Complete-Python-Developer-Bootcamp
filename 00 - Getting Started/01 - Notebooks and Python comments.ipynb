{
 "cells": [
  {
   "cell_type": "markdown",
   "id": "a743a2e4",
   "metadata": {},
   "source": [
    "# Notebooks / NEED-TO-KNOW"
   ]
  },
  {
   "cell_type": "markdown",
   "id": "fa55fa12",
   "metadata": {},
   "source": [
    "### You can skip if\n",
    "- You are familiar with Python comments"
   ]
  },
  {
   "cell_type": "markdown",
   "id": "99a3fc59",
   "metadata": {},
   "source": [
    "### Recall Notebooks have Markdown\n",
    "- You can write text in cells like this one."
   ]
  },
  {
   "cell_type": "markdown",
   "id": "773cef30",
   "metadata": {},
   "source": [
    "### Python comments is everything after \\#\n",
    "```Python\n",
    "# This is a comment\n",
    "2 + 5  # This is another comment\n",
    "```"
   ]
  },
  {
   "cell_type": "code",
   "execution_count": null,
   "id": "b9766a31",
   "metadata": {},
   "outputs": [],
   "source": []
  },
  {
   "cell_type": "code",
   "execution_count": null,
   "id": "4882b915",
   "metadata": {},
   "outputs": [],
   "source": []
  },
  {
   "cell_type": "code",
   "execution_count": null,
   "id": "8f7a1b0c",
   "metadata": {},
   "outputs": [],
   "source": []
  },
  {
   "cell_type": "markdown",
   "id": "7422f341",
   "metadata": {},
   "source": [
    "### Why comments in Python?\n",
    "- To increase readability\n",
    "- To explain the code (also to your future self)\n",
    "- To make the code self-explanatory\n",
    "- Helps remember why you used a specific command, method, or function in the code\n",
    "- Enables the interpreter to ignore some part of the code while testing\n",
    "\n",
    "### Docstrings\n",
    "- Later we will learn about docstrings and how they help you to use functions and methods."
   ]
  },
  {
   "cell_type": "code",
   "execution_count": null,
   "id": "f7d8c1a2",
   "metadata": {},
   "outputs": [],
   "source": []
  }
 ],
 "metadata": {
  "kernelspec": {
   "display_name": "Python 3 (ipykernel)",
   "language": "python",
   "name": "python3"
  },
  "language_info": {
   "codemirror_mode": {
    "name": "ipython",
    "version": 3
   },
   "file_extension": ".py",
   "mimetype": "text/x-python",
   "name": "python",
   "nbconvert_exporter": "python",
   "pygments_lexer": "ipython3",
   "version": "3.8.8"
  }
 },
 "nbformat": 4,
 "nbformat_minor": 5
}
