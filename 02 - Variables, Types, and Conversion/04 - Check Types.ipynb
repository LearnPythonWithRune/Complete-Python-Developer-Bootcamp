{
 "cells": [
  {
   "cell_type": "markdown",
   "id": "08de8416",
   "metadata": {},
   "source": [
    "# Check Types / NICE-TO-KNOW"
   ]
  },
  {
   "cell_type": "markdown",
   "id": "e83f3fb5",
   "metadata": {},
   "source": [
    "### Check if a variable (object) is a specific type\n",
    "\n",
    "[isinstance(object, classinfo)](https://docs.python.org/3/library/functions.html#isinstance)\n",
    "- Return True if the object argument is an instance of the classinfo argument, or of a (direct, indirect, or virtual) subclass thereof.\n",
    "\n",
    "Later you will learn about booleans (`True`, `False`) and how you can use them in if-statements."
   ]
  },
  {
   "cell_type": "code",
   "execution_count": 1,
   "id": "57bd45ee",
   "metadata": {},
   "outputs": [],
   "source": [
    "a = 1"
   ]
  },
  {
   "cell_type": "code",
   "execution_count": 2,
   "id": "c0d63ed2",
   "metadata": {},
   "outputs": [
    {
     "data": {
      "text/plain": [
       "int"
      ]
     },
     "execution_count": 2,
     "metadata": {},
     "output_type": "execute_result"
    }
   ],
   "source": [
    "type(a)"
   ]
  },
  {
   "cell_type": "code",
   "execution_count": 4,
   "id": "50953b1d",
   "metadata": {},
   "outputs": [
    {
     "data": {
      "text/plain": [
       "False"
      ]
     },
     "execution_count": 4,
     "metadata": {},
     "output_type": "execute_result"
    }
   ],
   "source": [
    "isinstance(a, float)"
   ]
  },
  {
   "cell_type": "code",
   "execution_count": 5,
   "id": "457e9fdd",
   "metadata": {},
   "outputs": [],
   "source": [
    "b = 2.0"
   ]
  },
  {
   "cell_type": "code",
   "execution_count": 7,
   "id": "2335b9a2",
   "metadata": {},
   "outputs": [
    {
     "data": {
      "text/plain": [
       "False"
      ]
     },
     "execution_count": 7,
     "metadata": {},
     "output_type": "execute_result"
    }
   ],
   "source": [
    "isinstance(b, int)"
   ]
  },
  {
   "cell_type": "code",
   "execution_count": null,
   "id": "791ff443",
   "metadata": {},
   "outputs": [],
   "source": []
  }
 ],
 "metadata": {
  "kernelspec": {
   "display_name": "Python 3 (ipykernel)",
   "language": "python",
   "name": "python3"
  },
  "language_info": {
   "codemirror_mode": {
    "name": "ipython",
    "version": 3
   },
   "file_extension": ".py",
   "mimetype": "text/x-python",
   "name": "python",
   "nbconvert_exporter": "python",
   "pygments_lexer": "ipython3",
   "version": "3.9.13"
  }
 },
 "nbformat": 4,
 "nbformat_minor": 5
}
