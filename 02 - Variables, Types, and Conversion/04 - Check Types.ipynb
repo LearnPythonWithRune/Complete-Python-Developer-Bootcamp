{
 "cells": [
  {
   "cell_type": "markdown",
   "id": "08de8416",
   "metadata": {},
   "source": [
    "# Check Types / NICE-TO-KNOW"
   ]
  },
  {
   "cell_type": "markdown",
   "id": "e83f3fb5",
   "metadata": {},
   "source": [
    "### Check if a variable (object) is a specific type\n",
    "\n",
    "[isinstance(object, classinfo)](https://docs.python.org/3/library/functions.html#isinstance)\n",
    "- Return True if the object argument is an instance of the classinfo argument, or of a (direct, indirect, or virtual) subclass thereof.\n",
    "\n",
    "Later you will learn about booleans (`True`, `False`) and how you can use them in if-statements."
   ]
  },
  {
   "cell_type": "code",
   "execution_count": 1,
   "id": "4ba23d43",
   "metadata": {},
   "outputs": [
    {
     "data": {
      "text/plain": [
       "False"
      ]
     },
     "execution_count": 1,
     "metadata": {},
     "output_type": "execute_result"
    }
   ],
   "source": [
    "isinstance(2/4, int)"
   ]
  },
  {
   "cell_type": "code",
   "execution_count": 2,
   "id": "9266aa78",
   "metadata": {},
   "outputs": [
    {
     "data": {
      "text/plain": [
       "True"
      ]
     },
     "execution_count": 2,
     "metadata": {},
     "output_type": "execute_result"
    }
   ],
   "source": [
    "isinstance(2/4, float)"
   ]
  },
  {
   "cell_type": "code",
   "execution_count": 3,
   "id": "bd4f0f78",
   "metadata": {},
   "outputs": [
    {
     "data": {
      "text/plain": [
       "True"
      ]
     },
     "execution_count": 3,
     "metadata": {},
     "output_type": "execute_result"
    }
   ],
   "source": [
    "a = 1.5\n",
    "isinstance(a, float)"
   ]
  },
  {
   "cell_type": "code",
   "execution_count": null,
   "id": "57bd45ee",
   "metadata": {},
   "outputs": [],
   "source": []
  }
 ],
 "metadata": {
  "kernelspec": {
   "display_name": "Python 3 (ipykernel)",
   "language": "python",
   "name": "python3"
  },
  "language_info": {
   "codemirror_mode": {
    "name": "ipython",
    "version": 3
   },
   "file_extension": ".py",
   "mimetype": "text/x-python",
   "name": "python",
   "nbconvert_exporter": "python",
   "pygments_lexer": "ipython3",
   "version": "3.8.8"
  }
 },
 "nbformat": 4,
 "nbformat_minor": 5
}
