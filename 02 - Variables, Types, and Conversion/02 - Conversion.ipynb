{
 "cells": [
  {
   "cell_type": "markdown",
   "id": "c6308aa0",
   "metadata": {},
   "source": [
    "# Conversion of types in Python / NEED-TO-KNOW"
   ]
  },
  {
   "cell_type": "markdown",
   "id": "d1510bee",
   "metadata": {},
   "source": [
    "### What is type conversion in Python?\n",
    "You can convert a from one type to another.\n",
    "\n",
    "```Python\n",
    "a = 2  # Integer\n",
    "a = float(a)  # Float\n",
    "```\n",
    "\n",
    "### How to find them?\n",
    "The conversion functions are built-in functions.\n",
    "- Python built-in function ([Python Built-in Functions](https://docs.python.org/3/library/functions.html))\n",
    "\n",
    "The most common ones are.\n",
    "- `int()`\n",
    "- `float()`\n",
    "- `str()`\n",
    "- `list()`\n",
    "- `set()`\n",
    "\n",
    "We will get back to them, here we only use `int()` and `float()`"
   ]
  },
  {
   "cell_type": "code",
   "execution_count": null,
   "id": "3c8ff54c",
   "metadata": {},
   "outputs": [],
   "source": []
  }
 ],
 "metadata": {
  "kernelspec": {
   "display_name": "Python 3 (ipykernel)",
   "language": "python",
   "name": "python3"
  },
  "language_info": {
   "codemirror_mode": {
    "name": "ipython",
    "version": 3
   },
   "file_extension": ".py",
   "mimetype": "text/x-python",
   "name": "python",
   "nbconvert_exporter": "python",
   "pygments_lexer": "ipython3",
   "version": "3.8.8"
  }
 },
 "nbformat": 4,
 "nbformat_minor": 5
}
