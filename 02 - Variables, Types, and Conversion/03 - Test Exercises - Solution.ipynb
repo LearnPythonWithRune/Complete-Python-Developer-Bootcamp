{
 "cells": [
  {
   "cell_type": "markdown",
   "id": "b4c18ff6",
   "metadata": {},
   "source": [
    "# Test Exercises"
   ]
  },
  {
   "cell_type": "markdown",
   "id": "056f54a8",
   "metadata": {},
   "source": [
    "### Exersise 1\n",
    "\n",
    "What is the type of `2 + 1.5`?"
   ]
  },
  {
   "cell_type": "code",
   "execution_count": 1,
   "id": "60913a00",
   "metadata": {},
   "outputs": [
    {
     "data": {
      "text/plain": [
       "float"
      ]
     },
     "execution_count": 1,
     "metadata": {},
     "output_type": "execute_result"
    }
   ],
   "source": [
    "type(2 + 1.5)"
   ]
  },
  {
   "cell_type": "code",
   "execution_count": 2,
   "id": "d10683ac",
   "metadata": {},
   "outputs": [
    {
     "data": {
      "text/plain": [
       "float"
      ]
     },
     "execution_count": 2,
     "metadata": {},
     "output_type": "execute_result"
    }
   ],
   "source": [
    "a = 2 + 1.5\n",
    "type(a)"
   ]
  },
  {
   "cell_type": "markdown",
   "id": "78048b35",
   "metadata": {},
   "source": [
    "### Exercise 2\n",
    "\n",
    "What is the type of `4/2 + 100*3`?"
   ]
  },
  {
   "cell_type": "code",
   "execution_count": 3,
   "id": "8dc8b47c",
   "metadata": {},
   "outputs": [
    {
     "data": {
      "text/plain": [
       "float"
      ]
     },
     "execution_count": 3,
     "metadata": {},
     "output_type": "execute_result"
    }
   ],
   "source": [
    "type(4/2 + 100*3)"
   ]
  },
  {
   "cell_type": "code",
   "execution_count": null,
   "id": "2cbcd2bf",
   "metadata": {},
   "outputs": [],
   "source": []
  },
  {
   "cell_type": "markdown",
   "id": "6976edb7",
   "metadata": {},
   "source": [
    "### Exercise 3\n",
    "\n",
    "What is the type of `100**0.5`?"
   ]
  },
  {
   "cell_type": "code",
   "execution_count": 4,
   "id": "213ec8f3",
   "metadata": {},
   "outputs": [
    {
     "data": {
      "text/plain": [
       "float"
      ]
     },
     "execution_count": 4,
     "metadata": {},
     "output_type": "execute_result"
    }
   ],
   "source": [
    "type(100**0.5)"
   ]
  },
  {
   "cell_type": "code",
   "execution_count": 5,
   "id": "df1c9f84",
   "metadata": {},
   "outputs": [
    {
     "data": {
      "text/plain": [
       "10.0"
      ]
     },
     "execution_count": 5,
     "metadata": {},
     "output_type": "execute_result"
    }
   ],
   "source": [
    "100**0.5"
   ]
  },
  {
   "cell_type": "code",
   "execution_count": 6,
   "id": "53ccaf67",
   "metadata": {},
   "outputs": [
    {
     "data": {
      "text/plain": [
       "100"
      ]
     },
     "execution_count": 6,
     "metadata": {},
     "output_type": "execute_result"
    }
   ],
   "source": [
    "10*10"
   ]
  },
  {
   "cell_type": "code",
   "execution_count": 7,
   "id": "a786cef9",
   "metadata": {},
   "outputs": [
    {
     "data": {
      "text/plain": [
       "10.0"
      ]
     },
     "execution_count": 7,
     "metadata": {},
     "output_type": "execute_result"
    }
   ],
   "source": [
    "100**(1/2)"
   ]
  },
  {
   "cell_type": "code",
   "execution_count": null,
   "id": "c9a3580e",
   "metadata": {},
   "outputs": [],
   "source": []
  },
  {
   "cell_type": "markdown",
   "id": "1a3b5cf7",
   "metadata": {},
   "source": [
    "### Exercise 4\n",
    "\n",
    "Create variable\n",
    "```Python\n",
    "a = 1\n",
    "b = 2.5\n",
    "c = a + b\n",
    "```\n",
    "What is the type of `c`"
   ]
  },
  {
   "cell_type": "code",
   "execution_count": 8,
   "id": "aa765240",
   "metadata": {},
   "outputs": [],
   "source": [
    "a = 1\n",
    "b = 2.5\n",
    "c = a + b"
   ]
  },
  {
   "cell_type": "code",
   "execution_count": 9,
   "id": "dbb337ea",
   "metadata": {},
   "outputs": [
    {
     "data": {
      "text/plain": [
       "float"
      ]
     },
     "execution_count": 9,
     "metadata": {},
     "output_type": "execute_result"
    }
   ],
   "source": [
    "type(c)"
   ]
  },
  {
   "cell_type": "markdown",
   "id": "0b32f9ac",
   "metadata": {},
   "source": [
    "### Exercise 5 (Difficult)\n",
    "\n",
    "Find the square root of `64` using the operations you know now (`+, -, *, /, //, %, **`)\n",
    "\n",
    "HINT: Exercise 3"
   ]
  },
  {
   "cell_type": "code",
   "execution_count": 10,
   "id": "3c7fd932",
   "metadata": {},
   "outputs": [
    {
     "data": {
      "text/plain": [
       "64"
      ]
     },
     "execution_count": 10,
     "metadata": {},
     "output_type": "execute_result"
    }
   ],
   "source": [
    "8*8"
   ]
  },
  {
   "cell_type": "code",
   "execution_count": 11,
   "id": "7ec6279d",
   "metadata": {},
   "outputs": [
    {
     "data": {
      "text/plain": [
       "8.0"
      ]
     },
     "execution_count": 11,
     "metadata": {},
     "output_type": "execute_result"
    }
   ],
   "source": [
    "64**0.5"
   ]
  },
  {
   "cell_type": "code",
   "execution_count": null,
   "id": "ccb2c887",
   "metadata": {},
   "outputs": [],
   "source": []
  }
 ],
 "metadata": {
  "kernelspec": {
   "display_name": "Python 3 (ipykernel)",
   "language": "python",
   "name": "python3"
  },
  "language_info": {
   "codemirror_mode": {
    "name": "ipython",
    "version": 3
   },
   "file_extension": ".py",
   "mimetype": "text/x-python",
   "name": "python",
   "nbconvert_exporter": "python",
   "pygments_lexer": "ipython3",
   "version": "3.9.13"
  }
 },
 "nbformat": 4,
 "nbformat_minor": 5
}
