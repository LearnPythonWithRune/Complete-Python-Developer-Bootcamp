{
 "cells": [
  {
   "cell_type": "markdown",
   "id": "b4c18ff6",
   "metadata": {},
   "source": [
    "# Test Exercises"
   ]
  },
  {
   "cell_type": "markdown",
   "id": "056f54a8",
   "metadata": {},
   "source": [
    "### Exersise 1\n",
    "\n",
    "What is the type of `2 + 1.5`?"
   ]
  },
  {
   "cell_type": "code",
   "execution_count": null,
   "id": "95c60cdd",
   "metadata": {},
   "outputs": [],
   "source": []
  },
  {
   "cell_type": "markdown",
   "id": "78048b35",
   "metadata": {},
   "source": [
    "### Exercise 2\n",
    "\n",
    "What is the type of `4/2 + 100*3`?"
   ]
  },
  {
   "cell_type": "code",
   "execution_count": null,
   "id": "8dc8b47c",
   "metadata": {},
   "outputs": [],
   "source": []
  },
  {
   "cell_type": "markdown",
   "id": "6976edb7",
   "metadata": {},
   "source": [
    "### Exercise 3\n",
    "\n",
    "What is the type of `100**0.5`?"
   ]
  },
  {
   "cell_type": "code",
   "execution_count": 1,
   "id": "33f242ae",
   "metadata": {},
   "outputs": [
    {
     "data": {
      "text/plain": [
       "10.0"
      ]
     },
     "execution_count": 1,
     "metadata": {},
     "output_type": "execute_result"
    }
   ],
   "source": [
    "100**.5"
   ]
  },
  {
   "cell_type": "markdown",
   "id": "1a3b5cf7",
   "metadata": {},
   "source": [
    "### Exercise 4\n",
    "\n",
    "Create variable\n",
    "```Python\n",
    "a = 1\n",
    "b = 2.5\n",
    "c = a + b\n",
    "```\n",
    "What is the type of `c`"
   ]
  },
  {
   "cell_type": "code",
   "execution_count": null,
   "id": "aa765240",
   "metadata": {},
   "outputs": [],
   "source": []
  },
  {
   "cell_type": "markdown",
   "id": "0b32f9ac",
   "metadata": {},
   "source": [
    "### Exercise 5 (Difficult)\n",
    "\n",
    "Find the square root of `64` using the operations you know now (`+, -, *, /, //, %, **`)\n",
    "\n",
    "HINT: Exercise 3"
   ]
  },
  {
   "cell_type": "code",
   "execution_count": 2,
   "id": "5bdd7c0f",
   "metadata": {},
   "outputs": [
    {
     "data": {
      "text/plain": [
       "8.0"
      ]
     },
     "execution_count": 2,
     "metadata": {},
     "output_type": "execute_result"
    }
   ],
   "source": [
    "64**.5 "
   ]
  },
  {
   "cell_type": "code",
   "execution_count": 5,
   "id": "acd35880",
   "metadata": {},
   "outputs": [
    {
     "data": {
      "text/plain": [
       "True"
      ]
     },
     "execution_count": 5,
     "metadata": {},
     "output_type": "execute_result"
    }
   ],
   "source": []
  },
  {
   "cell_type": "code",
   "execution_count": null,
   "id": "ccb2c887",
   "metadata": {},
   "outputs": [],
   "source": []
  }
 ],
 "metadata": {
  "kernelspec": {
   "display_name": "Python 3 (ipykernel)",
   "language": "python",
   "name": "python3"
  },
  "language_info": {
   "codemirror_mode": {
    "name": "ipython",
    "version": 3
   },
   "file_extension": ".py",
   "mimetype": "text/x-python",
   "name": "python",
   "nbconvert_exporter": "python",
   "pygments_lexer": "ipython3",
   "version": "3.8.8"
  }
 },
 "nbformat": 4,
 "nbformat_minor": 5
}
