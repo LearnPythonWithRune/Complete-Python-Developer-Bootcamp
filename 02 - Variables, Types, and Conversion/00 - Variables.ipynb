{
 "cells": [
  {
   "cell_type": "markdown",
   "id": "73a8f063",
   "metadata": {},
   "source": [
    "# Variables in Python / NEED-TO-KNOW"
   ]
  },
  {
   "cell_type": "markdown",
   "id": "855c01b5",
   "metadata": {},
   "source": [
    "### What is a variable in Python?\n",
    "\n",
    "A Python variable is a symbolic name that points at a containers for storing data values.\n",
    "\n",
    "### What to know about variables in Python?\n",
    "- They have a type (you get it by using `type()`\n",
    "- They are dynamic, meaning you can reasign them to new types.\n",
    "\n",
    "### What is a (variable) type in Python?\n",
    "The following types are commonly used in Python.\n",
    "\n",
    "| Type | Name | Examples |\n",
    "|:--|:--|:--|\n",
    "|`int`| Integer | `2`, `34`, `-16` |\n",
    "|`float`| Float | `0.12`, `5.1`, `-9.73` |\n",
    "|`bool`| Integer | `True`, `False` |\n",
    "|`str`| String | `'String'`, `\"I'm a string too\"`|\n",
    "|`list`| List | `[1, 2, 3]`, `['foo', 'bar', 'foobar', 2.3, 1]` |\n",
    "|`dict`| Dictionary | `{'key': 'value'}`, `{'John': 16, 'Doe': 21, 'Franck': 12}` |\n",
    "|`tuple`| Tuple | `(2, 'foo', 3.14)`, `('this is it', 3)` |\n",
    "|`set`| Set | `{1, 2, 5, 8}`, `{-4, 2, 4, 5, 6, 9}` |\n",
    "\n",
    "We will focus on `int` and `float` in this Notebook"
   ]
  },
  {
   "cell_type": "code",
   "execution_count": 6,
   "id": "0736f56e",
   "metadata": {},
   "outputs": [],
   "source": [
    "a = 10"
   ]
  },
  {
   "cell_type": "code",
   "execution_count": 7,
   "id": "04feedf4",
   "metadata": {},
   "outputs": [
    {
     "data": {
      "text/plain": [
       "10"
      ]
     },
     "execution_count": 7,
     "metadata": {},
     "output_type": "execute_result"
    }
   ],
   "source": [
    "a"
   ]
  },
  {
   "cell_type": "code",
   "execution_count": 8,
   "id": "ad0f57e7",
   "metadata": {},
   "outputs": [
    {
     "data": {
      "text/plain": [
       "20"
      ]
     },
     "execution_count": 8,
     "metadata": {},
     "output_type": "execute_result"
    }
   ],
   "source": [
    "a + 10"
   ]
  },
  {
   "cell_type": "code",
   "execution_count": 9,
   "id": "44b953c4",
   "metadata": {},
   "outputs": [],
   "source": [
    "b = a + 10"
   ]
  },
  {
   "cell_type": "code",
   "execution_count": 10,
   "id": "7de48d4d",
   "metadata": {},
   "outputs": [
    {
     "data": {
      "text/plain": [
       "20"
      ]
     },
     "execution_count": 10,
     "metadata": {},
     "output_type": "execute_result"
    }
   ],
   "source": [
    "b"
   ]
  },
  {
   "cell_type": "markdown",
   "id": "b5323ad6",
   "metadata": {},
   "source": [
    "### Variable naming\n",
    "- Names can't start with a number\n",
    "- Names can't contain spaces, use _ intead\n",
    "- Names can't contain any special symbols (`'\",<>/?|\\!@#%^&*~-+`)\n",
    "- It's considered best practice (PEP8) that names are lowercase with underscores\n",
    "- Avoid using Python built-in keywords like `list` and `str`\n",
    "\n",
    "### How to name variables?\n",
    "- Remember code should be readable.\n",
    "- The naming should help someone to understand the code.\n",
    "```Python\n",
    "my_income = 100000\n",
    "tax_rate = 0.24\n",
    "my_taxes = my_income * tax_rate\n",
    "```"
   ]
  },
  {
   "cell_type": "code",
   "execution_count": null,
   "id": "0add8554",
   "metadata": {},
   "outputs": [],
   "source": []
  }
 ],
 "metadata": {
  "kernelspec": {
   "display_name": "Python 3 (ipykernel)",
   "language": "python",
   "name": "python3"
  },
  "language_info": {
   "codemirror_mode": {
    "name": "ipython",
    "version": 3
   },
   "file_extension": ".py",
   "mimetype": "text/x-python",
   "name": "python",
   "nbconvert_exporter": "python",
   "pygments_lexer": "ipython3",
   "version": "3.8.8"
  }
 },
 "nbformat": 4,
 "nbformat_minor": 5
}
