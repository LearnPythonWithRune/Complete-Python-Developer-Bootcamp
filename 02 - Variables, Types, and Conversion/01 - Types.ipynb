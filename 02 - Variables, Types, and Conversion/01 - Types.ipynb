{
 "cells": [
  {
   "cell_type": "markdown",
   "id": "9a193126",
   "metadata": {},
   "source": [
    "# Types in Python / NEED-TO-KNOW"
   ]
  },
  {
   "cell_type": "markdown",
   "id": "903aff9a",
   "metadata": {},
   "source": [
    "**Remember**\n",
    "- They have a type (you get it by using `type()`\n",
    "- They are dynamic, meaning you can reasign them to new types.\n",
    "\n",
    "**Built-in functions**\n",
    "- `type()` is a built-in function ([Python Built-in Functions](https://docs.python.org/3/library/functions.html))\n",
    "- We will it more later as well."
   ]
  },
  {
   "cell_type": "code",
   "execution_count": 2,
   "id": "79bc07e4",
   "metadata": {},
   "outputs": [],
   "source": [
    "a = 2"
   ]
  },
  {
   "cell_type": "code",
   "execution_count": 3,
   "id": "cd17bcab",
   "metadata": {},
   "outputs": [
    {
     "data": {
      "text/plain": [
       "int"
      ]
     },
     "execution_count": 3,
     "metadata": {},
     "output_type": "execute_result"
    }
   ],
   "source": [
    "type(a)"
   ]
  },
  {
   "cell_type": "code",
   "execution_count": 4,
   "id": "f053d883",
   "metadata": {},
   "outputs": [],
   "source": [
    "a = 2.2"
   ]
  },
  {
   "cell_type": "code",
   "execution_count": 5,
   "id": "14515f8e",
   "metadata": {},
   "outputs": [
    {
     "data": {
      "text/plain": [
       "float"
      ]
     },
     "execution_count": 5,
     "metadata": {},
     "output_type": "execute_result"
    }
   ],
   "source": [
    "type(a)"
   ]
  },
  {
   "cell_type": "markdown",
   "id": "542ea713",
   "metadata": {},
   "source": [
    "### Integer divided by integer\n",
    "\n",
    "When you make a division of integers, e.g. `a = 8/4`, then it becomes a float. "
   ]
  },
  {
   "cell_type": "code",
   "execution_count": 6,
   "id": "d1d00112",
   "metadata": {},
   "outputs": [
    {
     "data": {
      "text/plain": [
       "float"
      ]
     },
     "execution_count": 6,
     "metadata": {},
     "output_type": "execute_result"
    }
   ],
   "source": [
    "type(8/4)"
   ]
  },
  {
   "cell_type": "code",
   "execution_count": 7,
   "id": "a1f44a7f",
   "metadata": {},
   "outputs": [
    {
     "data": {
      "text/plain": [
       "2.0"
      ]
     },
     "execution_count": 7,
     "metadata": {},
     "output_type": "execute_result"
    }
   ],
   "source": [
    "8/4"
   ]
  },
  {
   "cell_type": "code",
   "execution_count": null,
   "id": "aa762ff6",
   "metadata": {},
   "outputs": [],
   "source": []
  },
  {
   "cell_type": "markdown",
   "id": "5e5a7f04",
   "metadata": {},
   "source": [
    "### Why use Integers when Floats are more \"accurate\"?\n",
    "\n",
    "Integers are accurate. Floats become more are more in-accurate the more calculations you do.\n",
    "\n",
    "#### Integers are used because\n",
    "- Integers are 100% accurate in calculations.\n",
    "- The precision of integers doesn’t change as the numbers get bigger.\n",
    "- Integers calculations are more efficient (only an issue if making a lot of calculations).\n",
    "\n",
    "#### The drawback of floats\n",
    "- Floats are inaccurate, sometimes with just small calculations, you will notice it.\n",
    "- Floats get more inaccurate the more calculations you make.\n",
    "- Floats are more and more inaccurate the larger the number is.\n",
    "\n",
    "#### When to use what?\n",
    "- For the most time, let Python decide."
   ]
  },
  {
   "cell_type": "code",
   "execution_count": null,
   "id": "3ea18300",
   "metadata": {},
   "outputs": [],
   "source": []
  }
 ],
 "metadata": {
  "kernelspec": {
   "display_name": "Python 3 (ipykernel)",
   "language": "python",
   "name": "python3"
  },
  "language_info": {
   "codemirror_mode": {
    "name": "ipython",
    "version": 3
   },
   "file_extension": ".py",
   "mimetype": "text/x-python",
   "name": "python",
   "nbconvert_exporter": "python",
   "pygments_lexer": "ipython3",
   "version": "3.8.8"
  }
 },
 "nbformat": 4,
 "nbformat_minor": 5
}
