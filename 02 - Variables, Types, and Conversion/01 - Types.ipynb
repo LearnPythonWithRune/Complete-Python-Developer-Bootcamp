{
 "cells": [
  {
   "cell_type": "markdown",
   "id": "9a193126",
   "metadata": {},
   "source": [
    "# Types in Python / NEED-TO-KNOW"
   ]
  },
  {
   "cell_type": "markdown",
   "id": "903aff9a",
   "metadata": {},
   "source": [
    "**Remember**\n",
    "- They have a type (you get it by using `type()`\n",
    "- They are dynamic, meaning you can reasign them to new types.\n",
    "\n",
    "**Built-in functions**\n",
    "- `type()` is a built-in function ([Python Built-in Functions](https://docs.python.org/3/library/functions.html))\n",
    "- We will it more later as well."
   ]
  },
  {
   "cell_type": "code",
   "execution_count": 1,
   "id": "56a83f84",
   "metadata": {},
   "outputs": [],
   "source": [
    "a = 1"
   ]
  },
  {
   "cell_type": "code",
   "execution_count": 2,
   "id": "544226d1",
   "metadata": {},
   "outputs": [
    {
     "data": {
      "text/plain": [
       "int"
      ]
     },
     "execution_count": 2,
     "metadata": {},
     "output_type": "execute_result"
    }
   ],
   "source": [
    "type(a)"
   ]
  },
  {
   "cell_type": "code",
   "execution_count": 3,
   "id": "9cd25be4",
   "metadata": {},
   "outputs": [],
   "source": [
    "b = 2.0"
   ]
  },
  {
   "cell_type": "code",
   "execution_count": 4,
   "id": "e7e91cd9",
   "metadata": {},
   "outputs": [
    {
     "data": {
      "text/plain": [
       "float"
      ]
     },
     "execution_count": 4,
     "metadata": {},
     "output_type": "execute_result"
    }
   ],
   "source": [
    "type(b)"
   ]
  },
  {
   "cell_type": "code",
   "execution_count": 5,
   "id": "5e242a3a",
   "metadata": {},
   "outputs": [
    {
     "data": {
      "text/plain": [
       "int"
      ]
     },
     "execution_count": 5,
     "metadata": {},
     "output_type": "execute_result"
    }
   ],
   "source": [
    "type(4)"
   ]
  },
  {
   "cell_type": "code",
   "execution_count": 6,
   "id": "e23eda7c",
   "metadata": {},
   "outputs": [
    {
     "data": {
      "text/plain": [
       "float"
      ]
     },
     "execution_count": 6,
     "metadata": {},
     "output_type": "execute_result"
    }
   ],
   "source": [
    "type(-7.89)"
   ]
  },
  {
   "cell_type": "markdown",
   "id": "542ea713",
   "metadata": {},
   "source": [
    "### Integer divided by integer\n",
    "\n",
    "When you make a division of integers, e.g. `a = 8/4`, then it becomes a float. "
   ]
  },
  {
   "cell_type": "code",
   "execution_count": 7,
   "id": "142d7c30",
   "metadata": {},
   "outputs": [
    {
     "data": {
      "text/plain": [
       "2.0"
      ]
     },
     "execution_count": 7,
     "metadata": {},
     "output_type": "execute_result"
    }
   ],
   "source": [
    "8/4"
   ]
  },
  {
   "cell_type": "code",
   "execution_count": 8,
   "id": "b2f259e0",
   "metadata": {},
   "outputs": [
    {
     "data": {
      "text/plain": [
       "float"
      ]
     },
     "execution_count": 8,
     "metadata": {},
     "output_type": "execute_result"
    }
   ],
   "source": [
    "type(8/4)"
   ]
  },
  {
   "cell_type": "code",
   "execution_count": 9,
   "id": "39a9177b",
   "metadata": {},
   "outputs": [
    {
     "data": {
      "text/plain": [
       "int"
      ]
     },
     "execution_count": 9,
     "metadata": {},
     "output_type": "execute_result"
    }
   ],
   "source": [
    "type(8//4)"
   ]
  },
  {
   "cell_type": "code",
   "execution_count": null,
   "id": "aa762ff6",
   "metadata": {},
   "outputs": [],
   "source": []
  },
  {
   "cell_type": "markdown",
   "id": "5e5a7f04",
   "metadata": {},
   "source": [
    "### Why use Integers when Floats are more \"accurate\"?\n",
    "\n",
    "Integers are accurate. Floats become more are more in-accurate the more calculations you do.\n",
    "\n",
    "#### Integers are used because\n",
    "- Integers are 100% accurate in calculations.\n",
    "- The precision of integers doesn’t change as the numbers get bigger.\n",
    "- Integers calculations are more efficient (only an issue if making a lot of calculations).\n",
    "\n",
    "#### The drawback of floats\n",
    "- Floats are inaccurate, sometimes with just small calculations, you will notice it.\n",
    "- Floats get more inaccurate the more calculations you make.\n",
    "- Floats are more and more inaccurate the larger the number is.\n",
    "\n",
    "#### When to use what?\n",
    "- For the most time, let Python decide."
   ]
  },
  {
   "cell_type": "code",
   "execution_count": null,
   "id": "3ea18300",
   "metadata": {},
   "outputs": [],
   "source": []
  },
  {
   "cell_type": "code",
   "execution_count": null,
   "id": "1d28e42e",
   "metadata": {},
   "outputs": [],
   "source": []
  },
  {
   "cell_type": "code",
   "execution_count": null,
   "id": "c4d9c3ca",
   "metadata": {},
   "outputs": [],
   "source": []
  }
 ],
 "metadata": {
  "kernelspec": {
   "display_name": "Python 3 (ipykernel)",
   "language": "python",
   "name": "python3"
  },
  "language_info": {
   "codemirror_mode": {
    "name": "ipython",
    "version": 3
   },
   "file_extension": ".py",
   "mimetype": "text/x-python",
   "name": "python",
   "nbconvert_exporter": "python",
   "pygments_lexer": "ipython3",
   "version": "3.9.13"
  }
 },
 "nbformat": 4,
 "nbformat_minor": 5
}
