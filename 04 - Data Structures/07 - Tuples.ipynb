{
 "cells": [
  {
   "cell_type": "markdown",
   "id": "bbeb5199",
   "metadata": {},
   "source": [
    "# Tuples in Python / NICE-TO-KNOW"
   ]
  },
  {
   "cell_type": "markdown",
   "id": "daaf67a3",
   "metadata": {},
   "source": [
    "### What are typles in Python?\n",
    "\n",
    "Tuples are used to store multiple items in a single variable\n",
    "- They differ from lists by being immutable\n",
    "- They are often used in-directly\n",
    "\n",
    "#### Example\n",
    "```Python\n",
    "t = (1, 2, 3)\n",
    "```"
   ]
  },
  {
   "cell_type": "code",
   "execution_count": 1,
   "id": "c199bf25",
   "metadata": {},
   "outputs": [],
   "source": [
    "t = ('one', 1)"
   ]
  },
  {
   "cell_type": "code",
   "execution_count": 2,
   "id": "86fde427",
   "metadata": {},
   "outputs": [
    {
     "data": {
      "text/plain": [
       "2"
      ]
     },
     "execution_count": 2,
     "metadata": {},
     "output_type": "execute_result"
    }
   ],
   "source": [
    "len(t)"
   ]
  },
  {
   "cell_type": "code",
   "execution_count": null,
   "id": "61d3eaae",
   "metadata": {},
   "outputs": [],
   "source": []
  },
  {
   "cell_type": "markdown",
   "id": "50103168",
   "metadata": {},
   "source": [
    "### Access items\n",
    "\n",
    "```Python\n",
    "t = (1, 2, 3)\n",
    "\n",
    "t[0]\n",
    "t[-1]\n",
    "```"
   ]
  },
  {
   "cell_type": "code",
   "execution_count": null,
   "id": "1214c19b",
   "metadata": {},
   "outputs": [],
   "source": []
  },
  {
   "cell_type": "code",
   "execution_count": null,
   "id": "2d9f132e",
   "metadata": {},
   "outputs": [],
   "source": []
  },
  {
   "cell_type": "markdown",
   "id": "c8e99ccd",
   "metadata": {},
   "source": [
    "### Unpack a tuple\n",
    "\n",
    "```Python\n",
    "t = (1, 2)\n",
    "\n",
    "a, b = t\n",
    "```"
   ]
  },
  {
   "cell_type": "code",
   "execution_count": 3,
   "id": "26f8e73a",
   "metadata": {},
   "outputs": [
    {
     "data": {
      "text/plain": [
       "1"
      ]
     },
     "execution_count": 3,
     "metadata": {},
     "output_type": "execute_result"
    }
   ],
   "source": [
    "t = (1, 2)\n",
    "\n",
    "a, b = t\n",
    "\n",
    "a"
   ]
  },
  {
   "cell_type": "code",
   "execution_count": null,
   "id": "716d1df6",
   "metadata": {},
   "outputs": [],
   "source": []
  },
  {
   "cell_type": "markdown",
   "id": "5bfa6ffc",
   "metadata": {},
   "source": [
    "### Common use\n",
    "\n",
    "Most of the time use is indirectly.\n",
    "\n",
    "```\n",
    "a = 1\n",
    "b = 2\n",
    "\n",
    "a, b = b, a\n",
    "```"
   ]
  },
  {
   "cell_type": "code",
   "execution_count": null,
   "id": "ddc0961e",
   "metadata": {},
   "outputs": [],
   "source": []
  },
  {
   "cell_type": "code",
   "execution_count": null,
   "id": "c431a9dd",
   "metadata": {},
   "outputs": [],
   "source": []
  },
  {
   "cell_type": "markdown",
   "id": "13dcb463",
   "metadata": {},
   "source": [
    "### They are immutable\n",
    "\n",
    "```Python\n",
    "t = (1, 2, 3)\n",
    "\n",
    "t.append(4)  # Will fail\n",
    "t[0] = 0  # Will fail\n",
    "```"
   ]
  },
  {
   "cell_type": "code",
   "execution_count": null,
   "id": "d4742677",
   "metadata": {},
   "outputs": [],
   "source": []
  },
  {
   "cell_type": "code",
   "execution_count": null,
   "id": "6d901500",
   "metadata": {},
   "outputs": [],
   "source": []
  }
 ],
 "metadata": {
  "kernelspec": {
   "display_name": "Python 3 (ipykernel)",
   "language": "python",
   "name": "python3"
  },
  "language_info": {
   "codemirror_mode": {
    "name": "ipython",
    "version": 3
   },
   "file_extension": ".py",
   "mimetype": "text/x-python",
   "name": "python",
   "nbconvert_exporter": "python",
   "pygments_lexer": "ipython3",
   "version": "3.8.8"
  }
 },
 "nbformat": 4,
 "nbformat_minor": 5
}
