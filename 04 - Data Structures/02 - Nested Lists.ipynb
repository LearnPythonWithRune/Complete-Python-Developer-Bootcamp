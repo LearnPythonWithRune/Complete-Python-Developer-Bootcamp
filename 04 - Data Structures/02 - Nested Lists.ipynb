{
 "cells": [
  {
   "cell_type": "markdown",
   "id": "7d676d97",
   "metadata": {},
   "source": [
    "# Nested Lists / NICE-TO-KNOW"
   ]
  },
  {
   "cell_type": "markdown",
   "id": "1360340c",
   "metadata": {},
   "source": [
    "### What is a Nested List in Python?\n",
    "\n",
    "A nested list is a list of lists.\n",
    "\n",
    "#### Example\n",
    "```Python\n",
    "m = [[1, 2, 3], [4, 5, 6], [7, 8, 9]]\n",
    "```\n",
    "\n",
    "#### How to access items\n",
    "```Python\n",
    "m[1]  # [4, 5, 6]\n",
    "m[1][1]  # 5\n",
    "```"
   ]
  },
  {
   "cell_type": "code",
   "execution_count": null,
   "id": "195bf057",
   "metadata": {},
   "outputs": [],
   "source": []
  },
  {
   "cell_type": "code",
   "execution_count": null,
   "id": "d62cdf50",
   "metadata": {},
   "outputs": [],
   "source": []
  }
 ],
 "metadata": {
  "kernelspec": {
   "display_name": "Python 3 (ipykernel)",
   "language": "python",
   "name": "python3"
  },
  "language_info": {
   "codemirror_mode": {
    "name": "ipython",
    "version": 3
   },
   "file_extension": ".py",
   "mimetype": "text/x-python",
   "name": "python",
   "nbconvert_exporter": "python",
   "pygments_lexer": "ipython3",
   "version": "3.8.8"
  }
 },
 "nbformat": 4,
 "nbformat_minor": 5
}
