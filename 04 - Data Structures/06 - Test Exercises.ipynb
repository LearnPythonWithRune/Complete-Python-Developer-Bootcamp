{
 "cells": [
  {
   "cell_type": "markdown",
   "id": "2904b7d4",
   "metadata": {},
   "source": [
    "# Test Exercises"
   ]
  },
  {
   "cell_type": "markdown",
   "id": "f2b4ef29",
   "metadata": {},
   "source": [
    "### Exercise 1\n",
    "1. Create the dictionary (dict) `d = {'key': 'value'}`\n",
    "2. Access value `value`\n",
    "3. Change value `value` to `VALUE`"
   ]
  },
  {
   "cell_type": "code",
   "execution_count": null,
   "id": "ca3228de",
   "metadata": {},
   "outputs": [],
   "source": []
  },
  {
   "cell_type": "code",
   "execution_count": null,
   "id": "e81ff025",
   "metadata": {},
   "outputs": [],
   "source": []
  },
  {
   "cell_type": "markdown",
   "id": "de0577ab",
   "metadata": {},
   "source": [
    "### Exercise 2\n",
    "\n",
    "1. Create an empty dictionary (dict)\n",
    "2. Add a key-value pair\n",
    "3. What is the key and a value in a dictionary (dict)?"
   ]
  },
  {
   "cell_type": "code",
   "execution_count": null,
   "id": "b91e0bb9",
   "metadata": {},
   "outputs": [],
   "source": []
  },
  {
   "cell_type": "code",
   "execution_count": null,
   "id": "97af4f5f",
   "metadata": {},
   "outputs": [],
   "source": []
  },
  {
   "cell_type": "markdown",
   "id": "60b6bafd",
   "metadata": {},
   "source": [
    "### Exercise 3\n",
    "\n",
    "1. Create dictionary (dict) `{'posts': 0, 'pages': 0}`\n",
    "2. Update `posts` to be 100\n",
    "3. Get the value of `posts` and add 10 and store it to `pages`\n",
    "- HINT: end result should be `{'posts': 100, 'pages': 110}`"
   ]
  },
  {
   "cell_type": "code",
   "execution_count": 1,
   "id": "96e0af30",
   "metadata": {},
   "outputs": [],
   "source": [
    "d = {'posts': 0, 'pages': 0}\n",
    "d['posts'] = 100"
   ]
  },
  {
   "cell_type": "code",
   "execution_count": 3,
   "id": "ae349f22",
   "metadata": {},
   "outputs": [],
   "source": [
    "d['pages'] = d['posts'] + 10"
   ]
  },
  {
   "cell_type": "code",
   "execution_count": 4,
   "id": "a7d7525e",
   "metadata": {},
   "outputs": [
    {
     "data": {
      "text/plain": [
       "{'posts': 100, 'pages': 110}"
      ]
     },
     "execution_count": 4,
     "metadata": {},
     "output_type": "execute_result"
    }
   ],
   "source": [
    "d"
   ]
  },
  {
   "cell_type": "markdown",
   "id": "422314eb",
   "metadata": {},
   "source": [
    "### Exercise 4\n",
    "1. Create dictionary (dict) `{'i': 2, 'b': ['one', 'two']}`\n",
    "2. Change `'one'` to `1`"
   ]
  },
  {
   "cell_type": "code",
   "execution_count": null,
   "id": "eb686334",
   "metadata": {},
   "outputs": [],
   "source": []
  },
  {
   "cell_type": "code",
   "execution_count": null,
   "id": "f921de4a",
   "metadata": {},
   "outputs": [],
   "source": []
  },
  {
   "cell_type": "code",
   "execution_count": null,
   "id": "965777e0",
   "metadata": {},
   "outputs": [],
   "source": []
  }
 ],
 "metadata": {
  "kernelspec": {
   "display_name": "Python 3 (ipykernel)",
   "language": "python",
   "name": "python3"
  },
  "language_info": {
   "codemirror_mode": {
    "name": "ipython",
    "version": 3
   },
   "file_extension": ".py",
   "mimetype": "text/x-python",
   "name": "python",
   "nbconvert_exporter": "python",
   "pygments_lexer": "ipython3",
   "version": "3.8.8"
  }
 },
 "nbformat": 4,
 "nbformat_minor": 5
}
