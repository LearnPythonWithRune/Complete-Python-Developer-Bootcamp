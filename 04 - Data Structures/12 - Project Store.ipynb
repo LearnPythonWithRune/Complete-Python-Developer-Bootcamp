{
 "cells": [
  {
   "cell_type": "markdown",
   "id": "c9929742",
   "metadata": {},
   "source": [
    "# Project Store\n",
    "\n",
    "You will start to sell items from your awesome store with an interactive display."
   ]
  },
  {
   "cell_type": "markdown",
   "id": "88f965e3",
   "metadata": {},
   "source": [
    "### Step 1: Setup\n",
    "\n",
    "You count items sold and sell the three following items.\n",
    "1. `apple`\n",
    "2. `pear`\n",
    "3. `orange`\n",
    "\n",
    "To keep track of how many items you sell, you can use a dictionary.\n",
    "\n",
    "The dictionary can use the items as keys, and the number of sold items as the value.\n",
    "\n",
    "```Python\n",
    "sold_items = {'apple': 0}\n",
    "```\n",
    "\n",
    "Create a dictionary with all three items you sell."
   ]
  },
  {
   "cell_type": "code",
   "execution_count": 4,
   "id": "10950574",
   "metadata": {},
   "outputs": [],
   "source": [
    "sold_items = {'apple': 0, 'pear': 0, 'orange': 0}"
   ]
  },
  {
   "cell_type": "code",
   "execution_count": null,
   "id": "8f90c087",
   "metadata": {},
   "outputs": [],
   "source": []
  },
  {
   "cell_type": "markdown",
   "id": "d2d23874",
   "metadata": {},
   "source": [
    "### Step 2: Customer prompt\n",
    "- A customer should be asked what item to buy and how many.\n",
    "    - HINT: Use two `input`, one for item the other for how many.\n",
    "- Then you should update the number of sold items in the dictionary `sold_items`\n",
    "    - HINT: Remember to convert the number to an integer (`int`)\n",
    "    \n",
    "If you write all the code in one cell, you can run it for each customer coming in the store."
   ]
  },
  {
   "cell_type": "code",
   "execution_count": 2,
   "id": "cb38cb8d",
   "metadata": {},
   "outputs": [
    {
     "name": "stdout",
     "output_type": "stream",
     "text": [
      "apple/pear/orange? apple\n",
      "how many? 30\n"
     ]
    }
   ],
   "source": [
    "item = input('apple/pear/orange? ')\n",
    "number = int(input('how many? '))\n",
    "\n",
    "sold_items[item] += number"
   ]
  },
  {
   "cell_type": "code",
   "execution_count": 3,
   "id": "62fcda00",
   "metadata": {},
   "outputs": [
    {
     "data": {
      "text/plain": [
       "{'apple': 30, 'pear': 0, 'oranges': 0}"
      ]
     },
     "execution_count": 3,
     "metadata": {},
     "output_type": "execute_result"
    }
   ],
   "source": [
    "sold_items"
   ]
  },
  {
   "cell_type": "markdown",
   "id": "36316b1a",
   "metadata": {},
   "source": [
    "### Step 3: Status\n",
    "- Now you can print out how many of each items you have sold.\n",
    "- Also, you can print the total number of items."
   ]
  },
  {
   "cell_type": "code",
   "execution_count": 6,
   "id": "794ff328",
   "metadata": {},
   "outputs": [
    {
     "name": "stdout",
     "output_type": "stream",
     "text": [
      "You sold:\n",
      "- apples: 0\n",
      "- pears: 0\n",
      "- orange: 0\n",
      "  TOTAL: 0\n"
     ]
    }
   ],
   "source": [
    "print('You sold:')\n",
    "print('- apples:', sold_items['apple'])\n",
    "print('- pears:', sold_items['pear'])\n",
    "print('- orange:', sold_items['orange'])\n",
    "print('  TOTAL:', sold_items['apple'] + sold_items['pear'] + sold_items['orange'])"
   ]
  },
  {
   "cell_type": "code",
   "execution_count": null,
   "id": "711767e0",
   "metadata": {},
   "outputs": [],
   "source": []
  },
  {
   "cell_type": "code",
   "execution_count": null,
   "id": "5b7cfb07",
   "metadata": {},
   "outputs": [],
   "source": []
  }
 ],
 "metadata": {
  "kernelspec": {
   "display_name": "Python 3 (ipykernel)",
   "language": "python",
   "name": "python3"
  },
  "language_info": {
   "codemirror_mode": {
    "name": "ipython",
    "version": 3
   },
   "file_extension": ".py",
   "mimetype": "text/x-python",
   "name": "python",
   "nbconvert_exporter": "python",
   "pygments_lexer": "ipython3",
   "version": "3.8.8"
  }
 },
 "nbformat": 4,
 "nbformat_minor": 5
}
