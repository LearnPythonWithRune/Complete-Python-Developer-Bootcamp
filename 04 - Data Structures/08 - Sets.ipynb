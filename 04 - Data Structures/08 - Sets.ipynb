{
 "cells": [
  {
   "cell_type": "markdown",
   "id": "67525cd3",
   "metadata": {},
   "source": [
    "# Sets in Python / NICE-TO-KNOW"
   ]
  },
  {
   "cell_type": "markdown",
   "id": "d5a50443",
   "metadata": {},
   "source": [
    "### What is a Python set?\n",
    "\n",
    "A set is a collection of unique data.\n",
    "\n",
    "#### Examples\n",
    "```Python\n",
    "s = {1, 2, 3, 4}\n",
    "\n",
    "s.add(0)\n",
    "s.add(3)\n",
    "```"
   ]
  },
  {
   "cell_type": "code",
   "execution_count": 1,
   "id": "2aa2398c",
   "metadata": {},
   "outputs": [],
   "source": [
    "s = {1, 2, 3, 4}\n",
    "\n",
    "s.add(3)"
   ]
  },
  {
   "cell_type": "code",
   "execution_count": 2,
   "id": "fcf6c88c",
   "metadata": {},
   "outputs": [
    {
     "data": {
      "text/plain": [
       "{1, 2, 3, 4}"
      ]
     },
     "execution_count": 2,
     "metadata": {},
     "output_type": "execute_result"
    }
   ],
   "source": [
    "s"
   ]
  },
  {
   "cell_type": "code",
   "execution_count": 3,
   "id": "844c8182",
   "metadata": {},
   "outputs": [],
   "source": [
    "s.add(0)"
   ]
  },
  {
   "cell_type": "code",
   "execution_count": 4,
   "id": "d32d7524",
   "metadata": {},
   "outputs": [
    {
     "data": {
      "text/plain": [
       "{0, 1, 2, 3, 4}"
      ]
     },
     "execution_count": 4,
     "metadata": {},
     "output_type": "execute_result"
    }
   ],
   "source": [
    "s"
   ]
  },
  {
   "cell_type": "code",
   "execution_count": null,
   "id": "f55de17b",
   "metadata": {},
   "outputs": [],
   "source": []
  },
  {
   "cell_type": "code",
   "execution_count": null,
   "id": "444ecce1",
   "metadata": {},
   "outputs": [],
   "source": []
  }
 ],
 "metadata": {
  "kernelspec": {
   "display_name": "Python 3 (ipykernel)",
   "language": "python",
   "name": "python3"
  },
  "language_info": {
   "codemirror_mode": {
    "name": "ipython",
    "version": 3
   },
   "file_extension": ".py",
   "mimetype": "text/x-python",
   "name": "python",
   "nbconvert_exporter": "python",
   "pygments_lexer": "ipython3",
   "version": "3.8.8"
  }
 },
 "nbformat": 4,
 "nbformat_minor": 5
}
