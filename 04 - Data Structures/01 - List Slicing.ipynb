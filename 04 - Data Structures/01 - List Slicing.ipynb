{
 "cells": [
  {
   "cell_type": "markdown",
   "id": "70cb7246",
   "metadata": {},
   "source": [
    "# Slicing Python Lists / NEED-TO-KNOW"
   ]
  },
  {
   "cell_type": "markdown",
   "id": "e53c95b6",
   "metadata": {},
   "source": [
    "### What is List Slicing?\n",
    "List slicing is a common practice and it is one of the most used technique for programmers when using lists.\n",
    "\n",
    "#### Syntax\n",
    "```Python\n",
    "# items start through stop-1\n",
    "a[start:stop]\n",
    "# items start through the rest\n",
    "a[start:]\n",
    "# items from beginning to stop-1\n",
    "a[:stop]\n",
    "# make a copy of list\n",
    "a[:]\n",
    "```"
   ]
  },
  {
   "cell_type": "code",
   "execution_count": null,
   "id": "95e72b87",
   "metadata": {},
   "outputs": [],
   "source": []
  },
  {
   "cell_type": "code",
   "execution_count": null,
   "id": "f7043ca3",
   "metadata": {},
   "outputs": [],
   "source": []
  },
  {
   "cell_type": "markdown",
   "id": "1da4a92f",
   "metadata": {},
   "source": [
    "### Using steps\n",
    "\n",
    "You can change the step size.\n",
    "\n",
    "#### Syntax\n",
    "```Python\n",
    "# start through not past stop by step\n",
    "a[start:stop:step]\n",
    "```"
   ]
  },
  {
   "cell_type": "code",
   "execution_count": null,
   "id": "c024c3ec",
   "metadata": {},
   "outputs": [],
   "source": []
  },
  {
   "cell_type": "code",
   "execution_count": null,
   "id": "eecbd6f9",
   "metadata": {},
   "outputs": [],
   "source": []
  },
  {
   "cell_type": "markdown",
   "id": "1499b69a",
   "metadata": {},
   "source": [
    "### Negative index\n",
    "\n",
    "Negative indexing counts from the back of the list.\n",
    "- Index -1 is the last item.\n",
    "- Index -2 is the second last item.\n",
    "\n",
    "```Python\n",
    "# all items except last two\n",
    "a[:-2]\n",
    "# last two items\n",
    "a[-2:]\n",
    "# all items reversed\n",
    "a[::-1]\n",
    "# the first two items reversed\n",
    "a[1::-1]\n",
    "# the last two items reversed\n",
    "a[:-3:-1]\n",
    "# everything % last two, reversed\n",
    "a[-3::-1]\n",
    "```"
   ]
  },
  {
   "cell_type": "code",
   "execution_count": null,
   "id": "f474c583",
   "metadata": {},
   "outputs": [],
   "source": []
  }
 ],
 "metadata": {
  "kernelspec": {
   "display_name": "Python 3 (ipykernel)",
   "language": "python",
   "name": "python3"
  },
  "language_info": {
   "codemirror_mode": {
    "name": "ipython",
    "version": 3
   },
   "file_extension": ".py",
   "mimetype": "text/x-python",
   "name": "python",
   "nbconvert_exporter": "python",
   "pygments_lexer": "ipython3",
   "version": "3.8.8"
  }
 },
 "nbformat": 4,
 "nbformat_minor": 5
}
