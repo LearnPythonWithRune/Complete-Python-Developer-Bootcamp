{
 "cells": [
  {
   "cell_type": "markdown",
   "id": "70cb7246",
   "metadata": {},
   "source": [
    "# Slicing Python Lists / NEED-TO-KNOW"
   ]
  },
  {
   "cell_type": "markdown",
   "id": "e53c95b6",
   "metadata": {},
   "source": [
    "### What is List Slicing?\n",
    "List slicing is a common practice and it is one of the most used technique for programmers when using lists.\n",
    "\n",
    "#### Syntax\n",
    "```Python\n",
    "# items start through stop-1\n",
    "a[start:stop]\n",
    "# items start through the rest\n",
    "a[start:]\n",
    "# items from beginning to stop-1\n",
    "a[:stop]\n",
    "# make a copy of list\n",
    "a[:]\n",
    "```"
   ]
  },
  {
   "cell_type": "code",
   "execution_count": 1,
   "id": "127dbd72",
   "metadata": {},
   "outputs": [],
   "source": [
    "l = [0, 1, 2, 3, 4, 5, 6, 7, 8, 9]"
   ]
  },
  {
   "cell_type": "code",
   "execution_count": 2,
   "id": "95e72b87",
   "metadata": {},
   "outputs": [
    {
     "data": {
      "text/plain": [
       "[2, 3, 4, 5, 6]"
      ]
     },
     "execution_count": 2,
     "metadata": {},
     "output_type": "execute_result"
    }
   ],
   "source": [
    "l[2:7]"
   ]
  },
  {
   "cell_type": "code",
   "execution_count": 4,
   "id": "f7043ca3",
   "metadata": {},
   "outputs": [
    {
     "data": {
      "text/plain": [
       "[2, 3, 4, 5, 6, 7, 8, 9]"
      ]
     },
     "execution_count": 4,
     "metadata": {},
     "output_type": "execute_result"
    }
   ],
   "source": [
    "l[2:]"
   ]
  },
  {
   "cell_type": "code",
   "execution_count": 5,
   "id": "58e51e73",
   "metadata": {},
   "outputs": [
    {
     "data": {
      "text/plain": [
       "[0, 1]"
      ]
     },
     "execution_count": 5,
     "metadata": {},
     "output_type": "execute_result"
    }
   ],
   "source": [
    "l[:2]"
   ]
  },
  {
   "cell_type": "code",
   "execution_count": 6,
   "id": "f37fd95b",
   "metadata": {},
   "outputs": [],
   "source": [
    "l_copy = l[:]"
   ]
  },
  {
   "cell_type": "code",
   "execution_count": 7,
   "id": "9a882ed9",
   "metadata": {
    "scrolled": true
   },
   "outputs": [
    {
     "data": {
      "text/plain": [
       "[0, 1, 2, 3, 4, 5, 6, 7, 8, 9]"
      ]
     },
     "execution_count": 7,
     "metadata": {},
     "output_type": "execute_result"
    }
   ],
   "source": [
    "l"
   ]
  },
  {
   "cell_type": "code",
   "execution_count": 9,
   "id": "a67685c6",
   "metadata": {},
   "outputs": [
    {
     "data": {
      "text/plain": [
       "[0, 1, 2, 3, 4, 5, 6, 7, 8, 9]"
      ]
     },
     "execution_count": 9,
     "metadata": {},
     "output_type": "execute_result"
    }
   ],
   "source": [
    "l_copy"
   ]
  },
  {
   "cell_type": "code",
   "execution_count": 10,
   "id": "69e2e488",
   "metadata": {},
   "outputs": [],
   "source": [
    "l_ptr = l"
   ]
  },
  {
   "cell_type": "code",
   "execution_count": 11,
   "id": "467ec035",
   "metadata": {},
   "outputs": [],
   "source": [
    "l[3] = 'HERE'"
   ]
  },
  {
   "cell_type": "code",
   "execution_count": 12,
   "id": "12171f86",
   "metadata": {},
   "outputs": [
    {
     "data": {
      "text/plain": [
       "[0, 1, 2, 'HERE', 4, 5, 6, 7, 8, 9]"
      ]
     },
     "execution_count": 12,
     "metadata": {},
     "output_type": "execute_result"
    }
   ],
   "source": [
    "l"
   ]
  },
  {
   "cell_type": "code",
   "execution_count": 13,
   "id": "d4e26047",
   "metadata": {},
   "outputs": [
    {
     "data": {
      "text/plain": [
       "[0, 1, 2, 'HERE', 4, 5, 6, 7, 8, 9]"
      ]
     },
     "execution_count": 13,
     "metadata": {},
     "output_type": "execute_result"
    }
   ],
   "source": [
    "l_ptr"
   ]
  },
  {
   "cell_type": "code",
   "execution_count": 14,
   "id": "79f1d170",
   "metadata": {},
   "outputs": [
    {
     "data": {
      "text/plain": [
       "[0, 1, 2, 3, 4, 5, 6, 7, 8, 9]"
      ]
     },
     "execution_count": 14,
     "metadata": {},
     "output_type": "execute_result"
    }
   ],
   "source": [
    "l_copy"
   ]
  },
  {
   "cell_type": "code",
   "execution_count": null,
   "id": "78ab1e7e",
   "metadata": {},
   "outputs": [],
   "source": []
  },
  {
   "cell_type": "markdown",
   "id": "1da4a92f",
   "metadata": {},
   "source": [
    "### Using steps\n",
    "\n",
    "You can change the step size.\n",
    "\n",
    "#### Syntax\n",
    "```Python\n",
    "# start through not past stop by step\n",
    "a[start:stop:step]\n",
    "```"
   ]
  },
  {
   "cell_type": "code",
   "execution_count": 15,
   "id": "438a355b",
   "metadata": {},
   "outputs": [
    {
     "data": {
      "text/plain": [
       "[0, 1, 2, 'HERE', 4, 5, 6, 7, 8, 9]"
      ]
     },
     "execution_count": 15,
     "metadata": {},
     "output_type": "execute_result"
    }
   ],
   "source": [
    "l"
   ]
  },
  {
   "cell_type": "code",
   "execution_count": 17,
   "id": "c024c3ec",
   "metadata": {},
   "outputs": [
    {
     "data": {
      "text/plain": [
       "[2, 4, 6, 8]"
      ]
     },
     "execution_count": 17,
     "metadata": {},
     "output_type": "execute_result"
    }
   ],
   "source": [
    "l[2:9:2]"
   ]
  },
  {
   "cell_type": "code",
   "execution_count": null,
   "id": "eecbd6f9",
   "metadata": {},
   "outputs": [],
   "source": []
  },
  {
   "cell_type": "markdown",
   "id": "1499b69a",
   "metadata": {},
   "source": [
    "### Negative index\n",
    "\n",
    "Negative indexing counts from the back of the list.\n",
    "- Index -1 is the last item.\n",
    "- Index -2 is the second last item.\n",
    "\n",
    "```Python\n",
    "# all items except last two\n",
    "a[:-2]\n",
    "# last two items\n",
    "a[-2:]\n",
    "# all items reversed\n",
    "a[::-1]\n",
    "# the first two items reversed\n",
    "a[1::-1]\n",
    "# the last two items reversed\n",
    "a[:-3:-1]\n",
    "# everything % last two, reversed\n",
    "a[-3::-1]\n",
    "```"
   ]
  },
  {
   "cell_type": "code",
   "execution_count": 18,
   "id": "772fa8fe",
   "metadata": {},
   "outputs": [
    {
     "data": {
      "text/plain": [
       "[0, 1, 2, 'HERE', 4, 5, 6, 7]"
      ]
     },
     "execution_count": 18,
     "metadata": {},
     "output_type": "execute_result"
    }
   ],
   "source": [
    "l[:-2]"
   ]
  },
  {
   "cell_type": "code",
   "execution_count": 19,
   "id": "b03846f7",
   "metadata": {},
   "outputs": [
    {
     "data": {
      "text/plain": [
       "[8, 9]"
      ]
     },
     "execution_count": 19,
     "metadata": {},
     "output_type": "execute_result"
    }
   ],
   "source": [
    "l[-2:]"
   ]
  },
  {
   "cell_type": "code",
   "execution_count": null,
   "id": "f474c583",
   "metadata": {},
   "outputs": [],
   "source": []
  }
 ],
 "metadata": {
  "kernelspec": {
   "display_name": "Python 3 (ipykernel)",
   "language": "python",
   "name": "python3"
  },
  "language_info": {
   "codemirror_mode": {
    "name": "ipython",
    "version": 3
   },
   "file_extension": ".py",
   "mimetype": "text/x-python",
   "name": "python",
   "nbconvert_exporter": "python",
   "pygments_lexer": "ipython3",
   "version": "3.9.13"
  }
 },
 "nbformat": 4,
 "nbformat_minor": 5
}
