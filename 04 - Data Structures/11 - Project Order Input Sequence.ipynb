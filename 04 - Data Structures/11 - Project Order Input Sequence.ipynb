{
 "cells": [
  {
   "cell_type": "markdown",
   "id": "c3cbb30f",
   "metadata": {},
   "source": [
    "# Project Order Input Sequence"
   ]
  },
  {
   "cell_type": "markdown",
   "id": "62ad7ed9",
   "metadata": {},
   "source": [
    "In this project you will prompt the user for 3 numbers. Then should output the numbers in increasing order.\n",
    "\n",
    "#### Example\n",
    "- User inputs numbers: 10, 7, 8\n",
    "- Then program should output: 7, 8, 10\n",
    "\n",
    "Take a moment and think how you can do that with your current skills.\n",
    "\n",
    "Don't worry if you can't figure it out."
   ]
  },
  {
   "cell_type": "markdown",
   "id": "8921f062",
   "metadata": {},
   "source": [
    "### Step 1: Input from user\n",
    "- Input 3 numbers from the user to 3 input variables."
   ]
  },
  {
   "cell_type": "code",
   "execution_count": 2,
   "id": "f1c69008",
   "metadata": {},
   "outputs": [
    {
     "name": "stdout",
     "output_type": "stream",
     "text": [
      "45\n",
      "23\n",
      "7\n"
     ]
    }
   ],
   "source": [
    "a = input()\n",
    "b = input()\n",
    "c = input()"
   ]
  },
  {
   "cell_type": "code",
   "execution_count": null,
   "id": "934ed5b7",
   "metadata": {},
   "outputs": [],
   "source": []
  },
  {
   "cell_type": "markdown",
   "id": "ecaa8827",
   "metadata": {},
   "source": [
    "### Step 2: Convert\n",
    "- Convert the 3 input variables to integers (`int`)"
   ]
  },
  {
   "cell_type": "code",
   "execution_count": 4,
   "id": "3d2fe1e7",
   "metadata": {},
   "outputs": [],
   "source": [
    "a = int(a)\n",
    "b = int(b)\n",
    "c = int(c)"
   ]
  },
  {
   "cell_type": "code",
   "execution_count": null,
   "id": "6e20d3ad",
   "metadata": {},
   "outputs": [],
   "source": []
  },
  {
   "cell_type": "markdown",
   "id": "5803296a",
   "metadata": {},
   "source": [
    "### Step 3: List\n",
    "- Create a list containing the 3 variables."
   ]
  },
  {
   "cell_type": "code",
   "execution_count": 6,
   "id": "a1aa4d8a",
   "metadata": {},
   "outputs": [],
   "source": [
    "l = [a, b, c]"
   ]
  },
  {
   "cell_type": "code",
   "execution_count": null,
   "id": "f945a8b6",
   "metadata": {},
   "outputs": [],
   "source": []
  },
  {
   "cell_type": "markdown",
   "id": "8a479042",
   "metadata": {},
   "source": [
    "### Step 4: Sort\n",
    "- Sort the list"
   ]
  },
  {
   "cell_type": "code",
   "execution_count": 7,
   "id": "c74f9b3a",
   "metadata": {},
   "outputs": [
    {
     "data": {
      "text/plain": [
       "[45, 23, 7]"
      ]
     },
     "execution_count": 7,
     "metadata": {},
     "output_type": "execute_result"
    }
   ],
   "source": [
    "l"
   ]
  },
  {
   "cell_type": "code",
   "execution_count": 8,
   "id": "1375cd0a",
   "metadata": {},
   "outputs": [],
   "source": [
    "l.sort()"
   ]
  },
  {
   "cell_type": "markdown",
   "id": "33b959e5",
   "metadata": {},
   "source": [
    "### Step 5: Print\n",
    "- Print the items of the list"
   ]
  },
  {
   "cell_type": "code",
   "execution_count": 9,
   "id": "00390e51",
   "metadata": {},
   "outputs": [
    {
     "data": {
      "text/plain": [
       "45"
      ]
     },
     "execution_count": 9,
     "metadata": {},
     "output_type": "execute_result"
    }
   ],
   "source": [
    "l[-1]"
   ]
  },
  {
   "cell_type": "code",
   "execution_count": null,
   "id": "c5d0470c",
   "metadata": {},
   "outputs": [],
   "source": []
  }
 ],
 "metadata": {
  "kernelspec": {
   "display_name": "Python 3 (ipykernel)",
   "language": "python",
   "name": "python3"
  },
  "language_info": {
   "codemirror_mode": {
    "name": "ipython",
    "version": 3
   },
   "file_extension": ".py",
   "mimetype": "text/x-python",
   "name": "python",
   "nbconvert_exporter": "python",
   "pygments_lexer": "ipython3",
   "version": "3.8.8"
  }
 },
 "nbformat": 4,
 "nbformat_minor": 5
}
