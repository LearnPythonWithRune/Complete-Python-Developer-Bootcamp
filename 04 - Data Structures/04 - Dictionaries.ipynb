{
 "cells": [
  {
   "cell_type": "markdown",
   "id": "624e7216",
   "metadata": {},
   "source": [
    "# Python Dictionaries (dict) / NEED-TO-KNOW"
   ]
  },
  {
   "cell_type": "markdown",
   "id": "14f115f5",
   "metadata": {},
   "source": [
    "### What is a Python dict?\n",
    "\n",
    "A dictionary consists of a collection of key-value pairs.\n",
    "\n",
    "```Python\n",
    "d = {'key-1': 'value-1', 'key-2': 'value-2'}\n",
    "\n",
    "d['key-1']  # Access 'value-1'\n",
    "```"
   ]
  },
  {
   "cell_type": "code",
   "execution_count": null,
   "id": "50b19ec7",
   "metadata": {},
   "outputs": [],
   "source": []
  },
  {
   "cell_type": "code",
   "execution_count": null,
   "id": "e61f535a",
   "metadata": {},
   "outputs": [],
   "source": []
  },
  {
   "cell_type": "markdown",
   "id": "8a8234b7",
   "metadata": {},
   "source": [
    "### The values can be anything\n",
    "\n",
    "```Python\n",
    "d = {'Name': 'Charles', 'Age': 23, 'Address': ['Datastreet 25', 'Cityspace', 'Countryplace']}\n",
    "\n",
    "d['Address'][0]  # Access 'Datastreet 25'\n",
    "```"
   ]
  },
  {
   "cell_type": "code",
   "execution_count": null,
   "id": "046c1e60",
   "metadata": {},
   "outputs": [],
   "source": []
  },
  {
   "cell_type": "code",
   "execution_count": null,
   "id": "f5448de9",
   "metadata": {},
   "outputs": [],
   "source": []
  },
  {
   "cell_type": "markdown",
   "id": "2bc2cb41",
   "metadata": {},
   "source": [
    "### Even the keys can be\n",
    "\n",
    "```Python\n",
    "d = {2.3: 'This is AWESOME', 2: 'Really?'}\n",
    "\n",
    "d[2.3]\n",
    "```"
   ]
  },
  {
   "cell_type": "code",
   "execution_count": 1,
   "id": "c2de7304",
   "metadata": {},
   "outputs": [
    {
     "data": {
      "text/plain": [
       "'This is AWESOME'"
      ]
     },
     "execution_count": 1,
     "metadata": {},
     "output_type": "execute_result"
    }
   ],
   "source": [
    "d = {2.3: 'This is AWESOME', 2: 'Really?'}\n",
    "\n",
    "d[2.3]"
   ]
  },
  {
   "cell_type": "code",
   "execution_count": null,
   "id": "82c76103",
   "metadata": {},
   "outputs": [],
   "source": []
  },
  {
   "cell_type": "markdown",
   "id": "422ab308",
   "metadata": {},
   "source": [
    "### You can add new  key-value pairs\n",
    "\n",
    "```Python\n",
    "d = {}\n",
    "\n",
    "d['Name'] = 'Hanna'\n",
    "```"
   ]
  },
  {
   "cell_type": "code",
   "execution_count": null,
   "id": "a7c42581",
   "metadata": {},
   "outputs": [],
   "source": []
  },
  {
   "cell_type": "code",
   "execution_count": null,
   "id": "a700a650",
   "metadata": {},
   "outputs": [],
   "source": []
  },
  {
   "cell_type": "code",
   "execution_count": null,
   "id": "ce27d255",
   "metadata": {},
   "outputs": [],
   "source": []
  },
  {
   "cell_type": "markdown",
   "id": "4dd4c9d1",
   "metadata": {},
   "source": [
    "### Use to store values\n",
    "\n",
    "```Python\n",
    "counts = {'Images': 0, 'Videos': 0}\n",
    "\n",
    "counts['Images'] += 1\n",
    "```"
   ]
  },
  {
   "cell_type": "code",
   "execution_count": 12,
   "id": "6586692c",
   "metadata": {},
   "outputs": [],
   "source": [
    "values = {'Images': 0, 'Videos': 0}\n",
    "\n",
    "values['Images'] += 1"
   ]
  },
  {
   "cell_type": "code",
   "execution_count": 5,
   "id": "42031b9f",
   "metadata": {},
   "outputs": [
    {
     "data": {
      "text/plain": [
       "{'Images': 1, 'Videos': 0}"
      ]
     },
     "execution_count": 5,
     "metadata": {},
     "output_type": "execute_result"
    }
   ],
   "source": [
    "values"
   ]
  },
  {
   "cell_type": "code",
   "execution_count": null,
   "id": "cea5a3fb",
   "metadata": {},
   "outputs": [],
   "source": []
  },
  {
   "cell_type": "code",
   "execution_count": null,
   "id": "138dcf10",
   "metadata": {},
   "outputs": [],
   "source": []
  },
  {
   "cell_type": "markdown",
   "id": "d2855253",
   "metadata": {},
   "source": [
    "### Useful methods of dicts\n",
    "\n",
    "- `keys()`\n",
    "- `values()`\n",
    "- `get()`"
   ]
  },
  {
   "cell_type": "code",
   "execution_count": 6,
   "id": "a6b6c991",
   "metadata": {},
   "outputs": [
    {
     "data": {
      "text/plain": [
       "dict_keys(['Images', 'Videos'])"
      ]
     },
     "execution_count": 6,
     "metadata": {},
     "output_type": "execute_result"
    }
   ],
   "source": [
    "values.keys()"
   ]
  },
  {
   "cell_type": "code",
   "execution_count": 7,
   "id": "c394e96c",
   "metadata": {},
   "outputs": [
    {
     "data": {
      "text/plain": [
       "dict_values([1, 0])"
      ]
     },
     "execution_count": 7,
     "metadata": {},
     "output_type": "execute_result"
    }
   ],
   "source": [
    "values.values()"
   ]
  },
  {
   "cell_type": "code",
   "execution_count": 8,
   "id": "67ad233f",
   "metadata": {},
   "outputs": [
    {
     "data": {
      "text/plain": [
       "1"
      ]
     },
     "execution_count": 8,
     "metadata": {},
     "output_type": "execute_result"
    }
   ],
   "source": [
    "values.get('Images')"
   ]
  },
  {
   "cell_type": "code",
   "execution_count": 9,
   "id": "b966e053",
   "metadata": {},
   "outputs": [
    {
     "data": {
      "text/plain": [
       "0"
      ]
     },
     "execution_count": 9,
     "metadata": {},
     "output_type": "execute_result"
    }
   ],
   "source": [
    "values.get('Pages', 0)"
   ]
  },
  {
   "cell_type": "code",
   "execution_count": 10,
   "id": "fcb7a0a7",
   "metadata": {},
   "outputs": [],
   "source": [
    "values['Pages'] = values.get('Pages', 0) + 1"
   ]
  },
  {
   "cell_type": "code",
   "execution_count": 11,
   "id": "64d87b16",
   "metadata": {},
   "outputs": [
    {
     "data": {
      "text/plain": [
       "{'Images': 1, 'Videos': 0, 'Pages': 1}"
      ]
     },
     "execution_count": 11,
     "metadata": {},
     "output_type": "execute_result"
    }
   ],
   "source": [
    "values"
   ]
  },
  {
   "cell_type": "code",
   "execution_count": 13,
   "id": "25c23d7f",
   "metadata": {},
   "outputs": [
    {
     "data": {
      "text/plain": [
       "2"
      ]
     },
     "execution_count": 13,
     "metadata": {},
     "output_type": "execute_result"
    }
   ],
   "source": [
    "len(values)"
   ]
  },
  {
   "cell_type": "code",
   "execution_count": null,
   "id": "f9db1042",
   "metadata": {},
   "outputs": [],
   "source": []
  }
 ],
 "metadata": {
  "kernelspec": {
   "display_name": "Python 3 (ipykernel)",
   "language": "python",
   "name": "python3"
  },
  "language_info": {
   "codemirror_mode": {
    "name": "ipython",
    "version": 3
   },
   "file_extension": ".py",
   "mimetype": "text/x-python",
   "name": "python",
   "nbconvert_exporter": "python",
   "pygments_lexer": "ipython3",
   "version": "3.8.8"
  }
 },
 "nbformat": 4,
 "nbformat_minor": 5
}
