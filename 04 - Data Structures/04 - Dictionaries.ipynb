{
 "cells": [
  {
   "cell_type": "markdown",
   "id": "624e7216",
   "metadata": {},
   "source": [
    "# Python Dictionaries (dict) / NEED-TO-KNOW"
   ]
  },
  {
   "cell_type": "markdown",
   "id": "14f115f5",
   "metadata": {},
   "source": [
    "### What is a Python dict?\n",
    "\n",
    "A dictionary consists of a collection of key-value pairs.\n",
    "\n",
    "```Python\n",
    "d = {'key-1': 'value-1', 'key-2': 'value-2'}\n",
    "\n",
    "d['key-1']  # Access 'value-1'\n",
    "```"
   ]
  },
  {
   "cell_type": "code",
   "execution_count": 1,
   "id": "50b19ec7",
   "metadata": {},
   "outputs": [
    {
     "data": {
      "text/plain": [
       "{'key-1': 'value-1', 'key-2': 'value-2'}"
      ]
     },
     "execution_count": 1,
     "metadata": {},
     "output_type": "execute_result"
    }
   ],
   "source": [
    "d = {'key-1': 'value-1', 'key-2': 'value-2'}\n",
    "d"
   ]
  },
  {
   "cell_type": "code",
   "execution_count": 2,
   "id": "2366de69",
   "metadata": {},
   "outputs": [
    {
     "data": {
      "text/plain": [
       "'value-1'"
      ]
     },
     "execution_count": 2,
     "metadata": {},
     "output_type": "execute_result"
    }
   ],
   "source": [
    "d['key-1']"
   ]
  },
  {
   "cell_type": "code",
   "execution_count": null,
   "id": "e61f535a",
   "metadata": {},
   "outputs": [],
   "source": []
  },
  {
   "cell_type": "markdown",
   "id": "8a8234b7",
   "metadata": {},
   "source": [
    "### The values can be anything\n",
    "\n",
    "```Python\n",
    "d = {'Name': 'Charles', 'Age': 23, 'Address': ['Datastreet 25', 'Cityspace', 'Countryplace']}\n",
    "\n",
    "d['Address'][0]  # Access 'Datastreet 25'\n",
    "```"
   ]
  },
  {
   "cell_type": "code",
   "execution_count": 5,
   "id": "5cd9c544",
   "metadata": {},
   "outputs": [],
   "source": [
    "d = {\n",
    "    'Name': 'Charles', \n",
    "    'Age': 23, \n",
    "    'Address': ['Datastreet 25', 'Cityspace', 'Countryplace']\n",
    "}"
   ]
  },
  {
   "cell_type": "code",
   "execution_count": 6,
   "id": "046c1e60",
   "metadata": {},
   "outputs": [
    {
     "data": {
      "text/plain": [
       "'Charles'"
      ]
     },
     "execution_count": 6,
     "metadata": {},
     "output_type": "execute_result"
    }
   ],
   "source": [
    "d['Name']"
   ]
  },
  {
   "cell_type": "code",
   "execution_count": 7,
   "id": "f5448de9",
   "metadata": {},
   "outputs": [
    {
     "data": {
      "text/plain": [
       "23"
      ]
     },
     "execution_count": 7,
     "metadata": {},
     "output_type": "execute_result"
    }
   ],
   "source": [
    "d['Age']"
   ]
  },
  {
   "cell_type": "code",
   "execution_count": 9,
   "id": "0d28c7cc",
   "metadata": {},
   "outputs": [
    {
     "data": {
      "text/plain": [
       "list"
      ]
     },
     "execution_count": 9,
     "metadata": {},
     "output_type": "execute_result"
    }
   ],
   "source": [
    "type(d['Address'])"
   ]
  },
  {
   "cell_type": "code",
   "execution_count": 10,
   "id": "a7e0f02b",
   "metadata": {},
   "outputs": [
    {
     "data": {
      "text/plain": [
       "'Datastreet 25'"
      ]
     },
     "execution_count": 10,
     "metadata": {},
     "output_type": "execute_result"
    }
   ],
   "source": [
    "d['Address'][0]"
   ]
  },
  {
   "cell_type": "markdown",
   "id": "2bc2cb41",
   "metadata": {},
   "source": [
    "### Even the keys can be\n",
    "\n",
    "```Python\n",
    "d = {2.3: 'This is AWESOME', 2: 'Really?'}\n",
    "\n",
    "d[2.3]\n",
    "```"
   ]
  },
  {
   "cell_type": "code",
   "execution_count": 11,
   "id": "9f0e029f",
   "metadata": {},
   "outputs": [],
   "source": [
    "d = {\n",
    "    2.3: 'This is AWESOME', \n",
    "    2: 'Really?'\n",
    "}"
   ]
  },
  {
   "cell_type": "code",
   "execution_count": 12,
   "id": "9506b342",
   "metadata": {},
   "outputs": [
    {
     "data": {
      "text/plain": [
       "'This is AWESOME'"
      ]
     },
     "execution_count": 12,
     "metadata": {},
     "output_type": "execute_result"
    }
   ],
   "source": [
    "d[2.3]"
   ]
  },
  {
   "cell_type": "code",
   "execution_count": 13,
   "id": "82c76103",
   "metadata": {},
   "outputs": [
    {
     "data": {
      "text/plain": [
       "'Really?'"
      ]
     },
     "execution_count": 13,
     "metadata": {},
     "output_type": "execute_result"
    }
   ],
   "source": [
    "d[2]"
   ]
  },
  {
   "cell_type": "code",
   "execution_count": 14,
   "id": "4db1e865",
   "metadata": {},
   "outputs": [
    {
     "data": {
      "text/plain": [
       "'Really?'"
      ]
     },
     "execution_count": 14,
     "metadata": {},
     "output_type": "execute_result"
    }
   ],
   "source": [
    "d[2.0]"
   ]
  },
  {
   "cell_type": "markdown",
   "id": "422ab308",
   "metadata": {},
   "source": [
    "### You can add new  key-value pairs\n",
    "\n",
    "```Python\n",
    "d = {}\n",
    "\n",
    "d['Name'] = 'Hanna'\n",
    "```"
   ]
  },
  {
   "cell_type": "code",
   "execution_count": 17,
   "id": "a7c42581",
   "metadata": {},
   "outputs": [
    {
     "data": {
      "text/plain": [
       "{}"
      ]
     },
     "execution_count": 17,
     "metadata": {},
     "output_type": "execute_result"
    }
   ],
   "source": [
    "d = {}\n",
    "d"
   ]
  },
  {
   "cell_type": "code",
   "execution_count": 18,
   "id": "a700a650",
   "metadata": {},
   "outputs": [],
   "source": [
    "d['Name'] = 'Henrik'"
   ]
  },
  {
   "cell_type": "code",
   "execution_count": 19,
   "id": "ce27d255",
   "metadata": {},
   "outputs": [
    {
     "data": {
      "text/plain": [
       "{'Name': 'Henrik'}"
      ]
     },
     "execution_count": 19,
     "metadata": {},
     "output_type": "execute_result"
    }
   ],
   "source": [
    "d"
   ]
  },
  {
   "cell_type": "markdown",
   "id": "4dd4c9d1",
   "metadata": {},
   "source": [
    "### Use to store values\n",
    "\n",
    "```Python\n",
    "counts = {'Images': 0, 'Videos': 0}\n",
    "\n",
    "counts['Images'] += 1\n",
    "```"
   ]
  },
  {
   "cell_type": "code",
   "execution_count": 20,
   "id": "eef3b3d8",
   "metadata": {},
   "outputs": [],
   "source": [
    "counts = {'Images': 0, 'Videos': 0}"
   ]
  },
  {
   "cell_type": "code",
   "execution_count": 21,
   "id": "59c11837",
   "metadata": {},
   "outputs": [
    {
     "data": {
      "text/plain": [
       "{'Images': 0, 'Videos': 0}"
      ]
     },
     "execution_count": 21,
     "metadata": {},
     "output_type": "execute_result"
    }
   ],
   "source": [
    "counts"
   ]
  },
  {
   "cell_type": "code",
   "execution_count": 24,
   "id": "5f7843da",
   "metadata": {},
   "outputs": [],
   "source": [
    "counts['Images'] += 1  # counts['Images'] = counts['Images'] + 1"
   ]
  },
  {
   "cell_type": "code",
   "execution_count": 25,
   "id": "138dcf10",
   "metadata": {},
   "outputs": [
    {
     "data": {
      "text/plain": [
       "{'Images': 2, 'Videos': 0}"
      ]
     },
     "execution_count": 25,
     "metadata": {},
     "output_type": "execute_result"
    }
   ],
   "source": [
    "counts"
   ]
  },
  {
   "cell_type": "markdown",
   "id": "d2855253",
   "metadata": {},
   "source": [
    "### Useful methods of dicts\n",
    "\n",
    "- `keys()`\n",
    "- `values()`\n",
    "- `get()`"
   ]
  },
  {
   "cell_type": "code",
   "execution_count": 28,
   "id": "c742dcbc",
   "metadata": {},
   "outputs": [
    {
     "data": {
      "text/plain": [
       "dict_keys(['Images', 'Videos'])"
      ]
     },
     "execution_count": 28,
     "metadata": {},
     "output_type": "execute_result"
    }
   ],
   "source": [
    "counts.keys()"
   ]
  },
  {
   "cell_type": "code",
   "execution_count": 29,
   "id": "1efa7e06",
   "metadata": {},
   "outputs": [
    {
     "data": {
      "text/plain": [
       "dict_values([2, 0])"
      ]
     },
     "execution_count": 29,
     "metadata": {},
     "output_type": "execute_result"
    }
   ],
   "source": [
    "counts.values()"
   ]
  },
  {
   "cell_type": "code",
   "execution_count": 30,
   "id": "2da8ae45",
   "metadata": {},
   "outputs": [
    {
     "data": {
      "text/plain": [
       "2"
      ]
     },
     "execution_count": 30,
     "metadata": {},
     "output_type": "execute_result"
    }
   ],
   "source": [
    "counts.get('Images')"
   ]
  },
  {
   "cell_type": "code",
   "execution_count": 31,
   "id": "f9db1042",
   "metadata": {},
   "outputs": [
    {
     "data": {
      "text/plain": [
       "0"
      ]
     },
     "execution_count": 31,
     "metadata": {},
     "output_type": "execute_result"
    }
   ],
   "source": [
    "counts.get('Posts', 0)"
   ]
  },
  {
   "cell_type": "code",
   "execution_count": 32,
   "id": "64317992",
   "metadata": {},
   "outputs": [
    {
     "data": {
      "text/plain": [
       "{'Images': 2, 'Videos': 0}"
      ]
     },
     "execution_count": 32,
     "metadata": {},
     "output_type": "execute_result"
    }
   ],
   "source": [
    "counts"
   ]
  },
  {
   "cell_type": "code",
   "execution_count": 44,
   "id": "6f159ff5",
   "metadata": {},
   "outputs": [],
   "source": [
    "counts['Posts'] = counts.get('Posts', 0) + 1"
   ]
  },
  {
   "cell_type": "code",
   "execution_count": 45,
   "id": "6098ab6c",
   "metadata": {},
   "outputs": [
    {
     "data": {
      "text/plain": [
       "{'Images': 2, 'Videos': 0, 'Posts': 6}"
      ]
     },
     "execution_count": 45,
     "metadata": {},
     "output_type": "execute_result"
    }
   ],
   "source": [
    "counts"
   ]
  },
  {
   "cell_type": "code",
   "execution_count": 48,
   "id": "174e15bb",
   "metadata": {},
   "outputs": [],
   "source": [
    "counts['FOO'] = counts.get('FOO', 0) + 1"
   ]
  },
  {
   "cell_type": "code",
   "execution_count": 49,
   "id": "e7775cac",
   "metadata": {},
   "outputs": [
    {
     "data": {
      "text/plain": [
       "{'Images': 2, 'Videos': 0, 'Posts': 6, 'FOO': 1}"
      ]
     },
     "execution_count": 49,
     "metadata": {},
     "output_type": "execute_result"
    }
   ],
   "source": [
    "counts"
   ]
  },
  {
   "cell_type": "code",
   "execution_count": null,
   "id": "685f9f6f",
   "metadata": {},
   "outputs": [],
   "source": []
  }
 ],
 "metadata": {
  "kernelspec": {
   "display_name": "Python 3 (ipykernel)",
   "language": "python",
   "name": "python3"
  },
  "language_info": {
   "codemirror_mode": {
    "name": "ipython",
    "version": 3
   },
   "file_extension": ".py",
   "mimetype": "text/x-python",
   "name": "python",
   "nbconvert_exporter": "python",
   "pygments_lexer": "ipython3",
   "version": "3.9.13"
  }
 },
 "nbformat": 4,
 "nbformat_minor": 5
}
