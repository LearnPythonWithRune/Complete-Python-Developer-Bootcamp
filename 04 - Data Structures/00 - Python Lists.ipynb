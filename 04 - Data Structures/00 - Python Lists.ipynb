{
 "cells": [
  {
   "cell_type": "markdown",
   "id": "c39889c2",
   "metadata": {},
   "source": [
    "# Python Lists / NEED-TO-KNOW"
   ]
  },
  {
   "cell_type": "markdown",
   "id": "717c692e",
   "metadata": {},
   "source": [
    "### What is a Python list?\n",
    "\n",
    "Python lists are used to store multiple items in a single variable. \n",
    "\n",
    "```Python\n",
    "l = [0, 1, 2, 3, 4]\n",
    "```\n",
    "\n",
    "Let's see how you access items from a list."
   ]
  },
  {
   "cell_type": "code",
   "execution_count": null,
   "id": "3cd92a37",
   "metadata": {},
   "outputs": [],
   "source": []
  },
  {
   "cell_type": "code",
   "execution_count": null,
   "id": "99520be8",
   "metadata": {},
   "outputs": [],
   "source": []
  },
  {
   "cell_type": "markdown",
   "id": "b67ebdb9",
   "metadata": {},
   "source": [
    "### List can contain any items\n",
    "\n",
    "Python lists are versatile.\n",
    "\n",
    "```Python\n",
    "l = ['Charles', 42, 1.83]\n",
    "```"
   ]
  },
  {
   "cell_type": "code",
   "execution_count": null,
   "id": "238ed311",
   "metadata": {},
   "outputs": [],
   "source": []
  },
  {
   "cell_type": "code",
   "execution_count": null,
   "id": "501d3541",
   "metadata": {},
   "outputs": [],
   "source": []
  },
  {
   "cell_type": "markdown",
   "id": "d2cfd4c8",
   "metadata": {},
   "source": [
    "### Get the length of a list\n",
    "\n",
    "```Python\n",
    "l = [1, 2, 3]\n",
    "\n",
    "len(l)\n",
    "```"
   ]
  },
  {
   "cell_type": "code",
   "execution_count": null,
   "id": "169b78a5",
   "metadata": {},
   "outputs": [],
   "source": []
  },
  {
   "cell_type": "code",
   "execution_count": null,
   "id": "edf179b7",
   "metadata": {},
   "outputs": [],
   "source": []
  },
  {
   "cell_type": "markdown",
   "id": "2f92d201",
   "metadata": {},
   "source": [
    "### A few common methods\n",
    "\n",
    "Common methods on lists.\n",
    "- `append()`\n",
    "- `pop()`\n",
    "- `sort()`\n",
    "- `reverse()`"
   ]
  },
  {
   "cell_type": "code",
   "execution_count": null,
   "id": "7a88842c",
   "metadata": {},
   "outputs": [],
   "source": []
  },
  {
   "cell_type": "code",
   "execution_count": null,
   "id": "b23a91fb",
   "metadata": {},
   "outputs": [],
   "source": []
  },
  {
   "cell_type": "markdown",
   "id": "7ae9d66d",
   "metadata": {},
   "source": [
    "### split and join string methods\n",
    "\n",
    "```Python\n",
    "s = 'This is a string'\n",
    "\n",
    "l = s.split()\n",
    "\n",
    "'-'.join(s)\n",
    "```"
   ]
  },
  {
   "cell_type": "code",
   "execution_count": 5,
   "id": "d83aff9b",
   "metadata": {},
   "outputs": [
    {
     "data": {
      "text/plain": [
       "'This-is-a-string'"
      ]
     },
     "execution_count": 5,
     "metadata": {},
     "output_type": "execute_result"
    }
   ],
   "source": [
    "s = 'This is a string'\n",
    "\n",
    "l = s.split()\n",
    "\n",
    "'-'.join(l)"
   ]
  },
  {
   "cell_type": "code",
   "execution_count": null,
   "id": "d98d424c",
   "metadata": {},
   "outputs": [],
   "source": []
  },
  {
   "cell_type": "markdown",
   "id": "90d1dcfa",
   "metadata": {},
   "source": [
    "### List operations\n",
    "\n",
    "Concatenate two lists\n",
    "\n",
    "```Python\n",
    "l1 = [1, 2, 3]\n",
    "l2 = [4, 5, 6]\n",
    "l3 = l1 + l2\n",
    "```"
   ]
  },
  {
   "cell_type": "code",
   "execution_count": null,
   "id": "8f3c5be8",
   "metadata": {},
   "outputs": [],
   "source": []
  },
  {
   "cell_type": "code",
   "execution_count": null,
   "id": "4ed0dbe3",
   "metadata": {},
   "outputs": [],
   "source": []
  },
  {
   "cell_type": "markdown",
   "id": "a6cd840a",
   "metadata": {},
   "source": [
    "### .append() vs \"+=\" (NICE-TO-KNOW)\n",
    "\n",
    "One confusing is often what the difference is between the following.\n",
    "\n",
    "#### Case A\n",
    "```Python\n",
    "l = [0, 1, 2]\n",
    "l.append(3)\n",
    "```\n",
    "\n",
    "#### Case B\n",
    "```Python\n",
    "l = [0, 1, 2]\n",
    "l += [3]  # the same as l = l + [3]\n",
    "```\n",
    "\n",
    "#### Case A vs Case B\n",
    "- **Case A** will append the element to the same list\n",
    "- **Case B** will create a new list and copy all elements to that list\n",
    "\n",
    "For most practical usecases it is not a problem."
   ]
  },
  {
   "cell_type": "code",
   "execution_count": 1,
   "id": "1ca11304",
   "metadata": {},
   "outputs": [
    {
     "data": {
      "text/plain": [
       "[0, 1, 2, 3]"
      ]
     },
     "execution_count": 1,
     "metadata": {},
     "output_type": "execute_result"
    }
   ],
   "source": [
    "l = [0, 1, 2]\n",
    "l.append(3)\n",
    "l"
   ]
  },
  {
   "cell_type": "code",
   "execution_count": 2,
   "id": "580c192b",
   "metadata": {},
   "outputs": [
    {
     "data": {
      "text/plain": [
       "[0, 1, 2, 3]"
      ]
     },
     "execution_count": 2,
     "metadata": {},
     "output_type": "execute_result"
    }
   ],
   "source": [
    "l = [0, 1, 2]\n",
    "l += [3]\n",
    "l"
   ]
  },
  {
   "cell_type": "code",
   "execution_count": null,
   "id": "6528a087",
   "metadata": {},
   "outputs": [],
   "source": []
  }
 ],
 "metadata": {
  "kernelspec": {
   "display_name": "Python 3 (ipykernel)",
   "language": "python",
   "name": "python3"
  },
  "language_info": {
   "codemirror_mode": {
    "name": "ipython",
    "version": 3
   },
   "file_extension": ".py",
   "mimetype": "text/x-python",
   "name": "python",
   "nbconvert_exporter": "python",
   "pygments_lexer": "ipython3",
   "version": "3.8.8"
  }
 },
 "nbformat": 4,
 "nbformat_minor": 5
}
