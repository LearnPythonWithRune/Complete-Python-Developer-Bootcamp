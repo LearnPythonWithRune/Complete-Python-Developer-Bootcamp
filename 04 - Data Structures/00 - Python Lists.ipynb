{
 "cells": [
  {
   "cell_type": "markdown",
   "id": "c39889c2",
   "metadata": {},
   "source": [
    "# Python Lists / NEED-TO-KNOW"
   ]
  },
  {
   "cell_type": "markdown",
   "id": "717c692e",
   "metadata": {},
   "source": [
    "### What is a Python list?\n",
    "\n",
    "Python lists are used to store multiple items in a single variable. \n",
    "\n",
    "```Python\n",
    "l = [0, 1, 2, 3, 4]\n",
    "```\n",
    "\n",
    "Let's see how you access items from a list."
   ]
  },
  {
   "cell_type": "code",
   "execution_count": 1,
   "id": "1e0fe7bc",
   "metadata": {},
   "outputs": [
    {
     "data": {
      "text/plain": [
       "[0, 1, 2, 3, 4]"
      ]
     },
     "execution_count": 1,
     "metadata": {},
     "output_type": "execute_result"
    }
   ],
   "source": [
    "l = [0, 1, 2, 3, 4]\n",
    "l"
   ]
  },
  {
   "cell_type": "code",
   "execution_count": 4,
   "id": "c683e20b",
   "metadata": {},
   "outputs": [
    {
     "data": {
      "text/plain": [
       "4"
      ]
     },
     "execution_count": 4,
     "metadata": {},
     "output_type": "execute_result"
    }
   ],
   "source": [
    "l[-1]"
   ]
  },
  {
   "cell_type": "code",
   "execution_count": null,
   "id": "99520be8",
   "metadata": {},
   "outputs": [],
   "source": []
  },
  {
   "cell_type": "markdown",
   "id": "b67ebdb9",
   "metadata": {},
   "source": [
    "### List can contain any items\n",
    "\n",
    "Python lists are versatile.\n",
    "\n",
    "```Python\n",
    "l = ['Charles', 42, 1.83]\n",
    "```"
   ]
  },
  {
   "cell_type": "code",
   "execution_count": 5,
   "id": "238ed311",
   "metadata": {},
   "outputs": [],
   "source": [
    "l = ['Charles', 42, 1.83]"
   ]
  },
  {
   "cell_type": "code",
   "execution_count": 6,
   "id": "f3e77a95",
   "metadata": {},
   "outputs": [
    {
     "data": {
      "text/plain": [
       "'Charles'"
      ]
     },
     "execution_count": 6,
     "metadata": {},
     "output_type": "execute_result"
    }
   ],
   "source": [
    "l[0]"
   ]
  },
  {
   "cell_type": "code",
   "execution_count": 7,
   "id": "501d3541",
   "metadata": {},
   "outputs": [
    {
     "data": {
      "text/plain": [
       "1.83"
      ]
     },
     "execution_count": 7,
     "metadata": {},
     "output_type": "execute_result"
    }
   ],
   "source": [
    "l[-1]"
   ]
  },
  {
   "cell_type": "markdown",
   "id": "d2cfd4c8",
   "metadata": {},
   "source": [
    "### Get the length of a list\n",
    "\n",
    "```Python\n",
    "l = [1, 2, 3]\n",
    "\n",
    "len(l)\n",
    "```"
   ]
  },
  {
   "cell_type": "code",
   "execution_count": 10,
   "id": "927273d0",
   "metadata": {},
   "outputs": [
    {
     "data": {
      "text/plain": [
       "8"
      ]
     },
     "execution_count": 10,
     "metadata": {},
     "output_type": "execute_result"
    }
   ],
   "source": [
    "l = [0, 1, 2, 3, 4, 5, 6, 7]\n",
    "len(l)"
   ]
  },
  {
   "cell_type": "code",
   "execution_count": 13,
   "id": "169b78a5",
   "metadata": {},
   "outputs": [
    {
     "data": {
      "text/plain": [
       "7"
      ]
     },
     "execution_count": 13,
     "metadata": {},
     "output_type": "execute_result"
    }
   ],
   "source": [
    "l[len(l) - 1]"
   ]
  },
  {
   "cell_type": "code",
   "execution_count": 14,
   "id": "edf179b7",
   "metadata": {},
   "outputs": [
    {
     "data": {
      "text/plain": [
       "7"
      ]
     },
     "execution_count": 14,
     "metadata": {},
     "output_type": "execute_result"
    }
   ],
   "source": [
    "l[-1]"
   ]
  },
  {
   "cell_type": "markdown",
   "id": "2f92d201",
   "metadata": {},
   "source": [
    "### A few common methods\n",
    "\n",
    "Common methods on lists.\n",
    "- `append()`\n",
    "- `pop()`\n",
    "- `sort()`\n",
    "- `reverse()`"
   ]
  },
  {
   "cell_type": "code",
   "execution_count": 15,
   "id": "7a88842c",
   "metadata": {},
   "outputs": [],
   "source": [
    "l = [0, 1, 2]"
   ]
  },
  {
   "cell_type": "code",
   "execution_count": 17,
   "id": "796a465c",
   "metadata": {},
   "outputs": [
    {
     "data": {
      "text/plain": [
       "[0, 1, 2, 3, 3]"
      ]
     },
     "execution_count": 17,
     "metadata": {},
     "output_type": "execute_result"
    }
   ],
   "source": [
    "l.append(3)\n",
    "l"
   ]
  },
  {
   "cell_type": "code",
   "execution_count": 20,
   "id": "b23a91fb",
   "metadata": {},
   "outputs": [
    {
     "data": {
      "text/plain": [
       "[1, 2]"
      ]
     },
     "execution_count": 20,
     "metadata": {},
     "output_type": "execute_result"
    }
   ],
   "source": [
    "l.pop(0)\n",
    "l"
   ]
  },
  {
   "cell_type": "code",
   "execution_count": 21,
   "id": "99c61974",
   "metadata": {},
   "outputs": [],
   "source": [
    "l = [4, 8, 2, 6, 1, 0, 3, 5, 7]"
   ]
  },
  {
   "cell_type": "code",
   "execution_count": 24,
   "id": "4fffe031",
   "metadata": {},
   "outputs": [],
   "source": [
    "l.sort(reverse=True)"
   ]
  },
  {
   "cell_type": "code",
   "execution_count": 25,
   "id": "6a6bb155",
   "metadata": {},
   "outputs": [
    {
     "data": {
      "text/plain": [
       "[8, 7, 6, 5, 4, 3, 2, 1, 0]"
      ]
     },
     "execution_count": 25,
     "metadata": {},
     "output_type": "execute_result"
    }
   ],
   "source": [
    "l"
   ]
  },
  {
   "cell_type": "code",
   "execution_count": 29,
   "id": "c130726b",
   "metadata": {},
   "outputs": [
    {
     "data": {
      "text/plain": [
       "['aa', 'ab', 'ac']"
      ]
     },
     "execution_count": 29,
     "metadata": {},
     "output_type": "execute_result"
    }
   ],
   "source": [
    "l = ['aa', 'ac', 'ab']\n",
    "l.sort()\n",
    "l"
   ]
  },
  {
   "cell_type": "code",
   "execution_count": 30,
   "id": "5dd17ab1",
   "metadata": {},
   "outputs": [
    {
     "data": {
      "text/plain": [
       "[3, 2, 1, 0, 3, 2, 1, 0]"
      ]
     },
     "execution_count": 30,
     "metadata": {},
     "output_type": "execute_result"
    }
   ],
   "source": [
    "l = [0, 1, 2, 3, 0, 1, 2, 3]\n",
    "l.reverse()\n",
    "l"
   ]
  },
  {
   "cell_type": "code",
   "execution_count": null,
   "id": "a3ef7833",
   "metadata": {},
   "outputs": [],
   "source": []
  },
  {
   "cell_type": "code",
   "execution_count": null,
   "id": "ce3ec185",
   "metadata": {},
   "outputs": [],
   "source": []
  },
  {
   "cell_type": "markdown",
   "id": "7ae9d66d",
   "metadata": {},
   "source": [
    "### split and join string methods\n",
    "\n",
    "```Python\n",
    "s = 'This is a string'\n",
    "\n",
    "l = s.split()\n",
    "\n",
    "'-'.join(s)\n",
    "```"
   ]
  },
  {
   "cell_type": "code",
   "execution_count": 34,
   "id": "78b8a16a",
   "metadata": {},
   "outputs": [
    {
     "data": {
      "text/plain": [
       "'This-is-a-string'"
      ]
     },
     "execution_count": 34,
     "metadata": {},
     "output_type": "execute_result"
    }
   ],
   "source": [
    "s = 'This is a string'\n",
    "s.replace(' ', '-')"
   ]
  },
  {
   "cell_type": "code",
   "execution_count": 32,
   "id": "a5cbde34",
   "metadata": {},
   "outputs": [
    {
     "data": {
      "text/plain": [
       "['This', 'is', 'a', 'string']"
      ]
     },
     "execution_count": 32,
     "metadata": {},
     "output_type": "execute_result"
    }
   ],
   "source": [
    "l = s.split()\n",
    "l"
   ]
  },
  {
   "cell_type": "code",
   "execution_count": 33,
   "id": "d98d424c",
   "metadata": {},
   "outputs": [
    {
     "data": {
      "text/plain": [
       "'This-is-a-string'"
      ]
     },
     "execution_count": 33,
     "metadata": {},
     "output_type": "execute_result"
    }
   ],
   "source": [
    "'-'.join(l)"
   ]
  },
  {
   "cell_type": "markdown",
   "id": "90d1dcfa",
   "metadata": {},
   "source": [
    "### List operations\n",
    "\n",
    "Concatenate two lists\n",
    "\n",
    "```Python\n",
    "l1 = [1, 2, 3]\n",
    "l2 = [4, 5, 6]\n",
    "l3 = l1 + l2\n",
    "```"
   ]
  },
  {
   "cell_type": "code",
   "execution_count": 35,
   "id": "8f3c5be8",
   "metadata": {},
   "outputs": [],
   "source": [
    "l1 = [1, 2, 3]\n",
    "l2 = [4, 5, 6]\n",
    "l3 = l1 + l2"
   ]
  },
  {
   "cell_type": "code",
   "execution_count": 36,
   "id": "c0829b4a",
   "metadata": {},
   "outputs": [
    {
     "data": {
      "text/plain": [
       "[1, 2, 3, 4, 5, 6]"
      ]
     },
     "execution_count": 36,
     "metadata": {},
     "output_type": "execute_result"
    }
   ],
   "source": [
    "l3"
   ]
  },
  {
   "cell_type": "code",
   "execution_count": null,
   "id": "4ed0dbe3",
   "metadata": {},
   "outputs": [],
   "source": []
  },
  {
   "cell_type": "markdown",
   "id": "a6cd840a",
   "metadata": {},
   "source": [
    "### .append() vs \"+=\" (NICE-TO-KNOW)\n",
    "\n",
    "One confusing is often what the difference is between the following.\n",
    "\n",
    "#### Case A\n",
    "```Python\n",
    "l = [0, 1, 2]\n",
    "l.append(3)\n",
    "```\n",
    "\n",
    "#### Case B\n",
    "```Python\n",
    "l = [0, 1, 2]\n",
    "l += [3]  # the same as l = l + [3]\n",
    "```\n",
    "\n",
    "#### Case A vs Case B\n",
    "- **Case A** will append the element to the same list\n",
    "- **Case B** will create a new list and copy all elements to that list\n",
    "\n",
    "For most practical usecases it is not a problem."
   ]
  },
  {
   "cell_type": "code",
   "execution_count": null,
   "id": "2deef2b2",
   "metadata": {},
   "outputs": [],
   "source": []
  },
  {
   "cell_type": "code",
   "execution_count": null,
   "id": "08c7e928",
   "metadata": {},
   "outputs": [],
   "source": []
  },
  {
   "cell_type": "code",
   "execution_count": null,
   "id": "6528a087",
   "metadata": {},
   "outputs": [],
   "source": []
  }
 ],
 "metadata": {
  "kernelspec": {
   "display_name": "Python 3 (ipykernel)",
   "language": "python",
   "name": "python3"
  },
  "language_info": {
   "codemirror_mode": {
    "name": "ipython",
    "version": 3
   },
   "file_extension": ".py",
   "mimetype": "text/x-python",
   "name": "python",
   "nbconvert_exporter": "python",
   "pygments_lexer": "ipython3",
   "version": "3.9.13"
  }
 },
 "nbformat": 4,
 "nbformat_minor": 5
}
