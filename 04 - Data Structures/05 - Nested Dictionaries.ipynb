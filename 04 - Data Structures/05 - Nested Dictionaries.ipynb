{
 "cells": [
  {
   "cell_type": "markdown",
   "id": "538ea851",
   "metadata": {},
   "source": [
    "# Nested Dictionaries / NICE-TO-KNOW"
   ]
  },
  {
   "cell_type": "markdown",
   "id": "f6594a8a",
   "metadata": {},
   "source": [
    "### What is a nested dict in Python?\n",
    "\n",
    "A dictionary containing dictionaries.\n",
    "\n",
    "```Python\n",
    "d = {'key-1': {'nested-key-1': 'value', 'nested-key-2': 'another value'}}\n",
    "```"
   ]
  },
  {
   "cell_type": "code",
   "execution_count": null,
   "id": "f58b3e1d",
   "metadata": {},
   "outputs": [],
   "source": []
  },
  {
   "cell_type": "code",
   "execution_count": null,
   "id": "91460ac4",
   "metadata": {},
   "outputs": [],
   "source": []
  },
  {
   "cell_type": "markdown",
   "id": "5303da1a",
   "metadata": {},
   "source": [
    "### A common usecase\n",
    "\n",
    "#### What is tabular data?\n",
    "Tabular data refers to data that is organized in a table with rows and columns.\n",
    "\n",
    "| First name | Last name | Age |\n",
    "|--:|--:|---|\n",
    "|Hanna|Hanson|23|\n",
    "|Cole|Coleman|32|\n",
    "|James|Presley|41|\n",
    "\n",
    "\n",
    "```Python\n",
    "records = [\n",
    "    {'First name': 'Hanna', 'Last name': 'Hanson', 'Age': 23},\n",
    "    {'First name': 'Cole', 'Last name': 'Coleman', 'Age': 32},\n",
    "    {'First name': 'James', 'Last name': 'Presley', 'Age': 41},    \n",
    "]\n",
    "```"
   ]
  },
  {
   "cell_type": "code",
   "execution_count": 1,
   "id": "0e1453cf",
   "metadata": {},
   "outputs": [],
   "source": [
    "records = [\n",
    "    {'First name': 'Hanna', 'Last name': 'Hanson', 'Age': 23},\n",
    "    {'First name': 'Cole', 'Last name': 'Coleman', 'Age': 32},\n",
    "    {'First name': 'James', 'Last name': 'Presley', 'Age': 41},    \n",
    "]"
   ]
  },
  {
   "cell_type": "code",
   "execution_count": null,
   "id": "bc8d1f5b",
   "metadata": {},
   "outputs": [],
   "source": []
  }
 ],
 "metadata": {
  "kernelspec": {
   "display_name": "Python 3 (ipykernel)",
   "language": "python",
   "name": "python3"
  },
  "language_info": {
   "codemirror_mode": {
    "name": "ipython",
    "version": 3
   },
   "file_extension": ".py",
   "mimetype": "text/x-python",
   "name": "python",
   "nbconvert_exporter": "python",
   "pygments_lexer": "ipython3",
   "version": "3.8.8"
  }
 },
 "nbformat": 4,
 "nbformat_minor": 5
}
