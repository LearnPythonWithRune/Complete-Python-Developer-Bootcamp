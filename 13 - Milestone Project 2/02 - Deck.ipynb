{
 "cells": [
  {
   "cell_type": "markdown",
   "id": "c3d0b6d6",
   "metadata": {},
   "source": [
    "# Deck / NEED-TO-KNOW\n",
    "\n",
    "We already created a `class` Card.\n",
    "\n",
    "```Python\n",
    "class Card:\n",
    "\n",
    "    def __init__(self, suit, rank, value):\n",
    "        self.suit = suit\n",
    "        self.rank = rank\n",
    "        self.value = value\n",
    "        \n",
    "    def __str__(self):\n",
    "        return self.rank + self.suit\n",
    "```\n",
    "\n",
    "Create a `class` Deck\n",
    "\n",
    "The following might be useful.\n",
    "```Python\n",
    "        suits = ('♥', '♦', '♠', '♣')\n",
    "        ranks = ('2', '3', '4', '5', '6', \n",
    "                 '7', '8', '9', '10', 'J', \n",
    "                 'Q', 'K', 'A')\n",
    "        values = {'2': 2, '3': 3, '4': 4, '5': 5, \n",
    "                  '6': 6, '7': 7, '8': 8, '9': 9, \n",
    "                  '10': 10, 'J': 11, 'Q': 12, \n",
    "                  'K': 13, 'A': 14}\n",
    "```"
   ]
  },
  {
   "cell_type": "code",
   "execution_count": 11,
   "id": "8eac2ae2",
   "metadata": {},
   "outputs": [],
   "source": [
    "import random\n",
    "\n",
    "class Card:\n",
    "\n",
    "    def __init__(self, suit, rank, value):\n",
    "        self.suit = suit\n",
    "        self.rank = rank\n",
    "        self.value = value\n",
    "\n",
    "    def __str__(self):\n",
    "        return self.rank + self.suit\n",
    "\n",
    "    \n",
    "class Deck:\n",
    "    \n",
    "    def __init__(self):\n",
    "        suits = ('♥', '♦', '♠', '♣')\n",
    "        ranks = ('2', '3', '4', '5', '6', \n",
    "                 '7', '8', '9', '10', 'J', \n",
    "                 'Q', 'K', 'A')\n",
    "        values = {'2': 2, '3': 3, '4': 4, '5': 5, \n",
    "                  '6': 6, '7': 7, '8': 8, '9': 9, \n",
    "                  '10': 10, 'J': 11, 'Q': 12, \n",
    "                  'K': 13, 'A': 14}\n",
    "        self.deck = []\n",
    "        for suit in suits:\n",
    "            for rank in ranks:\n",
    "                self.deck.append(Card(suit, rank, values[rank]))\n",
    "                \n",
    "    def __str__(self):\n",
    "        deck_comp = 'The deck has:\\n'\n",
    "        for card in self.deck:\n",
    "            deck_comp += '  ' + str(card) + '\\n'\n",
    "        return deck_comp\n",
    "\n",
    "    def shuffle(self):\n",
    "        random.shuffle(self.deck)\n",
    "        \n",
    "    def deal(self):\n",
    "        return self.deck.pop()"
   ]
  },
  {
   "cell_type": "code",
   "execution_count": 17,
   "id": "e14860a1",
   "metadata": {},
   "outputs": [
    {
     "name": "stdout",
     "output_type": "stream",
     "text": [
      "3♦\n",
      "Q♣\n",
      "J♠\n"
     ]
    }
   ],
   "source": [
    "deck = Deck()\n",
    "deck.shuffle()\n",
    "print(deck.deal())\n",
    "print(deck.deal())\n",
    "print(deck.deal())"
   ]
  },
  {
   "cell_type": "code",
   "execution_count": 18,
   "id": "012e85b1",
   "metadata": {},
   "outputs": [
    {
     "name": "stdout",
     "output_type": "stream",
     "text": [
      "49\n"
     ]
    }
   ],
   "source": [
    "print(len(deck.deck))"
   ]
  },
  {
   "cell_type": "code",
   "execution_count": 19,
   "id": "97475605",
   "metadata": {},
   "outputs": [
    {
     "name": "stdout",
     "output_type": "stream",
     "text": [
      "Q♥\n",
      "4♣\n",
      "6♠\n",
      "46\n"
     ]
    }
   ],
   "source": [
    "print(deck.deal())\n",
    "print(deck.deal())\n",
    "print(deck.deal())\n",
    "print(len(deck.deck))"
   ]
  },
  {
   "cell_type": "code",
   "execution_count": 7,
   "id": "b8db82da",
   "metadata": {},
   "outputs": [
    {
     "name": "stdout",
     "output_type": "stream",
     "text": [
      "The deck has:\n",
      "  2♥\n",
      "  3♥\n",
      "  4♥\n",
      "  5♥\n",
      "  6♥\n",
      "  7♥\n",
      "  8♥\n",
      "  9♥\n",
      "  10♥\n",
      "  J♥\n",
      "  Q♥\n",
      "  K♥\n",
      "  A♥\n",
      "  2♦\n",
      "  3♦\n",
      "  4♦\n",
      "  5♦\n",
      "  6♦\n",
      "  7♦\n",
      "  8♦\n",
      "  9♦\n",
      "  10♦\n",
      "  J♦\n",
      "  Q♦\n",
      "  K♦\n",
      "  A♦\n",
      "  2♠\n",
      "  3♠\n",
      "  4♠\n",
      "  5♠\n",
      "  6♠\n",
      "  7♠\n",
      "  8♠\n",
      "  9♠\n",
      "  10♠\n",
      "  J♠\n",
      "  Q♠\n",
      "  K♠\n",
      "  A♠\n",
      "  2♣\n",
      "  3♣\n",
      "  4♣\n",
      "  5♣\n",
      "  6♣\n",
      "  7♣\n",
      "  8♣\n",
      "  9♣\n",
      "  10♣\n",
      "  J♣\n",
      "  Q♣\n",
      "  K♣\n",
      "  A♣\n",
      "\n"
     ]
    }
   ],
   "source": [
    "print(deck)"
   ]
  },
  {
   "cell_type": "code",
   "execution_count": 4,
   "id": "8a5317a6",
   "metadata": {},
   "outputs": [
    {
     "data": {
      "text/plain": [
       "52"
      ]
     },
     "execution_count": 4,
     "metadata": {},
     "output_type": "execute_result"
    }
   ],
   "source": [
    "len(deck.deck)"
   ]
  },
  {
   "cell_type": "code",
   "execution_count": null,
   "id": "5b4c4c6b",
   "metadata": {},
   "outputs": [],
   "source": []
  }
 ],
 "metadata": {
  "kernelspec": {
   "display_name": "Python 3 (ipykernel)",
   "language": "python",
   "name": "python3"
  },
  "language_info": {
   "codemirror_mode": {
    "name": "ipython",
    "version": 3
   },
   "file_extension": ".py",
   "mimetype": "text/x-python",
   "name": "python",
   "nbconvert_exporter": "python",
   "pygments_lexer": "ipython3",
   "version": "3.9.13"
  }
 },
 "nbformat": 4,
 "nbformat_minor": 5
}
