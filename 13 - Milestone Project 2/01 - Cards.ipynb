{
 "cells": [
  {
   "cell_type": "markdown",
   "id": "a83c6904",
   "metadata": {},
   "source": [
    "# Create a Card class / NEED-TO-KNOW\n",
    "\n",
    "Let's try to make a `class` for a card."
   ]
  },
  {
   "cell_type": "code",
   "execution_count": 9,
   "id": "04566dc3",
   "metadata": {},
   "outputs": [],
   "source": [
    "class Card:\n",
    "    \n",
    "    def __init__(self, suit, rank, value):\n",
    "        self.suit = suit\n",
    "        self.rank = rank\n",
    "        self.value = value\n",
    "        \n",
    "    def __str__(self):\n",
    "        return self.suit + ' ' + self.rank"
   ]
  },
  {
   "cell_type": "code",
   "execution_count": 10,
   "id": "b87dbff8",
   "metadata": {},
   "outputs": [],
   "source": [
    "c1 = Card('Spade', '3', 3)"
   ]
  },
  {
   "cell_type": "code",
   "execution_count": 11,
   "id": "0abd7af0",
   "metadata": {},
   "outputs": [
    {
     "name": "stdout",
     "output_type": "stream",
     "text": [
      "Spade 3\n"
     ]
    }
   ],
   "source": [
    "print(c1)"
   ]
  },
  {
   "cell_type": "code",
   "execution_count": 12,
   "id": "f12c1d09",
   "metadata": {},
   "outputs": [],
   "source": [
    "cards = []\n",
    "\n",
    "for i in range(2, 10):\n",
    "    cards.append(Card('Spade', str(i), i))"
   ]
  },
  {
   "cell_type": "code",
   "execution_count": 14,
   "id": "3709fe55",
   "metadata": {},
   "outputs": [
    {
     "name": "stdout",
     "output_type": "stream",
     "text": [
      "Spade 2\n",
      "Spade 3\n",
      "Spade 4\n",
      "Spade 5\n",
      "Spade 6\n",
      "Spade 7\n",
      "Spade 8\n",
      "Spade 9\n"
     ]
    }
   ],
   "source": [
    "for card in cards:\n",
    "    print(card)"
   ]
  },
  {
   "cell_type": "code",
   "execution_count": null,
   "id": "3e128900",
   "metadata": {},
   "outputs": [],
   "source": []
  }
 ],
 "metadata": {
  "kernelspec": {
   "display_name": "Python 3 (ipykernel)",
   "language": "python",
   "name": "python3"
  },
  "language_info": {
   "codemirror_mode": {
    "name": "ipython",
    "version": 3
   },
   "file_extension": ".py",
   "mimetype": "text/x-python",
   "name": "python",
   "nbconvert_exporter": "python",
   "pygments_lexer": "ipython3",
   "version": "3.9.13"
  }
 },
 "nbformat": 4,
 "nbformat_minor": 5
}
