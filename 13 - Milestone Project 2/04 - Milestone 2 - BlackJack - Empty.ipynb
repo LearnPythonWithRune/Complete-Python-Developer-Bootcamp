{
 "cells": [
  {
   "cell_type": "markdown",
   "id": "5c21eb40",
   "metadata": {},
   "source": [
    "# Milestone 2 - BlackJack\n",
    "\n",
    "We have already created a `class` `Cards` and `Deck`.\n",
    "\n",
    "```Python\n",
    "import random\n",
    "\n",
    "class Card:\n",
    "\n",
    "    def __init__(self, suit, rank, value):\n",
    "        self.suit = suit\n",
    "        self.rank = rank\n",
    "        self.value = value\n",
    "        \n",
    "    def __str__(self):\n",
    "        return self.rank + self.suit\n",
    "\n",
    "class Deck:\n",
    "    \n",
    "    def __init__(self):\n",
    "        suits = ('♥', '♦', '♠', '♣')\n",
    "        ranks = ('2', '3', '4', '5', '6', \n",
    "                 '7', '8', '9', '10', 'J', \n",
    "                 'Q', 'K', 'A')\n",
    "        values = {'2': 2, '3': 3, '4': 4, '5': 5, \n",
    "                  '6': 6, '7': 7, '8': 8, '9': 9, \n",
    "                  '10': 10, 'J': 10, 'Q': 10, \n",
    "                  'K': 10, 'A': 11}\n",
    "        \n",
    "        self.deck = []\n",
    "        for suit in suits:\n",
    "            for rank in ranks:\n",
    "                self.deck.append(Card(suit, rank, values[rank]))\n",
    "    \n",
    "    def __str__(self):\n",
    "        deck_comp = 'The deck has:\\n'\n",
    "        for card in self.deck:\n",
    "            deck_comp += '  ' + str(card) + '\\n'\n",
    "        return deck_comp\n",
    "\n",
    "    def shuffle(self):\n",
    "        random.shuffle(self.deck)\n",
    "        \n",
    "    def deal(self):\n",
    "        single_card = self.deck.pop()\n",
    "        return single_card\n",
    "```"
   ]
  },
  {
   "cell_type": "markdown",
   "id": "22c83e64",
   "metadata": {},
   "source": [
    "### Step 1: The steps in the game\n",
    "\n",
    "We will follow this simplified version of BlackJack.\n",
    "\n",
    "0. Player chips\n",
    "1. Create Deck and shuffle\n",
    "2. Create player hand\n",
    "3. Create dealer hand\n",
    "4. Take bet from player\n",
    "5. Show cards on table (one hidden from dealer)\n",
    "6. Player: Hit or stand?\n",
    "    - If hit, get another card and repeat at 6.\n",
    "    - If stand, continue\n",
    "7. Dealer turn\n",
    "    - Continue to get card until 17 or more\n",
    "8. Find winner\n",
    "    - Update player chips accordingly\n",
    "    - If a tie - leave bet\n",
    "9. Ask player if quit or not\n",
    "    - If continue, then continue at 1."
   ]
  },
  {
   "cell_type": "code",
   "execution_count": 1,
   "id": "2a7a3791",
   "metadata": {},
   "outputs": [],
   "source": [
    "import random\n",
    "\n",
    "class Card:\n",
    "\n",
    "    def __init__(self, suit, rank, value):\n",
    "        self.suit = suit\n",
    "        self.rank = rank\n",
    "        self.value = value\n",
    "\n",
    "    def __str__(self):\n",
    "        return self.rank + self.suit\n",
    "\n",
    "class Deck:\n",
    "\n",
    "    def __init__(self):\n",
    "        suits = ('♥', '♦', '♠', '♣')\n",
    "        ranks = ('2', '3', '4', '5', '6', \n",
    "                 '7', '8', '9', '10', 'J', \n",
    "                 'Q', 'K', 'A')\n",
    "        values = {'2': 2, '3': 3, '4': 4, '5': 5, \n",
    "                  '6': 6, '7': 7, '8': 8, '9': 9, \n",
    "                  '10': 10, 'J': 10, 'Q': 10, \n",
    "                  'K': 10, 'A': 11}\n",
    "\n",
    "        self.deck = []\n",
    "        for suit in suits:\n",
    "            for rank in ranks:\n",
    "                self.deck.append(Card(suit, rank, values[rank]))\n",
    "\n",
    "    def __str__(self):\n",
    "        deck_comp = 'The deck has:\\n'\n",
    "        for card in self.deck:\n",
    "            deck_comp += '  ' + str(card) + '\\n'\n",
    "        return deck_comp\n",
    "\n",
    "    def shuffle(self):\n",
    "        random.shuffle(self.deck)\n",
    "\n",
    "    def deal(self):\n",
    "        single_card = self.deck.pop()\n",
    "        return single_card"
   ]
  },
  {
   "cell_type": "code",
   "execution_count": null,
   "id": "2c4ac75d",
   "metadata": {},
   "outputs": [],
   "source": []
  },
  {
   "cell_type": "code",
   "execution_count": null,
   "id": "0e2a1b76",
   "metadata": {},
   "outputs": [],
   "source": []
  },
  {
   "cell_type": "markdown",
   "id": "93805359",
   "metadata": {},
   "source": [
    "### Step 2: Create class `Hand`\n",
    "\n",
    "Create a class `Hand` that will contain the following attributes.\n",
    "\n",
    "- `cards` A list of the cards\n",
    "- `value` The value of the current hand\n",
    "- `aces` Keeping track of number of aces not reduced\n",
    "\n",
    "The class should also have a method\n",
    "- `add_card` Takes a card and it should update the `value` attribute (remember to update and use `aces`) "
   ]
  },
  {
   "cell_type": "code",
   "execution_count": 2,
   "id": "5e52f285",
   "metadata": {},
   "outputs": [],
   "source": [
    "class Hand:\n",
    "    \n",
    "    def __init__(self):\n",
    "        self.cards = []  # ['A', 'A', 'J', '8']\n",
    "        self.value = 0  # 20\n",
    "        self.aces = 0  # 0\n",
    "        \n",
    "    def add_card(self, card):  # 8\n",
    "        self.cards.append(card)\n",
    "        self.value += card.value  # 8\n",
    "        \n",
    "        if card.rank == 'A':\n",
    "            self.aces += 1\n",
    "            \n",
    "        if self.value > 21 and self.aces > 0:\n",
    "            self.value -= 10\n",
    "            self.aces -= 1"
   ]
  },
  {
   "cell_type": "code",
   "execution_count": 6,
   "id": "2d818bbb",
   "metadata": {},
   "outputs": [
    {
     "data": {
      "text/plain": [
       "20"
      ]
     },
     "execution_count": 6,
     "metadata": {},
     "output_type": "execute_result"
    }
   ],
   "source": [
    "p = Hand()\n",
    "p.add_card(Card('Hearts', 'A', 11))\n",
    "p.add_card(Card('Hearts', 'A', 11))\n",
    "p.add_card(Card('Hearts', 'J', 10))\n",
    "p.add_card(Card('Hearts', '8', 8))\n",
    "p.value"
   ]
  },
  {
   "cell_type": "code",
   "execution_count": null,
   "id": "67caa0a1",
   "metadata": {},
   "outputs": [],
   "source": []
  },
  {
   "cell_type": "markdown",
   "id": "66680f0f",
   "metadata": {},
   "source": [
    "### Step 3: Create class `Chips`\n",
    "\n",
    "Create a class `Chips` with the following attributes.\n",
    "\n",
    "- `total` The chips the player has.\n",
    "- `bet` The current bet, initally set to `0`\n",
    "\n",
    "The class should have the following methods.\n",
    "\n",
    "- `make_bet` Set the bet, maximum the `total` value of chips left.\n",
    "- `win_bet` Will update the `total` with the win\n",
    "- `lose_bet` Will update the `total` with the loss"
   ]
  },
  {
   "cell_type": "code",
   "execution_count": 9,
   "id": "5c9b2ce3",
   "metadata": {},
   "outputs": [],
   "source": [
    "class Chips:\n",
    "    \n",
    "    def __init__(self, total):\n",
    "        self.total = total\n",
    "        self.bet = 0\n",
    "        \n",
    "    def make_bet(self, bet):\n",
    "        if bet > self.total:\n",
    "            self.bet = self.total\n",
    "        else:\n",
    "            self.bet = bet\n",
    "    \n",
    "    def win_bet(self):\n",
    "        self.total += self.bet\n",
    "        \n",
    "    def lose_bet(self):\n",
    "        self.total -= self.bet"
   ]
  },
  {
   "cell_type": "code",
   "execution_count": 13,
   "id": "e9ca3432",
   "metadata": {},
   "outputs": [
    {
     "data": {
      "text/plain": [
       "200"
      ]
     },
     "execution_count": 13,
     "metadata": {},
     "output_type": "execute_result"
    }
   ],
   "source": [
    "chips = Chips(100)\n",
    "chips.make_bet(150)\n",
    "chips.win_bet()\n",
    "chips.total"
   ]
  },
  {
   "cell_type": "code",
   "execution_count": null,
   "id": "da930b96",
   "metadata": {},
   "outputs": [],
   "source": []
  },
  {
   "cell_type": "markdown",
   "id": "be63f32f",
   "metadata": {},
   "source": [
    "### Step 4: Create two display functions\n",
    "\n",
    "Create two functions.\n",
    "\n",
    "- `show_some(dealer, player)` It will display one dealer card and the other hidden, and all of players cards.\n",
    "- `show_cards(dealer, player)` Display all dealer and player cards.\n",
    "\n",
    "You might want to use:\n",
    "```Python\n",
    "from IPython.display import clear_output\n",
    "```"
   ]
  },
  {
   "cell_type": "code",
   "execution_count": 14,
   "id": "34c7fb51",
   "metadata": {},
   "outputs": [],
   "source": [
    "from IPython.display import clear_output"
   ]
  },
  {
   "cell_type": "code",
   "execution_count": 20,
   "id": "3d3f003b",
   "metadata": {},
   "outputs": [],
   "source": [
    "def show_some(dealer, player):\n",
    "    clear_output()\n",
    "    print('Dealer')\n",
    "    print('  [HIDDEN CARD]')\n",
    "    print('  ', dealer.cards[1])\n",
    "    print('Player:')\n",
    "    for card in player.cards:\n",
    "        print('  ', card)\n",
    "    print('  value:', player.value)\n",
    "    \n",
    "def show_cards(dealer, player):\n",
    "    clear_output()\n",
    "    print('Dealer:')\n",
    "    for card in dealer.cards:\n",
    "        print('  ', card)\n",
    "    print('  value:', dealer.value)\n",
    "    print('Player:')\n",
    "    for card in player.cards:\n",
    "        print('  ', card)\n",
    "    print('  value:', player.value)    "
   ]
  },
  {
   "cell_type": "code",
   "execution_count": null,
   "id": "b18ffb20",
   "metadata": {},
   "outputs": [],
   "source": []
  },
  {
   "cell_type": "code",
   "execution_count": 21,
   "id": "e098ccf4",
   "metadata": {},
   "outputs": [
    {
     "name": "stdout",
     "output_type": "stream",
     "text": [
      "Dealer:\n",
      "   2♠\n",
      "   5♥\n",
      "  value: 7\n",
      "Player:\n",
      "   7♠\n",
      "   2♥\n",
      "  value: 9\n"
     ]
    }
   ],
   "source": [
    "deck = Deck()\n",
    "deck.shuffle()\n",
    "\n",
    "dealer = Hand()\n",
    "dealer.add_card(deck.deal())\n",
    "dealer.add_card(deck.deal())\n",
    "\n",
    "player = Hand()\n",
    "player.add_card(deck.deal())\n",
    "player.add_card(deck.deal())\n",
    "\n",
    "show_cards(dealer, player)"
   ]
  },
  {
   "cell_type": "code",
   "execution_count": 17,
   "id": "4f64538a",
   "metadata": {},
   "outputs": [
    {
     "data": {
      "text/plain": [
       "[<__main__.Card at 0x7faa94c19790>, <__main__.Card at 0x7faa948f6790>]"
      ]
     },
     "execution_count": 17,
     "metadata": {},
     "output_type": "execute_result"
    }
   ],
   "source": [
    "player.cards"
   ]
  },
  {
   "cell_type": "code",
   "execution_count": null,
   "id": "1e6b556d",
   "metadata": {},
   "outputs": [],
   "source": []
  },
  {
   "cell_type": "markdown",
   "id": "391322be",
   "metadata": {},
   "source": [
    "### Step 5: Implement the full game\n",
    "\n",
    "Now you should be ready to implement the full game.\n",
    "\n",
    "Use the following to help you.\n",
    "\n",
    "```Python\n",
    "#0 Player chips\n",
    "#1 Create Deck and shuffle\n",
    "#2 Create player hand\n",
    "#3 Create dealer hand\n",
    "#4 Take bet from player\n",
    "#5 Show cards on table (one hidden from dealer)\n",
    "#6 Player: Hit or stand?\n",
    "#    - If hit, get another card and repeat at 6.\n",
    "#    - If stand, continue\n",
    "#7 Dealer turn\n",
    "#    - Continue to get card until 17 or more\n",
    "#8 Find winner\n",
    "#    - Show cards\n",
    "#    - Update player chips accordingly\n",
    "#    - If a tie - leave bet\n",
    "#9 Ask player if quit or not\n",
    "#    - If continue, then continue at 1.\n",
    "```"
   ]
  },
  {
   "cell_type": "code",
   "execution_count": 25,
   "id": "f1c6bf33",
   "metadata": {},
   "outputs": [
    {
     "name": "stdout",
     "output_type": "stream",
     "text": [
      "Dealer:\n",
      "   4♥\n",
      "   3♣\n",
      "   6♦\n",
      "   10♠\n",
      "  value: 23\n",
      "Player:\n",
      "   8♦\n",
      "   Q♦\n",
      "  value: 18\n",
      "Dealer bursts\n",
      "Play again (y/n)n\n",
      "You have 150 chips\n"
     ]
    }
   ],
   "source": [
    "#0 Player chips\n",
    "player_chips = Chips(100)\n",
    "\n",
    "while True:\n",
    "    #1 Create Deck and shuffle\n",
    "    deck = Deck()\n",
    "    deck.shuffle()\n",
    "\n",
    "    #2 Create player hand\n",
    "    player = Hand()\n",
    "    player.add_card(deck.deal())\n",
    "    player.add_card(deck.deal())\n",
    "    \n",
    "    #3 Create dealer hand\n",
    "    dealer = Hand()\n",
    "    dealer.add_card(deck.deal())\n",
    "    dealer.add_card(deck.deal())\n",
    "    \n",
    "    #4 Take bet from player\n",
    "    print('You have', player_chips.total)\n",
    "    bet = int(input('Make bet: '))\n",
    "    player_chips.make_bet(bet)\n",
    "    \n",
    "    while True:\n",
    "        #5 Show cards on table (one hidden from dealer)\n",
    "        show_some(dealer, player)\n",
    "        \n",
    "        #6 Player: Hit or stand?\n",
    "        #    - If hit, get another card and repeat at 5.\n",
    "        #    - If stand, continue\n",
    "        hit = input('Hit (y/n): ')\n",
    "        if hit != 'y':\n",
    "            break\n",
    "        \n",
    "        player.add_card(deck.deal())\n",
    "        \n",
    "        \n",
    "    #7 Dealer turn\n",
    "    #    - Continue to get card until 17 or more\n",
    "    while dealer.value < 17:\n",
    "        dealer.add_card(deck.deal())\n",
    "    \n",
    "    show_cards(dealer, player)\n",
    "    \n",
    "    #8 Find winner\n",
    "    #    - Update player chips accordingly\n",
    "    #    - If a tie - leave bet\n",
    "    if player.value > 21:\n",
    "        print('Player bursts')\n",
    "        player_chips.lose_bet()\n",
    "    elif dealer.value > 21:\n",
    "        print('Dealer bursts')\n",
    "        player_chips.win_bet()\n",
    "    elif dealer.value > player.value:\n",
    "        print('Dealer wins')\n",
    "        player_chips.lose_bet()\n",
    "    elif dealer.value < player.value:\n",
    "        print('Player won')\n",
    "        player_chips.win_bet()\n",
    "    else:\n",
    "        print('Tie!')\n",
    "    \n",
    "    if player_chips.total <= 0:\n",
    "        print('You have no chips')\n",
    "        break\n",
    "    \n",
    "    #9 Ask player if quit or not\n",
    "    #    - If continue, then continue at 1.\n",
    "    play_more = input('Play again (y/n)')\n",
    "    if play_more != 'y':\n",
    "        print('You have', player_chips.total, 'chips')\n",
    "        break"
   ]
  },
  {
   "cell_type": "code",
   "execution_count": null,
   "id": "4ecafcc6",
   "metadata": {},
   "outputs": [],
   "source": []
  },
  {
   "cell_type": "code",
   "execution_count": null,
   "id": "c71102c8",
   "metadata": {},
   "outputs": [],
   "source": []
  }
 ],
 "metadata": {
  "kernelspec": {
   "display_name": "Python 3 (ipykernel)",
   "language": "python",
   "name": "python3"
  },
  "language_info": {
   "codemirror_mode": {
    "name": "ipython",
    "version": 3
   },
   "file_extension": ".py",
   "mimetype": "text/x-python",
   "name": "python",
   "nbconvert_exporter": "python",
   "pygments_lexer": "ipython3",
   "version": "3.9.13"
  }
 },
 "nbformat": 4,
 "nbformat_minor": 5
}
