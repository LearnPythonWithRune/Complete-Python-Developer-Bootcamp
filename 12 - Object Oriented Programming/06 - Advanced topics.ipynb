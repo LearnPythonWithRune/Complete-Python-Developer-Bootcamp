{
 "cells": [
  {
   "cell_type": "markdown",
   "id": "28630858",
   "metadata": {},
   "source": [
    "# Advanced topics / NICE-TO-KNOW\n",
    "\n",
    "If you read the official documentation ([doc](https://docs.python.org/3/tutorial/classes.html))\n",
    "\n",
    "#### Class variables\n",
    "```Python\n",
    "class Dog:\n",
    "\n",
    "    kind = 'canine'         # class variable shared \n",
    "                            # by all instances\n",
    "\n",
    "    def __init__(self, name):\n",
    "        self.name = name    # instance variable \n",
    "                            # unique to each instance\n",
    "\n",
    ">>> d = Dog('Fido')\n",
    ">>> e = Dog('Buddy')\n",
    ">>> d.kind                  # shared by all dogs\n",
    "'canine'\n",
    ">>> e.kind                  # shared by all dogs\n",
    "'canine'\n",
    ">>> d.name                  # unique to d\n",
    "'Fido'\n",
    ">>> e.name                  # unique to e\n",
    "'Buddy'\n",
    "```\n",
    "\n",
    "#### Inheritance\n",
    "```Python\n",
    "class Animal:\n",
    "    def __init__(self, name):\n",
    "        self.name = name\n",
    "        \n",
    "\n",
    "class Dog(Animal):\n",
    "    def who_am_i(self):\n",
    "        return 'I am a dog named ' + self.name\n",
    "    \n",
    "\n",
    "class Cat(Animal):\n",
    "    def who_am_i(self):\n",
    "        return 'I am a cat named ' + self.name\n",
    "```"
   ]
  },
  {
   "cell_type": "code",
   "execution_count": 1,
   "id": "c3f51b87",
   "metadata": {},
   "outputs": [],
   "source": [
    "class Animal:\n",
    "    def __init__(self, name):\n",
    "        self.name = name\n",
    "\n",
    "\n",
    "class Dog(Animal):\n",
    "    def who_am_i(self):\n",
    "        return 'I am a dog named ' + self.name\n",
    "\n",
    "\n",
    "class Cat(Animal):\n",
    "    def who_am_i(self):\n",
    "        return 'I am a cat named ' + self.name"
   ]
  },
  {
   "cell_type": "code",
   "execution_count": 2,
   "id": "f4701a77",
   "metadata": {},
   "outputs": [],
   "source": [
    "dog = Dog('Fido')\n",
    "cat = Cat('Kitty')"
   ]
  },
  {
   "cell_type": "code",
   "execution_count": 3,
   "id": "ddef9f5f",
   "metadata": {},
   "outputs": [
    {
     "data": {
      "text/plain": [
       "('Fido', 'Kitty')"
      ]
     },
     "execution_count": 3,
     "metadata": {},
     "output_type": "execute_result"
    }
   ],
   "source": [
    "dog.name, cat.name"
   ]
  },
  {
   "cell_type": "code",
   "execution_count": 4,
   "id": "ab73f239",
   "metadata": {},
   "outputs": [
    {
     "data": {
      "text/plain": [
       "'I am a dog named Fido'"
      ]
     },
     "execution_count": 4,
     "metadata": {},
     "output_type": "execute_result"
    }
   ],
   "source": [
    "dog.who_am_i()"
   ]
  },
  {
   "cell_type": "code",
   "execution_count": 5,
   "id": "01504135",
   "metadata": {},
   "outputs": [
    {
     "data": {
      "text/plain": [
       "'I am a cat named Kitty'"
      ]
     },
     "execution_count": 5,
     "metadata": {},
     "output_type": "execute_result"
    }
   ],
   "source": [
    "cat.who_am_i()"
   ]
  },
  {
   "cell_type": "code",
   "execution_count": null,
   "id": "1e7a5b31",
   "metadata": {},
   "outputs": [],
   "source": []
  }
 ],
 "metadata": {
  "kernelspec": {
   "display_name": "Python 3 (ipykernel)",
   "language": "python",
   "name": "python3"
  },
  "language_info": {
   "codemirror_mode": {
    "name": "ipython",
    "version": 3
   },
   "file_extension": ".py",
   "mimetype": "text/x-python",
   "name": "python",
   "nbconvert_exporter": "python",
   "pygments_lexer": "ipython3",
   "version": "3.9.13"
  }
 },
 "nbformat": 4,
 "nbformat_minor": 5
}
