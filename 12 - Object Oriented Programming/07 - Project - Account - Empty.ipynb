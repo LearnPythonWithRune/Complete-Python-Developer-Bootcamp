{
 "cells": [
  {
   "cell_type": "markdown",
   "id": "dc948b73",
   "metadata": {},
   "source": [
    "# Project - Account\n",
    "\n",
    "Create a `class` called `Account` that has the following two attributes.\n",
    "\n",
    "- `owner`\n",
    "- `balance`\n",
    "\n",
    "The class should have the following two methods.\n",
    "\n",
    "- `deposit` that will deposit an amount to the balance.\n",
    "- `withdraw` that will withdraw if the balance allows it.\n",
    "\n",
    "Play around with the class to see that it works as expected."
   ]
  },
  {
   "cell_type": "code",
   "execution_count": null,
   "id": "e65a1e0b",
   "metadata": {},
   "outputs": [],
   "source": []
  }
 ],
 "metadata": {
  "kernelspec": {
   "display_name": "Python 3 (ipykernel)",
   "language": "python",
   "name": "python3"
  },
  "language_info": {
   "codemirror_mode": {
    "name": "ipython",
    "version": 3
   },
   "file_extension": ".py",
   "mimetype": "text/x-python",
   "name": "python",
   "nbconvert_exporter": "python",
   "pygments_lexer": "ipython3",
   "version": "3.9.13"
  }
 },
 "nbformat": 4,
 "nbformat_minor": 5
}
