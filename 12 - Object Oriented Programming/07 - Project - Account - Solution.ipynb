{
 "cells": [
  {
   "cell_type": "markdown",
   "id": "dc948b73",
   "metadata": {},
   "source": [
    "# Project - Account\n",
    "\n",
    "Create a `class` called `Account` that has the following two attributes.\n",
    "\n",
    "- `owner`\n",
    "- `balance`\n",
    "\n",
    "The class should have the following two methods.\n",
    "\n",
    "- `deposit` that will deposit an amount to the balance.\n",
    "- `withdraw` that will withdraw if the balance allows it.\n",
    "\n",
    "Play around with the class to see that it works as expected."
   ]
  },
  {
   "cell_type": "code",
   "execution_count": 14,
   "id": "e65a1e0b",
   "metadata": {},
   "outputs": [],
   "source": [
    "class Account:\n",
    "    def __init__(self, owner, balance):\n",
    "        self.owner = owner\n",
    "        self.balance = balance\n",
    "        \n",
    "    def deposit(self, amount):\n",
    "        \"\"\"\n",
    "        Deposits the amout to the balance\n",
    "        \"\"\"\n",
    "        self.balance += amount\n",
    "        \n",
    "    def withdraw(self, amount):\n",
    "        \"\"\"\n",
    "        Withdraws the amount from balance, if balance allows it.\n",
    "        \"\"\"\n",
    "        if amount <= self.balance:\n",
    "            self.balance -= amount\n",
    "        \n",
    "    def __str__(self):\n",
    "        return self.owner + '(' + str(self.balance) + ')'"
   ]
  },
  {
   "cell_type": "code",
   "execution_count": 16,
   "id": "d152aa6f",
   "metadata": {},
   "outputs": [
    {
     "name": "stdout",
     "output_type": "stream",
     "text": [
      "James(200)\n",
      "Jones(250)\n",
      "James(300)\n",
      "Jones(300)\n",
      "James(0)\n",
      "Jones(150)\n",
      "James(0)\n",
      "Jones(0)\n"
     ]
    }
   ],
   "source": [
    "a1 = Account('James', 200)\n",
    "a2 = Account('Jones', 250)\n",
    "\n",
    "print(a1)\n",
    "print(a2)\n",
    "\n",
    "a1.deposit(100)\n",
    "a2.deposit(50)\n",
    "\n",
    "print(a1)\n",
    "print(a2)\n",
    "\n",
    "a1.withdraw(300)\n",
    "a2.withdraw(150)\n",
    "\n",
    "print(a1)\n",
    "print(a2)\n",
    "\n",
    "a1.withdraw(300)\n",
    "a2.withdraw(150)\n",
    "\n",
    "print(a1)\n",
    "print(a2)"
   ]
  },
  {
   "cell_type": "code",
   "execution_count": null,
   "id": "a28c9be8",
   "metadata": {},
   "outputs": [],
   "source": []
  }
 ],
 "metadata": {
  "kernelspec": {
   "display_name": "Python 3 (ipykernel)",
   "language": "python",
   "name": "python3"
  },
  "language_info": {
   "codemirror_mode": {
    "name": "ipython",
    "version": 3
   },
   "file_extension": ".py",
   "mimetype": "text/x-python",
   "name": "python",
   "nbconvert_exporter": "python",
   "pygments_lexer": "ipython3",
   "version": "3.9.13"
  }
 },
 "nbformat": 4,
 "nbformat_minor": 5
}
