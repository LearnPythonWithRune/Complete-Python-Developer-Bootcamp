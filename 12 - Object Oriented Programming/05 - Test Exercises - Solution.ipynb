{
 "cells": [
  {
   "cell_type": "markdown",
   "id": "dee1abe3",
   "metadata": {},
   "source": [
    "# Test Exercises"
   ]
  },
  {
   "cell_type": "markdown",
   "id": "2ff04628",
   "metadata": {},
   "source": [
    "### Exercise 1\n",
    "\n",
    "Continue the work of the `Board` class\n",
    "\n",
    "```Python\n",
    "class Board:\n",
    "    def __init__(self):\n",
    "        self.board = ['O', ' ', ' ', ' ', ' ', 'X']\n",
    "        \n",
    "    def __str__(self):\n",
    "        length = len(self.board)\n",
    "        \n",
    "        output = '-'*(length*2 + 1) + '\\n'\n",
    "        \n",
    "        for item in self.board:\n",
    "            output += '|' + item\n",
    "        output += '|\\n'\n",
    "        \n",
    "        output += '-'*(length*2 + 1) + '\\n'\n",
    "        \n",
    "        return output\n",
    "    \n",
    "    def valid_move(self, move_str):\n",
    "        \"\"\"\n",
    "        Returns True if move is valid and inside the board.\n",
    "        \"\"\"\n",
    "        if move_str not in ['-2', '-1', '1', '2']:\n",
    "            return False\n",
    "        \n",
    "        move = int(move_str)\n",
    "        \n",
    "        position = self.board.index('O')\n",
    "        \n",
    "        if position + move < 0:\n",
    "            return False\n",
    "        \n",
    "        if position + move >= len(self.board):\n",
    "            return False\n",
    "        \n",
    "        return True\n",
    "```\n",
    "\n",
    "Create methods on the class\n",
    "- `win_game(self, move)`\n",
    "- `update_board(self, move)`\n",
    "\n",
    "See the old function code here:\n",
    "\n",
    "```Python\n",
    "def win_game(board, move):\n",
    "    position = get_player_position(board)\n",
    "    \n",
    "    if board[position + move] == 'X':\n",
    "        return True\n",
    "    else:\n",
    "        return False\n",
    "\n",
    "    \n",
    "def update_board(board, move):\n",
    "    position = get_player_position(board)\n",
    "    \n",
    "    board[position] = ' '\n",
    "    board[position + move] = 'O'\n",
    "    \n",
    "    return board    \n",
    "```"
   ]
  },
  {
   "cell_type": "code",
   "execution_count": 4,
   "id": "1f189480",
   "metadata": {},
   "outputs": [],
   "source": [
    "class Board:\n",
    "    def __init__(self):\n",
    "        self.board = ['O', ' ', ' ', ' ', ' ', 'X']\n",
    "\n",
    "    def __str__(self):\n",
    "        length = len(self.board)\n",
    "\n",
    "        output = '-'*(length*2 + 1) + '\\n'\n",
    "\n",
    "        for item in self.board:\n",
    "            output += '|' + item\n",
    "        output += '|\\n'\n",
    "\n",
    "        output += '-'*(length*2 + 1) + '\\n'\n",
    "\n",
    "        return output\n",
    "\n",
    "    def valid_move(self, move_str):\n",
    "        \"\"\"\n",
    "        Returns True if move is valid and inside the board.\n",
    "        \"\"\"\n",
    "        if move_str not in ['-2', '-1', '1', '2']:\n",
    "            return False\n",
    "\n",
    "        move = int(move_str)\n",
    "\n",
    "        position = self.board.index('O')\n",
    "\n",
    "        if position + move < 0:\n",
    "            return False\n",
    "\n",
    "        if position + move >= len(self.board):\n",
    "            return False\n",
    "\n",
    "        return True\n",
    "    \n",
    "    def win_game(self, move):\n",
    "        \"\"\"\n",
    "        Return True if move wins the game.\n",
    "        \"\"\"\n",
    "        position = self.board.index('O')\n",
    "\n",
    "        if self.board[position + move] == 'X':\n",
    "            return True\n",
    "        else:\n",
    "            return False\n",
    "\n",
    "    def update_board(self, move):\n",
    "        \"\"\"\n",
    "        Update the board with the move\n",
    "        \"\"\"\n",
    "        position = self.board.index('O')\n",
    "\n",
    "        self.board[position] = ' '\n",
    "        self.board[position + move] = 'O'"
   ]
  },
  {
   "cell_type": "code",
   "execution_count": 5,
   "id": "a2562cf8",
   "metadata": {},
   "outputs": [],
   "source": [
    "board = Board()"
   ]
  },
  {
   "cell_type": "code",
   "execution_count": 6,
   "id": "64599368",
   "metadata": {},
   "outputs": [
    {
     "name": "stdout",
     "output_type": "stream",
     "text": [
      "-------------\n",
      "|O| | | | |X|\n",
      "-------------\n",
      "\n"
     ]
    }
   ],
   "source": [
    "print(board)"
   ]
  },
  {
   "cell_type": "code",
   "execution_count": 9,
   "id": "521bc491",
   "metadata": {},
   "outputs": [],
   "source": [
    "board.update_board(2)"
   ]
  },
  {
   "cell_type": "code",
   "execution_count": 10,
   "id": "88604551",
   "metadata": {},
   "outputs": [
    {
     "name": "stdout",
     "output_type": "stream",
     "text": [
      "-------------\n",
      "| | | | |O|X|\n",
      "-------------\n",
      "\n"
     ]
    }
   ],
   "source": [
    "print(board)"
   ]
  },
  {
   "cell_type": "code",
   "execution_count": 11,
   "id": "f2ae5f6b",
   "metadata": {},
   "outputs": [
    {
     "data": {
      "text/plain": [
       "True"
      ]
     },
     "execution_count": 11,
     "metadata": {},
     "output_type": "execute_result"
    }
   ],
   "source": [
    "board.win_game(1)"
   ]
  },
  {
   "cell_type": "markdown",
   "id": "1caaf6cc",
   "metadata": {},
   "source": [
    "### Exercise 2\n",
    "\n",
    "Create a helper function to get a valid move.\n",
    "\n",
    "The old code is here\n",
    "```Python\n",
    "def user_move(board):\n",
    "    while True:\n",
    "        input_str = input('Choose move (-2, -1, 1, 2): ')\n",
    "        if valid_move(input_str, board):\n",
    "            return int(input_str)\n",
    "    \n",
    "        print('Invalid move')\n",
    "```"
   ]
  },
  {
   "cell_type": "code",
   "execution_count": 12,
   "id": "2f2b7fd1",
   "metadata": {},
   "outputs": [],
   "source": [
    "def user_move(board):\n",
    "    while True:\n",
    "        input_str = input('Choose move (-2, -1, 1, 2): ')\n",
    "        if board.valid_move(input_str):\n",
    "            return int(input_str)\n",
    "\n",
    "        print('Invalid move')"
   ]
  },
  {
   "cell_type": "code",
   "execution_count": 14,
   "id": "2b9cef5d",
   "metadata": {},
   "outputs": [
    {
     "name": "stdout",
     "output_type": "stream",
     "text": [
      "-------------\n",
      "| | | | |O|X|\n",
      "-------------\n",
      "\n",
      "Choose move (-2, -1, 1, 2): 2\n",
      "Invalid move\n",
      "Choose move (-2, -1, 1, 2): -1\n"
     ]
    },
    {
     "data": {
      "text/plain": [
       "-1"
      ]
     },
     "execution_count": 14,
     "metadata": {},
     "output_type": "execute_result"
    }
   ],
   "source": [
    "print(board)\n",
    "user_move(board)"
   ]
  },
  {
   "cell_type": "code",
   "execution_count": null,
   "id": "09409876",
   "metadata": {},
   "outputs": [],
   "source": []
  },
  {
   "cell_type": "markdown",
   "id": "ad008658",
   "metadata": {},
   "source": [
    "### Exercise 3\n",
    "\n",
    "Combine it all to a \"game\".\n",
    "\n",
    "The original code is here.\n",
    "\n",
    "```Python\n",
    "while True:\n",
    "    display_board(board)\n",
    "\n",
    "    move = user_move(board)\n",
    "    \n",
    "    if win_game(board, move):\n",
    "        print('You won!')\n",
    "        break\n",
    "        \n",
    "    board = update_board(board, move)\n",
    "```"
   ]
  },
  {
   "cell_type": "code",
   "execution_count": 16,
   "id": "b2f89726",
   "metadata": {},
   "outputs": [
    {
     "name": "stdout",
     "output_type": "stream",
     "text": [
      "-------------\n",
      "|O| | | | |X|\n",
      "-------------\n",
      "\n",
      "Choose move (-2, -1, 1, 2): 2\n",
      "-------------\n",
      "| | |O| | |X|\n",
      "-------------\n",
      "\n",
      "Choose move (-2, -1, 1, 2): 2\n",
      "-------------\n",
      "| | | | |O|X|\n",
      "-------------\n",
      "\n",
      "Choose move (-2, -1, 1, 2): -1\n",
      "-------------\n",
      "| | | |O| |X|\n",
      "-------------\n",
      "\n",
      "Choose move (-2, -1, 1, 2): 2\n",
      "You won!\n"
     ]
    }
   ],
   "source": [
    "board = Board()\n",
    "\n",
    "while True:\n",
    "    print(board)\n",
    "\n",
    "    move = user_move(board)\n",
    "\n",
    "    if board.win_game(move):\n",
    "        print('You won!')\n",
    "        break\n",
    "\n",
    "    board.update_board(move)"
   ]
  },
  {
   "cell_type": "code",
   "execution_count": null,
   "id": "5364e499",
   "metadata": {},
   "outputs": [],
   "source": []
  },
  {
   "cell_type": "code",
   "execution_count": null,
   "id": "f3f44451",
   "metadata": {},
   "outputs": [],
   "source": []
  }
 ],
 "metadata": {
  "kernelspec": {
   "display_name": "Python 3 (ipykernel)",
   "language": "python",
   "name": "python3"
  },
  "language_info": {
   "codemirror_mode": {
    "name": "ipython",
    "version": 3
   },
   "file_extension": ".py",
   "mimetype": "text/x-python",
   "name": "python",
   "nbconvert_exporter": "python",
   "pygments_lexer": "ipython3",
   "version": "3.9.13"
  }
 },
 "nbformat": 4,
 "nbformat_minor": 5
}
