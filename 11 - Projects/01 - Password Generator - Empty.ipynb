{
 "cells": [
  {
   "cell_type": "markdown",
   "id": "aee95cd3",
   "metadata": {},
   "source": [
    "# Password Generator\n",
    "\n",
    "Create a password generator.\n",
    "\n",
    "The password should in this format (with a dash `-` every 4th character).\n",
    "\n",
    "- `vr)5-x?C(-8FNh-SkfD`\n",
    "\n",
    "The password should have:\n",
    "- at least one lowercase character: `abcdefghijklmnopqrstuvwxyz`\n",
    "- at least one uppercase character: `ABCDEFGHIJKLMNOPQRSTUVWXYZ`\n",
    "- at least one decimal: `01234567890`\n",
    "- at least one special character: `!@#$%^&*()?`"
   ]
  },
  {
   "cell_type": "code",
   "execution_count": null,
   "id": "160cf8e6",
   "metadata": {},
   "outputs": [],
   "source": []
  },
  {
   "cell_type": "code",
   "execution_count": null,
   "id": "1dfbf4bd",
   "metadata": {},
   "outputs": [],
   "source": []
  },
  {
   "cell_type": "code",
   "execution_count": null,
   "id": "4ac78265",
   "metadata": {},
   "outputs": [],
   "source": []
  }
 ],
 "metadata": {
  "kernelspec": {
   "display_name": "Python 3 (ipykernel)",
   "language": "python",
   "name": "python3"
  },
  "language_info": {
   "codemirror_mode": {
    "name": "ipython",
    "version": 3
   },
   "file_extension": ".py",
   "mimetype": "text/x-python",
   "name": "python",
   "nbconvert_exporter": "python",
   "pygments_lexer": "ipython3",
   "version": "3.9.13"
  }
 },
 "nbformat": 4,
 "nbformat_minor": 5
}
