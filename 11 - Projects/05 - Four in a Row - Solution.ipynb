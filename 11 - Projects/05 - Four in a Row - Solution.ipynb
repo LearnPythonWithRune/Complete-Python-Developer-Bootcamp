{
 "cells": [
  {
   "cell_type": "markdown",
   "id": "eebb1e84",
   "metadata": {},
   "source": [
    "# Four in a Row\n",
    "\n",
    "\n",
    "This is a tile-dropping board game for two players.\n",
    "\n",
    "* The goal is to get four of your tiles in a row horizontally, vertically, or diagonally, while preventing your opponent from doing the same.\n",
    "\n",
    "#### Example\n",
    "\n",
    "```\n",
    " 0123456\n",
    "+-------+\n",
    "|·······|\n",
    "|·······|\n",
    "|O·XX···|\n",
    "|XOOOX··|\n",
    "|OXOXX··|\n",
    "|OXOOOX·|\n",
    "+-------+\n",
    "```"
   ]
  },
  {
   "cell_type": "code",
   "execution_count": null,
   "id": "acc5dcd6",
   "metadata": {},
   "outputs": [],
   "source": [
    "# 0: represent the board\n",
    "# 1: display board\n",
    "# 2: prompt the user for move\n",
    "# 3: check if move is valid, if not go to 2\n",
    "# 4: place the move\n",
    "# 5: check if game done (no more valid moves)\n",
    "# 6: check if player won\n",
    "# 7: the same for the other player\n",
    "# 8: continue until won or done"
   ]
  },
  {
   "cell_type": "code",
   "execution_count": 1,
   "id": "12785ea0",
   "metadata": {},
   "outputs": [
    {
     "data": {
      "text/plain": [
       "[['·', '·', '·', '·', '·', '·', '·'],\n",
       " ['·', '·', '·', '·', '·', '·', '·'],\n",
       " ['·', '·', '·', '·', '·', '·', '·'],\n",
       " ['·', '·', '·', '·', '·', '·', '·'],\n",
       " ['·', '·', '·', '·', '·', '·', '·'],\n",
       " ['·', '·', '·', '·', '·', '·', '·']]"
      ]
     },
     "execution_count": 1,
     "metadata": {},
     "output_type": "execute_result"
    }
   ],
   "source": [
    "# 0: the board\n",
    "\n",
    "empty = '·'\n",
    "board = [[empty]*7 for _ in range(6)]\n",
    "board"
   ]
  },
  {
   "cell_type": "code",
   "execution_count": 4,
   "id": "cf20cd72",
   "metadata": {},
   "outputs": [],
   "source": [
    "# 1: display board\n",
    "from IPython.display import clear_output\n",
    "\n",
    "def display_board(board):\n",
    "    clear_output()\n",
    "    print(' 0123456')\n",
    "    print('+-------+')\n",
    "    for row in board:\n",
    "        print('|', end='')\n",
    "        for col in row:\n",
    "            print(col, end='')\n",
    "        print('|')\n",
    "    print('+-------+')"
   ]
  },
  {
   "cell_type": "code",
   "execution_count": 5,
   "id": "e8527079",
   "metadata": {},
   "outputs": [
    {
     "name": "stdout",
     "output_type": "stream",
     "text": [
      " 0123456\n",
      "+-------+\n",
      "|·······|\n",
      "|·······|\n",
      "|·······|\n",
      "|·······|\n",
      "|·······|\n",
      "|·······|\n",
      "+-------+\n"
     ]
    }
   ],
   "source": [
    "display_board(board)"
   ]
  },
  {
   "cell_type": "code",
   "execution_count": 9,
   "id": "88481ced",
   "metadata": {},
   "outputs": [],
   "source": [
    "# 2: prompt the user for move\n",
    "# 3: check if move is valid, if not go to 2\n",
    "\n",
    "def valid_move(board, move):\n",
    "    if len(move) != 1:\n",
    "        return False\n",
    "    \n",
    "    if move not in '0123456':\n",
    "        return False\n",
    "    \n",
    "    if board[0][int(move)] != empty:\n",
    "        return False\n",
    "    \n",
    "    return True\n",
    "\n",
    "\n",
    "test_board = [[empty]*7 for _ in range(6)]\n",
    "assert valid_move(test_board, '4')\n",
    "assert valid_move(test_board, '8') == False\n",
    "assert valid_move(test_board, 'a') == False\n",
    "assert valid_move(test_board, '23') == False\n",
    "\n",
    "\n",
    "def get_player_move(board, marker):\n",
    "    print('Player:', marker)\n",
    "    while True:\n",
    "        move = input('Input move 0-6: ')\n",
    "        if valid_move(board, move):\n",
    "            return int(move)\n",
    "        print('Invalid move')\n"
   ]
  },
  {
   "cell_type": "code",
   "execution_count": 11,
   "id": "eab49199",
   "metadata": {},
   "outputs": [
    {
     "name": "stdout",
     "output_type": "stream",
     "text": [
      "Player: O\n",
      "Input move 0-6: 8\n",
      "Invalid move\n",
      "Input move 0-6: 0\n"
     ]
    },
    {
     "data": {
      "text/plain": [
       "0"
      ]
     },
     "execution_count": 11,
     "metadata": {},
     "output_type": "execute_result"
    }
   ],
   "source": [
    "get_player_move(board, 'O')"
   ]
  },
  {
   "cell_type": "code",
   "execution_count": 18,
   "id": "443fb009",
   "metadata": {},
   "outputs": [],
   "source": [
    "# 4: place the move\n",
    "\n",
    "def place_move(board, move, marker):\n",
    "    for row in board[::-1]:\n",
    "        if row[move] == empty:\n",
    "            row[move] = marker\n",
    "            \n",
    "            return board\n",
    "        "
   ]
  },
  {
   "cell_type": "code",
   "execution_count": 20,
   "id": "c414d832",
   "metadata": {},
   "outputs": [
    {
     "name": "stdout",
     "output_type": "stream",
     "text": [
      " 0123456\n",
      "+-------+\n",
      "|·······|\n",
      "|·······|\n",
      "|·······|\n",
      "|·······|\n",
      "|···X···|\n",
      "|···O···|\n",
      "+-------+\n"
     ]
    }
   ],
   "source": [
    "tb = [[empty]*7 for _ in range(6)]\n",
    "\n",
    "tb = place_move(tb, 3, 'O')\n",
    "tb = place_move(tb, 3, 'X')\n",
    "\n",
    "display_board(tb)"
   ]
  },
  {
   "cell_type": "code",
   "execution_count": 25,
   "id": "085b93ab",
   "metadata": {},
   "outputs": [],
   "source": [
    "# 5: check if game done (no more valid moves)\n",
    "def is_full(board):\n",
    "    for col in board[0]:\n",
    "        if col == empty:\n",
    "            return False\n",
    "        \n",
    "    return True\n",
    "\n",
    "tb = [[empty]*7 for _ in range(6)]\n",
    "assert is_full(tb) == False\n",
    "\n",
    "tb = [['O']*7 for _ in range(6)]\n",
    "assert is_full(tb) == True"
   ]
  },
  {
   "cell_type": "code",
   "execution_count": 38,
   "id": "ba0cef37",
   "metadata": {},
   "outputs": [],
   "source": [
    "# 6: check if player won\n",
    "\n",
    "def transpose(board):\n",
    "    trans = []\n",
    "    \n",
    "    for i in range(len(board[0])):\n",
    "        col = []\n",
    "        for row in board:\n",
    "            col.append(row[i])\n",
    "            \n",
    "        trans.append(col)\n",
    "    \n",
    "    return trans\n",
    "\n",
    "\n",
    "def four_in_row(board, marker):\n",
    "    for row in board:\n",
    "        row_str = ''.join(row)\n",
    "        if marker*4 in row_str:\n",
    "            return True\n",
    "    \n",
    "    return False\n",
    "\n",
    "tb = [[empty]*7 for _ in range(6)]\n",
    "assert four_in_row(tb, 'O') == False\n",
    "tb = [['O']*7 for _ in range(6)]\n",
    "assert four_in_row(tb, 'O')\n",
    "\n",
    "\n",
    "def game_won(board, marker):\n",
    "    # 4 in a row\n",
    "    if four_in_row(board, marker):\n",
    "        return True\n",
    "    \n",
    "    # 4 in a column\n",
    "    trans = transpose(board)\n",
    "    if four_in_row(trans, marker):\n",
    "        return True\n",
    "    \n",
    "    # 4 diagonal (left to right)\n",
    "    diag = []\n",
    "    \n",
    "    for idx, row in enumerate(board):\n",
    "        s_row = [empty]*(6 - idx) + row + [empty]*idx\n",
    "        diag.append(s_row)\n",
    "\n",
    "    diag_t = transpose(diag)\n",
    "    if four_in_row(diag_t, marker):\n",
    "        return True\n",
    "    \n",
    "    # 4 diagonal (right to left)\n",
    "    diag = []\n",
    "    \n",
    "    for idx, row in enumerate(board):\n",
    "        s_row = [empty]*idx + row + [empty]*(6 - idx)\n",
    "        diag.append(s_row)\n",
    "\n",
    "    diag_t = transpose(diag)\n",
    "    if four_in_row(diag_t, marker):\n",
    "        return True\n",
    "    \n",
    "    return False\n",
    "    "
   ]
  },
  {
   "cell_type": "code",
   "execution_count": 39,
   "id": "b71541c0",
   "metadata": {},
   "outputs": [
    {
     "data": {
      "text/plain": [
       "False"
      ]
     },
     "execution_count": 39,
     "metadata": {},
     "output_type": "execute_result"
    }
   ],
   "source": [
    "tb = [[' ']*7 for _ in range(6)]\n",
    "game_won(tb, 'O')"
   ]
  },
  {
   "cell_type": "code",
   "execution_count": 27,
   "id": "3fdc7637",
   "metadata": {},
   "outputs": [
    {
     "data": {
      "text/plain": [
       "[[1, 3], [2, 4]]"
      ]
     },
     "execution_count": 27,
     "metadata": {},
     "output_type": "execute_result"
    }
   ],
   "source": [
    "tb = [[1, 2], [3, 4]]\n",
    "transpose(tb)"
   ]
  },
  {
   "cell_type": "code",
   "execution_count": 28,
   "id": "693c6210",
   "metadata": {},
   "outputs": [
    {
     "name": "stdout",
     "output_type": "stream",
     "text": [
      "[1, 2]\n",
      "[3, 4]\n"
     ]
    }
   ],
   "source": [
    "for row in tb:\n",
    "    print(row)"
   ]
  },
  {
   "cell_type": "code",
   "execution_count": 29,
   "id": "87ec9edb",
   "metadata": {},
   "outputs": [
    {
     "name": "stdout",
     "output_type": "stream",
     "text": [
      "[1, 3]\n",
      "[2, 4]\n"
     ]
    }
   ],
   "source": [
    "for row in transpose(tb):\n",
    "    print(row)"
   ]
  },
  {
   "cell_type": "code",
   "execution_count": 40,
   "id": "e8199530",
   "metadata": {},
   "outputs": [
    {
     "name": "stdout",
     "output_type": "stream",
     "text": [
      " 0123456\n",
      "+-------+\n",
      "|·······|\n",
      "|·······|\n",
      "|·X·····|\n",
      "|·OX····|\n",
      "|XOOX···|\n",
      "|XOOOX··|\n",
      "+-------+\n",
      "Done X\n"
     ]
    }
   ],
   "source": [
    "# 0: represent the board\n",
    "# 1: display board\n",
    "# 2: prompt the user for move\n",
    "# 3: check if move is valid, if not go to 2\n",
    "# 4: place the move\n",
    "# 5: check if game done (no more valid moves)\n",
    "# 6: check if player won\n",
    "# 7: the same for the other player\n",
    "# 8: continue until won or done\n",
    "\n",
    "empty = '·'\n",
    "board = [[empty]*7 for _ in range(6)]\n",
    "\n",
    "while True:\n",
    "    display_board(board)\n",
    "    move = get_player_move(board, 'O')\n",
    "    board = place_move(board, move, 'O')\n",
    "    if game_won(board, 'O') or is_full(board):\n",
    "        display_board(board)\n",
    "        print('Done O')\n",
    "        break\n",
    "        \n",
    "    display_board(board)\n",
    "    move = get_player_move(board, 'X')\n",
    "    board = place_move(board, move, 'X')\n",
    "    if game_won(board, 'X') or is_full(board):\n",
    "        display_board(board)\n",
    "        print('Done X')\n",
    "        break"
   ]
  },
  {
   "cell_type": "code",
   "execution_count": null,
   "id": "13931e98",
   "metadata": {},
   "outputs": [],
   "source": []
  }
 ],
 "metadata": {
  "kernelspec": {
   "display_name": "Python 3 (ipykernel)",
   "language": "python",
   "name": "python3"
  },
  "language_info": {
   "codemirror_mode": {
    "name": "ipython",
    "version": 3
   },
   "file_extension": ".py",
   "mimetype": "text/x-python",
   "name": "python",
   "nbconvert_exporter": "python",
   "pygments_lexer": "ipython3",
   "version": "3.9.13"
  }
 },
 "nbformat": 4,
 "nbformat_minor": 5
}
