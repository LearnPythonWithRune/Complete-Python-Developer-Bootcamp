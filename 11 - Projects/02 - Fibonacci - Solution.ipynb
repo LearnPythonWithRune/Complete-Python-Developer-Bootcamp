{
 "cells": [
  {
   "cell_type": "markdown",
   "id": "696294e9",
   "metadata": {},
   "source": [
    "# Fibonacci\n",
    "\n",
    "The Fibonacci sequence is as follows.\n",
    "\n",
    "`0 1 1 2 3 5 8 13 21 34 ...` (continues)\n",
    "\n",
    "It is generated as follows.\n",
    "\n",
    "The next number is genrated by adding the two last numbers.\n",
    "\n",
    "```\n",
    "0 + 1 = 1\n",
    "1 + 1 = 2\n",
    "1 + 2 = 3\n",
    "2 + 3 = 5\n",
    "3 + 5 = 8\n",
    "5 + 8 = 13\n",
    "8 + 13 = 21\n",
    "13 + 21 = 34\n",
    "21 + 34 = 55\n",
    "...\n",
    "```\n",
    "\n",
    "Write a program that prints the Fibonacci sequence."
   ]
  },
  {
   "cell_type": "code",
   "execution_count": 1,
   "id": "6f4a922f",
   "metadata": {},
   "outputs": [],
   "source": [
    "# 1: Write a function fib(n) that returns the n'th Fibonacci number\n",
    "# 2: Create a loop that prints the first m Fibonacci numbers"
   ]
  },
  {
   "cell_type": "code",
   "execution_count": 5,
   "id": "ef6930ab",
   "metadata": {},
   "outputs": [],
   "source": [
    "def fib(n):\n",
    "    \"\"\"\n",
    "    Returns the n'th Fibonacci number\n",
    "    \"\"\"\n",
    "    if n <= 1:\n",
    "        return n\n",
    "    \n",
    "    i = 0\n",
    "    j = 1\n",
    "    \n",
    "    for _ in range(1, n):\n",
    "        i_next = j\n",
    "        j_next = i + j\n",
    "        i = i_next\n",
    "        j = j_next\n",
    "    return j\n",
    "\n",
    "assert fib(0) == 0\n",
    "assert fib(1) == 1\n",
    "assert fib(2) == 1\n",
    "assert fib(3) == 2\n",
    "assert fib(4) == 3\n",
    "assert fib(5) == 5\n",
    "assert fib(6) == 8\n",
    "assert fib(7) == 13\n",
    "\n"
   ]
  },
  {
   "cell_type": "code",
   "execution_count": 4,
   "id": "87d89dc8",
   "metadata": {},
   "outputs": [
    {
     "data": {
      "text/plain": [
       "2"
      ]
     },
     "execution_count": 4,
     "metadata": {},
     "output_type": "execute_result"
    }
   ],
   "source": [
    "fib(2)"
   ]
  },
  {
   "cell_type": "code",
   "execution_count": 8,
   "id": "5274157e",
   "metadata": {},
   "outputs": [],
   "source": [
    "def display_fib(n):\n",
    "    for i in range(n + 1):\n",
    "        print(fib(i))"
   ]
  },
  {
   "cell_type": "code",
   "execution_count": 9,
   "id": "11c6b206",
   "metadata": {
    "scrolled": true
   },
   "outputs": [
    {
     "name": "stdout",
     "output_type": "stream",
     "text": [
      "0\n",
      "1\n",
      "1\n",
      "2\n",
      "3\n",
      "5\n",
      "8\n",
      "13\n",
      "21\n",
      "34\n",
      "55\n"
     ]
    }
   ],
   "source": [
    "\n",
    "display_fib(10)"
   ]
  },
  {
   "cell_type": "code",
   "execution_count": 10,
   "id": "105b2480",
   "metadata": {},
   "outputs": [],
   "source": [
    "def fib(n):  # fib(4)\n",
    "    if n <= 1:\n",
    "        return n\n",
    " \n",
    "    return fib(n - 2) + fib(n - 1)  # 0 + 1 + 1 + 0 + 1 = 3\n",
    "\n",
    "# fib(2)\n",
    "\n",
    "assert fib(0) == 0\n",
    "assert fib(1) == 1\n",
    "assert fib(2) == 1\n",
    "assert fib(3) == 2\n",
    "assert fib(4) == 3\n",
    "assert fib(5) == 5\n",
    "assert fib(6) == 8\n",
    "assert fib(7) == 13"
   ]
  },
  {
   "cell_type": "code",
   "execution_count": null,
   "id": "455c2554",
   "metadata": {},
   "outputs": [],
   "source": []
  }
 ],
 "metadata": {
  "kernelspec": {
   "display_name": "Python 3 (ipykernel)",
   "language": "python",
   "name": "python3"
  },
  "language_info": {
   "codemirror_mode": {
    "name": "ipython",
    "version": 3
   },
   "file_extension": ".py",
   "mimetype": "text/x-python",
   "name": "python",
   "nbconvert_exporter": "python",
   "pygments_lexer": "ipython3",
   "version": "3.9.13"
  }
 },
 "nbformat": 4,
 "nbformat_minor": 5
}
