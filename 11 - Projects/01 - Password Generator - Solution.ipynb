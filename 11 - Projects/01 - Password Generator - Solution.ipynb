{
 "cells": [
  {
   "cell_type": "markdown",
   "id": "aee95cd3",
   "metadata": {},
   "source": [
    "# Password Generator\n",
    "\n",
    "Create a password generator.\n",
    "\n",
    "The password should in this format (with a dash `-` every 4th character).\n",
    "\n",
    "- `vr)5-x?C(-8FNh-SkfD`\n",
    "\n",
    "The password should have:\n",
    "- at least one lowercase character: `abcdefghijklmnopqrstuvwxyz`\n",
    "- at least one uppercase character: `ABCDEFGHIJKLMNOPQRSTUVWXYZ`\n",
    "- at least one decimal: `01234567890`\n",
    "- at least one special character: `!@#$%^&*()?`"
   ]
  },
  {
   "cell_type": "code",
   "execution_count": null,
   "id": "160cf8e6",
   "metadata": {},
   "outputs": [],
   "source": [
    "# 1: Generate 16 random character form the whole set of chars\n",
    "# 2: Check if it satisfies the 4 requirements.\n",
    "#    - if not, go to step 1\n",
    "# 3: format password [4 chars]-[4 chars]-[4 chars]-[4 chars]"
   ]
  },
  {
   "cell_type": "code",
   "execution_count": 1,
   "id": "1dfbf4bd",
   "metadata": {},
   "outputs": [],
   "source": [
    "from random import choice"
   ]
  },
  {
   "cell_type": "code",
   "execution_count": 9,
   "id": "4ac78265",
   "metadata": {},
   "outputs": [],
   "source": [
    "def generate_16_random_chars():\n",
    "    chars = 'abcdefghijklmnopqrstuvwxyz'\n",
    "    chars += 'ABCDEFGHIJKLMNOPQRSTUVWXYZ'\n",
    "    chars += '01234567890'\n",
    "    chars += '!@#$%^&*()?'\n",
    "    \n",
    "    password = ''\n",
    "    for _ in range(16):\n",
    "        password += choice(chars)\n",
    "        \n",
    "    return password\n",
    "\n",
    "assert len(generate_16_random_chars()) == 16"
   ]
  },
  {
   "cell_type": "code",
   "execution_count": 6,
   "id": "56e858ce",
   "metadata": {},
   "outputs": [
    {
     "data": {
      "text/plain": [
       "16"
      ]
     },
     "execution_count": 6,
     "metadata": {},
     "output_type": "execute_result"
    }
   ],
   "source": [
    "generate_16_random_chars()"
   ]
  },
  {
   "cell_type": "code",
   "execution_count": 12,
   "id": "2c844f3d",
   "metadata": {},
   "outputs": [],
   "source": [
    "def contains(chars, password):\n",
    "    \"\"\"\n",
    "    Returns True if a char from chars is in password\n",
    "    \"\"\"\n",
    "    for char in chars:\n",
    "        if char in password:\n",
    "            return True\n",
    "\n",
    "    return False\n",
    "\n",
    "assert contains('abcdefghijklmnopqrstuvwxyz', 'BBBBa')\n",
    "assert contains('abcdefghijklmnopqrstuvwxyz', 'ABABAB') == False\n",
    "\n",
    "def strong_password(password):\n",
    "    if not contains('abcdefghijklmnopqrstuvwxyz', password):\n",
    "        return False\n",
    "    if not contains('ABCDEFGHIJKLMNOPQRSTUVWXYZ', password):\n",
    "        return False\n",
    "    if not contains('01234567890', password):\n",
    "        return False\n",
    "    if not contains('!@#$%^&*()?', password):\n",
    "        return False\n",
    "    return True\n",
    "\n",
    "assert strong_password('fZ4!')\n",
    "assert strong_password('ZZABAB2938&') == False\n",
    "assert strong_password('fhjsdf()(4!') == False\n",
    "assert strong_password('fZ!///sdfWER') == False\n",
    "assert strong_password('fZ4GSDF234asd') == False\n",
    "\n"
   ]
  },
  {
   "cell_type": "code",
   "execution_count": 13,
   "id": "0bc6f24a",
   "metadata": {},
   "outputs": [],
   "source": [
    "def generate_password():\n",
    "    \"\"\"\n",
    "    Return a strong password.\n",
    "    \"\"\"\n",
    "    while True:\n",
    "        password = generate_16_random_chars()\n",
    "        if strong_password(password):\n",
    "            break\n",
    "\n",
    "    f_password = password[:4] + '-' + password[4:8] + '-' + password[8:12] + '-' + password[12:]\n",
    "    return f_password"
   ]
  },
  {
   "cell_type": "code",
   "execution_count": 14,
   "id": "4e60100c",
   "metadata": {},
   "outputs": [
    {
     "data": {
      "text/plain": [
       "')YA6-*gE&-Pb^D-V#wP'"
      ]
     },
     "execution_count": 14,
     "metadata": {},
     "output_type": "execute_result"
    }
   ],
   "source": [
    "generate_password()"
   ]
  },
  {
   "cell_type": "code",
   "execution_count": null,
   "id": "7e00020b",
   "metadata": {},
   "outputs": [],
   "source": []
  }
 ],
 "metadata": {
  "kernelspec": {
   "display_name": "Python 3 (ipykernel)",
   "language": "python",
   "name": "python3"
  },
  "language_info": {
   "codemirror_mode": {
    "name": "ipython",
    "version": 3
   },
   "file_extension": ".py",
   "mimetype": "text/x-python",
   "name": "python",
   "nbconvert_exporter": "python",
   "pygments_lexer": "ipython3",
   "version": "3.9.13"
  }
 },
 "nbformat": 4,
 "nbformat_minor": 5
}
