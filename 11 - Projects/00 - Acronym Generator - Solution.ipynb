{
 "cells": [
  {
   "cell_type": "markdown",
   "id": "f7ded33f",
   "metadata": {},
   "source": [
    "# Acronym Generator\n",
    "\n",
    "An acronym is a word created by combining the first letter or syllable of each word in a phrase to create a new, single word. Here are a few examples of popular acronyms:\n",
    "\n",
    "* **FOMO** fear of missing out\n",
    "* **GIF** graphics interchange format\n",
    "* **PIN** personal identification number\n",
    "\n",
    "Create an acronym generator."
   ]
  },
  {
   "cell_type": "code",
   "execution_count": 1,
   "id": "f08b844b",
   "metadata": {},
   "outputs": [],
   "source": [
    "# 1: Input from the user\n",
    "# 2: Make the processing (convert to acronym)\n",
    "# 3: Output the result"
   ]
  },
  {
   "cell_type": "code",
   "execution_count": 2,
   "id": "b127094f",
   "metadata": {},
   "outputs": [],
   "source": [
    "def get_input():\n",
    "    input_str = input('Input word phrase: ')\n",
    "    return input_str"
   ]
  },
  {
   "cell_type": "code",
   "execution_count": 12,
   "id": "52c125b4",
   "metadata": {},
   "outputs": [],
   "source": [
    "def convert_to_acronym(phrase):\n",
    "    acronym = ''\n",
    "    for word in phrase.split():\n",
    "        acronym += word[0].upper()\n",
    "    \n",
    "    return acronym\n",
    "\n",
    "assert convert_to_acronym('fear of missing out') == 'FOMO'\n",
    "assert convert_to_acronym('graphics interchange format') == 'GIF'\n",
    "assert convert_to_acronym('personal identification number') == 'PIN'\n"
   ]
  },
  {
   "cell_type": "code",
   "execution_count": 10,
   "id": "27cdc64b",
   "metadata": {},
   "outputs": [
    {
     "data": {
      "text/plain": [
       "'FOMO'"
      ]
     },
     "execution_count": 10,
     "metadata": {},
     "output_type": "execute_result"
    }
   ],
   "source": [
    "convert_to_acronym('fear of missing out')"
   ]
  },
  {
   "cell_type": "code",
   "execution_count": 13,
   "id": "cb85533c",
   "metadata": {},
   "outputs": [],
   "source": [
    "def display_result(phrase, acronym):\n",
    "    print('The phrase:', phrase)\n",
    "    print('Acronym:', acronym)"
   ]
  },
  {
   "cell_type": "code",
   "execution_count": 14,
   "id": "9d0044a8",
   "metadata": {},
   "outputs": [
    {
     "name": "stdout",
     "output_type": "stream",
     "text": [
      "The phrase: fear of missing out\n",
      "Acronym: FOMO\n"
     ]
    }
   ],
   "source": [
    "display_result('fear of missing out', 'FOMO')"
   ]
  },
  {
   "cell_type": "code",
   "execution_count": 15,
   "id": "c5b7ed51",
   "metadata": {},
   "outputs": [
    {
     "name": "stdout",
     "output_type": "stream",
     "text": [
      "Input word phrase: fear of missing out\n",
      "The phrase: fear of missing out\n",
      "Acronym: FOMO\n"
     ]
    }
   ],
   "source": [
    "# Step 1\n",
    "phrase = get_input()\n",
    "\n",
    "# Step 2\n",
    "acronym = convert_to_acronym(phrase)\n",
    "\n",
    "# Step 3\n",
    "display_result(phrase, acronym)\n"
   ]
  },
  {
   "cell_type": "code",
   "execution_count": null,
   "id": "1a77cc73",
   "metadata": {},
   "outputs": [],
   "source": []
  }
 ],
 "metadata": {
  "kernelspec": {
   "display_name": "Python 3 (ipykernel)",
   "language": "python",
   "name": "python3"
  },
  "language_info": {
   "codemirror_mode": {
    "name": "ipython",
    "version": 3
   },
   "file_extension": ".py",
   "mimetype": "text/x-python",
   "name": "python",
   "nbconvert_exporter": "python",
   "pygments_lexer": "ipython3",
   "version": "3.9.13"
  }
 },
 "nbformat": 4,
 "nbformat_minor": 5
}
