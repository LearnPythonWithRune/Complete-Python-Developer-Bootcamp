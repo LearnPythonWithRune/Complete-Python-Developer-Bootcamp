{
 "cells": [
  {
   "cell_type": "markdown",
   "id": "727abc59",
   "metadata": {},
   "source": [
    "# Valid Parentheses\n",
    "\n",
    "A valid parentheses string satisfies the following:\n",
    "\n",
    "- Every opening bracket must have a matching closing bracket of the same type.\n",
    "- The brackets should be closed in the correct order.\n",
    "\n",
    "Examples of valid\n",
    "- `()`\n",
    "- `(())`\n",
    "- `()()`\n",
    "- `(()())`\n",
    "\n",
    "Examples of invalid\n",
    "- `(()`\n",
    "- `)(`\n",
    "- `())(`\n",
    "- `((())`\n",
    "\n",
    "### Advanced\n",
    "Can you solve it if the string contains simple, curly, and square braces: `()[]{}`\n",
    "\n",
    "Examples of valid\n",
    "- `()[]`\n",
    "- `([])`\n",
    "- `(){}`\n",
    "- `([]{})`\n",
    "\n",
    "Examples of invalid\n",
    "- `([)]`\n",
    "- `(}(]`\n",
    "- `()(}`\n",
    "- `({][})`"
   ]
  },
  {
   "cell_type": "code",
   "execution_count": null,
   "id": "68037901",
   "metadata": {},
   "outputs": [],
   "source": []
  },
  {
   "cell_type": "code",
   "execution_count": null,
   "id": "2d2eaebc",
   "metadata": {},
   "outputs": [],
   "source": []
  },
  {
   "cell_type": "code",
   "execution_count": null,
   "id": "7aea5ed0",
   "metadata": {},
   "outputs": [],
   "source": []
  }
 ],
 "metadata": {
  "kernelspec": {
   "display_name": "Python 3 (ipykernel)",
   "language": "python",
   "name": "python3"
  },
  "language_info": {
   "codemirror_mode": {
    "name": "ipython",
    "version": 3
   },
   "file_extension": ".py",
   "mimetype": "text/x-python",
   "name": "python",
   "nbconvert_exporter": "python",
   "pygments_lexer": "ipython3",
   "version": "3.9.13"
  }
 },
 "nbformat": 4,
 "nbformat_minor": 5
}
