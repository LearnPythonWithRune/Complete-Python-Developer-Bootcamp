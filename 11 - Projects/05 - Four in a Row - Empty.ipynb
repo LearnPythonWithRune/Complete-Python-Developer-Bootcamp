{
 "cells": [
  {
   "cell_type": "markdown",
   "id": "eebb1e84",
   "metadata": {},
   "source": [
    "# Four in a Row\n",
    "\n",
    "\n",
    "This is a tile-dropping board game for two players.\n",
    "\n",
    "* The goal is to get four of your tiles in a row horizontally, vertically, or diagonally, while preventing your opponent from doing the same.\n",
    "\n",
    "#### Example\n",
    "\n",
    "```\n",
    " 0123456\n",
    "+-------+\n",
    "|·······|\n",
    "|·······|\n",
    "|O·XX···|\n",
    "|XOOOX··|\n",
    "|OXOXX··|\n",
    "|OXOOOX·|\n",
    "+-------+\n",
    "```"
   ]
  },
  {
   "cell_type": "code",
   "execution_count": null,
   "id": "acc5dcd6",
   "metadata": {},
   "outputs": [],
   "source": []
  },
  {
   "cell_type": "code",
   "execution_count": null,
   "id": "12785ea0",
   "metadata": {},
   "outputs": [],
   "source": []
  },
  {
   "cell_type": "code",
   "execution_count": null,
   "id": "2206dc08",
   "metadata": {},
   "outputs": [],
   "source": []
  }
 ],
 "metadata": {
  "kernelspec": {
   "display_name": "Python 3 (ipykernel)",
   "language": "python",
   "name": "python3"
  },
  "language_info": {
   "codemirror_mode": {
    "name": "ipython",
    "version": 3
   },
   "file_extension": ".py",
   "mimetype": "text/x-python",
   "name": "python",
   "nbconvert_exporter": "python",
   "pygments_lexer": "ipython3",
   "version": "3.9.13"
  }
 },
 "nbformat": 4,
 "nbformat_minor": 5
}
