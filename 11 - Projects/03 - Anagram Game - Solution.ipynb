{
 "cells": [
  {
   "cell_type": "markdown",
   "id": "14982501",
   "metadata": {},
   "source": [
    "# Anagram Game\n",
    "\n",
    "\n",
    "### What is an Anagram?\n",
    "An anagram of a word is another word obtained by shuffling its letters.\n",
    "\n",
    "#### Example\n",
    "`race` and `care` are anagrams of each other.\n",
    "\n",
    "### What to do\n",
    "Create a program which will show the anagram of any word the user input. The user should guess it.\n",
    "\n",
    "Here are a few words you can use.\n",
    "\n",
    "```Python\n",
    "words = [\n",
    "    'atrocity',\n",
    "    'fanatical',\n",
    "    'pensive',\n",
    "    'respite',\n",
    "    'discordant',\n",
    "    'eloquent',\n",
    "    'encompass',\n",
    "    'imperceptible',\n",
    "    'insuperable',\n",
    "    'stealthily',\n",
    "    'impassive',\n",
    "    'preoccupied'\n",
    "]\n",
    "```"
   ]
  },
  {
   "cell_type": "code",
   "execution_count": null,
   "id": "21bc9346",
   "metadata": {},
   "outputs": [],
   "source": [
    "# 1: Get a random word from list words\n",
    "# 2: Shuffle the word to make an anagram\n",
    "# 3: Prompt the user for guessing what the word is of the anagram\n",
    "# 4: Check if correct guess, go to 3 if not"
   ]
  },
  {
   "cell_type": "code",
   "execution_count": 7,
   "id": "38160143",
   "metadata": {},
   "outputs": [],
   "source": [
    "from random import choice, shuffle"
   ]
  },
  {
   "cell_type": "code",
   "execution_count": 20,
   "id": "75c42e6e",
   "metadata": {},
   "outputs": [
    {
     "name": "stdout",
     "output_type": "stream",
     "text": [
      "crea\n",
      "angel\n",
      "care\n",
      "race\n",
      "You guessed it!\n"
     ]
    }
   ],
   "source": [
    "words = [\n",
    "    'race',\n",
    "    'angel'\n",
    "]\n",
    "\n",
    "# 1: Get random word\n",
    "word = choice(words)\n",
    "\n",
    "# 2: Shuffle to create anagram\n",
    "letters = list(word)\n",
    "shuffle(letters)\n",
    "anagram = ''.join(letters)\n",
    "\n",
    "print(anagram)\n",
    "\n",
    "# 3: Prompt user\n",
    "while True:\n",
    "    guess = input()\n",
    "    \n",
    "    # 4: Check if correct\n",
    "    if guess == word:\n",
    "        print('You guessed it!')\n",
    "        break\n"
   ]
  },
  {
   "cell_type": "code",
   "execution_count": null,
   "id": "5e2af892",
   "metadata": {},
   "outputs": [],
   "source": []
  }
 ],
 "metadata": {
  "kernelspec": {
   "display_name": "Python 3 (ipykernel)",
   "language": "python",
   "name": "python3"
  },
  "language_info": {
   "codemirror_mode": {
    "name": "ipython",
    "version": 3
   },
   "file_extension": ".py",
   "mimetype": "text/x-python",
   "name": "python",
   "nbconvert_exporter": "python",
   "pygments_lexer": "ipython3",
   "version": "3.9.13"
  }
 },
 "nbformat": 4,
 "nbformat_minor": 5
}
