{
 "cells": [
  {
   "cell_type": "markdown",
   "id": "14982501",
   "metadata": {},
   "source": [
    "# Anagram Game\n",
    "\n",
    "\n",
    "### What is an Anagram?\n",
    "An anagram of a word is another word obtained by shuffling its letters.\n",
    "\n",
    "#### Example\n",
    "`race` and `care` are anagrams of each other.\n",
    "\n",
    "### What to do\n",
    "Create a program which will show the anagram of any word the user input. The user should guess it.\n",
    "\n",
    "Here are a few words you can use.\n",
    "\n",
    "```Python\n",
    "words = [\n",
    "    'atrocity',\n",
    "    'fanatical',\n",
    "    'pensive',\n",
    "    'respite',\n",
    "    'discordant',\n",
    "    'eloquent',\n",
    "    'encompass',\n",
    "    'imperceptible',\n",
    "    'insuperable',\n",
    "    'stealthily',\n",
    "    'impassive',\n",
    "    'preoccupied'\n",
    "]\n",
    "```"
   ]
  },
  {
   "cell_type": "code",
   "execution_count": null,
   "id": "21bc9346",
   "metadata": {},
   "outputs": [],
   "source": []
  },
  {
   "cell_type": "code",
   "execution_count": null,
   "id": "75c42e6e",
   "metadata": {},
   "outputs": [],
   "source": []
  },
  {
   "cell_type": "code",
   "execution_count": null,
   "id": "5e2af892",
   "metadata": {},
   "outputs": [],
   "source": []
  }
 ],
 "metadata": {
  "kernelspec": {
   "display_name": "Python 3 (ipykernel)",
   "language": "python",
   "name": "python3"
  },
  "language_info": {
   "codemirror_mode": {
    "name": "ipython",
    "version": 3
   },
   "file_extension": ".py",
   "mimetype": "text/x-python",
   "name": "python",
   "nbconvert_exporter": "python",
   "pygments_lexer": "ipython3",
   "version": "3.9.13"
  }
 },
 "nbformat": 4,
 "nbformat_minor": 5
}
