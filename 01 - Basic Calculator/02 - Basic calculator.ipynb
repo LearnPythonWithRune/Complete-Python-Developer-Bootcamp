{
 "cells": [
  {
   "cell_type": "markdown",
   "id": "a228d724",
   "metadata": {},
   "source": [
    "# Basic Calculator / NICE-TO-KNOW\n",
    "\n",
    "A great first use of Notebooks is to make simple calculations from formulas."
   ]
  },
  {
   "cell_type": "markdown",
   "id": "d4bffb38",
   "metadata": {},
   "source": [
    "### Use of variables\n",
    "\n",
    "A great way to use the Notebooks for calculating formulas is to use variables.\n",
    "\n",
    "**Example**\n",
    "`a = 20`\n"
   ]
  },
  {
   "cell_type": "code",
   "execution_count": null,
   "id": "f756f481",
   "metadata": {},
   "outputs": [],
   "source": []
  },
  {
   "cell_type": "code",
   "execution_count": null,
   "id": "2f5c9295",
   "metadata": {},
   "outputs": [],
   "source": []
  },
  {
   "cell_type": "markdown",
   "id": "25925a0c",
   "metadata": {},
   "source": [
    "### Calculate the area of a triangle\n",
    "\n",
    "<img src=\"img/triangle.png\" alt=\"Area of triangle\" width=\"200\"/>"
   ]
  },
  {
   "cell_type": "code",
   "execution_count": 1,
   "id": "b6f3e96f",
   "metadata": {},
   "outputs": [],
   "source": [
    "h = 10\n",
    "b = 20\n",
    "\n",
    "A = 1/2*b*h"
   ]
  },
  {
   "cell_type": "code",
   "execution_count": 2,
   "id": "6e1c4101",
   "metadata": {},
   "outputs": [
    {
     "data": {
      "text/plain": [
       "100.0"
      ]
     },
     "execution_count": 2,
     "metadata": {},
     "output_type": "execute_result"
    }
   ],
   "source": [
    "A"
   ]
  },
  {
   "cell_type": "code",
   "execution_count": null,
   "id": "eb9fc58f",
   "metadata": {},
   "outputs": [],
   "source": []
  },
  {
   "cell_type": "code",
   "execution_count": null,
   "id": "70514842",
   "metadata": {},
   "outputs": [],
   "source": []
  },
  {
   "cell_type": "markdown",
   "id": "6f0900d2",
   "metadata": {},
   "source": [
    "### Calculate the area of circle\n",
    "\n",
    "<img src=\"img/circle.png\" alt=\"Area of triangle\" width=\"200\"/>"
   ]
  },
  {
   "cell_type": "code",
   "execution_count": 3,
   "id": "be6b951e",
   "metadata": {},
   "outputs": [
    {
     "data": {
      "text/plain": [
       "28.26"
      ]
     },
     "execution_count": 3,
     "metadata": {},
     "output_type": "execute_result"
    }
   ],
   "source": [
    "pi = 3.14\n",
    "r = 3\n",
    "\n",
    "Area = pi*r**2\n",
    "Area"
   ]
  },
  {
   "cell_type": "markdown",
   "id": "39f0b48a",
   "metadata": {},
   "source": [
    "### How to convert a formula to Python\n",
    "\n",
    "$$ \\frac{3 + 4}{4 - 1} $$\n",
    "\n",
    "Becomes\n",
    "```Python\n",
    "(3 + 4)/(4 - 1)\n",
    "```\n",
    "\n",
    "#### Example\n",
    "Acceleration formula\n",
    "\n",
    "$$ a = \\frac{v - u}{t} $$\n",
    "Where, $v$ is the final speed, $u$ is the initial speed, and $t$ is the time."
   ]
  },
  {
   "cell_type": "code",
   "execution_count": 4,
   "id": "9956c248",
   "metadata": {},
   "outputs": [
    {
     "data": {
      "text/plain": [
       "1.7777777777777777"
      ]
     },
     "execution_count": 4,
     "metadata": {},
     "output_type": "execute_result"
    }
   ],
   "source": [
    "v = 100\n",
    "u = 20\n",
    "t = 45\n",
    "\n",
    "(v - u)/t"
   ]
  },
  {
   "cell_type": "code",
   "execution_count": null,
   "id": "35ae7c13",
   "metadata": {},
   "outputs": [],
   "source": []
  }
 ],
 "metadata": {
  "kernelspec": {
   "display_name": "Python 3 (ipykernel)",
   "language": "python",
   "name": "python3"
  },
  "language_info": {
   "codemirror_mode": {
    "name": "ipython",
    "version": 3
   },
   "file_extension": ".py",
   "mimetype": "text/x-python",
   "name": "python",
   "nbconvert_exporter": "python",
   "pygments_lexer": "ipython3",
   "version": "3.8.8"
  }
 },
 "nbformat": 4,
 "nbformat_minor": 5
}
