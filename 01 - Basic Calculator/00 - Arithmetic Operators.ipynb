{
 "cells": [
  {
   "cell_type": "markdown",
   "id": "28322ad0",
   "metadata": {},
   "source": [
    "# Arithmetic Operators / NEED-TO-KNOW"
   ]
  },
  {
   "cell_type": "markdown",
   "id": "1c5dddaf",
   "metadata": {},
   "source": [
    "An arithmetic operator is a mathematical function that takes two operands and performs a calculation on them. \n",
    "\n",
    "| Operator | Sign | Description | Example |\n",
    "|:--|:--|:--|:--|\n",
    "| Addition | + | Adds one operand to the other | `3 + 4 = 7` |\n",
    "| Subtraction | - | Subtracts the second operand from the first | `9 - 2 = 7` |\n",
    "| Multiplication | * | Multiplies one operand by the other | `2*4 = 8` |\n",
    "| Division | / | Divides the first operand by the second | `7/4 = 1.75` |\n",
    "| Integer Division | // | Division in which the fractional part (remainder) is discarded | `7//4 = 1` |\n",
    "| Modulo | % | Divides the first INTEGER operand by the second, and returns the remainder | `7 % 3 = 3` |\n",
    "| Exponentiation | ** | Lets you refer to a number in terms of a base value and an exponent | `2**3 = 8` |\n"
   ]
  },
  {
   "cell_type": "markdown",
   "id": "9b35535b",
   "metadata": {},
   "source": [
    "### Notebooks as a calculator\n",
    "\n",
    "A great thing about Notebooks is that you can use them as an interactive calculator.\n",
    "\n",
    "Let's explore the 4 common operators here: Addition, subtraction, multiplication, and divition.\n",
    "\n",
    "For most, the only new thing is that multiplication uses `*` and division uses `/`"
   ]
  },
  {
   "cell_type": "code",
   "execution_count": null,
   "id": "dcfac6c5",
   "metadata": {},
   "outputs": [],
   "source": []
  },
  {
   "cell_type": "code",
   "execution_count": null,
   "id": "3dbf1510",
   "metadata": {},
   "outputs": [],
   "source": []
  },
  {
   "cell_type": "code",
   "execution_count": null,
   "id": "76a38a52",
   "metadata": {},
   "outputs": [],
   "source": []
  },
  {
   "cell_type": "markdown",
   "id": "550f355c",
   "metadata": {},
   "source": [
    "### The order of calculations and parentheses\n",
    "\n",
    "It is good to know the order of calculations and how parentheses can be used.\n",
    "\n",
    "The order is as follows.\n",
    "- Parentheses\n",
    "- Multiplication and Division\n",
    "- Addition and Subtraction\n",
    "\n",
    "**Examples** \n",
    "- $ 3 + 4*5 = 3 + 20 = 23 $\n",
    "- $ 3*(4 + 5) = 3*9 = 27 $"
   ]
  },
  {
   "cell_type": "code",
   "execution_count": null,
   "id": "7ad1fcc6",
   "metadata": {},
   "outputs": [],
   "source": []
  },
  {
   "cell_type": "code",
   "execution_count": null,
   "id": "ec85420c",
   "metadata": {},
   "outputs": [],
   "source": []
  },
  {
   "cell_type": "code",
   "execution_count": null,
   "id": "5d289ada",
   "metadata": {},
   "outputs": [],
   "source": []
  },
  {
   "cell_type": "markdown",
   "id": "6ee6b271",
   "metadata": {},
   "source": [
    "###  Integer division\n",
    "\n",
    "Integer division is a new concept for most beginning programmers.\n",
    "\n",
    "#### What is integer division?\n",
    "\n",
    "Divides two numbers and returns the integer part of the result.\n",
    "\n",
    "**Examples**\n",
    "- `21//2 = 10`\n",
    "- `21//5 = 4`\n",
    "- `21//7 = 3`\n",
    "- `7//8 = 0`\n",
    "\n",
    "#### Why do you need integer division?\n",
    "- Float calculations are not accurate.\n",
    "- Integer division is closer to how things are operated on the CPU.\n",
    "- Integer division is faster.\n",
    "\n",
    "For a Python programmer, you might never really use it, as it is a high-level programming language and speed is less and less an issue in programs."
   ]
  },
  {
   "cell_type": "code",
   "execution_count": null,
   "id": "5c77566f",
   "metadata": {},
   "outputs": [],
   "source": []
  },
  {
   "cell_type": "code",
   "execution_count": null,
   "id": "57596c8c",
   "metadata": {},
   "outputs": [],
   "source": []
  },
  {
   "cell_type": "code",
   "execution_count": null,
   "id": "8b645e00",
   "metadata": {},
   "outputs": [],
   "source": []
  },
  {
   "cell_type": "markdown",
   "id": "802f2ee5",
   "metadata": {},
   "source": [
    "### Remainder or modulo operation\n",
    "\n",
    "Most beginning programmers have never heard of the modulo operator.\n",
    "\n",
    "#### What is modulo operation?\n",
    "\n",
    "Modulo (remainder) operation returns the remainder of a division.\n",
    "\n",
    "**Examples**\n",
    "- `21 % 2 = 1`\n",
    "- `21 % 5 = 1`\n",
    "- `21 % 7 = 0`\n",
    "- `7 % 8 = 7`\n",
    "\n",
    "#### Why do you need modulo operator?\n",
    "- Check if number is even or odd (`% 2` returns 0 if even and 1 if odd)\n",
    "- If you need to do something every `n` times.\n",
    "- Convert number of seconds into minutes and seconds.\n",
    "\n",
    "It is a bit more common than integer division, but as the last example shows, they are both useful."
   ]
  },
  {
   "cell_type": "code",
   "execution_count": null,
   "id": "f4b2e435",
   "metadata": {},
   "outputs": [],
   "source": []
  },
  {
   "cell_type": "code",
   "execution_count": null,
   "id": "dafc7a91",
   "metadata": {},
   "outputs": [],
   "source": []
  },
  {
   "cell_type": "code",
   "execution_count": null,
   "id": "da2a0bcd",
   "metadata": {},
   "outputs": [],
   "source": []
  },
  {
   "cell_type": "code",
   "execution_count": null,
   "id": "b68653a2",
   "metadata": {},
   "outputs": [],
   "source": []
  }
 ],
 "metadata": {
  "kernelspec": {
   "display_name": "Python 3 (ipykernel)",
   "language": "python",
   "name": "python3"
  },
  "language_info": {
   "codemirror_mode": {
    "name": "ipython",
    "version": 3
   },
   "file_extension": ".py",
   "mimetype": "text/x-python",
   "name": "python",
   "nbconvert_exporter": "python",
   "pygments_lexer": "ipython3",
   "version": "3.8.8"
  }
 },
 "nbformat": 4,
 "nbformat_minor": 5
}
