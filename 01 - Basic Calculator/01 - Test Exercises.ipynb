{
 "cells": [
  {
   "cell_type": "markdown",
   "id": "3c0b2269",
   "metadata": {},
   "source": [
    "# Test Exercises\n",
    "\n",
    "- Checking you can use your new skills"
   ]
  },
  {
   "cell_type": "markdown",
   "id": "cbd14929",
   "metadata": {},
   "source": [
    "### Exercise 1\n",
    "\n",
    "What is `129342 + 972342`?"
   ]
  },
  {
   "cell_type": "code",
   "execution_count": null,
   "id": "009f94df",
   "metadata": {},
   "outputs": [],
   "source": []
  },
  {
   "cell_type": "markdown",
   "id": "e59208c6",
   "metadata": {},
   "source": [
    "### Exercise 2\n",
    "What is `23429 - 9234`?"
   ]
  },
  {
   "cell_type": "code",
   "execution_count": null,
   "id": "f4bfd788",
   "metadata": {},
   "outputs": [],
   "source": []
  },
  {
   "cell_type": "markdown",
   "id": "1ac1c7fb",
   "metadata": {},
   "source": [
    "### Exercise 3\n",
    "What is `43 + 67*15 - 98`?"
   ]
  },
  {
   "cell_type": "code",
   "execution_count": null,
   "id": "7c4b0589",
   "metadata": {},
   "outputs": [],
   "source": []
  },
  {
   "cell_type": "markdown",
   "id": "bb644faa",
   "metadata": {},
   "source": [
    "### Exercise 4\n",
    "What is `4/8`?"
   ]
  },
  {
   "cell_type": "code",
   "execution_count": null,
   "id": "3833b699",
   "metadata": {},
   "outputs": [],
   "source": []
  },
  {
   "cell_type": "markdown",
   "id": "c05a3c6c",
   "metadata": {},
   "source": [
    "### Exercise 5\n",
    "\n",
    "How many minutes are 345 seconds?\n",
    "- HINT: use integer division."
   ]
  },
  {
   "cell_type": "code",
   "execution_count": null,
   "id": "5df9075d",
   "metadata": {},
   "outputs": [],
   "source": []
  },
  {
   "cell_type": "markdown",
   "id": "05d0ad34",
   "metadata": {},
   "source": [
    "### Exercise 6\n",
    "How many seconds are left after subtracting the whole minutes from 345 seconds?\n",
    "- HINT: use modulo operator"
   ]
  },
  {
   "cell_type": "code",
   "execution_count": 1,
   "id": "c9aa1475",
   "metadata": {},
   "outputs": [
    {
     "data": {
      "text/plain": [
       "45"
      ]
     },
     "execution_count": 1,
     "metadata": {},
     "output_type": "execute_result"
    }
   ],
   "source": [
    "345%60"
   ]
  },
  {
   "cell_type": "code",
   "execution_count": null,
   "id": "c3b288a6",
   "metadata": {},
   "outputs": [],
   "source": []
  }
 ],
 "metadata": {
  "kernelspec": {
   "display_name": "Python 3 (ipykernel)",
   "language": "python",
   "name": "python3"
  },
  "language_info": {
   "codemirror_mode": {
    "name": "ipython",
    "version": 3
   },
   "file_extension": ".py",
   "mimetype": "text/x-python",
   "name": "python",
   "nbconvert_exporter": "python",
   "pygments_lexer": "ipython3",
   "version": "3.8.8"
  }
 },
 "nbformat": 4,
 "nbformat_minor": 5
}
