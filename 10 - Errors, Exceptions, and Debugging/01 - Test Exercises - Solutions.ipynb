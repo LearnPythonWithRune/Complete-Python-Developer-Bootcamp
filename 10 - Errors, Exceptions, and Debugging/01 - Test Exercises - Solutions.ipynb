{
 "cells": [
  {
   "cell_type": "markdown",
   "id": "b55655e0",
   "metadata": {},
   "source": [
    "# Test Exercises"
   ]
  },
  {
   "cell_type": "markdown",
   "id": "595c612a",
   "metadata": {},
   "source": [
    "### Exercise 1 - Debug"
   ]
  },
  {
   "cell_type": "code",
   "execution_count": null,
   "id": "dbd5d100",
   "metadata": {
    "scrolled": true
   },
   "outputs": [],
   "source": [
    "value = 42\n",
    "\n",
    "print('The value is ' + str(value))"
   ]
  },
  {
   "cell_type": "code",
   "execution_count": null,
   "id": "25e2a4e0",
   "metadata": {},
   "outputs": [],
   "source": [
    "value = 42\n",
    "\n",
    "print(f'The value is {value}')"
   ]
  },
  {
   "cell_type": "code",
   "execution_count": null,
   "id": "42f3ac84",
   "metadata": {},
   "outputs": [],
   "source": [
    "value = 42\n",
    "\n",
    "print('The value is', value)"
   ]
  },
  {
   "cell_type": "code",
   "execution_count": null,
   "id": "065b15b9",
   "metadata": {},
   "outputs": [],
   "source": [
    "'foo' + 'bar' + value"
   ]
  },
  {
   "cell_type": "markdown",
   "id": "7321ccc4",
   "metadata": {},
   "source": [
    "### Exercise 2 - Debug"
   ]
  },
  {
   "cell_type": "code",
   "execution_count": null,
   "id": "56fb4016",
   "metadata": {},
   "outputs": [],
   "source": [
    "a = 10\n",
    "b = 12\n",
    "\n",
    "if a > b:\n",
    "    print('a greater than b')\n",
    "elif a < b:\n",
    "    print('a less than b')\n",
    "else:\n",
    "    print('a equals b')"
   ]
  },
  {
   "cell_type": "markdown",
   "id": "c109144e",
   "metadata": {},
   "source": [
    "### Exercise 3 - Debug"
   ]
  },
  {
   "cell_type": "code",
   "execution_count": null,
   "id": "20d5a5dd",
   "metadata": {},
   "outputs": [],
   "source": [
    "a = 10\n",
    "b = 12\n",
    "\n",
    "if a == b:\n",
    "    print('a equals b')\n",
    "elif a < b:\n",
    "    print('a less than b')\n",
    "elif a > b:\n",
    "    print('a greater than b')\n",
    "else:\n",
    "    print('can this happen?')"
   ]
  },
  {
   "cell_type": "code",
   "execution_count": null,
   "id": "4cf021e4",
   "metadata": {},
   "outputs": [],
   "source": []
  },
  {
   "cell_type": "markdown",
   "id": "d62debeb",
   "metadata": {},
   "source": [
    "### Exercise 4 - Debug"
   ]
  },
  {
   "cell_type": "code",
   "execution_count": null,
   "id": "0bb942d3",
   "metadata": {},
   "outputs": [],
   "source": [
    "def my_func():\n",
    "    pass\n",
    "    # This is my function\n",
    "    # pass it\n",
    "print('This is great')"
   ]
  },
  {
   "cell_type": "code",
   "execution_count": null,
   "id": "661712d6",
   "metadata": {},
   "outputs": [],
   "source": []
  },
  {
   "cell_type": "markdown",
   "id": "8e5ce6b6",
   "metadata": {},
   "source": [
    "### Exercise 5 - Debug (Challenging)"
   ]
  },
  {
   "cell_type": "code",
   "execution_count": 1,
   "id": "5cd69cba",
   "metadata": {},
   "outputs": [
    {
     "name": "stdout",
     "output_type": "stream",
     "text": [
      "Enter your name:Python\n"
     ]
    }
   ],
   "source": [
    "input_prompt = 'Enter your name:'\n",
    "\n",
    "name = input(input_prompt)"
   ]
  },
  {
   "cell_type": "code",
   "execution_count": null,
   "id": "f216636e",
   "metadata": {},
   "outputs": [],
   "source": []
  }
 ],
 "metadata": {
  "kernelspec": {
   "display_name": "Python 3 (ipykernel)",
   "language": "python",
   "name": "python3"
  },
  "language_info": {
   "codemirror_mode": {
    "name": "ipython",
    "version": 3
   },
   "file_extension": ".py",
   "mimetype": "text/x-python",
   "name": "python",
   "nbconvert_exporter": "python",
   "pygments_lexer": "ipython3",
   "version": "3.9.13"
  }
 },
 "nbformat": 4,
 "nbformat_minor": 5
}
