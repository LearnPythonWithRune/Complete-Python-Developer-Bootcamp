{
 "cells": [
  {
   "cell_type": "markdown",
   "id": "b7c671e7",
   "metadata": {},
   "source": [
    "# Test Exercises"
   ]
  },
  {
   "cell_type": "markdown",
   "id": "fc0f4937",
   "metadata": {},
   "source": [
    "### Exercise 1 - Debug\n",
    "\n",
    "```Python\n",
    "def add_underscores(word):\n",
    "    underscore_word = \"_\"\n",
    "    for char in word:\n",
    "        underscore_word = char + \"_\"\n",
    "    return underscore_word\n",
    "\n",
    "\n",
    "assert add_underscores('') == '_'\n",
    "assert add_underscores('hi') == '_h_i_'\n",
    "assert add_underscores('Python') == '_P_y_t_h_o_n_'\n",
    "```"
   ]
  },
  {
   "cell_type": "code",
   "execution_count": 5,
   "id": "43aa0705",
   "metadata": {},
   "outputs": [],
   "source": [
    "def add_underscores(word):\n",
    "    underscore_word = \"_\"\n",
    "    for char in word:\n",
    "        underscore_word += char + \"_\"\n",
    "    return underscore_word\n",
    "\n",
    "\n",
    "assert add_underscores('') == '_'\n",
    "assert add_underscores('hi') == '_h_i_'\n",
    "assert add_underscores('Python') == '_P_y_t_h_o_n_'"
   ]
  },
  {
   "cell_type": "code",
   "execution_count": 2,
   "id": "c6c57a91",
   "metadata": {},
   "outputs": [
    {
     "data": {
      "text/plain": [
       "'i_'"
      ]
     },
     "execution_count": 2,
     "metadata": {},
     "output_type": "execute_result"
    }
   ],
   "source": [
    "add_underscores('hi')"
   ]
  },
  {
   "cell_type": "code",
   "execution_count": 4,
   "id": "03da346d",
   "metadata": {},
   "outputs": [
    {
     "data": {
      "text/plain": [
       "'n_'"
      ]
     },
     "execution_count": 4,
     "metadata": {},
     "output_type": "execute_result"
    }
   ],
   "source": [
    "add_underscores('Python')"
   ]
  },
  {
   "cell_type": "code",
   "execution_count": null,
   "id": "42aa33ae",
   "metadata": {},
   "outputs": [],
   "source": []
  },
  {
   "cell_type": "markdown",
   "id": "6d044284",
   "metadata": {},
   "source": [
    "### Exercise 2 - Debug\n",
    "\n",
    "```Python\n",
    "def max_distance(numbers):\n",
    "    min_value = 0\n",
    "    max_value = 0\n",
    "\n",
    "    for number in numbers:\n",
    "        if number < min_value:\n",
    "            min_value = number\n",
    "        if number > max_value:\n",
    "            max_value = number\n",
    "\n",
    "    return max_value - min_value\n",
    "\n",
    "\n",
    "assert max_distance([-1, 1]) == 2\n",
    "assert max_distance([0, 1, 2, 3, 4]) == 4\n",
    "assert max_distance([]) == 0\n",
    "assert max_distance([2, 3, 4, 5, 6]) == 4\n",
    "assert max_distance([-2, -3, -4, -5, -6]) == 4\n",
    "```"
   ]
  },
  {
   "cell_type": "code",
   "execution_count": 7,
   "id": "d892deee",
   "metadata": {},
   "outputs": [],
   "source": [
    "def max_distance(numbers):\n",
    "    if len(numbers) == 0:\n",
    "        return 0\n",
    "    \n",
    "    min_value = numbers[0]\n",
    "    max_value = numbers[0]\n",
    "\n",
    "    for number in numbers:\n",
    "        if number < min_value:\n",
    "            min_value = number\n",
    "        if number > max_value:\n",
    "            max_value = number\n",
    "\n",
    "    return max_value - min_value\n",
    "\n",
    "\n",
    "assert max_distance([-1, 1]) == 2\n",
    "assert max_distance([0, 1, 2, 3, 4]) == 4\n",
    "assert max_distance([]) == 0\n",
    "assert max_distance([2, 3, 4, 5, 6]) == 4\n",
    "assert max_distance([-2, -3, -4, -5, -6]) == 4"
   ]
  },
  {
   "cell_type": "code",
   "execution_count": null,
   "id": "b529f145",
   "metadata": {},
   "outputs": [],
   "source": []
  },
  {
   "cell_type": "code",
   "execution_count": null,
   "id": "09ad7733",
   "metadata": {},
   "outputs": [],
   "source": []
  },
  {
   "cell_type": "markdown",
   "id": "299b33eb",
   "metadata": {},
   "source": [
    "### Exercise 3 - Debug\n",
    "\n",
    "```Python\n",
    "def shared_letters(word_a, word_b):\n",
    "    shared = []\n",
    "    \n",
    "    for char in word_a:\n",
    "        if char in word_b:\n",
    "            shared.append(char)\n",
    "    \n",
    "    return shared\n",
    "    \n",
    "\n",
    "assert shared_letters('a', 'b') == []\n",
    "assert shared_letters('abcded', 'bcf') == ['b', 'c']\n",
    "assert shared_letters('abe', 'balcony') == ['a', 'b']\n",
    "assert shared_letters('acute', 'cute') == ['c', 'e', 't', 'u']\n",
    "assert shared_letters('aa', 'ab') == ['a']\n",
    "assert shared_letters('balcony', 'abe') == ['a', 'b']\n",
    "```"
   ]
  },
  {
   "cell_type": "code",
   "execution_count": 12,
   "id": "c06cbf94",
   "metadata": {},
   "outputs": [],
   "source": [
    "def shared_letters(word_a, word_b):\n",
    "    shared = []\n",
    "\n",
    "    for char in word_a:\n",
    "        if char in word_b:\n",
    "            if char not in shared:\n",
    "                shared.append(char)\n",
    "\n",
    "    shared.sort()\n",
    "    return shared\n",
    "\n",
    "\n",
    "assert shared_letters('a', 'b') == []\n",
    "assert shared_letters('abcded', 'bcf') == ['b', 'c']\n",
    "assert shared_letters('abe', 'balcony') == ['a', 'b']\n",
    "assert shared_letters('acute', 'cute') == ['c', 'e', 't', 'u']\n",
    "assert shared_letters('aa', 'ab') == ['a']\n",
    "assert shared_letters('balcony', 'abe') == ['a', 'b']"
   ]
  },
  {
   "cell_type": "code",
   "execution_count": 9,
   "id": "691b7952",
   "metadata": {},
   "outputs": [
    {
     "data": {
      "text/plain": [
       "['c', 'u', 't', 'e']"
      ]
     },
     "execution_count": 9,
     "metadata": {},
     "output_type": "execute_result"
    }
   ],
   "source": [
    "shared_letters('acute', 'cute')"
   ]
  },
  {
   "cell_type": "code",
   "execution_count": 11,
   "id": "47b0b2fb",
   "metadata": {},
   "outputs": [
    {
     "data": {
      "text/plain": [
       "['a', 'a']"
      ]
     },
     "execution_count": 11,
     "metadata": {},
     "output_type": "execute_result"
    }
   ],
   "source": [
    "shared_letters('aa', 'ab')"
   ]
  },
  {
   "cell_type": "code",
   "execution_count": null,
   "id": "31dee8f7",
   "metadata": {},
   "outputs": [],
   "source": []
  }
 ],
 "metadata": {
  "kernelspec": {
   "display_name": "Python 3 (ipykernel)",
   "language": "python",
   "name": "python3"
  },
  "language_info": {
   "codemirror_mode": {
    "name": "ipython",
    "version": 3
   },
   "file_extension": ".py",
   "mimetype": "text/x-python",
   "name": "python",
   "nbconvert_exporter": "python",
   "pygments_lexer": "ipython3",
   "version": "3.9.13"
  }
 },
 "nbformat": 4,
 "nbformat_minor": 5
}
