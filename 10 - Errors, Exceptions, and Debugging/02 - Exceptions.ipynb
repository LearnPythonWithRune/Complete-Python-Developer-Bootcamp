{
 "cells": [
  {
   "cell_type": "markdown",
   "id": "a78acf3b",
   "metadata": {},
   "source": [
    "# Exceptions Handling / NICE-TO-KNOW\n",
    "\n",
    "\n",
    "### What is an Exception\n",
    "\n",
    "An exception is an event, which occurs during the execution of a program that disrupts the normal flow of the program's instructions."
   ]
  },
  {
   "cell_type": "markdown",
   "id": "56e3da84",
   "metadata": {},
   "source": [
    "Common when dealing with files."
   ]
  },
  {
   "cell_type": "code",
   "execution_count": 1,
   "id": "76eca73a",
   "metadata": {
    "scrolled": true
   },
   "outputs": [
    {
     "ename": "FileNotFoundError",
     "evalue": "[Errno 2] No such file or directory: 'some-file'",
     "output_type": "error",
     "traceback": [
      "\u001b[0;31m---------------------------------------------------------------------------\u001b[0m",
      "\u001b[0;31mFileNotFoundError\u001b[0m                         Traceback (most recent call last)",
      "\u001b[0;32m/var/folders/5f/vgbh9pkd4wzf4ysrpf9wsr800000gn/T/ipykernel_1167/1962590630.py\u001b[0m in \u001b[0;36m<module>\u001b[0;34m\u001b[0m\n\u001b[0;32m----> 1\u001b[0;31m \u001b[0;32mwith\u001b[0m \u001b[0mopen\u001b[0m\u001b[0;34m(\u001b[0m\u001b[0;34m'some-file'\u001b[0m\u001b[0;34m)\u001b[0m \u001b[0;32mas\u001b[0m \u001b[0mf\u001b[0m\u001b[0;34m:\u001b[0m\u001b[0;34m\u001b[0m\u001b[0;34m\u001b[0m\u001b[0m\n\u001b[0m\u001b[1;32m      2\u001b[0m     \u001b[0mf\u001b[0m\u001b[0;34m.\u001b[0m\u001b[0mread\u001b[0m\u001b[0;34m(\u001b[0m\u001b[0;34m)\u001b[0m\u001b[0;34m\u001b[0m\u001b[0;34m\u001b[0m\u001b[0m\n",
      "\u001b[0;31mFileNotFoundError\u001b[0m: [Errno 2] No such file or directory: 'some-file'"
     ]
    }
   ],
   "source": [
    "with open('some-file') as f:\n",
    "    content = f.read()"
   ]
  },
  {
   "cell_type": "markdown",
   "id": "7cf5e6bf",
   "metadata": {},
   "source": [
    "### `try`-`except`"
   ]
  },
  {
   "cell_type": "code",
   "execution_count": 6,
   "id": "d08a3e16",
   "metadata": {},
   "outputs": [
    {
     "name": "stdout",
     "output_type": "stream",
     "text": [
      "This only happens if file exists\n",
      "This is always executed\n"
     ]
    }
   ],
   "source": [
    "try:\n",
    "    with open('00 - Simple Debugging.ipynb') as f:\n",
    "        content = f.read()\n",
    "    print('This only happens if file exists')\n",
    "except:\n",
    "    print('The file \"somefile\" does not exist')\n",
    "    \n",
    "print('This is always executed')"
   ]
  },
  {
   "cell_type": "markdown",
   "id": "f893b35b",
   "metadata": {},
   "source": [
    "### `try`-`except`-`finally`"
   ]
  },
  {
   "cell_type": "code",
   "execution_count": 8,
   "id": "ff8caec8",
   "metadata": {},
   "outputs": [
    {
     "name": "stdout",
     "output_type": "stream",
     "text": [
      "The file \"somefile\" does not exist\n",
      "This is also always executed\n",
      "This is always executed\n"
     ]
    }
   ],
   "source": [
    "try:\n",
    "    with open('some-file') as f:\n",
    "        content = f.read()\n",
    "    print('This only happens if file exists')\n",
    "except:\n",
    "    print('The file \"somefile\" does not exist')\n",
    "finally:\n",
    "    print('This is also always executed')\n",
    "    \n",
    "print('This is always executed')"
   ]
  },
  {
   "cell_type": "markdown",
   "id": "35f7fc86",
   "metadata": {},
   "source": [
    "### `try`-`except`-`else`"
   ]
  },
  {
   "cell_type": "code",
   "execution_count": 10,
   "id": "45416f3f",
   "metadata": {},
   "outputs": [
    {
     "name": "stdout",
     "output_type": "stream",
     "text": [
      "This only happens if file exists\n",
      "This is only executed if file exists\n",
      "This is always executed\n"
     ]
    }
   ],
   "source": [
    "try:\n",
    "    with open('00 - Simple Debugging.ipynb') as f:\n",
    "        content = f.read()\n",
    "    print('This only happens if file exists')\n",
    "except:\n",
    "    print('The file \"somefile\" does not exist')\n",
    "else:\n",
    "    print('This is only executed if file exists')\n",
    "    \n",
    "print('This is always executed')"
   ]
  },
  {
   "cell_type": "markdown",
   "id": "c0a8d803",
   "metadata": {},
   "source": [
    "### Catch specific exceptions"
   ]
  },
  {
   "cell_type": "code",
   "execution_count": 13,
   "id": "a071f6c9",
   "metadata": {},
   "outputs": [
    {
     "name": "stdout",
     "output_type": "stream",
     "text": [
      "This is if file not found\n"
     ]
    }
   ],
   "source": [
    "try:\n",
    "    with open('some-file') as f:\n",
    "        content = f.read()\n",
    "    print('This only happens if file exists')\n",
    "except TypeError:\n",
    "    print('This is a Type error')\n",
    "except FileNotFoundError:\n",
    "    print('This is if file not found')"
   ]
  },
  {
   "cell_type": "code",
   "execution_count": null,
   "id": "312d0296",
   "metadata": {},
   "outputs": [],
   "source": []
  },
  {
   "cell_type": "markdown",
   "id": "ad444a98",
   "metadata": {},
   "source": [
    "### `try`-`except` vs Checks"
   ]
  },
  {
   "cell_type": "code",
   "execution_count": 15,
   "id": "fb1eac68",
   "metadata": {},
   "outputs": [
    {
     "name": "stdout",
     "output_type": "stream",
     "text": [
      "filename: file-name\n",
      "None\n"
     ]
    }
   ],
   "source": [
    "from pathlib import Path\n",
    "\n",
    "input_str = input('filename: ')\n",
    "\n",
    "file_path = Path(input_str)\n",
    "if file_path.is_file():\n",
    "    with open(file_path) as f:\n",
    "        content = f.read()\n",
    "\n",
    "else:\n",
    "    content = None\n",
    "\n",
    "print(content)"
   ]
  },
  {
   "cell_type": "code",
   "execution_count": null,
   "id": "cf049766",
   "metadata": {},
   "outputs": [],
   "source": []
  }
 ],
 "metadata": {
  "kernelspec": {
   "display_name": "Python 3 (ipykernel)",
   "language": "python",
   "name": "python3"
  },
  "language_info": {
   "codemirror_mode": {
    "name": "ipython",
    "version": 3
   },
   "file_extension": ".py",
   "mimetype": "text/x-python",
   "name": "python",
   "nbconvert_exporter": "python",
   "pygments_lexer": "ipython3",
   "version": "3.9.13"
  }
 },
 "nbformat": 4,
 "nbformat_minor": 5
}
