{
 "cells": [
  {
   "cell_type": "markdown",
   "id": "b80700ab",
   "metadata": {},
   "source": [
    "# Specialization Exercises"
   ]
  },
  {
   "cell_type": "markdown",
   "id": "57d1eb53",
   "metadata": {},
   "source": [
    "### Exercise 1\n",
    "\n",
    "Create a small program that does as follows.\n",
    "- Open and prints the content of a file.\n",
    "- Adds a line to the end of the file after printing content.\n",
    "- The program should handle if the file does not exists by catching the exception."
   ]
  },
  {
   "cell_type": "markdown",
   "id": "70edaf24",
   "metadata": {},
   "source": [
    "#### DOUBLE CLICK HERE FOR A HINT\n",
    "\n",
    "<!--\n",
    "\n",
    "Use the following structure\n",
    "1. Read the content.\n",
    "2. Print the content.\n",
    "3. Append a line to the file.\n",
    "\n",
    "This includes opening the file twice, once for reading and once for appending.\n",
    "\n",
    "-->"
   ]
  },
  {
   "cell_type": "code",
   "execution_count": null,
   "id": "ee903680",
   "metadata": {},
   "outputs": [],
   "source": []
  },
  {
   "cell_type": "code",
   "execution_count": null,
   "id": "49a6d353",
   "metadata": {},
   "outputs": [],
   "source": []
  },
  {
   "cell_type": "markdown",
   "id": "87879abe",
   "metadata": {},
   "source": [
    "### Exercise 2\n",
    "\n",
    "Write the same program without using exception handling."
   ]
  },
  {
   "cell_type": "code",
   "execution_count": null,
   "id": "3594b57c",
   "metadata": {},
   "outputs": [],
   "source": []
  },
  {
   "cell_type": "code",
   "execution_count": null,
   "id": "2dfb67fd",
   "metadata": {},
   "outputs": [],
   "source": []
  },
  {
   "cell_type": "code",
   "execution_count": null,
   "id": "15512926",
   "metadata": {},
   "outputs": [],
   "source": []
  }
 ],
 "metadata": {
  "kernelspec": {
   "display_name": "Python 3 (ipykernel)",
   "language": "python",
   "name": "python3"
  },
  "language_info": {
   "codemirror_mode": {
    "name": "ipython",
    "version": 3
   },
   "file_extension": ".py",
   "mimetype": "text/x-python",
   "name": "python",
   "nbconvert_exporter": "python",
   "pygments_lexer": "ipython3",
   "version": "3.9.13"
  }
 },
 "nbformat": 4,
 "nbformat_minor": 5
}
