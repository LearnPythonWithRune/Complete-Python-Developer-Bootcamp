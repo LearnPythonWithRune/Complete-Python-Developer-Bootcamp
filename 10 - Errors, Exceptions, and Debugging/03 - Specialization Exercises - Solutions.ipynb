{
 "cells": [
  {
   "cell_type": "markdown",
   "id": "b80700ab",
   "metadata": {},
   "source": [
    "# Specialization Exercises"
   ]
  },
  {
   "cell_type": "markdown",
   "id": "57d1eb53",
   "metadata": {},
   "source": [
    "### Exercise 1\n",
    "\n",
    "Create a small program that does as follows.\n",
    "- Open and prints the content of a file.\n",
    "- Adds a line to the end of the file after printing content.\n",
    "- The program should handle if the file does not exists by catching the exception."
   ]
  },
  {
   "cell_type": "markdown",
   "id": "70edaf24",
   "metadata": {},
   "source": [
    "#### DOUBLE CLICK HERE FOR A HINT\n",
    "\n",
    "<!--\n",
    "\n",
    "Use the following structure\n",
    "1. Read the content.\n",
    "2. Print the content.\n",
    "3. Append a line to the file.\n",
    "\n",
    "This includes opening the file twice, once for reading and once for appending.\n",
    "\n",
    "-->"
   ]
  },
  {
   "cell_type": "code",
   "execution_count": 6,
   "id": "ee903680",
   "metadata": {},
   "outputs": [
    {
     "name": "stdout",
     "output_type": "stream",
     "text": [
      "my line\n",
      "my line\n",
      "my line\n",
      "my line\n"
     ]
    }
   ],
   "source": [
    "# 1: Read file if exists\n",
    "try: \n",
    "    with open('my_file.txt') as f:\n",
    "        content = f.read()\n",
    "except:\n",
    "    content = ''\n",
    "    \n",
    "# 2: Process content (print content)\n",
    "for line in content.splitlines():\n",
    "    print(line)\n",
    "    \n",
    "# 3: Output content and add a line\n",
    "with open('my_file.txt', 'a') as f:\n",
    "    f.write('my line\\n')"
   ]
  },
  {
   "cell_type": "code",
   "execution_count": null,
   "id": "49a6d353",
   "metadata": {},
   "outputs": [],
   "source": []
  },
  {
   "cell_type": "markdown",
   "id": "87879abe",
   "metadata": {},
   "source": [
    "### Exercise 2\n",
    "\n",
    "Write the same program without using exception handling."
   ]
  },
  {
   "cell_type": "code",
   "execution_count": 7,
   "id": "3594b57c",
   "metadata": {},
   "outputs": [],
   "source": [
    "from pathlib import Path"
   ]
  },
  {
   "cell_type": "code",
   "execution_count": 12,
   "id": "2dfb67fd",
   "metadata": {},
   "outputs": [
    {
     "name": "stdout",
     "output_type": "stream",
     "text": [
      "my line 2\n",
      "my line 2\n",
      "my line 2\n",
      "my line 2\n"
     ]
    }
   ],
   "source": [
    "# 1\n",
    "file_path = Path('my_file_2.txt')\n",
    "\n",
    "if file_path.is_file():\n",
    "    with open(file_path) as f:\n",
    "        content = f.read()\n",
    "else:\n",
    "    content = ''\n",
    "    \n",
    "# 2\n",
    "for line in content.splitlines():\n",
    "    print(line)\n",
    "\n",
    "# 3\n",
    "with open(file_path, 'a') as f:\n",
    "    f.write('my line 2\\n')"
   ]
  },
  {
   "cell_type": "code",
   "execution_count": null,
   "id": "15512926",
   "metadata": {},
   "outputs": [],
   "source": []
  }
 ],
 "metadata": {
  "kernelspec": {
   "display_name": "Python 3 (ipykernel)",
   "language": "python",
   "name": "python3"
  },
  "language_info": {
   "codemirror_mode": {
    "name": "ipython",
    "version": 3
   },
   "file_extension": ".py",
   "mimetype": "text/x-python",
   "name": "python",
   "nbconvert_exporter": "python",
   "pygments_lexer": "ipython3",
   "version": "3.9.13"
  }
 },
 "nbformat": 4,
 "nbformat_minor": 5
}
