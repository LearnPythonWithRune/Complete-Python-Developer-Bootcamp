{
 "cells": [
  {
   "cell_type": "markdown",
   "id": "42bafb90",
   "metadata": {},
   "source": [
    "# Exceptions and Best Practices / NICE-TO-KNOW\n",
    "\n",
    "### Raising Exceptions\n",
    "- Keep it minimal.\n",
    "- Should add value.\n"
   ]
  },
  {
   "cell_type": "code",
   "execution_count": 5,
   "id": "097b931a",
   "metadata": {},
   "outputs": [],
   "source": [
    "def my_func(a, b):\n",
    "    \"\"\"\n",
    "    No description\n",
    "    \"\"\"\n",
    "    \n",
    "    if isinstance(a, str):\n",
    "        raise TypeError('a is type str')\n",
    "    if a < 0:\n",
    "        raise ValueError('a has negative value')\n",
    "    # if b == 0:\n",
    "    #     raise ZeroDivisionError('b is zero')\n",
    "    \n",
    "    return a/b"
   ]
  },
  {
   "cell_type": "code",
   "execution_count": 6,
   "id": "f47520ca",
   "metadata": {},
   "outputs": [
    {
     "name": "stdout",
     "output_type": "stream",
     "text": [
      "Zero value\n",
      "None\n"
     ]
    }
   ],
   "source": [
    "a = 10\n",
    "b = 0\n",
    "\n",
    "try:\n",
    "    result = my_func(a, b)\n",
    "except ValueError:\n",
    "    print('Value error')\n",
    "    result = None\n",
    "except ZeroDivisionError:\n",
    "    print('Zero value')\n",
    "    result = None\n",
    "    \n",
    "print(result)"
   ]
  },
  {
   "cell_type": "code",
   "execution_count": null,
   "id": "8bd24ae7",
   "metadata": {},
   "outputs": [],
   "source": []
  },
  {
   "cell_type": "code",
   "execution_count": null,
   "id": "b312ef6b",
   "metadata": {},
   "outputs": [],
   "source": []
  },
  {
   "cell_type": "markdown",
   "id": "a614f66c",
   "metadata": {},
   "source": [
    "### Common usage\n",
    "\n",
    "```Python\n",
    "def my_new_func():\n",
    "    raise NotImplementedError('Not implemented yet')\n",
    "```"
   ]
  },
  {
   "cell_type": "code",
   "execution_count": 7,
   "id": "eca112a2",
   "metadata": {},
   "outputs": [],
   "source": [
    "def my_new_func():\n",
    "    raise NotImplementedError('Not implemented yet')"
   ]
  },
  {
   "cell_type": "code",
   "execution_count": 8,
   "id": "ca8b8932",
   "metadata": {},
   "outputs": [
    {
     "ename": "NotImplementedError",
     "evalue": "Not implemented yet",
     "output_type": "error",
     "traceback": [
      "\u001b[0;31m---------------------------------------------------------------------------\u001b[0m",
      "\u001b[0;31mNotImplementedError\u001b[0m                       Traceback (most recent call last)",
      "\u001b[0;32m/var/folders/5f/vgbh9pkd4wzf4ysrpf9wsr800000gn/T/ipykernel_1789/3107360973.py\u001b[0m in \u001b[0;36m<module>\u001b[0;34m\u001b[0m\n\u001b[0;32m----> 1\u001b[0;31m \u001b[0mmy_new_func\u001b[0m\u001b[0;34m(\u001b[0m\u001b[0;34m)\u001b[0m\u001b[0;34m\u001b[0m\u001b[0;34m\u001b[0m\u001b[0m\n\u001b[0m",
      "\u001b[0;32m/var/folders/5f/vgbh9pkd4wzf4ysrpf9wsr800000gn/T/ipykernel_1789/2723656164.py\u001b[0m in \u001b[0;36mmy_new_func\u001b[0;34m()\u001b[0m\n\u001b[1;32m      1\u001b[0m \u001b[0;32mdef\u001b[0m \u001b[0mmy_new_func\u001b[0m\u001b[0;34m(\u001b[0m\u001b[0;34m)\u001b[0m\u001b[0;34m:\u001b[0m\u001b[0;34m\u001b[0m\u001b[0;34m\u001b[0m\u001b[0m\n\u001b[0;32m----> 2\u001b[0;31m     \u001b[0;32mraise\u001b[0m \u001b[0mNotImplementedError\u001b[0m\u001b[0;34m(\u001b[0m\u001b[0;34m'Not implemented yet'\u001b[0m\u001b[0;34m)\u001b[0m\u001b[0;34m\u001b[0m\u001b[0;34m\u001b[0m\u001b[0m\n\u001b[0m",
      "\u001b[0;31mNotImplementedError\u001b[0m: Not implemented yet"
     ]
    }
   ],
   "source": [
    "my_new_func()"
   ]
  },
  {
   "cell_type": "markdown",
   "id": "2c6b99a3",
   "metadata": {},
   "source": [
    "### Gereral advice\n",
    "\n",
    "#### Don't catch general Exceptions.\n",
    "\n",
    "**Don't**\n",
    "```Python\n",
    "try:\n",
    "    pass\n",
    "except:  # Don't catch all Exceptions\n",
    "    pass\n",
    "```\n",
    "\n",
    "**Do**\n",
    "```Python\n",
    "try:\n",
    "    pass\n",
    "except TypeError:\n",
    "    pass\n",
    "```"
   ]
  },
  {
   "cell_type": "code",
   "execution_count": null,
   "id": "d7de09ee",
   "metadata": {},
   "outputs": [],
   "source": []
  },
  {
   "cell_type": "markdown",
   "id": "baf9acc7",
   "metadata": {},
   "source": [
    "#### Only have code that throws Exception\n",
    "\n",
    "**Don't**\n",
    "```Python\n",
    "try:\n",
    "    a = 10\n",
    "    b = '10'\n",
    "    c = a + b\n",
    "except TypeError:\n",
    "    pass\n",
    "```\n",
    "\n",
    "**Do**\n",
    "```Python\n",
    "a = 10\n",
    "b = '10'\n",
    "try:\n",
    "    c = a + b\n",
    "except TypeError:\n",
    "    pass\n",
    "```"
   ]
  },
  {
   "cell_type": "code",
   "execution_count": null,
   "id": "1635bc73",
   "metadata": {},
   "outputs": [],
   "source": []
  },
  {
   "cell_type": "markdown",
   "id": "6129d8be",
   "metadata": {},
   "source": [
    "#### Using Exception in default flow\n",
    "\n",
    "**Don't**\n",
    "```Python\n",
    "a = input('Input number or name')\n",
    "\n",
    "try:\n",
    "    a_int = int(a)\n",
    "    print('Number')\n",
    "except ValueError:\n",
    "    print('Name')\n",
    "```\n",
    "\n",
    "**Do**\n",
    "```Python\n",
    "a = input('Input number or name')\n",
    "\n",
    "if a.isdecimal():\n",
    "    print('Number')\n",
    "else:\n",
    "    print('Name')\n",
    "```"
   ]
  },
  {
   "cell_type": "code",
   "execution_count": null,
   "id": "165a55e3",
   "metadata": {},
   "outputs": [],
   "source": []
  }
 ],
 "metadata": {
  "kernelspec": {
   "display_name": "Python 3 (ipykernel)",
   "language": "python",
   "name": "python3"
  },
  "language_info": {
   "codemirror_mode": {
    "name": "ipython",
    "version": 3
   },
   "file_extension": ".py",
   "mimetype": "text/x-python",
   "name": "python",
   "nbconvert_exporter": "python",
   "pygments_lexer": "ipython3",
   "version": "3.9.13"
  }
 },
 "nbformat": 4,
 "nbformat_minor": 5
}
