{
 "cells": [
  {
   "cell_type": "markdown",
   "id": "cc6d74b2",
   "metadata": {},
   "source": [
    "# Why Exceptions / NICE-TO-KNOW\n",
    "\n",
    "To simplify"
   ]
  },
  {
   "cell_type": "code",
   "execution_count": 1,
   "id": "13a90897",
   "metadata": {},
   "outputs": [],
   "source": [
    "def add_numbers(a, b):\n",
    "    \"\"\"\n",
    "    Return the sum of integers a and b\n",
    "    and a status (True if a and b integers, False otherwise)\n",
    "    \"\"\"\n",
    "    if not isinstance(a, int):\n",
    "        return None, False\n",
    "    if not isinstance(b, int):\n",
    "        return None, False\n",
    "    return a + b, True"
   ]
  },
  {
   "cell_type": "code",
   "execution_count": 3,
   "id": "5efe4480",
   "metadata": {},
   "outputs": [
    {
     "name": "stdout",
     "output_type": "stream",
     "text": [
      "wrong input\n"
     ]
    }
   ],
   "source": [
    "result, status = add_numbers(1, '2')\n",
    "\n",
    "if not status:  # status is False\n",
    "    print('wrong input')\n",
    "else:\n",
    "    print(result)"
   ]
  },
  {
   "cell_type": "code",
   "execution_count": null,
   "id": "ed642014",
   "metadata": {},
   "outputs": [],
   "source": []
  },
  {
   "cell_type": "code",
   "execution_count": 6,
   "id": "f0e7bd0b",
   "metadata": {},
   "outputs": [
    {
     "name": "stdout",
     "output_type": "stream",
     "text": [
      "wrong input\n"
     ]
    }
   ],
   "source": [
    "def add_numbers(a, b):\n",
    "    \"\"\"\n",
    "    Return the sum of a and b if numeric \n",
    "    and concatenation if a and b are strings.\n",
    "    \"\"\"\n",
    "    try:\n",
    "        result = a + b\n",
    "        return result, True\n",
    "    except:\n",
    "        result = None\n",
    "        return result, False\n",
    "        \n",
    "\n",
    "\n",
    "result, status = add_numbers('1', 2)\n",
    "\n",
    "if not status:\n",
    "    print('wrong input')\n",
    "else:\n",
    "    print(result)"
   ]
  },
  {
   "cell_type": "markdown",
   "id": "b41ec281",
   "metadata": {},
   "source": [
    "### Raise Exception\n",
    "\n",
    "It is common practice to raise exceptions if input is not as desired.\n",
    "\n",
    "```Python\n",
    "def add_numbers(a, b):\n",
    "    \"\"\"\n",
    "    a, b integers\n",
    "    returns the sum of a and b\n",
    "    \"\"\"\n",
    "    if not isinstance(a, int):\n",
    "        raise TypeError('Variable a not of type int')\n",
    "    if not isinstance(b, int):\n",
    "        raise TypeError('Variable b not of type int')\n",
    "    return a + b\n",
    "```"
   ]
  },
  {
   "cell_type": "code",
   "execution_count": 7,
   "id": "764e532c",
   "metadata": {},
   "outputs": [],
   "source": [
    "def add_numbers(a, b):\n",
    "    \"\"\"\n",
    "    a, b integers\n",
    "    returns the sum of a and b\n",
    "    \"\"\"\n",
    "    if not isinstance(a, int):\n",
    "        raise TypeError('Variable a not of type int')\n",
    "    if not isinstance(b, int):\n",
    "        raise TypeError('Variable b not of type int')\n",
    "    return a + b"
   ]
  },
  {
   "cell_type": "code",
   "execution_count": 10,
   "id": "f27def76",
   "metadata": {},
   "outputs": [
    {
     "data": {
      "text/plain": [
       "3"
      ]
     },
     "execution_count": 10,
     "metadata": {},
     "output_type": "execute_result"
    }
   ],
   "source": [
    "add_numbers(1, 2)"
   ]
  },
  {
   "cell_type": "code",
   "execution_count": null,
   "id": "d32b63fe",
   "metadata": {},
   "outputs": [],
   "source": []
  },
  {
   "cell_type": "code",
   "execution_count": null,
   "id": "4c0cd959",
   "metadata": {},
   "outputs": [],
   "source": []
  },
  {
   "cell_type": "code",
   "execution_count": 12,
   "id": "08f852c8",
   "metadata": {},
   "outputs": [
    {
     "name": "stdout",
     "output_type": "stream",
     "text": [
      "Wrong input format\n"
     ]
    }
   ],
   "source": [
    "try:\n",
    "    result = add_numbers(1, '3')\n",
    "    # \n",
    "    # \n",
    "    #\n",
    "except TypeError:\n",
    "    print('Wrong input format')\n",
    "else:\n",
    "    print(result)"
   ]
  },
  {
   "cell_type": "code",
   "execution_count": null,
   "id": "02e47f49",
   "metadata": {},
   "outputs": [],
   "source": []
  }
 ],
 "metadata": {
  "kernelspec": {
   "display_name": "Python 3 (ipykernel)",
   "language": "python",
   "name": "python3"
  },
  "language_info": {
   "codemirror_mode": {
    "name": "ipython",
    "version": 3
   },
   "file_extension": ".py",
   "mimetype": "text/x-python",
   "name": "python",
   "nbconvert_exporter": "python",
   "pygments_lexer": "ipython3",
   "version": "3.9.13"
  }
 },
 "nbformat": 4,
 "nbformat_minor": 5
}
