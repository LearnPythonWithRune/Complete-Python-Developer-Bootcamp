{
 "cells": [
  {
   "cell_type": "markdown",
   "id": "e007870c",
   "metadata": {},
   "source": [
    "# Debugging / NEED-TO-KNOW\n",
    "\n",
    "Often the program \"works\", but\n",
    "\n",
    "- Program failing in certain circumstances\n",
    "- Program does not provide correct results"
   ]
  },
  {
   "cell_type": "code",
   "execution_count": 1,
   "id": "8a7c25e5",
   "metadata": {},
   "outputs": [],
   "source": [
    "def sum_divided_by_sum(list_a, list_b):\n",
    "    \n",
    "    sum_a = list_a[0]\n",
    "    \n",
    "    for number in list_a[1:]:\n",
    "        sum_a += number\n",
    "\n",
    "    sum_b = list_b[0]\n",
    "    \n",
    "    for number in list_b[1:]:\n",
    "        sum_b += number\n",
    "\n",
    "    return sum_a/sum_b\n",
    "\n",
    "\n",
    "assert sum_divided_by_sum([2], [2]) == 1.0\n",
    "assert sum_divided_by_sum([0], [1, 2, 3]) == 0.0\n",
    "assert sum_divided_by_sum([1, 2, 3], [1, 2, 3]) == 1.0"
   ]
  },
  {
   "cell_type": "code",
   "execution_count": 2,
   "id": "3f626735",
   "metadata": {},
   "outputs": [
    {
     "ename": "IndexError",
     "evalue": "list index out of range",
     "output_type": "error",
     "traceback": [
      "\u001b[0;31m---------------------------------------------------------------------------\u001b[0m",
      "\u001b[0;31mIndexError\u001b[0m                                Traceback (most recent call last)",
      "\u001b[0;32m/var/folders/5f/vgbh9pkd4wzf4ysrpf9wsr800000gn/T/ipykernel_1928/414245651.py\u001b[0m in \u001b[0;36m<module>\u001b[0;34m\u001b[0m\n\u001b[0;32m----> 1\u001b[0;31m \u001b[0msum_divided_by_sum\u001b[0m\u001b[0;34m(\u001b[0m\u001b[0;34m[\u001b[0m\u001b[0;34m]\u001b[0m\u001b[0;34m,\u001b[0m \u001b[0;34m[\u001b[0m\u001b[0;36m1\u001b[0m\u001b[0;34m]\u001b[0m\u001b[0;34m)\u001b[0m\u001b[0;34m\u001b[0m\u001b[0;34m\u001b[0m\u001b[0m\n\u001b[0m",
      "\u001b[0;32m/var/folders/5f/vgbh9pkd4wzf4ysrpf9wsr800000gn/T/ipykernel_1928/3280201067.py\u001b[0m in \u001b[0;36msum_divided_by_sum\u001b[0;34m(list_a, list_b)\u001b[0m\n\u001b[1;32m      1\u001b[0m \u001b[0;32mdef\u001b[0m \u001b[0msum_divided_by_sum\u001b[0m\u001b[0;34m(\u001b[0m\u001b[0mlist_a\u001b[0m\u001b[0;34m,\u001b[0m \u001b[0mlist_b\u001b[0m\u001b[0;34m)\u001b[0m\u001b[0;34m:\u001b[0m\u001b[0;34m\u001b[0m\u001b[0;34m\u001b[0m\u001b[0m\n\u001b[1;32m      2\u001b[0m \u001b[0;34m\u001b[0m\u001b[0m\n\u001b[0;32m----> 3\u001b[0;31m     \u001b[0msum_a\u001b[0m \u001b[0;34m=\u001b[0m \u001b[0mlist_a\u001b[0m\u001b[0;34m[\u001b[0m\u001b[0;36m0\u001b[0m\u001b[0;34m]\u001b[0m\u001b[0;34m\u001b[0m\u001b[0;34m\u001b[0m\u001b[0m\n\u001b[0m\u001b[1;32m      4\u001b[0m \u001b[0;34m\u001b[0m\u001b[0m\n\u001b[1;32m      5\u001b[0m     \u001b[0;32mfor\u001b[0m \u001b[0mnumber\u001b[0m \u001b[0;32min\u001b[0m \u001b[0mlist_a\u001b[0m\u001b[0;34m[\u001b[0m\u001b[0;36m1\u001b[0m\u001b[0;34m:\u001b[0m\u001b[0;34m]\u001b[0m\u001b[0;34m:\u001b[0m\u001b[0;34m\u001b[0m\u001b[0;34m\u001b[0m\u001b[0m\n",
      "\u001b[0;31mIndexError\u001b[0m: list index out of range"
     ]
    }
   ],
   "source": [
    "sum_divided_by_sum([], [1])"
   ]
  },
  {
   "cell_type": "code",
   "execution_count": 3,
   "id": "dc5ed057",
   "metadata": {},
   "outputs": [
    {
     "data": {
      "text/plain": [
       "0"
      ]
     },
     "execution_count": 3,
     "metadata": {},
     "output_type": "execute_result"
    }
   ],
   "source": [
    "sum([])"
   ]
  },
  {
   "cell_type": "code",
   "execution_count": null,
   "id": "7d6fe877",
   "metadata": {},
   "outputs": [],
   "source": []
  },
  {
   "cell_type": "code",
   "execution_count": null,
   "id": "b2a1effb",
   "metadata": {},
   "outputs": [],
   "source": []
  },
  {
   "cell_type": "code",
   "execution_count": null,
   "id": "c3c2ae80",
   "metadata": {},
   "outputs": [],
   "source": [
    "\n"
   ]
  },
  {
   "cell_type": "code",
   "execution_count": 5,
   "id": "e4ab16ad",
   "metadata": {},
   "outputs": [
    {
     "ename": "AssertionError",
     "evalue": "",
     "output_type": "error",
     "traceback": [
      "\u001b[0;31m---------------------------------------------------------------------------\u001b[0m",
      "\u001b[0;31mAssertionError\u001b[0m                            Traceback (most recent call last)",
      "\u001b[0;32m/var/folders/5f/vgbh9pkd4wzf4ysrpf9wsr800000gn/T/ipykernel_1928/3282915029.py\u001b[0m in \u001b[0;36m<module>\u001b[0;34m\u001b[0m\n\u001b[1;32m     17\u001b[0m \u001b[0;32massert\u001b[0m \u001b[0mmy_max\u001b[0m\u001b[0;34m(\u001b[0m\u001b[0;34m[\u001b[0m\u001b[0;34m'8'\u001b[0m\u001b[0;34m,\u001b[0m \u001b[0;34m'9'\u001b[0m\u001b[0;34m]\u001b[0m\u001b[0;34m)\u001b[0m \u001b[0;34m==\u001b[0m \u001b[0;34m'9'\u001b[0m\u001b[0;34m\u001b[0m\u001b[0;34m\u001b[0m\u001b[0m\n\u001b[1;32m     18\u001b[0m \u001b[0;32massert\u001b[0m \u001b[0mmy_max\u001b[0m\u001b[0;34m(\u001b[0m\u001b[0;34m[\u001b[0m\u001b[0;34m'9'\u001b[0m\u001b[0;34m,\u001b[0m \u001b[0;34m'9'\u001b[0m\u001b[0;34m]\u001b[0m\u001b[0;34m)\u001b[0m \u001b[0;34m==\u001b[0m \u001b[0;34m'9'\u001b[0m\u001b[0;34m\u001b[0m\u001b[0;34m\u001b[0m\u001b[0m\n\u001b[0;32m---> 19\u001b[0;31m \u001b[0;32massert\u001b[0m \u001b[0mmy_max\u001b[0m\u001b[0;34m(\u001b[0m\u001b[0;34m[\u001b[0m\u001b[0;34m'10'\u001b[0m\u001b[0;34m,\u001b[0m \u001b[0;34m'9'\u001b[0m\u001b[0;34m]\u001b[0m\u001b[0;34m)\u001b[0m \u001b[0;34m==\u001b[0m \u001b[0;34m'10'\u001b[0m\u001b[0;34m\u001b[0m\u001b[0;34m\u001b[0m\u001b[0m\n\u001b[0m",
      "\u001b[0;31mAssertionError\u001b[0m: "
     ]
    }
   ],
   "source": [
    "def my_max(numbers_str):\n",
    "    \"\"\"\n",
    "    Inputs a list of strings with integer values.\n",
    "    Returns the maximum integer value of the string.\n",
    "    \"\"\"\n",
    "    return max(numbers_str)\n",
    "\n",
    "\n",
    "assert my_max(['0', '9']) == '9'\n",
    "assert my_max(['1', '9']) == '9'\n",
    "assert my_max(['2', '9']) == '9'\n",
    "assert my_max(['3', '9']) == '9'\n",
    "assert my_max(['4', '9']) == '9'\n",
    "assert my_max(['5', '9']) == '9'\n",
    "assert my_max(['6', '9']) == '9'\n",
    "assert my_max(['7', '9']) == '9'\n",
    "assert my_max(['8', '9']) == '9'\n",
    "assert my_max(['9', '9']) == '9'\n",
    "assert my_max(['10', '9']) == '10'\n"
   ]
  },
  {
   "cell_type": "code",
   "execution_count": null,
   "id": "d2944c67",
   "metadata": {},
   "outputs": [],
   "source": []
  },
  {
   "cell_type": "code",
   "execution_count": null,
   "id": "3609678b",
   "metadata": {},
   "outputs": [],
   "source": []
  },
  {
   "cell_type": "code",
   "execution_count": null,
   "id": "e295f86c",
   "metadata": {},
   "outputs": [],
   "source": []
  },
  {
   "cell_type": "code",
   "execution_count": 6,
   "id": "2c43cd84",
   "metadata": {},
   "outputs": [],
   "source": [
    "def my_max(numbers_str):\n",
    "    \"\"\"\n",
    "    Inputs a list of strings with integer values.\n",
    "    Returns the maximum integer value of the string.\n",
    "    \"\"\"\n",
    "    max_number = int(numbers_str[0])\n",
    "    \n",
    "    for number_str in numbers_str:\n",
    "        number = int(number_str)\n",
    "        if number > max_number:\n",
    "            max_number = number\n",
    "    \n",
    "    \n",
    "    return str(max_number)\n",
    "\n",
    "\n",
    "assert my_max(['0', '9']) == '9'\n",
    "assert my_max(['1', '9']) == '9'\n",
    "assert my_max(['2', '9']) == '9'\n",
    "assert my_max(['3', '9']) == '9'\n",
    "assert my_max(['4', '9']) == '9'\n",
    "assert my_max(['5', '9']) == '9'\n",
    "assert my_max(['6', '9']) == '9'\n",
    "assert my_max(['7', '9']) == '9'\n",
    "assert my_max(['8', '9']) == '9'\n",
    "assert my_max(['9', '9']) == '9'\n",
    "assert my_max(['10', '9']) == '10'\n"
   ]
  },
  {
   "cell_type": "code",
   "execution_count": null,
   "id": "e875a235",
   "metadata": {},
   "outputs": [],
   "source": []
  }
 ],
 "metadata": {
  "kernelspec": {
   "display_name": "Python 3 (ipykernel)",
   "language": "python",
   "name": "python3"
  },
  "language_info": {
   "codemirror_mode": {
    "name": "ipython",
    "version": 3
   },
   "file_extension": ".py",
   "mimetype": "text/x-python",
   "name": "python",
   "nbconvert_exporter": "python",
   "pygments_lexer": "ipython3",
   "version": "3.9.13"
  }
 },
 "nbformat": 4,
 "nbformat_minor": 5
}
