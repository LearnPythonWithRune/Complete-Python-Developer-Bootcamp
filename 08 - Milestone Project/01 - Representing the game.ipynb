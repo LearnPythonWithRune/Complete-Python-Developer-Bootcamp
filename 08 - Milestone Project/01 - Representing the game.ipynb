{
 "cells": [
  {
   "cell_type": "markdown",
   "id": "b00dc2a2",
   "metadata": {},
   "source": [
    "# Representing the Game"
   ]
  },
  {
   "cell_type": "markdown",
   "id": "1043abe6",
   "metadata": {},
   "source": [
    "### How do you represent the game?\n",
    "\n",
    "- Is it the board?\n",
    "- Do you need a state?\n",
    "- Is the board and state enough to determine a winner?\n",
    "- How to represent the board?\n",
    "\n",
    "**First thought**\n",
    "```Python\n",
    "board = [\n",
    "    [' ', ' ', ' '],\n",
    "    [' ', ' ', ' '],\n",
    "    [' ', ' ', ' ']\n",
    "]\n",
    "```"
   ]
  },
  {
   "cell_type": "code",
   "execution_count": 1,
   "id": "2ff834f2",
   "metadata": {},
   "outputs": [],
   "source": [
    "board = [\n",
    "    [' ', ' ', ' '],\n",
    "    [' ', ' ', ' '],\n",
    "    [' ', ' ', ' ']\n",
    "]"
   ]
  },
  {
   "cell_type": "code",
   "execution_count": 2,
   "id": "274581ea",
   "metadata": {},
   "outputs": [],
   "source": [
    "def display_board(board):\n",
    "    for row in board:\n",
    "        print(row)"
   ]
  },
  {
   "cell_type": "code",
   "execution_count": 3,
   "id": "f758ecf2",
   "metadata": {},
   "outputs": [
    {
     "name": "stdout",
     "output_type": "stream",
     "text": [
      "[' ', ' ', ' ']\n",
      "[' ', ' ', ' ']\n",
      "[' ', ' ', ' ']\n"
     ]
    }
   ],
   "source": [
    "display_board(board)"
   ]
  },
  {
   "cell_type": "markdown",
   "id": "26009b44",
   "metadata": {},
   "source": [
    "### Considerations\n",
    "- What about user input?\n",
    "- What about check if win?\n",
    "- Can we make that easier?\n",
    "\n",
    "### Alternative\n",
    "- Think of a number pad\n",
    "    - 7, 8, 9\n",
    "    - 4, 5, 6\n",
    "    - 1, 2, 3"
   ]
  },
  {
   "cell_type": "code",
   "execution_count": 4,
   "id": "0797d624",
   "metadata": {},
   "outputs": [],
   "source": [
    "board = ['-']*10"
   ]
  },
  {
   "cell_type": "code",
   "execution_count": 6,
   "id": "98e8996b",
   "metadata": {},
   "outputs": [],
   "source": [
    "board[0] = '#'"
   ]
  },
  {
   "cell_type": "code",
   "execution_count": 7,
   "id": "39c6edc6",
   "metadata": {},
   "outputs": [
    {
     "data": {
      "text/plain": [
       "['#', '-', '-', '-', '-', '-', '-', '-', '-', '-']"
      ]
     },
     "execution_count": 7,
     "metadata": {},
     "output_type": "execute_result"
    }
   ],
   "source": [
    "board"
   ]
  },
  {
   "cell_type": "code",
   "execution_count": null,
   "id": "ef791eae",
   "metadata": {},
   "outputs": [],
   "source": []
  }
 ],
 "metadata": {
  "kernelspec": {
   "display_name": "Python 3 (ipykernel)",
   "language": "python",
   "name": "python3"
  },
  "language_info": {
   "codemirror_mode": {
    "name": "ipython",
    "version": 3
   },
   "file_extension": ".py",
   "mimetype": "text/x-python",
   "name": "python",
   "nbconvert_exporter": "python",
   "pygments_lexer": "ipython3",
   "version": "3.9.13"
  }
 },
 "nbformat": 4,
 "nbformat_minor": 5
}
