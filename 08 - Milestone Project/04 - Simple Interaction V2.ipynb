{
 "cells": [
  {
   "cell_type": "markdown",
   "id": "334364f2",
   "metadata": {},
   "source": [
    "# Simple Interaction Board"
   ]
  },
  {
   "cell_type": "markdown",
   "id": "4157ad41",
   "metadata": {},
   "source": [
    "### Simple 'Game' v2.0\n",
    "\n",
    "Consider the following board.\n",
    "\n",
    "```\n",
    "-------------\n",
    "|O| | | | |X|\n",
    "-------------\n",
    "```\n",
    "\n",
    "The player is `O` and the goal is to not get hit by `X`\n",
    "\n",
    "The player can move either 1 or 2 moves to left or right, but only inside the board.\n",
    "\n",
    "The computer will make a similar move with `X`.\n",
    "\n",
    "If the player lands on `X` or if compuer lands on `O` the player loses."
   ]
  },
  {
   "cell_type": "markdown",
   "id": "18605e2b",
   "metadata": {},
   "source": [
    "### Design\n",
    "\n",
    "This can be broken down into\n",
    "\n",
    "0. Represent the board\n",
    "1. Display the board\n",
    "2. Input from user (with validation)\n",
    "3. Check if user lost\n",
    "4. Update the board\n",
    "5. Let computer move\n",
    "6. Check if computer won\n",
    "7. Update board for computer"
   ]
  },
  {
   "cell_type": "code",
   "execution_count": 1,
   "id": "b25a6f7a",
   "metadata": {},
   "outputs": [],
   "source": [
    "# 0: Represent the board\n",
    "board = ['O', ' ', ' ', ' ', ' ', 'X']"
   ]
  },
  {
   "cell_type": "code",
   "execution_count": 2,
   "id": "7d79579f",
   "metadata": {},
   "outputs": [],
   "source": [
    "from IPython.display import clear_output\n",
    "\n",
    "# 1: Display the board\n",
    "def display_board(board):\n",
    "    clear_output()\n",
    "    length = len(board)   \n",
    "    print('-'*(length*2 + 1))\n",
    "    for item in board:\n",
    "        print('|', item, sep='', end='')\n",
    "    print('|')\n",
    "    print('-'*(length*2 + 1))"
   ]
  },
  {
   "cell_type": "code",
   "execution_count": 3,
   "id": "812006e2",
   "metadata": {},
   "outputs": [
    {
     "name": "stdout",
     "output_type": "stream",
     "text": [
      "-------------\n",
      "|O| | | | |X|\n",
      "-------------\n"
     ]
    }
   ],
   "source": [
    "display_board(board)"
   ]
  },
  {
   "cell_type": "code",
   "execution_count": 5,
   "id": "cc8a4255",
   "metadata": {},
   "outputs": [],
   "source": [
    "# 2: Input from user with validation\n",
    "def get_position(board, marker):\n",
    "    return board.index(marker)\n",
    "\n",
    "\n",
    "assert get_position(['O', ' ', ' ', ' ', ' ', 'X'], 'O') == 0\n",
    "assert get_position([' ', ' ', ' ', ' ', 'O', 'X'], 'O') == 4\n",
    "\n",
    "def valid_move(input_str, board):\n",
    "    if input_str not in ['-2', '-1', '1', '2']:\n",
    "        return False\n",
    "    \n",
    "    move = int(input_str)\n",
    "    \n",
    "    position = get_position(board, 'O')\n",
    "    \n",
    "    if position + move < 0:\n",
    "        return False\n",
    "    \n",
    "    if position + move >= len(board):\n",
    "        return False\n",
    "    \n",
    "    return True\n",
    "\n",
    "assert valid_move('-2', [' ', ' ', ' ', ' ', 'O', 'X'])\n",
    "assert valid_move('1', ['O', ' ', ' ', ' ', ' ', 'X'])\n",
    "assert valid_move('-1', [' ', ' ', ' ', ' ', ' ', 'O'])\n",
    "assert valid_move('1', [' ', ' ', ' ', ' ', ' ', 'O']) == False\n",
    "assert valid_move('2', [' ', ' ', ' ', ' ', ' ', 'O']) == False\n",
    "assert valid_move('0', [' ', ' ', ' ', ' ', ' ', 'O']) == False\n",
    "assert valid_move('-1', ['O', ' ', ' ', ' ', ' ', 'X']) == False\n",
    "\n",
    "\n",
    "def user_move(board):\n",
    "    while True:\n",
    "        input_str = input('Choose move (-2, -1, 1, 2): ')\n",
    "        if valid_move(input_str, board):\n",
    "            return int(input_str)\n",
    "    \n",
    "        print('Invalid move')"
   ]
  },
  {
   "cell_type": "code",
   "execution_count": 6,
   "id": "0ad8bb74",
   "metadata": {},
   "outputs": [
    {
     "name": "stdout",
     "output_type": "stream",
     "text": [
      "Choose move (-2, -1, 1, 2): -2\n",
      "Invalid move\n",
      "Choose move (-2, -1, 1, 2): 2\n"
     ]
    },
    {
     "data": {
      "text/plain": [
       "2"
      ]
     },
     "execution_count": 6,
     "metadata": {},
     "output_type": "execute_result"
    }
   ],
   "source": [
    "user_move(board)"
   ]
  },
  {
   "cell_type": "code",
   "execution_count": 17,
   "id": "0e21cefd",
   "metadata": {},
   "outputs": [],
   "source": [
    "# 3: Check if user won\n",
    "\n",
    "def game_done(board, move, marker):\n",
    "    position = get_position(board, marker)\n",
    "    \n",
    "    if board[position + move] != ' ':\n",
    "        return True\n",
    "    else:\n",
    "        return False\n",
    "\n",
    "assert game_done([' ', ' ', ' ', ' ', 'O', 'X'], 1, 'O')\n",
    "assert game_done([' ', ' ', ' ', ' ', 'O', 'X'], -1, 'O') == False\n",
    "assert game_done([' ', ' ', ' ', ' ', 'O', 'X'], -1, 'X')\n",
    "assert game_done([' ', ' ', ' ', ' ', 'O', 'X'], -2, 'X') == False"
   ]
  },
  {
   "cell_type": "code",
   "execution_count": 13,
   "id": "243d4b05",
   "metadata": {},
   "outputs": [],
   "source": [
    "# 4: Update the board\n",
    "\n",
    "def update_board(board, move, marker):\n",
    "    position = get_position(board, marker)\n",
    "    \n",
    "    board[position] = ' '\n",
    "    board[position + move] = marker\n",
    "    \n",
    "    return board\n",
    "\n",
    "assert update_board([' ', ' ', ' ', ' ', 'O', 'X'], -1, 'O') == [' ', ' ', ' ', 'O', ' ', 'X']"
   ]
  },
  {
   "cell_type": "code",
   "execution_count": 14,
   "id": "5e946c54",
   "metadata": {},
   "outputs": [],
   "source": [
    "# 5: Computer move\n",
    "from random import randrange\n",
    "\n",
    "def get_random_move():\n",
    "    while True:\n",
    "        random_move = randrange(-2, 3)\n",
    "        if random_move in [-2, -1, 1, 2]:\n",
    "            return random_move"
   ]
  },
  {
   "cell_type": "code",
   "execution_count": 16,
   "id": "520dd781",
   "metadata": {},
   "outputs": [
    {
     "data": {
      "text/plain": [
       "1"
      ]
     },
     "execution_count": 16,
     "metadata": {},
     "output_type": "execute_result"
    }
   ],
   "source": [
    "get_random_move()"
   ]
  },
  {
   "cell_type": "code",
   "execution_count": 18,
   "id": "dc4bcca2",
   "metadata": {},
   "outputs": [],
   "source": [
    "def get_computer_move(board):\n",
    "    position = get_position(board, 'X')\n",
    "    \n",
    "    while True:\n",
    "        move = get_random_move()\n",
    "        \n",
    "        if position + move < 0:\n",
    "            continue\n",
    "            \n",
    "        if position + move >= len(board):\n",
    "            continue\n",
    "        \n",
    "        return move"
   ]
  },
  {
   "cell_type": "code",
   "execution_count": null,
   "id": "efcad359",
   "metadata": {},
   "outputs": [],
   "source": []
  },
  {
   "cell_type": "code",
   "execution_count": null,
   "id": "e88f8c57",
   "metadata": {},
   "outputs": [],
   "source": []
  },
  {
   "cell_type": "code",
   "execution_count": 22,
   "id": "8303f7cf",
   "metadata": {},
   "outputs": [
    {
     "name": "stdout",
     "output_type": "stream",
     "text": [
      "-------------\n",
      "|X| |O| | | |\n",
      "-------------\n",
      "Computer move 2\n",
      "You made 9 moves\n",
      "Computer won!\n"
     ]
    }
   ],
   "source": [
    "# 0\n",
    "board = ['O', ' ', ' ', ' ', ' ', 'X']\n",
    "moves = 0\n",
    "\n",
    "while True:\n",
    "    # 1\n",
    "    display_board(board)\n",
    "    # 2\n",
    "    move = user_move(board)\n",
    "    \n",
    "    # 3\n",
    "    if game_done(board, move, 'O'):\n",
    "        print('You lost!')\n",
    "        break\n",
    "        \n",
    "    # 4\n",
    "    board = update_board(board, move, 'O')\n",
    "    moves += 1\n",
    "    \n",
    "    # 5\n",
    "    computer_move = get_computer_move(board)\n",
    "    \n",
    "    # 6\n",
    "    if game_done(board, computer_move, 'X'):\n",
    "        display_board(board)\n",
    "        print('Computer move', computer_move)\n",
    "        print('You made', moves, 'moves')\n",
    "        print('Computer won!')\n",
    "        break\n",
    "        \n",
    "    # 7\n",
    "    board = update_board(board, computer_move, 'X')"
   ]
  },
  {
   "cell_type": "code",
   "execution_count": null,
   "id": "ef61cb93",
   "metadata": {},
   "outputs": [],
   "source": []
  }
 ],
 "metadata": {
  "kernelspec": {
   "display_name": "Python 3 (ipykernel)",
   "language": "python",
   "name": "python3"
  },
  "language_info": {
   "codemirror_mode": {
    "name": "ipython",
    "version": 3
   },
   "file_extension": ".py",
   "mimetype": "text/x-python",
   "name": "python",
   "nbconvert_exporter": "python",
   "pygments_lexer": "ipython3",
   "version": "3.9.13"
  }
 },
 "nbformat": 4,
 "nbformat_minor": 5
}
