{
 "cells": [
  {
   "cell_type": "markdown",
   "id": "050fdc00",
   "metadata": {},
   "source": [
    "# Milestone Project - Tic Tac Toe"
   ]
  },
  {
   "cell_type": "markdown",
   "id": "829dbe04",
   "metadata": {},
   "source": [
    "### The goal of the project\n",
    "\n",
    "- To create a Tic Tac Toe\n",
    "- The user will be player `O` and the computer `X`\n",
    "- In the simple version the player `O` always start."
   ]
  },
  {
   "cell_type": "markdown",
   "id": "f509064e",
   "metadata": {},
   "source": [
    "### Step 1: Steps\n",
    "\n",
    "- Assume you are a player.\n",
    "- What steps do you see in the game.\n",
    "- Try to define some steps in the game."
   ]
  },
  {
   "cell_type": "markdown",
   "id": "9a7651ee",
   "metadata": {},
   "source": [
    "#### CLICK TO FOR A STARTER HINT\n",
    "\n",
    "<!--\n",
    "\n",
    "1. Display board\n",
    "2. Input from user (player move)\n",
    "3. ...\n",
    "\n",
    "-->"
   ]
  },
  {
   "cell_type": "code",
   "execution_count": null,
   "id": "1f679e29",
   "metadata": {},
   "outputs": [],
   "source": []
  },
  {
   "cell_type": "code",
   "execution_count": null,
   "id": "d4b8588f",
   "metadata": {},
   "outputs": [],
   "source": []
  },
  {
   "cell_type": "code",
   "execution_count": null,
   "id": "9f502991",
   "metadata": {},
   "outputs": [],
   "source": []
  },
  {
   "cell_type": "markdown",
   "id": "c30fc7a5",
   "metadata": {},
   "source": [
    "### Step 2: Before the game starts\n",
    "\n",
    "- In most cases you need to setup something before the game can start.\n",
    "- For Tic Tac Toe it is a data representation of the board.\n",
    "- There are many ways to represent the board.\n",
    "- Try to consider two different ways of representing the board.\n",
    "- Then consider the benefits of each of them.\n",
    "- Please notice that there is not a *right* way to represent it."
   ]
  },
  {
   "cell_type": "markdown",
   "id": "bfc87fed",
   "metadata": {},
   "source": [
    "#### DOUBLE CLICK HERE TO SEE HOW YOU CAN REPRESENT THE BOARD\n",
    "\n",
    "<!--\n",
    "\n",
    "board = [\n",
    "    ['-', '-', '-'],\n",
    "    ['-', '-', '-'],\n",
    "    ['-', '-', '-']\n",
    "]\n",
    "\n",
    "board = ['#', '-', '-', '-', '-', '-', '-', '-', '-', '-']\n",
    "\n",
    "Please notice there can many other ways to represent them.\n",
    "\n",
    "-->"
   ]
  },
  {
   "cell_type": "code",
   "execution_count": null,
   "id": "528f4c9d",
   "metadata": {},
   "outputs": [],
   "source": []
  },
  {
   "cell_type": "code",
   "execution_count": null,
   "id": "240db1eb",
   "metadata": {},
   "outputs": [],
   "source": []
  },
  {
   "cell_type": "code",
   "execution_count": null,
   "id": "3b6d3420",
   "metadata": {},
   "outputs": [],
   "source": []
  },
  {
   "cell_type": "markdown",
   "id": "6e01d210",
   "metadata": {},
   "source": [
    "### Step 3: Design choices\n",
    "- If you want to do it similar to how I will create a solution you should represent the board as follows.\n",
    "\n",
    "```Python\n",
    "board = ['#', '-', '-', '-', '-', '-', '-', '-', '-', '-']\n",
    "```\n",
    "\n",
    "- Can you see the benefit of this representation?"
   ]
  },
  {
   "cell_type": "markdown",
   "id": "e27612ee",
   "metadata": {},
   "source": [
    "#### DOUBLE CLICK FOR HINT\n",
    "\n",
    "<!--\n",
    "\n",
    "This will represent the board like a numberpad.\n",
    "\n",
    "board = ['#', '-', '-', '-', '-', '-', '-', '-', '-', '-']\n",
    "\n",
    "print(board[7], board[8], board[9])\n",
    "print(board[4], board[5], board[6])\n",
    "print(board[1], board[2], board[3])\n",
    "\n",
    "-->"
   ]
  },
  {
   "cell_type": "code",
   "execution_count": 1,
   "id": "1904c9fe",
   "metadata": {},
   "outputs": [],
   "source": [
    "board = ['#', '-', '-', '-', '-', '-', '-', '-', '-', '-']"
   ]
  },
  {
   "cell_type": "code",
   "execution_count": null,
   "id": "84052e76",
   "metadata": {},
   "outputs": [],
   "source": []
  },
  {
   "cell_type": "code",
   "execution_count": null,
   "id": "4e2cc6a0",
   "metadata": {},
   "outputs": [],
   "source": []
  },
  {
   "cell_type": "markdown",
   "id": "d77413eb",
   "metadata": {},
   "source": [
    "### Step 4: Design flow\n",
    "\n",
    "A simple description of the implementation.\n",
    "\n",
    "0. Setup board\n",
    "1. - Display board\n",
    "2. - Input from user (including validation)\n",
    "3. - Update board (place the marker for player)\n",
    "4. - Check if player wins or game is done then output it and go to 9.\n",
    "5. - Input from computer\n",
    "6. - Update board (place the marker for computer)\n",
    "7. - Check if computer wins or game is done then output it and go to 9.\n",
    "8. - Repeat from 1.\n",
    "9. Prompt user for replay if yes go to 0.\n",
    "\n",
    "The programmers job is to implement the the 10 parts in one or more functions each.\n",
    "\n",
    "Then combine it into a full flow as outlined above."
   ]
  },
  {
   "cell_type": "code",
   "execution_count": null,
   "id": "31205fc4",
   "metadata": {},
   "outputs": [],
   "source": []
  },
  {
   "cell_type": "code",
   "execution_count": null,
   "id": "97d530ca",
   "metadata": {},
   "outputs": [],
   "source": []
  },
  {
   "cell_type": "code",
   "execution_count": null,
   "id": "16853738",
   "metadata": {},
   "outputs": [],
   "source": []
  },
  {
   "cell_type": "markdown",
   "id": "6e505324",
   "metadata": {},
   "source": [
    "### Step 5: Setup board\n",
    "\n",
    "- The board has already been defined above.\n",
    "- It is an option to create a function that returns a new board."
   ]
  },
  {
   "cell_type": "code",
   "execution_count": 2,
   "id": "7f60ef0b",
   "metadata": {},
   "outputs": [],
   "source": [
    "board = ['#', '-', '-', '-', '-', '-', '-', '-', '-', '-']"
   ]
  },
  {
   "cell_type": "code",
   "execution_count": null,
   "id": "b4033584",
   "metadata": {},
   "outputs": [],
   "source": []
  },
  {
   "cell_type": "code",
   "execution_count": null,
   "id": "6dafa41c",
   "metadata": {},
   "outputs": [],
   "source": []
  },
  {
   "cell_type": "markdown",
   "id": "43a8e25d",
   "metadata": {},
   "source": [
    "### Step 6: Display board\n",
    "\n",
    "- Create a function `display_board(board)` that will print the board.\n",
    "- It is a great idea to use `from IPython.display import clear_output` and apply the `clear_output()` as the first thing in the function.\n",
    "- Test it and make sure it works as intended."
   ]
  },
  {
   "cell_type": "code",
   "execution_count": 6,
   "id": "7e7ce59b",
   "metadata": {},
   "outputs": [],
   "source": [
    "from IPython.display import clear_output\n",
    "\n",
    "def display_board(board):\n",
    "    clear_output()\n",
    "    print(board[7], board[8], board[9])\n",
    "    print(board[4], board[5], board[6])\n",
    "    print(board[1], board[2], board[3])"
   ]
  },
  {
   "cell_type": "code",
   "execution_count": 8,
   "id": "10446d4e",
   "metadata": {},
   "outputs": [
    {
     "name": "stdout",
     "output_type": "stream",
     "text": [
      "- - -\n",
      "X - -\n",
      "O - -\n"
     ]
    }
   ],
   "source": [
    "test_board = ['#', 'O', '-', '-', 'X', '-', '-', '-', '-', '-']\n",
    "\n",
    "display_board(test_board)"
   ]
  },
  {
   "cell_type": "code",
   "execution_count": null,
   "id": "19e94617",
   "metadata": {},
   "outputs": [],
   "source": []
  },
  {
   "cell_type": "markdown",
   "id": "ed4f7745",
   "metadata": {},
   "source": [
    "### Step 7: Input from user\n",
    "- In this step you need to create a function that takes player input from user.\n",
    "- This includes validation.\n",
    "- It is suggested you break it down into a few functions to easier test it.\n",
    "- You can call the main function `player_input(board)` and try to keep it simple, as functions with input from the user are difficult to test.\n",
    "- Create another function that validates if the user input is correct.\n",
    "- Consider what this function needs to validate.\n",
    "- Create tests with `assert` to ensure you test all parts of the code of the validation function."
   ]
  },
  {
   "cell_type": "markdown",
   "id": "7e59cd35",
   "metadata": {},
   "source": [
    "#### DOUBLE CLICK HERE FOR A HINT\n",
    "\n",
    "<!--\n",
    "\n",
    "There can be different ways to validate if the user input is correct.\n",
    "\n",
    "But one way is to.\n",
    "1. Check if the user input is one character (i.e. the length of the input is 1)\n",
    "2. Check if the user input is either '1', '2', '3', ..., '9'\n",
    "3. Check if the position on the board is available (free).\n",
    "\n",
    "-->"
   ]
  },
  {
   "cell_type": "code",
   "execution_count": 11,
   "id": "50d3a4f6",
   "metadata": {},
   "outputs": [],
   "source": [
    "def valid_move(board, input_str):\n",
    "    \"\"\"\n",
    "    Return true if move valid (1-9 and available).\n",
    "    \"\"\"\n",
    "    if len(input_str) != 1:\n",
    "        return False\n",
    "    if input_str not in '123456789':\n",
    "        return False\n",
    "    \n",
    "    move = int(input_str)\n",
    "    \n",
    "    if board[move] != '-':\n",
    "        return False\n",
    "    \n",
    "    return True\n",
    "\n",
    "assert valid_move(['#', 'O', '-', '-', 'X', '-', '-', '-', '-', '-'], '2')\n",
    "assert valid_move(['#', 'O', '-', '-', 'X', '-', '-', '-', '-', '-'], '1') == False\n",
    "assert valid_move(['#', 'O', '-', '-', 'X', '-', '-', '-', '-', '-'], '11') == False\n",
    "assert valid_move(['#', 'O', '-', '-', 'X', '-', '-', '-', '-', '-'], '0') == False\n"
   ]
  },
  {
   "cell_type": "code",
   "execution_count": 12,
   "id": "9abe2734",
   "metadata": {},
   "outputs": [],
   "source": [
    "def player_input(board):\n",
    "    \"\"\"\n",
    "    Input player move. Prompts the user until valid move\n",
    "    meaning (1-9) and position available.\n",
    "    Returns the valid move.\n",
    "    \"\"\"\n",
    "    while True:\n",
    "        input_str = input('Input move (1-9): ')\n",
    "        if valid_move(board, input_str):\n",
    "            return int(input_str)\n",
    "        \n",
    "        print('Invalid move')"
   ]
  },
  {
   "cell_type": "code",
   "execution_count": 14,
   "id": "0d7ddfe7",
   "metadata": {},
   "outputs": [
    {
     "name": "stdout",
     "output_type": "stream",
     "text": [
      "- - -\n",
      "X - -\n",
      "O - -\n",
      "Input move (1-9): 1\n",
      "Invalid move\n",
      "Input move (1-9): 4\n",
      "Invalid move\n",
      "Input move (1-9): 2\n"
     ]
    },
    {
     "data": {
      "text/plain": [
       "2"
      ]
     },
     "execution_count": 14,
     "metadata": {},
     "output_type": "execute_result"
    }
   ],
   "source": [
    "display_board(test_board)\n",
    "player_input(test_board)"
   ]
  },
  {
   "cell_type": "code",
   "execution_count": null,
   "id": "9e25d785",
   "metadata": {},
   "outputs": [],
   "source": []
  },
  {
   "cell_type": "markdown",
   "id": "1c211bae",
   "metadata": {},
   "source": [
    "### Step 8: Update the board\n",
    "\n",
    "- Here you need to update the board with the input from the user.\n",
    "- Create a function `place_marker(board, marker, position)`\n",
    "- Create tests with `assert` to ensure that it works as expected."
   ]
  },
  {
   "cell_type": "code",
   "execution_count": 15,
   "id": "ddb2437b",
   "metadata": {},
   "outputs": [],
   "source": [
    "def place_marker(board, marker, position):\n",
    "    \"\"\"\n",
    "    Places the marker at position on board and returns it.\n",
    "    \"\"\"\n",
    "    board[position] = marker\n",
    "    return board"
   ]
  },
  {
   "cell_type": "code",
   "execution_count": 19,
   "id": "fa0a4edf",
   "metadata": {},
   "outputs": [],
   "source": [
    "assert place_marker(['#', '-', '-', '-', '-', '-', '-', '-', '-', '-'], 'O', 1) == ['#', 'O', '-', '-', '-', '-', '-', '-', '-', '-']"
   ]
  },
  {
   "cell_type": "code",
   "execution_count": null,
   "id": "21134282",
   "metadata": {},
   "outputs": [],
   "source": []
  },
  {
   "cell_type": "markdown",
   "id": "7bca5cc4",
   "metadata": {},
   "source": [
    "### Step 9: Check if player won or game is done\n",
    "- This can be done with two functions.\n",
    "- `is_done(board)` that returns `True` if the game is done, and `False` otherwise.\n",
    "- Create tests with `assert` to ensure that it works as expected.\n",
    "- `player_won(board, marker)` that returns `True` if player with marker `marker` has won, and `False` otherwise.\n",
    "- Create tests with `assert` to ensure that it works as expected.\n"
   ]
  },
  {
   "cell_type": "markdown",
   "id": "f3995781",
   "metadata": {},
   "source": [
    "#### DOUBLE CLICK TO GET HINT ON HOW TO CHECK IF GAME IS DONE\n",
    "\n",
    "<!--\n",
    "\n",
    "board = [' ', 'X', 'O', 'X', '-', 'O', 'X', '-', 'X', 'O']\n",
    "\n",
    "Check if any of the items indexed 1 through 9 are '-'. If none are, the game is done.\n",
    "\n",
    "-->"
   ]
  },
  {
   "cell_type": "markdown",
   "id": "914b7792",
   "metadata": {},
   "source": [
    "#### DOUBLE CLICK TO GET HINT ON HOW TO CHECK IF GAME IS WON\n",
    "\n",
    "<!--\n",
    "\n",
    "The player with `marker` can win in 8 different ways.\n",
    "\n",
    "Assuming marker `O`\n",
    "\n",
    "Rows\n",
    "\n",
    "O O O    - - -    - - -\n",
    "- - - or O O O or - - -\n",
    "- - -    - - -    O O O\n",
    "\n",
    "or Columns\n",
    "\n",
    "O - -    - O -    - - O\n",
    "O - - or - O - or - - O\n",
    "O - -    - O -    - - O\n",
    "\n",
    "or Diagonals\n",
    "\n",
    "O - -    - - O\n",
    "- O - or - O -\n",
    "- - O    O - -\n",
    "\n",
    "The simple way is to check if one of these 8 cases occurs and return True if so and False otherwise.\n",
    "\n",
    "-->"
   ]
  },
  {
   "cell_type": "code",
   "execution_count": 21,
   "id": "8ff23f78",
   "metadata": {},
   "outputs": [],
   "source": [
    "def is_done(board):\n",
    "    \"\"\"\n",
    "    Returns True if the board is filled and game is done.\n",
    "    \"\"\"\n",
    "    for pos in board[1:]:\n",
    "        if pos == '-':\n",
    "            return False\n",
    "    \n",
    "    return True\n",
    "\n",
    "assert is_done(['-', 'O', 'O', 'O', 'O', 'O', 'O', 'O', 'O', 'O'])\n",
    "assert is_done(['#', '-', '-', '-', '-', '-', '-', '-', '-', '-']) == False\n",
    "assert is_done(['#', 'O', 'O', 'O', 'O', 'O', 'O', 'O', 'O', '-']) == False\n"
   ]
  },
  {
   "cell_type": "code",
   "execution_count": 24,
   "id": "9defbd2c",
   "metadata": {},
   "outputs": [],
   "source": [
    "def player_won(board, marker):\n",
    "    \"\"\"\n",
    "    Return True if player with marker has won.\n",
    "    \"\"\"\n",
    "    if board[7] == board[8] == board[9] == marker:  # top row\n",
    "        return True\n",
    "    if board[4] == board[5] == board[6] == marker:  # middle row\n",
    "        return True\n",
    "    if board[1] == board[2] == board[3] == marker:  # low row\n",
    "        return True\n",
    "    if board[7] == board[4] == board[1] == marker:  # left column\n",
    "        return True\n",
    "    if board[8] == board[5] == board[2] == marker:  # middle column\n",
    "        return True\n",
    "    if board[9] == board[6] == board[3] == marker:  # right column\n",
    "        return True\n",
    "    if board[7] == board[5] == board[3] == marker:  # diagonal\n",
    "        return True\n",
    "    if board[9] == board[5] == board[1] == marker:  # diagonal\n",
    "        return True\n",
    "    \n",
    "    return False\n",
    "\n",
    "assert player_won(['-', 'O', 'O', 'O', 'O', 'O', 'O', 'O', 'O', 'O'], 'O')\n",
    "assert player_won(['-', 'O', 'O', 'O', 'O', 'O', 'O', 'O', 'O', 'O'], 'X') == False"
   ]
  },
  {
   "cell_type": "code",
   "execution_count": null,
   "id": "84031f1d",
   "metadata": {},
   "outputs": [],
   "source": []
  },
  {
   "cell_type": "markdown",
   "id": "f7387265",
   "metadata": {},
   "source": [
    "### Step 10: First GAME - user against user\n",
    "- Now you can actually create the Tic Toc Toe game for a user against user\n",
    "- Try to create the program flow for practice."
   ]
  },
  {
   "cell_type": "code",
   "execution_count": 27,
   "id": "2fcb2849",
   "metadata": {},
   "outputs": [
    {
     "name": "stdout",
     "output_type": "stream",
     "text": [
      "X X O\n",
      "O X X\n",
      "O O O\n",
      "Game done\n"
     ]
    }
   ],
   "source": [
    "\"\"\"\n",
    "Setup board\n",
    "Display board\n",
    "Input from player O (including validation)\n",
    "Update board (place the marker for player)\n",
    "Check if player wins or game is done then output it and go to 9.\n",
    "\n",
    "Input from player X\n",
    "Update board (place the marker for computer)\n",
    "Check if computer wins or game is done then output it and go to 9.\n",
    "Repeat from 1.\n",
    "\"\"\"\n",
    "\n",
    "board = ['-']*10\n",
    "\n",
    "while True:\n",
    "    display_board(board)\n",
    "    position = player_input(board)\n",
    "    place_marker(board, 'O', position)\n",
    "    if player_won(board, 'O') or is_done(board):\n",
    "        display_board(board)\n",
    "        print('Game done')\n",
    "        break\n",
    "        \n",
    "    display_board(board)\n",
    "    position = player_input(board)\n",
    "    place_marker(board, 'X', position)\n",
    "    if player_won(board, 'X') or is_done(board):\n",
    "        display_board(board)\n",
    "        print('Game done')\n",
    "        break\n",
    "    "
   ]
  },
  {
   "cell_type": "code",
   "execution_count": null,
   "id": "11770cde",
   "metadata": {},
   "outputs": [],
   "source": []
  },
  {
   "cell_type": "code",
   "execution_count": null,
   "id": "5fe9dcd6",
   "metadata": {},
   "outputs": [],
   "source": []
  },
  {
   "cell_type": "markdown",
   "id": "48884536",
   "metadata": {},
   "source": [
    "### Step 11: Computer turn\n",
    "\n",
    "- A simple way to make the computer take turn is to make a random choice.\n",
    "- In this first iteration make a function that returns a valid random move.\n",
    "- To test the function can be a bit tricky but can be done.\n",
    "    - Check that it returns a value that is always from 1 to 9 (both inclusive).\n",
    "    - Check that it returns all values on an empty board.\n",
    "    - Check that it returns a value that is empty on a board.\n",
    "- Please play around with how to test it.\n",
    "- Also, notice how having a helper function can ensure some parts can be tested."
   ]
  },
  {
   "cell_type": "markdown",
   "id": "61617b0c",
   "metadata": {},
   "source": [
    "#### DOUBLE CLICK TO RECALL HOW TO GET A RANDOM NUMBER\n",
    "\n",
    "<!--\n",
    "\n",
    "from random import randrange\n",
    "\n",
    "random_number = randrange(11,21)  # returns a random integer from 11 to 20 (both inclusive)\n",
    "\n",
    "-->"
   ]
  },
  {
   "cell_type": "markdown",
   "id": "c99771da",
   "metadata": {},
   "source": [
    "#### DOUBLE CLICK TO GET A HINT ON HOW TO MAKE A RANDOM MOVE\n",
    "\n",
    "<!--\n",
    "\n",
    "A simple way to make a random valid move is as follows.\n",
    "\n",
    "1. Make a random number from 1 to 9 (both inclusive)\n",
    "2. Check if it is an empty position on the board, else go to 1.\n",
    "\n",
    "-->"
   ]
  },
  {
   "cell_type": "code",
   "execution_count": 28,
   "id": "44478ff4",
   "metadata": {},
   "outputs": [],
   "source": [
    "from random import randrange"
   ]
  },
  {
   "cell_type": "code",
   "execution_count": 29,
   "id": "918f26a2",
   "metadata": {},
   "outputs": [],
   "source": [
    "def get_random_postion():\n",
    "    \"\"\"\n",
    "    Returns a random integer from 1-9 (both inclusive)\n",
    "    \"\"\"\n",
    "    return randrange(1, 10)"
   ]
  },
  {
   "cell_type": "code",
   "execution_count": 30,
   "id": "64426514",
   "metadata": {},
   "outputs": [
    {
     "data": {
      "text/plain": [
       "1"
      ]
     },
     "execution_count": 30,
     "metadata": {},
     "output_type": "execute_result"
    }
   ],
   "source": [
    "get_random_postion()"
   ]
  },
  {
   "cell_type": "code",
   "execution_count": 31,
   "id": "0084bece",
   "metadata": {},
   "outputs": [],
   "source": [
    "def get_computer_move(board):\n",
    "    \"\"\"\n",
    "    Returns a random move by the computer which is valid.\n",
    "    \"\"\"\n",
    "    while True:\n",
    "        random_move = get_random_postion()\n",
    "        if board[random_move] == '-':\n",
    "            return random_move"
   ]
  },
  {
   "cell_type": "code",
   "execution_count": 35,
   "id": "0a955bb6",
   "metadata": {},
   "outputs": [],
   "source": [
    "assert get_computer_move(['-', 'O', 'O', 'O', 'O', 'O', 'O', 'O', 'O', '-']) == 9\n",
    "assert get_computer_move(['-', '-', 'O', 'O', 'O', 'O', 'O', 'O', 'O', 'O']) == 1"
   ]
  },
  {
   "cell_type": "code",
   "execution_count": null,
   "id": "71d1fc23",
   "metadata": {},
   "outputs": [],
   "source": []
  },
  {
   "cell_type": "markdown",
   "id": "59406629",
   "metadata": {},
   "source": [
    "### Step 12: Create one game\n",
    "\n",
    "- Create a function for one game.\n",
    "\n",
    "0. Setup board\n",
    "1. Display board\n",
    "2. Input from user (including validation)\n",
    "3. Update board (place the marker for player)\n",
    "4. Check if player wins or game is done then output it and go to 9.\n",
    "5. Input from computer\n",
    "6. Update board (place the marker for computer)\n",
    "7. Check if computer wins or game is done then output it and go to 9.\n",
    "8. Repeat from 1.\n"
   ]
  },
  {
   "cell_type": "code",
   "execution_count": 36,
   "id": "e88a1029",
   "metadata": {},
   "outputs": [],
   "source": [
    "def play_game():\n",
    "    \"\"\"\n",
    "    Plays a game of Tic Toc Toe with the computer.\n",
    "    \"\"\"\n",
    "    # 0: setup board\n",
    "    board = ['#', '-', '-', '-', '-', '-', '-', '-', '-', '-']\n",
    "    \n",
    "    while True:\n",
    "        # 1: Display board\n",
    "        display_board(board)\n",
    "        \n",
    "        # 2: Player input\n",
    "        pos = player_input(board)\n",
    "        \n",
    "        # 3: Update board\n",
    "        place_marker(board, 'O', pos)\n",
    "        \n",
    "        # 4: Check if won or done\n",
    "        if player_won(board, 'O') or is_done(board):\n",
    "            display_board(board)\n",
    "            print('You won!')\n",
    "            break\n",
    "            \n",
    "        # 5: Computer move\n",
    "        computer_pos = get_computer_move(board)\n",
    "        \n",
    "        # 6: Update board\n",
    "        place_marker(board, 'X', computer_pos)\n",
    "        \n",
    "        # 7: Check if computer won or done\n",
    "        if player_won(board, 'X') or is_done(board):\n",
    "            display_board(board)\n",
    "            print('Computer won!')\n",
    "            break"
   ]
  },
  {
   "cell_type": "code",
   "execution_count": 41,
   "id": "948a7697",
   "metadata": {},
   "outputs": [
    {
     "name": "stdout",
     "output_type": "stream",
     "text": [
      "O O X\n",
      "X X X\n",
      "O O -\n",
      "Computer won!\n"
     ]
    }
   ],
   "source": [
    "play_game()"
   ]
  },
  {
   "cell_type": "code",
   "execution_count": null,
   "id": "b553a68d",
   "metadata": {},
   "outputs": [],
   "source": []
  },
  {
   "cell_type": "markdown",
   "id": "155fb36e",
   "metadata": {},
   "source": [
    "### Step 13: Another game?\n",
    "\n",
    "- Make a function that prompts the user to play another game.\n",
    "- Then create the full setup.\n",
    "\n",
    "1. Play game.\n",
    "2. Ask if player wants to play another game (go to 1 if yes, otherwise end)."
   ]
  },
  {
   "cell_type": "code",
   "execution_count": 42,
   "id": "e019deb8",
   "metadata": {},
   "outputs": [],
   "source": [
    "def another_game():\n",
    "    \"\"\"\n",
    "    Prompts the user for another game, returns True if so.\n",
    "    \"\"\"\n",
    "    while True:\n",
    "        input_str = input('Another game (Y/N): ')\n",
    "        if input_str == 'Y':\n",
    "            return True\n",
    "        return False"
   ]
  },
  {
   "cell_type": "code",
   "execution_count": 44,
   "id": "b05d9ea6",
   "metadata": {},
   "outputs": [
    {
     "name": "stdout",
     "output_type": "stream",
     "text": [
      "- - O\n",
      "X O X\n",
      "O - -\n",
      "You won!\n",
      "Another game (Y/N): foo\n"
     ]
    }
   ],
   "source": [
    "while True:\n",
    "    play_game()\n",
    "    \n",
    "    if not another_game():\n",
    "        break"
   ]
  },
  {
   "cell_type": "code",
   "execution_count": null,
   "id": "3e3e1232",
   "metadata": {},
   "outputs": [],
   "source": []
  },
  {
   "cell_type": "markdown",
   "id": "580ed592",
   "metadata": {},
   "source": [
    "### Step 14: Improving the computer\n",
    "\n",
    "The computer only does random moves.\n",
    "- Try to make it smarter."
   ]
  },
  {
   "cell_type": "code",
   "execution_count": null,
   "id": "1bc60869",
   "metadata": {},
   "outputs": [],
   "source": []
  },
  {
   "cell_type": "code",
   "execution_count": null,
   "id": "3c603c3f",
   "metadata": {},
   "outputs": [],
   "source": []
  },
  {
   "cell_type": "code",
   "execution_count": null,
   "id": "593c9832",
   "metadata": {},
   "outputs": [],
   "source": []
  }
 ],
 "metadata": {
  "kernelspec": {
   "display_name": "Python 3 (ipykernel)",
   "language": "python",
   "name": "python3"
  },
  "language_info": {
   "codemirror_mode": {
    "name": "ipython",
    "version": 3
   },
   "file_extension": ".py",
   "mimetype": "text/x-python",
   "name": "python",
   "nbconvert_exporter": "python",
   "pygments_lexer": "ipython3",
   "version": "3.9.13"
  }
 },
 "nbformat": 4,
 "nbformat_minor": 5
}
