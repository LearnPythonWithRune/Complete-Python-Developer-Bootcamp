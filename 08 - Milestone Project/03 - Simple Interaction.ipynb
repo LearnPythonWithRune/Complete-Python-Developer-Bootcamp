{
 "cells": [
  {
   "cell_type": "markdown",
   "id": "334364f2",
   "metadata": {},
   "source": [
    "# Simple Interaction Board"
   ]
  },
  {
   "cell_type": "markdown",
   "id": "4157ad41",
   "metadata": {},
   "source": [
    "### Simple 'Game'\n",
    "\n",
    "Consider the following board.\n",
    "\n",
    "```\n",
    "-------------\n",
    "|O| | | | |X|\n",
    "-------------\n",
    "```\n",
    "\n",
    "The player is `O` and the goal is to move to `X`\n",
    "\n",
    "The player can move either 1 or 2 moves to left or right, but only inside the board."
   ]
  },
  {
   "cell_type": "markdown",
   "id": "18605e2b",
   "metadata": {},
   "source": [
    "### Design\n",
    "\n",
    "This can be broken down into\n",
    "\n",
    "0. Represent the board\n",
    "1. Display the board\n",
    "2. Input from user (with validation)\n",
    "3. Check if user won\n",
    "4. Update the board"
   ]
  },
  {
   "cell_type": "code",
   "execution_count": 1,
   "id": "b25a6f7a",
   "metadata": {},
   "outputs": [],
   "source": [
    "# 0: Represent the board\n",
    "board = ['O', ' ', ' ', ' ', ' ', 'X']"
   ]
  },
  {
   "cell_type": "code",
   "execution_count": 2,
   "id": "7d79579f",
   "metadata": {},
   "outputs": [],
   "source": [
    "from IPython.display import clear_output\n",
    "\n",
    "# 1: Display the board\n",
    "def display_board(board):\n",
    "    clear_output()\n",
    "    length = len(board)   \n",
    "    print('-'*(length*2 + 1))\n",
    "    for item in board:\n",
    "        print('|', item, sep='', end='')\n",
    "    print('|')\n",
    "    print('-'*(length*2 + 1))"
   ]
  },
  {
   "cell_type": "code",
   "execution_count": 5,
   "id": "812006e2",
   "metadata": {},
   "outputs": [
    {
     "name": "stdout",
     "output_type": "stream",
     "text": [
      "-------------\n",
      "|O| | | | |X|\n",
      "-------------\n"
     ]
    }
   ],
   "source": [
    "display_board(board)"
   ]
  },
  {
   "cell_type": "code",
   "execution_count": 15,
   "id": "cc8a4255",
   "metadata": {},
   "outputs": [],
   "source": [
    "# 2: Input from user with validation\n",
    "def get_player_position(board):\n",
    "    return board.index('O')\n",
    "\n",
    "assert get_player_position(['O', ' ', ' ', ' ', ' ', 'X']) == 0\n",
    "assert get_player_position([' ', ' ', ' ', ' ', 'O', 'X']) == 4\n",
    "\n",
    "def valid_move(input_str, board):\n",
    "    if input_str not in ['-2', '-1', '1', '2']:\n",
    "        return False\n",
    "    \n",
    "    move = int(input_str)\n",
    "    \n",
    "    position = get_player_position(board)\n",
    "    \n",
    "    if position + move < 0:\n",
    "        return False\n",
    "    \n",
    "    if position + move >= len(board):\n",
    "        return False\n",
    "    \n",
    "    return True\n",
    "\n",
    "assert valid_move('-2', [' ', ' ', ' ', ' ', 'O', 'X'])\n",
    "assert valid_move('1', ['O', ' ', ' ', ' ', ' ', 'X'])\n",
    "assert valid_move('-1', [' ', ' ', ' ', ' ', ' ', 'O'])\n",
    "assert valid_move('1', [' ', ' ', ' ', ' ', ' ', 'O']) == False\n",
    "assert valid_move('2', [' ', ' ', ' ', ' ', ' ', 'O']) == False\n",
    "assert valid_move('0', [' ', ' ', ' ', ' ', ' ', 'O']) == False\n",
    "assert valid_move('-1', ['O', ' ', ' ', ' ', ' ', 'X']) == False\n",
    "\n",
    "\n",
    "def user_move(board):\n",
    "    while True:\n",
    "        input_str = input('Choose move (-2, -1, 1, 2): ')\n",
    "        if valid_move(input_str, board):\n",
    "            return int(input_str)\n",
    "    \n",
    "        print('Invalid move')"
   ]
  },
  {
   "cell_type": "code",
   "execution_count": 16,
   "id": "0ad8bb74",
   "metadata": {},
   "outputs": [
    {
     "name": "stdout",
     "output_type": "stream",
     "text": [
      "Choose move (-2, -1, 1, 2): -2\n",
      "Invalid move\n",
      "Choose move (-2, -1, 1, 2): -1\n",
      "Invalid move\n",
      "Choose move (-2, -1, 1, 2): 2\n"
     ]
    },
    {
     "data": {
      "text/plain": [
       "2"
      ]
     },
     "execution_count": 16,
     "metadata": {},
     "output_type": "execute_result"
    }
   ],
   "source": [
    "user_move(board)"
   ]
  },
  {
   "cell_type": "code",
   "execution_count": 19,
   "id": "0e21cefd",
   "metadata": {},
   "outputs": [],
   "source": [
    "# 3: Check if user won\n",
    "\n",
    "def win_game(board, move):\n",
    "    position = get_player_position(board)\n",
    "    \n",
    "    if board[position + move] == 'X':\n",
    "        return True\n",
    "    else:\n",
    "        return False\n",
    "\n",
    "assert win_game([' ', ' ', ' ', ' ', 'O', 'X'], 1)\n",
    "assert win_game([' ', ' ', ' ', ' ', 'O', 'X'], -1) == False"
   ]
  },
  {
   "cell_type": "code",
   "execution_count": 20,
   "id": "243d4b05",
   "metadata": {},
   "outputs": [],
   "source": [
    "# 4: Update the board\n",
    "\n",
    "def update_board(board, move):\n",
    "    position = get_player_position(board)\n",
    "    \n",
    "    board[position] = ' '\n",
    "    board[position + move] = 'O'\n",
    "    \n",
    "    return board"
   ]
  },
  {
   "cell_type": "code",
   "execution_count": 21,
   "id": "8303f7cf",
   "metadata": {},
   "outputs": [
    {
     "name": "stdout",
     "output_type": "stream",
     "text": [
      "-------------\n",
      "| | | | |O|X|\n",
      "-------------\n",
      "Choose move (-2, -1, 1, 2): 1\n",
      "You won!\n"
     ]
    }
   ],
   "source": [
    "# 0\n",
    "board = ['O', ' ', ' ', ' ', ' ', 'X']\n",
    "\n",
    "while True:\n",
    "    # 1\n",
    "    display_board(board)\n",
    "    # 2\n",
    "    move = user_move(board)\n",
    "    \n",
    "    # 3\n",
    "    if win_game(board, move):\n",
    "        print('You won!')\n",
    "        break\n",
    "        \n",
    "    #4\n",
    "    board = update_board(board, move)\n",
    "    "
   ]
  },
  {
   "cell_type": "code",
   "execution_count": null,
   "id": "ef61cb93",
   "metadata": {},
   "outputs": [],
   "source": []
  }
 ],
 "metadata": {
  "kernelspec": {
   "display_name": "Python 3 (ipykernel)",
   "language": "python",
   "name": "python3"
  },
  "language_info": {
   "codemirror_mode": {
    "name": "ipython",
    "version": 3
   },
   "file_extension": ".py",
   "mimetype": "text/x-python",
   "name": "python",
   "nbconvert_exporter": "python",
   "pygments_lexer": "ipython3",
   "version": "3.9.13"
  }
 },
 "nbformat": 4,
 "nbformat_minor": 5
}
