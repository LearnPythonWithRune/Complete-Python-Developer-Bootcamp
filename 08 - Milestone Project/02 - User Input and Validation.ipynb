{
 "cells": [
  {
   "cell_type": "markdown",
   "id": "96441559",
   "metadata": {},
   "source": [
    "# User Input and Validation"
   ]
  },
  {
   "cell_type": "code",
   "execution_count": 1,
   "id": "dc833f39",
   "metadata": {},
   "outputs": [],
   "source": [
    "board = [' ', ' ', ' ']"
   ]
  },
  {
   "cell_type": "code",
   "execution_count": 2,
   "id": "3d460efc",
   "metadata": {},
   "outputs": [
    {
     "name": "stdout",
     "output_type": "stream",
     "text": [
      "Input move (1-3) 5\n"
     ]
    },
    {
     "data": {
      "text/plain": [
       "'5'"
      ]
     },
     "execution_count": 2,
     "metadata": {},
     "output_type": "execute_result"
    }
   ],
   "source": [
    "input('Input move (1-3) ')"
   ]
  },
  {
   "cell_type": "code",
   "execution_count": 3,
   "id": "38b73833",
   "metadata": {},
   "outputs": [
    {
     "name": "stdout",
     "output_type": "stream",
     "text": [
      "Input move (1-3) 3\n"
     ]
    }
   ],
   "source": [
    "input_str = input('Input move (1-3) ')"
   ]
  },
  {
   "cell_type": "code",
   "execution_count": 4,
   "id": "64b80f8e",
   "metadata": {},
   "outputs": [
    {
     "data": {
      "text/plain": [
       "str"
      ]
     },
     "execution_count": 4,
     "metadata": {},
     "output_type": "execute_result"
    }
   ],
   "source": [
    "type(input_str)"
   ]
  },
  {
   "cell_type": "code",
   "execution_count": 5,
   "id": "14f36932",
   "metadata": {},
   "outputs": [],
   "source": [
    "move = int(input_str)"
   ]
  },
  {
   "cell_type": "code",
   "execution_count": 6,
   "id": "70c0dad0",
   "metadata": {},
   "outputs": [
    {
     "data": {
      "text/plain": [
       "int"
      ]
     },
     "execution_count": 6,
     "metadata": {},
     "output_type": "execute_result"
    }
   ],
   "source": [
    "type(move)"
   ]
  },
  {
   "cell_type": "code",
   "execution_count": 8,
   "id": "17c01097",
   "metadata": {},
   "outputs": [
    {
     "name": "stdout",
     "output_type": "stream",
     "text": [
      "Input move (1-3) one\n"
     ]
    },
    {
     "ename": "ValueError",
     "evalue": "invalid literal for int() with base 10: 'one'",
     "output_type": "error",
     "traceback": [
      "\u001b[0;31m---------------------------------------------------------------------------\u001b[0m",
      "\u001b[0;31mValueError\u001b[0m                                Traceback (most recent call last)",
      "\u001b[0;32m/var/folders/5f/vgbh9pkd4wzf4ysrpf9wsr800000gn/T/ipykernel_68057/4024195402.py\u001b[0m in \u001b[0;36m<module>\u001b[0;34m\u001b[0m\n\u001b[0;32m----> 1\u001b[0;31m \u001b[0mmove\u001b[0m \u001b[0;34m=\u001b[0m \u001b[0mint\u001b[0m\u001b[0;34m(\u001b[0m\u001b[0minput\u001b[0m\u001b[0;34m(\u001b[0m\u001b[0;34m'Input move (1-3) '\u001b[0m\u001b[0;34m)\u001b[0m\u001b[0;34m)\u001b[0m\u001b[0;34m\u001b[0m\u001b[0;34m\u001b[0m\u001b[0m\n\u001b[0m",
      "\u001b[0;31mValueError\u001b[0m: invalid literal for int() with base 10: 'one'"
     ]
    }
   ],
   "source": [
    "move = int(input('Input move (1-3) '))"
   ]
  },
  {
   "cell_type": "code",
   "execution_count": 9,
   "id": "f404e1de",
   "metadata": {},
   "outputs": [],
   "source": [
    "def input_move():\n",
    "    move_str = input('Input move (1-3) ')\n",
    "    \n",
    "    move = int(move_str)\n",
    "    return move"
   ]
  },
  {
   "cell_type": "code",
   "execution_count": 12,
   "id": "86dee71f",
   "metadata": {},
   "outputs": [
    {
     "name": "stdout",
     "output_type": "stream",
     "text": [
      "Input move (1-3) foo\n"
     ]
    },
    {
     "ename": "ValueError",
     "evalue": "invalid literal for int() with base 10: 'foo'",
     "output_type": "error",
     "traceback": [
      "\u001b[0;31m---------------------------------------------------------------------------\u001b[0m",
      "\u001b[0;31mValueError\u001b[0m                                Traceback (most recent call last)",
      "\u001b[0;32m/var/folders/5f/vgbh9pkd4wzf4ysrpf9wsr800000gn/T/ipykernel_68057/2690085795.py\u001b[0m in \u001b[0;36m<module>\u001b[0;34m\u001b[0m\n\u001b[0;32m----> 1\u001b[0;31m \u001b[0minput_move\u001b[0m\u001b[0;34m(\u001b[0m\u001b[0;34m)\u001b[0m\u001b[0;34m\u001b[0m\u001b[0;34m\u001b[0m\u001b[0m\n\u001b[0m",
      "\u001b[0;32m/var/folders/5f/vgbh9pkd4wzf4ysrpf9wsr800000gn/T/ipykernel_68057/756038008.py\u001b[0m in \u001b[0;36minput_move\u001b[0;34m()\u001b[0m\n\u001b[1;32m      2\u001b[0m     \u001b[0mmove_str\u001b[0m \u001b[0;34m=\u001b[0m \u001b[0minput\u001b[0m\u001b[0;34m(\u001b[0m\u001b[0;34m'Input move (1-3) '\u001b[0m\u001b[0;34m)\u001b[0m\u001b[0;34m\u001b[0m\u001b[0;34m\u001b[0m\u001b[0m\n\u001b[1;32m      3\u001b[0m \u001b[0;34m\u001b[0m\u001b[0m\n\u001b[0;32m----> 4\u001b[0;31m     \u001b[0mmove\u001b[0m \u001b[0;34m=\u001b[0m \u001b[0mint\u001b[0m\u001b[0;34m(\u001b[0m\u001b[0mmove_str\u001b[0m\u001b[0;34m)\u001b[0m\u001b[0;34m\u001b[0m\u001b[0;34m\u001b[0m\u001b[0m\n\u001b[0m\u001b[1;32m      5\u001b[0m     \u001b[0;32mreturn\u001b[0m \u001b[0mmove\u001b[0m\u001b[0;34m\u001b[0m\u001b[0;34m\u001b[0m\u001b[0m\n",
      "\u001b[0;31mValueError\u001b[0m: invalid literal for int() with base 10: 'foo'"
     ]
    }
   ],
   "source": [
    "input_move()"
   ]
  },
  {
   "cell_type": "code",
   "execution_count": null,
   "id": "7fdb3cc4",
   "metadata": {},
   "outputs": [],
   "source": []
  },
  {
   "cell_type": "markdown",
   "id": "cc0abf0d",
   "metadata": {},
   "source": [
    "### A Warning\n",
    "\n",
    "- Consider [`isdigit()`](https://docs.python.org/3/library/stdtypes.html#str.isdigit)\n",
    "\n",
    "```Python\n",
    "'123'.isdigit()\n",
    "'abc'.isdigit()\n",
    "'3²³'.isdigit()\n",
    "```"
   ]
  },
  {
   "cell_type": "code",
   "execution_count": 14,
   "id": "15822438",
   "metadata": {},
   "outputs": [
    {
     "data": {
      "text/plain": [
       "True"
      ]
     },
     "execution_count": 14,
     "metadata": {},
     "output_type": "execute_result"
    }
   ],
   "source": [
    "'1'.isdigit()"
   ]
  },
  {
   "cell_type": "code",
   "execution_count": 15,
   "id": "aa074763",
   "metadata": {},
   "outputs": [
    {
     "data": {
      "text/plain": [
       "True"
      ]
     },
     "execution_count": 15,
     "metadata": {},
     "output_type": "execute_result"
    }
   ],
   "source": [
    "'3²³'.isdigit()"
   ]
  },
  {
   "cell_type": "code",
   "execution_count": 19,
   "id": "3f538da4",
   "metadata": {},
   "outputs": [],
   "source": [
    "def valid_choice(input_str):\n",
    "    if len(input_str) != 1:\n",
    "        return False\n",
    "    if input_str not in '123':\n",
    "        return False\n",
    "    \n",
    "    return True\n",
    "\n",
    "assert valid_choice('1')\n",
    "assert valid_choice('2')\n",
    "assert valid_choice('3')\n",
    "assert valid_choice('13') == False\n",
    "assert valid_choice('²') == False"
   ]
  },
  {
   "cell_type": "code",
   "execution_count": 20,
   "id": "eb422d04",
   "metadata": {},
   "outputs": [],
   "source": [
    "def input_move():\n",
    "    while True:\n",
    "        input_str = input('Input move (1-3): ')\n",
    "        \n",
    "        if valid_choice(input_str):\n",
    "            return int(input_str)\n",
    "        \n",
    "        print('Unexpected input')"
   ]
  },
  {
   "cell_type": "code",
   "execution_count": 21,
   "id": "bcbbac38",
   "metadata": {},
   "outputs": [
    {
     "name": "stdout",
     "output_type": "stream",
     "text": [
      "Input move (1-3): 4\n",
      "Unexpected input\n",
      "Input move (1-3): d\n",
      "Unexpected input\n",
      "Input move (1-3): 2\n"
     ]
    },
    {
     "data": {
      "text/plain": [
       "2"
      ]
     },
     "execution_count": 21,
     "metadata": {},
     "output_type": "execute_result"
    }
   ],
   "source": [
    "input_move()"
   ]
  },
  {
   "cell_type": "code",
   "execution_count": null,
   "id": "37d6b504",
   "metadata": {},
   "outputs": [],
   "source": []
  }
 ],
 "metadata": {
  "kernelspec": {
   "display_name": "Python 3 (ipykernel)",
   "language": "python",
   "name": "python3"
  },
  "language_info": {
   "codemirror_mode": {
    "name": "ipython",
    "version": 3
   },
   "file_extension": ".py",
   "mimetype": "text/x-python",
   "name": "python",
   "nbconvert_exporter": "python",
   "pygments_lexer": "ipython3",
   "version": "3.9.13"
  }
 },
 "nbformat": 4,
 "nbformat_minor": 5
}
