{
 "cells": [
  {
   "cell_type": "markdown",
   "id": "d6a487ec",
   "metadata": {},
   "source": [
    "# Display: A Visual Representation"
   ]
  },
  {
   "cell_type": "markdown",
   "id": "574fd2bb",
   "metadata": {},
   "source": [
    "Need to display a representation to the user."
   ]
  },
  {
   "cell_type": "code",
   "execution_count": 3,
   "id": "7f1a6600",
   "metadata": {},
   "outputs": [
    {
     "name": "stdout",
     "output_type": "stream",
     "text": [
      "- - -\n",
      "- O -\n",
      "X - -\n"
     ]
    }
   ],
   "source": [
    "print('- - -')\n",
    "print('- O -')\n",
    "print('X - -')"
   ]
  },
  {
   "cell_type": "code",
   "execution_count": 4,
   "id": "66553c2e",
   "metadata": {},
   "outputs": [],
   "source": [
    "row_1 = ['-', '-', '-']\n",
    "row_2 = ['-', '-', '-']\n",
    "row_3 = ['-', '-', '-']"
   ]
  },
  {
   "cell_type": "code",
   "execution_count": 15,
   "id": "7ee5d913",
   "metadata": {},
   "outputs": [],
   "source": [
    "def display_board(row_1, row_2, row_3):\n",
    "    print(row_1[0], row_1[1], row_1[2])\n",
    "    print(row_2[0], row_2[1], row_2[2])\n",
    "    print(row_3[0], row_3[1], row_3[2])\n"
   ]
  },
  {
   "cell_type": "code",
   "execution_count": 16,
   "id": "08b6cb69",
   "metadata": {},
   "outputs": [
    {
     "name": "stdout",
     "output_type": "stream",
     "text": [
      "- - -\n",
      "- X -\n",
      "O - -\n"
     ]
    }
   ],
   "source": [
    "row_1 = ['-', '-', '-']\n",
    "row_2 = ['-', 'X', '-']\n",
    "row_3 = ['O', '-', '-']\n",
    "\n",
    "display_board(row_1, row_2, row_3)"
   ]
  },
  {
   "cell_type": "code",
   "execution_count": null,
   "id": "834982be",
   "metadata": {},
   "outputs": [],
   "source": []
  }
 ],
 "metadata": {
  "kernelspec": {
   "display_name": "Python 3 (ipykernel)",
   "language": "python",
   "name": "python3"
  },
  "language_info": {
   "codemirror_mode": {
    "name": "ipython",
    "version": 3
   },
   "file_extension": ".py",
   "mimetype": "text/x-python",
   "name": "python",
   "nbconvert_exporter": "python",
   "pygments_lexer": "ipython3",
   "version": "3.9.13"
  }
 },
 "nbformat": 4,
 "nbformat_minor": 5
}
