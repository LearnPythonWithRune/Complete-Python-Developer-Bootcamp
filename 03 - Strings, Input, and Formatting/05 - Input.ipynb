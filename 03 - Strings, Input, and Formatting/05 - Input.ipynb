{
 "cells": [
  {
   "cell_type": "markdown",
   "id": "d2cf2a0f",
   "metadata": {},
   "source": [
    "# Input / NEED-TO-KNOW"
   ]
  },
  {
   "cell_type": "markdown",
   "id": "9753e41c",
   "metadata": {},
   "source": [
    "### How to take input from the user?\n",
    "\n",
    "```Python\n",
    "answer = input('Prompt this message to user: ')\n",
    "\n",
    "print(answer)\n",
    "```"
   ]
  },
  {
   "cell_type": "code",
   "execution_count": 1,
   "id": "4250fd5d",
   "metadata": {},
   "outputs": [
    {
     "name": "stdout",
     "output_type": "stream",
     "text": [
      "Prompt this message to user: This is my answer\n"
     ]
    }
   ],
   "source": [
    "answer = input('Prompt this message to user: ')"
   ]
  },
  {
   "cell_type": "code",
   "execution_count": 2,
   "id": "ddd8e171",
   "metadata": {},
   "outputs": [
    {
     "name": "stdout",
     "output_type": "stream",
     "text": [
      "This is my answer\n"
     ]
    }
   ],
   "source": [
    "print(answer)"
   ]
  },
  {
   "cell_type": "markdown",
   "id": "92a40402",
   "metadata": {},
   "source": [
    "### input always returns a string\n",
    "\n",
    "```Python\n",
    "age = input('What is your age? ')\n",
    "\n",
    "type(age)\n",
    "```"
   ]
  },
  {
   "cell_type": "code",
   "execution_count": 3,
   "id": "5758bca7",
   "metadata": {},
   "outputs": [
    {
     "name": "stdout",
     "output_type": "stream",
     "text": [
      "What is your age? 24\n"
     ]
    }
   ],
   "source": [
    "age = input('What is your age? ')"
   ]
  },
  {
   "cell_type": "code",
   "execution_count": 4,
   "id": "a2885d4a",
   "metadata": {},
   "outputs": [
    {
     "data": {
      "text/plain": [
       "str"
      ]
     },
     "execution_count": 4,
     "metadata": {},
     "output_type": "execute_result"
    }
   ],
   "source": [
    "type(age)"
   ]
  },
  {
   "cell_type": "code",
   "execution_count": 7,
   "id": "c21eb59f",
   "metadata": {},
   "outputs": [
    {
     "data": {
      "text/plain": [
       "'241'"
      ]
     },
     "execution_count": 7,
     "metadata": {},
     "output_type": "execute_result"
    }
   ],
   "source": [
    "age + '1'"
   ]
  },
  {
   "cell_type": "markdown",
   "id": "a80dc75a",
   "metadata": {},
   "source": [
    "### Convert the input\n",
    "\n",
    "```Python\n",
    "age_str = input('What is your age? ')\n",
    "age = int(age_str)\n",
    "\n",
    "type(age)\n",
    "```"
   ]
  },
  {
   "cell_type": "code",
   "execution_count": 8,
   "id": "4fba3134",
   "metadata": {},
   "outputs": [
    {
     "name": "stdout",
     "output_type": "stream",
     "text": [
      "What is your age? 31\n"
     ]
    }
   ],
   "source": [
    "age_str = input('What is your age? ')\n",
    "age = int(age_str)"
   ]
  },
  {
   "cell_type": "code",
   "execution_count": 9,
   "id": "003f90cf",
   "metadata": {},
   "outputs": [
    {
     "data": {
      "text/plain": [
       "int"
      ]
     },
     "execution_count": 9,
     "metadata": {},
     "output_type": "execute_result"
    }
   ],
   "source": [
    "type(age)"
   ]
  },
  {
   "cell_type": "code",
   "execution_count": 10,
   "id": "b1cb272a",
   "metadata": {},
   "outputs": [
    {
     "data": {
      "text/plain": [
       "32"
      ]
     },
     "execution_count": 10,
     "metadata": {},
     "output_type": "execute_result"
    }
   ],
   "source": [
    "age + 1"
   ]
  },
  {
   "cell_type": "code",
   "execution_count": null,
   "id": "0ae38faf",
   "metadata": {},
   "outputs": [],
   "source": []
  }
 ],
 "metadata": {
  "kernelspec": {
   "display_name": "Python 3 (ipykernel)",
   "language": "python",
   "name": "python3"
  },
  "language_info": {
   "codemirror_mode": {
    "name": "ipython",
    "version": 3
   },
   "file_extension": ".py",
   "mimetype": "text/x-python",
   "name": "python",
   "nbconvert_exporter": "python",
   "pygments_lexer": "ipython3",
   "version": "3.9.13"
  }
 },
 "nbformat": 4,
 "nbformat_minor": 5
}
