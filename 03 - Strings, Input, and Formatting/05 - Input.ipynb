{
 "cells": [
  {
   "cell_type": "markdown",
   "id": "d2cf2a0f",
   "metadata": {},
   "source": [
    "# Input / NEED-TO-KNOW"
   ]
  },
  {
   "cell_type": "markdown",
   "id": "9753e41c",
   "metadata": {},
   "source": [
    "### How to take input from the user?\n",
    "\n",
    "```Python\n",
    "answer = input('Prompt this message to user: ')\n",
    "\n",
    "print(answer)\n",
    "```"
   ]
  },
  {
   "cell_type": "code",
   "execution_count": 1,
   "id": "515541ed",
   "metadata": {},
   "outputs": [
    {
     "name": "stdout",
     "output_type": "stream",
     "text": [
      "Prompt this message to user: This is my answer\n",
      "This is my answer\n"
     ]
    }
   ],
   "source": [
    "answer = input('Prompt this message to user: ')\n",
    "\n",
    "print(answer)"
   ]
  },
  {
   "cell_type": "markdown",
   "id": "92a40402",
   "metadata": {},
   "source": [
    "### input always returns a string\n",
    "\n",
    "```Python\n",
    "age = input('What is your age? ')\n",
    "\n",
    "type(age)\n",
    "```"
   ]
  },
  {
   "cell_type": "code",
   "execution_count": 2,
   "id": "cbfab92e",
   "metadata": {},
   "outputs": [
    {
     "name": "stdout",
     "output_type": "stream",
     "text": [
      "What is your age? 42\n"
     ]
    },
    {
     "data": {
      "text/plain": [
       "str"
      ]
     },
     "execution_count": 2,
     "metadata": {},
     "output_type": "execute_result"
    }
   ],
   "source": [
    "age = input('What is your age? ')\n",
    "\n",
    "type(age)"
   ]
  },
  {
   "cell_type": "code",
   "execution_count": null,
   "id": "c21eb59f",
   "metadata": {},
   "outputs": [],
   "source": []
  },
  {
   "cell_type": "markdown",
   "id": "a80dc75a",
   "metadata": {},
   "source": [
    "### Convert the input\n",
    "\n",
    "```Python\n",
    "age_str = input('What is your age? ')\n",
    "age = int(age_str)\n",
    "\n",
    "type(age)\n",
    "```"
   ]
  },
  {
   "cell_type": "code",
   "execution_count": null,
   "id": "003f90cf",
   "metadata": {},
   "outputs": [],
   "source": []
  }
 ],
 "metadata": {
  "kernelspec": {
   "display_name": "Python 3 (ipykernel)",
   "language": "python",
   "name": "python3"
  },
  "language_info": {
   "codemirror_mode": {
    "name": "ipython",
    "version": 3
   },
   "file_extension": ".py",
   "mimetype": "text/x-python",
   "name": "python",
   "nbconvert_exporter": "python",
   "pygments_lexer": "ipython3",
   "version": "3.8.8"
  }
 },
 "nbformat": 4,
 "nbformat_minor": 5
}
