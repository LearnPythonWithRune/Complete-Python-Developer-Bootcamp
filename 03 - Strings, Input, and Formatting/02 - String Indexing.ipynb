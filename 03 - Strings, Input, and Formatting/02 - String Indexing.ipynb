{
 "cells": [
  {
   "cell_type": "markdown",
   "id": "bec2b5fa",
   "metadata": {},
   "source": [
    "# String Indexing in Python / NEED-TO-KNOW"
   ]
  },
  {
   "cell_type": "markdown",
   "id": "a47d8e77",
   "metadata": {},
   "source": [
    "### A String in Python is a squence\n",
    "\n",
    "You get the length of a string with `len()`\n",
    "\n",
    "```Python\n",
    "s = \"Hello, World!\"\n",
    "len(s)\n",
    "```"
   ]
  },
  {
   "cell_type": "code",
   "execution_count": 1,
   "id": "4d3e1038",
   "metadata": {},
   "outputs": [
    {
     "data": {
      "text/plain": [
       "13"
      ]
     },
     "execution_count": 1,
     "metadata": {},
     "output_type": "execute_result"
    }
   ],
   "source": [
    "s = \"Hello, World!\"\n",
    "len(s)"
   ]
  },
  {
   "cell_type": "code",
   "execution_count": null,
   "id": "6c468b93",
   "metadata": {},
   "outputs": [],
   "source": []
  },
  {
   "cell_type": "code",
   "execution_count": null,
   "id": "884e4446",
   "metadata": {},
   "outputs": [],
   "source": []
  },
  {
   "cell_type": "markdown",
   "id": "454687c9",
   "metadata": {},
   "source": [
    "### Get a specific character from a string\n",
    "\n",
    "You can use indexing to get a specific character from a string.\n",
    "\n",
    "Starts from 0.\n",
    "\n",
    "```Python\n",
    "s = \"Hello, World!\"\n",
    "s[0]  # First character\n",
    "s[1]  # Second character\n",
    "s[2]  # Third character\n",
    "s[3]  # Forth character\n",
    "# And so forth\n",
    "```"
   ]
  },
  {
   "cell_type": "code",
   "execution_count": null,
   "id": "3f84fea8",
   "metadata": {},
   "outputs": [],
   "source": []
  },
  {
   "cell_type": "code",
   "execution_count": null,
   "id": "bec7120a",
   "metadata": {},
   "outputs": [],
   "source": []
  },
  {
   "cell_type": "markdown",
   "id": "96e715c1",
   "metadata": {},
   "source": [
    "### Negative indexing\n",
    "\n",
    "You can use negative indexing to index from the end.\n",
    "\n",
    "```Python\n",
    "s = \"Hello, World!\"\n",
    "s[-1]  # Last character\n",
    "s[-2]  # Second last character\n",
    "s[-3]  # Third last character\n",
    "# And so forth\n",
    "```"
   ]
  },
  {
   "cell_type": "code",
   "execution_count": 3,
   "id": "caa7898f",
   "metadata": {},
   "outputs": [
    {
     "data": {
      "text/plain": [
       "'!'"
      ]
     },
     "execution_count": 3,
     "metadata": {},
     "output_type": "execute_result"
    }
   ],
   "source": [
    "s[-1]"
   ]
  },
  {
   "cell_type": "code",
   "execution_count": null,
   "id": "575878fa",
   "metadata": {},
   "outputs": [],
   "source": []
  },
  {
   "cell_type": "code",
   "execution_count": null,
   "id": "bbd919c2",
   "metadata": {},
   "outputs": [],
   "source": []
  },
  {
   "cell_type": "markdown",
   "id": "baffdcab",
   "metadata": {},
   "source": [
    "### Slicing\n",
    "Get a substring of the string.\n",
    "\n",
    "```Python\n",
    "s = \"0123456789\"\n",
    "s[start:]  # from start\n",
    "s[:stop]  # to stop - 1\n",
    "s[start:stop]  # from start to stop - 1\n",
    "s[start:stop:step]  # from start to stop - 1 with step\n",
    "```"
   ]
  },
  {
   "cell_type": "code",
   "execution_count": 4,
   "id": "32cf7e40",
   "metadata": {},
   "outputs": [],
   "source": [
    "s = \"0123456789\""
   ]
  },
  {
   "cell_type": "code",
   "execution_count": 5,
   "id": "c89321d4",
   "metadata": {},
   "outputs": [
    {
     "data": {
      "text/plain": [
       "'3456789'"
      ]
     },
     "execution_count": 5,
     "metadata": {},
     "output_type": "execute_result"
    }
   ],
   "source": [
    "s[3:]"
   ]
  },
  {
   "cell_type": "code",
   "execution_count": 6,
   "id": "74cffe83",
   "metadata": {},
   "outputs": [
    {
     "data": {
      "text/plain": [
       "'0123'"
      ]
     },
     "execution_count": 6,
     "metadata": {},
     "output_type": "execute_result"
    }
   ],
   "source": [
    "s[:4]"
   ]
  },
  {
   "cell_type": "code",
   "execution_count": 7,
   "id": "b4c3c3ca",
   "metadata": {},
   "outputs": [
    {
     "data": {
      "text/plain": [
       "'12345678'"
      ]
     },
     "execution_count": 7,
     "metadata": {},
     "output_type": "execute_result"
    }
   ],
   "source": [
    "s[1:9]"
   ]
  },
  {
   "cell_type": "code",
   "execution_count": 8,
   "id": "1dd58f0a",
   "metadata": {},
   "outputs": [
    {
     "data": {
      "text/plain": [
       "'1357'"
      ]
     },
     "execution_count": 8,
     "metadata": {},
     "output_type": "execute_result"
    }
   ],
   "source": [
    "s[1:9:2]"
   ]
  },
  {
   "cell_type": "markdown",
   "id": "9715137e",
   "metadata": {},
   "source": [
    "### Reverse a string\n",
    "\n",
    "```Python\n",
    "s = \"0123456789\"\n",
    "s[::-1]\n",
    "```"
   ]
  },
  {
   "cell_type": "code",
   "execution_count": null,
   "id": "1bc1af11",
   "metadata": {},
   "outputs": [],
   "source": []
  },
  {
   "cell_type": "code",
   "execution_count": null,
   "id": "f3abead0",
   "metadata": {},
   "outputs": [],
   "source": []
  },
  {
   "cell_type": "code",
   "execution_count": null,
   "id": "56ce9160",
   "metadata": {},
   "outputs": [],
   "source": []
  }
 ],
 "metadata": {
  "kernelspec": {
   "display_name": "Python 3 (ipykernel)",
   "language": "python",
   "name": "python3"
  },
  "language_info": {
   "codemirror_mode": {
    "name": "ipython",
    "version": 3
   },
   "file_extension": ".py",
   "mimetype": "text/x-python",
   "name": "python",
   "nbconvert_exporter": "python",
   "pygments_lexer": "ipython3",
   "version": "3.8.8"
  }
 },
 "nbformat": 4,
 "nbformat_minor": 5
}
