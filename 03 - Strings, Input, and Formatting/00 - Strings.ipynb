{
 "cells": [
  {
   "cell_type": "markdown",
   "id": "058e73b0",
   "metadata": {},
   "source": [
    "# Strings in Python / NEED-TO-KNOW"
   ]
  },
  {
   "cell_type": "markdown",
   "id": "c9eef30a",
   "metadata": {},
   "source": [
    "### What is a string in Python?\n",
    "\n",
    "In Python a string is a sequence of characters.\n",
    "\n",
    "Example of strings\n",
    "- `\"Hello\"` - Strings can be double quoted.\n",
    "- `'Hello'` - or they can be single quoted.\n",
    "- `\"I'm also a string\"` - double quotes are ideal for strings with single quotes.\n",
    "\n",
    "Strings are sequences. That means you can grab particular characters of it."
   ]
  },
  {
   "cell_type": "code",
   "execution_count": 1,
   "id": "ecdbddf7",
   "metadata": {},
   "outputs": [
    {
     "data": {
      "text/plain": [
       "'I am a string'"
      ]
     },
     "execution_count": 1,
     "metadata": {},
     "output_type": "execute_result"
    }
   ],
   "source": [
    "\"I am a string\""
   ]
  },
  {
   "cell_type": "code",
   "execution_count": 2,
   "id": "52056208",
   "metadata": {
    "scrolled": true
   },
   "outputs": [
    {
     "ename": "SyntaxError",
     "evalue": "invalid syntax (878717793.py, line 1)",
     "output_type": "error",
     "traceback": [
      "\u001b[0;36m  File \u001b[0;32m\"/var/folders/5f/vgbh9pkd4wzf4ysrpf9wsr800000gn/T/ipykernel_58203/878717793.py\"\u001b[0;36m, line \u001b[0;32m1\u001b[0m\n\u001b[0;31m    'I'm a string'\u001b[0m\n\u001b[0m       ^\u001b[0m\n\u001b[0;31mSyntaxError\u001b[0m\u001b[0;31m:\u001b[0m invalid syntax\n"
     ]
    }
   ],
   "source": [
    "'I'm a string'"
   ]
  },
  {
   "cell_type": "markdown",
   "id": "12e7b749",
   "metadata": {},
   "source": [
    "### Single or Double quote?\n",
    "- There is no difference between using single `'` or double `\"` quotes for strings.\n",
    "\n",
    "You need to notice that.\n",
    "```Python\n",
    "'I'm a string'\n",
    "```\n",
    "Is not valid. But the following will work.\n",
    "```Python\n",
    "\"I'm a string\"\n",
    "```\n",
    "\n",
    "The single quote strings is the default, but the Python interpreter does not care."
   ]
  },
  {
   "cell_type": "code",
   "execution_count": null,
   "id": "64a9b272",
   "metadata": {},
   "outputs": [],
   "source": []
  }
 ],
 "metadata": {
  "kernelspec": {
   "display_name": "Python 3 (ipykernel)",
   "language": "python",
   "name": "python3"
  },
  "language_info": {
   "codemirror_mode": {
    "name": "ipython",
    "version": 3
   },
   "file_extension": ".py",
   "mimetype": "text/x-python",
   "name": "python",
   "nbconvert_exporter": "python",
   "pygments_lexer": "ipython3",
   "version": "3.8.8"
  }
 },
 "nbformat": 4,
 "nbformat_minor": 5
}
