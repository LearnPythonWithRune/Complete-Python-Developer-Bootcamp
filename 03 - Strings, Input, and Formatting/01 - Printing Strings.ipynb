{
 "cells": [
  {
   "cell_type": "markdown",
   "id": "1076857a",
   "metadata": {},
   "source": [
    "# Printing Strings in Python / NEED-TO-KNOW"
   ]
  },
  {
   "cell_type": "markdown",
   "id": "d1379815",
   "metadata": {},
   "source": [
    "### In JuPyter Notebooks\n",
    "\n",
    "The Notebooks output the last statement value of a cell."
   ]
  },
  {
   "cell_type": "code",
   "execution_count": 1,
   "id": "aba102c5",
   "metadata": {},
   "outputs": [
    {
     "data": {
      "text/plain": [
       "'Foo Bar'"
      ]
     },
     "execution_count": 1,
     "metadata": {},
     "output_type": "execute_result"
    }
   ],
   "source": [
    "\"Foo Bar\""
   ]
  },
  {
   "cell_type": "code",
   "execution_count": 2,
   "id": "ddd2b983",
   "metadata": {},
   "outputs": [
    {
     "data": {
      "text/plain": [
       "'Bar'"
      ]
     },
     "execution_count": 2,
     "metadata": {},
     "output_type": "execute_result"
    }
   ],
   "source": [
    "\"Foo\"\n",
    "\"Bar\""
   ]
  },
  {
   "cell_type": "code",
   "execution_count": null,
   "id": "9dcf6257",
   "metadata": {},
   "outputs": [],
   "source": []
  },
  {
   "cell_type": "markdown",
   "id": "64b9dacb",
   "metadata": {},
   "source": [
    "### In Python\n",
    "\n",
    "You can print out values, variables, strings, and more with `print`\n",
    "\n",
    "```Python\n",
    "print(\"Hello, World!\")\n",
    "print(2, 2.3, \"Hello\")\n",
    "```\n",
    "\n",
    "```Python\n",
    "a = 2\n",
    "b = 2.3\n",
    "c = \"Hello\"\n",
    "print(a, b, c)\n",
    "```\n"
   ]
  },
  {
   "cell_type": "code",
   "execution_count": 3,
   "id": "49b2c950",
   "metadata": {
    "scrolled": true
   },
   "outputs": [
    {
     "name": "stdout",
     "output_type": "stream",
     "text": [
      "Hello, World!\n",
      "2 2.3 Hello\n"
     ]
    }
   ],
   "source": [
    "print(\"Hello, World!\")\n",
    "print(2, 2.3, \"Hello\")"
   ]
  },
  {
   "cell_type": "code",
   "execution_count": 4,
   "id": "fdcb7761",
   "metadata": {},
   "outputs": [
    {
     "name": "stdout",
     "output_type": "stream",
     "text": [
      "2 2.3 Hello\n"
     ]
    }
   ],
   "source": [
    "a = 2\n",
    "b = 2.3\n",
    "c = \"Hello\"\n",
    "print(a, b, c)"
   ]
  },
  {
   "cell_type": "markdown",
   "id": "ed9a1588",
   "metadata": {},
   "source": [
    "### Print new lines with \\n\n",
    "\n",
    "```Python\n",
    "print(\"Hello\\nMy Friend\")\n",
    "```"
   ]
  },
  {
   "cell_type": "code",
   "execution_count": 5,
   "id": "dc8a5272",
   "metadata": {},
   "outputs": [
    {
     "name": "stdout",
     "output_type": "stream",
     "text": [
      "Hello\n",
      "My Friend\n"
     ]
    }
   ],
   "source": [
    "print(\"Hello\\nMy Friend\")"
   ]
  },
  {
   "cell_type": "code",
   "execution_count": null,
   "id": "d166d8d6",
   "metadata": {},
   "outputs": [],
   "source": []
  },
  {
   "cell_type": "code",
   "execution_count": null,
   "id": "6acc4cb9",
   "metadata": {},
   "outputs": [],
   "source": []
  },
  {
   "cell_type": "markdown",
   "id": "3bcc9626",
   "metadata": {},
   "source": [
    "### No new line\n",
    "\n",
    "By default `print` makes a new line.\n",
    "\n",
    "You can avoid that as follows.\n",
    "\n",
    "```Python\n",
    "print(\"One\", end='')\n",
    "print(\"Two\", end='')\n",
    "print(\"Three\")\n",
    "```"
   ]
  },
  {
   "cell_type": "code",
   "execution_count": 8,
   "id": "bde90362",
   "metadata": {},
   "outputs": [
    {
     "name": "stdout",
     "output_type": "stream",
     "text": [
      "OneTwoThree\n"
     ]
    }
   ],
   "source": [
    "print(\"One\", end='')\n",
    "print(\"Two\", end='')\n",
    "print(\"Three\")"
   ]
  },
  {
   "cell_type": "code",
   "execution_count": null,
   "id": "aa9af583",
   "metadata": {},
   "outputs": [],
   "source": []
  }
 ],
 "metadata": {
  "kernelspec": {
   "display_name": "Python 3 (ipykernel)",
   "language": "python",
   "name": "python3"
  },
  "language_info": {
   "codemirror_mode": {
    "name": "ipython",
    "version": 3
   },
   "file_extension": ".py",
   "mimetype": "text/x-python",
   "name": "python",
   "nbconvert_exporter": "python",
   "pygments_lexer": "ipython3",
   "version": "3.8.8"
  }
 },
 "nbformat": 4,
 "nbformat_minor": 5
}
