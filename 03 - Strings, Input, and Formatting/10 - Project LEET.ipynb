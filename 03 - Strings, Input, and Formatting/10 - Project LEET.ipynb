{
 "cells": [
  {
   "cell_type": "markdown",
   "id": "a574ac81",
   "metadata": {},
   "source": [
    "# Project: LEET\n",
    "\n",
    "Leet (or \"1337\"), also known as eleet or leetspeak, is a system of modified spellings used primarily on the Internet. ([wiki](https://en.wikipedia.org/wiki/Leet))"
   ]
  },
  {
   "cell_type": "markdown",
   "id": "7c8e214a",
   "metadata": {},
   "source": [
    "### Project description\n",
    "- We take a input string from the user and convert it to a simplified leet."
   ]
  },
  {
   "cell_type": "markdown",
   "id": "1651814b",
   "metadata": {},
   "source": [
    "### Simplified leet\n",
    "- We will only convert some letters.\n",
    "\n",
    "#### Leet table\n",
    "\n",
    "| letter | leet |\n",
    "| --- | --- |\n",
    "| A | 4 |\n",
    "| E | 3 |\n",
    "| I | 1 |\n",
    "| L | 1 |\n",
    "| O | 0 |\n",
    "| S | 5 |\n",
    "| T | 7 |"
   ]
  },
  {
   "cell_type": "markdown",
   "id": "f918b68f",
   "metadata": {},
   "source": [
    "### Step 1: Input from user\n",
    "\n",
    "Prompt the user for an sentence / word to convert to leet"
   ]
  },
  {
   "cell_type": "code",
   "execution_count": 1,
   "id": "0b54bb62",
   "metadata": {},
   "outputs": [
    {
     "name": "stdout",
     "output_type": "stream",
     "text": [
      "1337 some input take me to another level\n"
     ]
    }
   ],
   "source": [
    "s = input('1337 some input ')"
   ]
  },
  {
   "cell_type": "code",
   "execution_count": 2,
   "id": "24bacf21",
   "metadata": {},
   "outputs": [
    {
     "data": {
      "text/plain": [
       "'take me to another level'"
      ]
     },
     "execution_count": 2,
     "metadata": {},
     "output_type": "execute_result"
    }
   ],
   "source": [
    "s"
   ]
  },
  {
   "cell_type": "markdown",
   "id": "073a4c90",
   "metadata": {},
   "source": [
    "### Step 2: Convert to uppercase\n",
    "\n",
    "Convert the input from the user to upper case."
   ]
  },
  {
   "cell_type": "code",
   "execution_count": 3,
   "id": "cc6b4c6a",
   "metadata": {},
   "outputs": [],
   "source": [
    "s = s.upper()"
   ]
  },
  {
   "cell_type": "code",
   "execution_count": 4,
   "id": "d58a2a29",
   "metadata": {},
   "outputs": [
    {
     "data": {
      "text/plain": [
       "'TAKE ME TO ANOTHER LEVEL'"
      ]
     },
     "execution_count": 4,
     "metadata": {},
     "output_type": "execute_result"
    }
   ],
   "source": [
    "s"
   ]
  },
  {
   "cell_type": "markdown",
   "id": "00e1f018",
   "metadata": {},
   "source": [
    "### Step 3: For each letter in the leet table above, replace it the leet."
   ]
  },
  {
   "cell_type": "code",
   "execution_count": 5,
   "id": "5a4f22b5",
   "metadata": {},
   "outputs": [],
   "source": [
    "s = s.replace('A', '4').replace('B', '8').replace('E', '3')"
   ]
  },
  {
   "cell_type": "code",
   "execution_count": 6,
   "id": "9312ac57",
   "metadata": {},
   "outputs": [
    {
     "data": {
      "text/plain": [
       "'T4K3 M3 TO 4NOTH3R L3V3L'"
      ]
     },
     "execution_count": 6,
     "metadata": {},
     "output_type": "execute_result"
    }
   ],
   "source": [
    "s"
   ]
  },
  {
   "cell_type": "code",
   "execution_count": null,
   "id": "a203ce60",
   "metadata": {},
   "outputs": [],
   "source": []
  }
 ],
 "metadata": {
  "kernelspec": {
   "display_name": "Python 3 (ipykernel)",
   "language": "python",
   "name": "python3"
  },
  "language_info": {
   "codemirror_mode": {
    "name": "ipython",
    "version": 3
   },
   "file_extension": ".py",
   "mimetype": "text/x-python",
   "name": "python",
   "nbconvert_exporter": "python",
   "pygments_lexer": "ipython3",
   "version": "3.8.8"
  }
 },
 "nbformat": 4,
 "nbformat_minor": 5
}
