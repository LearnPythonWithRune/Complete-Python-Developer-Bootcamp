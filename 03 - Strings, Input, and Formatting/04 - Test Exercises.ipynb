{
 "cells": [
  {
   "cell_type": "markdown",
   "id": "45ce0a5b",
   "metadata": {},
   "source": [
    "# Test Exercises"
   ]
  },
  {
   "cell_type": "markdown",
   "id": "3b20161f",
   "metadata": {},
   "source": [
    "### Exercise 1\n",
    "\n",
    "Assign a string to a variable and print it."
   ]
  },
  {
   "cell_type": "code",
   "execution_count": null,
   "id": "5b81e1fb",
   "metadata": {},
   "outputs": [],
   "source": []
  },
  {
   "cell_type": "code",
   "execution_count": null,
   "id": "6135c03b",
   "metadata": {},
   "outputs": [],
   "source": []
  },
  {
   "cell_type": "markdown",
   "id": "301e50ed",
   "metadata": {},
   "source": [
    "### Exercise 2\n",
    "\n",
    "Assign `'-'` to a variable and print the concatenation of that string 20 times.\n",
    "- HINT: Use the `*` operator on strings"
   ]
  },
  {
   "cell_type": "code",
   "execution_count": 1,
   "id": "a4346585",
   "metadata": {},
   "outputs": [
    {
     "name": "stdout",
     "output_type": "stream",
     "text": [
      "--------------------\n"
     ]
    }
   ],
   "source": [
    "s = '-'\n",
    "print(s*20)"
   ]
  },
  {
   "cell_type": "code",
   "execution_count": null,
   "id": "9be60707",
   "metadata": {},
   "outputs": [],
   "source": []
  },
  {
   "cell_type": "markdown",
   "id": "4367d60d",
   "metadata": {},
   "source": [
    "### Exercise 3\n",
    "\n",
    "Create variable as follows.\n",
    "```Python\n",
    "s = \"Hello, World!\"\n",
    "```\n",
    "0. Copy the variable in the cell below\n",
    "1. Use slicing to print `Hello`\n",
    "2. Use slicing to print `World!`\n",
    "3. Use slicing to print `World`"
   ]
  },
  {
   "cell_type": "code",
   "execution_count": null,
   "id": "82b737a7",
   "metadata": {},
   "outputs": [],
   "source": []
  },
  {
   "cell_type": "code",
   "execution_count": null,
   "id": "bef972a5",
   "metadata": {},
   "outputs": [],
   "source": []
  },
  {
   "cell_type": "markdown",
   "id": "f7ad2532",
   "metadata": {},
   "source": [
    "### Exercise 4\n",
    "Create variables as follows.\n",
    "```Python\n",
    "s1 = \"Hello\"\n",
    "s2 = \"World\"\n",
    "```\n",
    "0. Copy the variables in the cell below.\n",
    "1. Use concatenation to print `HelloWorld`\n",
    "2. Add another string and use concatenation to print `Hello, World`\n",
    "- HINT: Use the `+` operator on strings"
   ]
  },
  {
   "cell_type": "code",
   "execution_count": null,
   "id": "d0bacff2",
   "metadata": {},
   "outputs": [],
   "source": []
  },
  {
   "cell_type": "code",
   "execution_count": null,
   "id": "7f550a70",
   "metadata": {},
   "outputs": [],
   "source": []
  },
  {
   "cell_type": "markdown",
   "id": "491a8624",
   "metadata": {},
   "source": [
    "### Exercise 5\n",
    "\n",
    "Use one print-statement to get the following output.\n",
    "```\n",
    "Hello\n",
    "World\n",
    "```"
   ]
  },
  {
   "cell_type": "code",
   "execution_count": null,
   "id": "72f8f331",
   "metadata": {},
   "outputs": [],
   "source": []
  },
  {
   "cell_type": "code",
   "execution_count": null,
   "id": "90764eb0",
   "metadata": {},
   "outputs": [],
   "source": []
  },
  {
   "cell_type": "markdown",
   "id": "5834021f",
   "metadata": {},
   "source": [
    "### Exercise 6\n",
    "\n",
    "What is the length of the following string.\n",
    "```Python\n",
    "s = \"Hello my friend! Do not count the length by hand! Use a built-in Python function\"\n",
    "```"
   ]
  },
  {
   "cell_type": "code",
   "execution_count": null,
   "id": "445b5792",
   "metadata": {},
   "outputs": [],
   "source": []
  },
  {
   "cell_type": "code",
   "execution_count": null,
   "id": "aac490b0",
   "metadata": {},
   "outputs": [],
   "source": []
  },
  {
   "cell_type": "markdown",
   "id": "b4414b54",
   "metadata": {},
   "source": [
    "### Exercise 7\n",
    "\n",
    "Given the string\n",
    "```Python\n",
    "s = \"Hello my friend!\"\n",
    "```\n",
    "0. Copy the variable in the cell below\n",
    "1. Use indexing to print the `o`\n",
    "2. Use indexing to print the `m`\n",
    "3. Use negative indexing to print the `n`"
   ]
  },
  {
   "cell_type": "code",
   "execution_count": null,
   "id": "25b5ff42",
   "metadata": {},
   "outputs": [],
   "source": []
  },
  {
   "cell_type": "code",
   "execution_count": null,
   "id": "a241c410",
   "metadata": {},
   "outputs": [],
   "source": []
  },
  {
   "cell_type": "markdown",
   "id": "9295758b",
   "metadata": {},
   "source": [
    "### Exercise 8\n",
    "1. Create the following string `s = 'this is a string'`\n",
    "2. Create a new string that consists of the first and last character of `s`\n",
    "    - HINT: Use indexing and negative indexing."
   ]
  },
  {
   "cell_type": "code",
   "execution_count": null,
   "id": "b5731cac",
   "metadata": {},
   "outputs": [],
   "source": []
  },
  {
   "cell_type": "code",
   "execution_count": null,
   "id": "23610bab",
   "metadata": {},
   "outputs": [],
   "source": []
  },
  {
   "cell_type": "markdown",
   "id": "543aba95",
   "metadata": {},
   "source": [
    "### Exercise 9 (Difficult)\n",
    "\n",
    "A palindrome is sequence that reads the same backwards as forwards.\n",
    "\n",
    "#### Example\n",
    "```\n",
    "RACECAR\n",
    "```\n",
    "\n",
    "Use Python to check this is the case.\n",
    "- HINT: Use slicing."
   ]
  },
  {
   "cell_type": "code",
   "execution_count": 2,
   "id": "57fb1a5b",
   "metadata": {},
   "outputs": [
    {
     "data": {
      "text/plain": [
       "'racecar'"
      ]
     },
     "execution_count": 2,
     "metadata": {},
     "output_type": "execute_result"
    }
   ],
   "source": [
    "\"racecar\"[::-1]"
   ]
  },
  {
   "cell_type": "code",
   "execution_count": null,
   "id": "d53b9fbe",
   "metadata": {},
   "outputs": [],
   "source": []
  },
  {
   "cell_type": "markdown",
   "id": "08ebd7be",
   "metadata": {},
   "source": [
    "### Exercise 10 (Difficult)\n",
    "\n",
    "Reverse the words in a string.\n",
    "\n",
    "#### Examples\n",
    "- 'understand you this' ➞ 'this you understand'\n",
    "- 'is this backwards' ➞ 'backwards this is'\n",
    "\n",
    "HINT: Use split(), reverse(), join()"
   ]
  },
  {
   "cell_type": "code",
   "execution_count": 7,
   "id": "2022db22",
   "metadata": {},
   "outputs": [
    {
     "data": {
      "text/plain": [
       "'this you understand'"
      ]
     },
     "execution_count": 7,
     "metadata": {},
     "output_type": "execute_result"
    }
   ],
   "source": [
    "s = 'understand you this'\n",
    "\n",
    "l = s.split()\n",
    "l.reverse()\n",
    "' '.join(l)"
   ]
  },
  {
   "cell_type": "code",
   "execution_count": null,
   "id": "6fc08a65",
   "metadata": {},
   "outputs": [],
   "source": []
  }
 ],
 "metadata": {
  "kernelspec": {
   "display_name": "Python 3 (ipykernel)",
   "language": "python",
   "name": "python3"
  },
  "language_info": {
   "codemirror_mode": {
    "name": "ipython",
    "version": 3
   },
   "file_extension": ".py",
   "mimetype": "text/x-python",
   "name": "python",
   "nbconvert_exporter": "python",
   "pygments_lexer": "ipython3",
   "version": "3.8.8"
  }
 },
 "nbformat": 4,
 "nbformat_minor": 5
}
