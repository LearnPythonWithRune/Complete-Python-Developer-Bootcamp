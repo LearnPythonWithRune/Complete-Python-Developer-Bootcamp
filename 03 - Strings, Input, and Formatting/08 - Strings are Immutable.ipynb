{
 "cells": [
  {
   "cell_type": "markdown",
   "id": "c576e43d",
   "metadata": {},
   "source": [
    "# Python Strings are Immutable / NICE-TO-KNOW"
   ]
  },
  {
   "cell_type": "markdown",
   "id": "0e2f9c49",
   "metadata": {},
   "source": [
    "### What is Immutable?\n",
    "\n",
    "They cannot change over time.\n",
    "\n",
    "### What does that mean for Python strings?\n",
    "\n",
    "You cannot change the strings.\n",
    "\n",
    "```Python\n",
    "s = \"0123456789\"\n",
    "s[0] = '1'\n",
    "```\n",
    "The above is not possible."
   ]
  },
  {
   "cell_type": "code",
   "execution_count": null,
   "id": "881a4f6f",
   "metadata": {},
   "outputs": [],
   "source": []
  },
  {
   "cell_type": "code",
   "execution_count": null,
   "id": "c064e051",
   "metadata": {},
   "outputs": [],
   "source": []
  },
  {
   "cell_type": "markdown",
   "id": "9ac00714",
   "metadata": {},
   "source": [
    "### Retun a new string\n",
    "\n",
    "All string methods and operations return a new string.\n",
    "\n",
    "#### Examples\n",
    "```Python\n",
    "s = \"Hello\"\n",
    "s.lower()  # returns a new string 'hello'\n",
    "s.upper()  # returns a new string 'HELLO'\n",
    "\n",
    "one = \"One\"\n",
    "two = \"Two\"\n",
    "onetwo = one + two  # returns a new string 'OneTwo'\n",
    "```"
   ]
  },
  {
   "cell_type": "code",
   "execution_count": null,
   "id": "e513d4d6",
   "metadata": {},
   "outputs": [],
   "source": []
  },
  {
   "cell_type": "code",
   "execution_count": null,
   "id": "32005c93",
   "metadata": {},
   "outputs": [],
   "source": []
  },
  {
   "cell_type": "code",
   "execution_count": null,
   "id": "92a7c34e",
   "metadata": {},
   "outputs": [],
   "source": []
  },
  {
   "cell_type": "markdown",
   "id": "f3197b91",
   "metadata": {},
   "source": [
    "### Does it matter?\n",
    "\n",
    "Well, most courses focus a lot on it.\n",
    "- For many other languages it makes a difference for the programmer\n",
    "- After years of programming in Python it has almost never been an issue or important to know"
   ]
  },
  {
   "cell_type": "code",
   "execution_count": null,
   "id": "4195257f",
   "metadata": {},
   "outputs": [],
   "source": []
  }
 ],
 "metadata": {
  "kernelspec": {
   "display_name": "Python 3 (ipykernel)",
   "language": "python",
   "name": "python3"
  },
  "language_info": {
   "codemirror_mode": {
    "name": "ipython",
    "version": 3
   },
   "file_extension": ".py",
   "mimetype": "text/x-python",
   "name": "python",
   "nbconvert_exporter": "python",
   "pygments_lexer": "ipython3",
   "version": "3.8.8"
  }
 },
 "nbformat": 4,
 "nbformat_minor": 5
}
