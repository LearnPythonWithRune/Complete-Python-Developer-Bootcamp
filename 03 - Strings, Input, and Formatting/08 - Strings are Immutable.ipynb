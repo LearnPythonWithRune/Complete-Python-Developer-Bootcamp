{
 "cells": [
  {
   "cell_type": "markdown",
   "id": "c576e43d",
   "metadata": {},
   "source": [
    "# Python Strings are Immutable / NICE-TO-KNOW"
   ]
  },
  {
   "cell_type": "markdown",
   "id": "0e2f9c49",
   "metadata": {},
   "source": [
    "### What is Immutable?\n",
    "\n",
    "They cannot change over time.\n",
    "\n",
    "### What does that mean for Python strings?\n",
    "\n",
    "You cannot change the strings.\n",
    "\n",
    "```Python\n",
    "s = \"0123456789\"\n",
    "s[0] = '1'\n",
    "```\n",
    "The above is not possible."
   ]
  },
  {
   "cell_type": "code",
   "execution_count": 1,
   "id": "881a4f6f",
   "metadata": {},
   "outputs": [],
   "source": [
    "s = \"0123456789\""
   ]
  },
  {
   "cell_type": "code",
   "execution_count": 2,
   "id": "c064e051",
   "metadata": {
    "scrolled": true
   },
   "outputs": [
    {
     "ename": "TypeError",
     "evalue": "'str' object does not support item assignment",
     "output_type": "error",
     "traceback": [
      "\u001b[0;31m---------------------------------------------------------------------------\u001b[0m",
      "\u001b[0;31mTypeError\u001b[0m                                 Traceback (most recent call last)",
      "\u001b[0;32m/var/folders/5f/vgbh9pkd4wzf4ysrpf9wsr800000gn/T/ipykernel_58169/2648256555.py\u001b[0m in \u001b[0;36m<module>\u001b[0;34m\u001b[0m\n\u001b[0;32m----> 1\u001b[0;31m \u001b[0ms\u001b[0m\u001b[0;34m[\u001b[0m\u001b[0;36m0\u001b[0m\u001b[0;34m]\u001b[0m \u001b[0;34m=\u001b[0m \u001b[0;34m'1'\u001b[0m\u001b[0;34m\u001b[0m\u001b[0;34m\u001b[0m\u001b[0m\n\u001b[0m",
      "\u001b[0;31mTypeError\u001b[0m: 'str' object does not support item assignment"
     ]
    }
   ],
   "source": [
    "s[0] = '1'"
   ]
  },
  {
   "cell_type": "code",
   "execution_count": 3,
   "id": "05355880",
   "metadata": {},
   "outputs": [],
   "source": [
    "s = 'my new string'"
   ]
  },
  {
   "cell_type": "code",
   "execution_count": null,
   "id": "faee932a",
   "metadata": {},
   "outputs": [],
   "source": []
  },
  {
   "cell_type": "markdown",
   "id": "9ac00714",
   "metadata": {},
   "source": [
    "### Retun a new string\n",
    "\n",
    "All string methods and operations return a new string.\n",
    "\n",
    "#### Examples\n",
    "```Python\n",
    "s = \"Hello\"\n",
    "s.lower()  # returns a new string 'hello'\n",
    "s.upper()  # returns a new string 'HELLO'\n",
    "\n",
    "one = \"One\"\n",
    "two = \"Two\"\n",
    "onetwo = one + two  # returns a new string 'OneTwo'\n",
    "```"
   ]
  },
  {
   "cell_type": "code",
   "execution_count": 4,
   "id": "e513d4d6",
   "metadata": {},
   "outputs": [],
   "source": [
    "s = \"Hello\""
   ]
  },
  {
   "cell_type": "code",
   "execution_count": 5,
   "id": "32005c93",
   "metadata": {},
   "outputs": [
    {
     "data": {
      "text/plain": [
       "'hello'"
      ]
     },
     "execution_count": 5,
     "metadata": {},
     "output_type": "execute_result"
    }
   ],
   "source": [
    "s.lower() "
   ]
  },
  {
   "cell_type": "code",
   "execution_count": 6,
   "id": "92a7c34e",
   "metadata": {},
   "outputs": [],
   "source": [
    "one = \"One\"\n",
    "two = \"Two\"\n",
    "onetwo = one + two"
   ]
  },
  {
   "cell_type": "code",
   "execution_count": 7,
   "id": "4c29db90",
   "metadata": {},
   "outputs": [
    {
     "data": {
      "text/plain": [
       "'One'"
      ]
     },
     "execution_count": 7,
     "metadata": {},
     "output_type": "execute_result"
    }
   ],
   "source": [
    "one"
   ]
  },
  {
   "cell_type": "code",
   "execution_count": 8,
   "id": "90eaa7e2",
   "metadata": {},
   "outputs": [
    {
     "data": {
      "text/plain": [
       "'OneTwo'"
      ]
     },
     "execution_count": 8,
     "metadata": {},
     "output_type": "execute_result"
    }
   ],
   "source": [
    "onetwo"
   ]
  },
  {
   "cell_type": "code",
   "execution_count": 9,
   "id": "a6e59628",
   "metadata": {},
   "outputs": [],
   "source": [
    "one = '1'"
   ]
  },
  {
   "cell_type": "code",
   "execution_count": 10,
   "id": "c1c1c4dc",
   "metadata": {},
   "outputs": [
    {
     "data": {
      "text/plain": [
       "'1'"
      ]
     },
     "execution_count": 10,
     "metadata": {},
     "output_type": "execute_result"
    }
   ],
   "source": [
    "one"
   ]
  },
  {
   "cell_type": "code",
   "execution_count": 11,
   "id": "66fb56f2",
   "metadata": {},
   "outputs": [
    {
     "data": {
      "text/plain": [
       "'OneTwo'"
      ]
     },
     "execution_count": 11,
     "metadata": {},
     "output_type": "execute_result"
    }
   ],
   "source": [
    "onetwo"
   ]
  },
  {
   "cell_type": "code",
   "execution_count": null,
   "id": "576f83f0",
   "metadata": {},
   "outputs": [],
   "source": []
  },
  {
   "cell_type": "markdown",
   "id": "f3197b91",
   "metadata": {},
   "source": [
    "### Does it matter?\n",
    "\n",
    "Well, most courses focus a lot on it.\n",
    "- For many other languages it makes a difference for the programmer\n",
    "- After years of programming in Python it has almost never been an issue or important to know"
   ]
  },
  {
   "cell_type": "code",
   "execution_count": null,
   "id": "4195257f",
   "metadata": {},
   "outputs": [],
   "source": []
  }
 ],
 "metadata": {
  "kernelspec": {
   "display_name": "Python 3 (ipykernel)",
   "language": "python",
   "name": "python3"
  },
  "language_info": {
   "codemirror_mode": {
    "name": "ipython",
    "version": 3
   },
   "file_extension": ".py",
   "mimetype": "text/x-python",
   "name": "python",
   "nbconvert_exporter": "python",
   "pygments_lexer": "ipython3",
   "version": "3.9.13"
  }
 },
 "nbformat": 4,
 "nbformat_minor": 5
}
