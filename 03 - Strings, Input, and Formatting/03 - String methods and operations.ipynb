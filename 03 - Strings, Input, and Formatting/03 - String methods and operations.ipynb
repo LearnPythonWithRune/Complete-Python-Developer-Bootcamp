{
 "cells": [
  {
   "cell_type": "markdown",
   "id": "e7fd8d20",
   "metadata": {},
   "source": [
    "# String Methods and Operations in Python / NEED-TO-KNOW"
   ]
  },
  {
   "cell_type": "markdown",
   "id": "424750a3",
   "metadata": {},
   "source": [
    "### Python String Methods\n",
    "\n",
    "Here are a few String methods that are good to know ([docs](https://docs.python.org/3/library/stdtypes.html#string-methods))\n",
    "- `lower()` - Lowercase a string\n",
    "- `upper()` - Upper case a string\n",
    "- `split()` - Splits a string into items (list)\n",
    "- `replace('a', 'b')` - Replaces occurences of `a` with `b` "
   ]
  },
  {
   "cell_type": "code",
   "execution_count": 1,
   "id": "f3ba0137",
   "metadata": {},
   "outputs": [
    {
     "data": {
      "text/plain": [
       "'hello world'"
      ]
     },
     "execution_count": 1,
     "metadata": {},
     "output_type": "execute_result"
    }
   ],
   "source": [
    "s = \"Hello World\"\n",
    "s.lower()"
   ]
  },
  {
   "cell_type": "code",
   "execution_count": 2,
   "id": "e467ccc9",
   "metadata": {},
   "outputs": [
    {
     "data": {
      "text/plain": [
       "'HELLO WORLD'"
      ]
     },
     "execution_count": 2,
     "metadata": {},
     "output_type": "execute_result"
    }
   ],
   "source": [
    "s.upper()"
   ]
  },
  {
   "cell_type": "code",
   "execution_count": 3,
   "id": "71ab2953",
   "metadata": {},
   "outputs": [
    {
     "data": {
      "text/plain": [
       "['Hello', 'World']"
      ]
     },
     "execution_count": 3,
     "metadata": {},
     "output_type": "execute_result"
    }
   ],
   "source": [
    "s.split()"
   ]
  },
  {
   "cell_type": "code",
   "execution_count": 4,
   "id": "4816dfe7",
   "metadata": {},
   "outputs": [],
   "source": [
    "s = 'aabbbbaaaababab'"
   ]
  },
  {
   "cell_type": "code",
   "execution_count": 5,
   "id": "3fbe2381",
   "metadata": {},
   "outputs": [
    {
     "data": {
      "text/plain": [
       "'bbbbbbbbbbbbbbb'"
      ]
     },
     "execution_count": 5,
     "metadata": {},
     "output_type": "execute_result"
    }
   ],
   "source": [
    "s.replace('a', 'b')"
   ]
  },
  {
   "cell_type": "markdown",
   "id": "8f95ca6a",
   "metadata": {},
   "source": [
    "### Python String Operations\n",
    "\n",
    "A few tricks\n",
    "```Python\n",
    "'z'*20\n",
    "'One' + 'Two' + 'Three'\n",
    "```"
   ]
  },
  {
   "cell_type": "code",
   "execution_count": null,
   "id": "68bc83ec",
   "metadata": {},
   "outputs": [],
   "source": []
  }
 ],
 "metadata": {
  "kernelspec": {
   "display_name": "Python 3 (ipykernel)",
   "language": "python",
   "name": "python3"
  },
  "language_info": {
   "codemirror_mode": {
    "name": "ipython",
    "version": 3
   },
   "file_extension": ".py",
   "mimetype": "text/x-python",
   "name": "python",
   "nbconvert_exporter": "python",
   "pygments_lexer": "ipython3",
   "version": "3.8.8"
  }
 },
 "nbformat": 4,
 "nbformat_minor": 5
}
