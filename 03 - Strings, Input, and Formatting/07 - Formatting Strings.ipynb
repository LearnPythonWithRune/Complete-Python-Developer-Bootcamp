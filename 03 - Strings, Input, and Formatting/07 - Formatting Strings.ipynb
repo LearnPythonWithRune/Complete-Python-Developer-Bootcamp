{
 "cells": [
  {
   "cell_type": "markdown",
   "id": "3fea6757",
   "metadata": {},
   "source": [
    "# Formatting Strings in Python / NICE-TO-KNOW"
   ]
  },
  {
   "cell_type": "markdown",
   "id": "afbeda88",
   "metadata": {},
   "source": [
    "### f-strings\n",
    "\n",
    "You can easily add variables to your strings.\n",
    "\n",
    "```Python\n",
    "r = 2\n",
    "pi = 3.14\n",
    "\n",
    "print(f'If the radius is {r} then the circumference is {2*pi*r}')\n",
    "```"
   ]
  },
  {
   "cell_type": "code",
   "execution_count": 1,
   "id": "099d1871",
   "metadata": {},
   "outputs": [],
   "source": [
    "r = 2\n",
    "pi = 3.14"
   ]
  },
  {
   "cell_type": "code",
   "execution_count": 2,
   "id": "cefb15e9",
   "metadata": {},
   "outputs": [
    {
     "name": "stdout",
     "output_type": "stream",
     "text": [
      "Radius 2 pi 3.14\n"
     ]
    }
   ],
   "source": [
    "print('Radius', r, 'pi', pi)"
   ]
  },
  {
   "cell_type": "code",
   "execution_count": 5,
   "id": "55653818",
   "metadata": {},
   "outputs": [
    {
     "name": "stdout",
     "output_type": "stream",
     "text": [
      "Radius 2 pi 3.14\n"
     ]
    }
   ],
   "source": [
    "print('Radius ' + str(r) + ' pi ' + str(pi))"
   ]
  },
  {
   "cell_type": "code",
   "execution_count": 6,
   "id": "4520a591",
   "metadata": {},
   "outputs": [
    {
     "name": "stdout",
     "output_type": "stream",
     "text": [
      "Radius 2, pi 3.14\n"
     ]
    }
   ],
   "source": [
    "print(f'Radius {r}, pi {pi}')"
   ]
  },
  {
   "cell_type": "code",
   "execution_count": 7,
   "id": "1d68ef62",
   "metadata": {},
   "outputs": [
    {
     "name": "stdout",
     "output_type": "stream",
     "text": [
      "Radius is 2, circumference is 12.56\n"
     ]
    }
   ],
   "source": [
    "print(f'Radius is {r}, circumference is {2*pi*r}')"
   ]
  },
  {
   "cell_type": "code",
   "execution_count": null,
   "id": "895809ee",
   "metadata": {},
   "outputs": [],
   "source": []
  },
  {
   "cell_type": "markdown",
   "id": "30fa5d25",
   "metadata": {},
   "source": [
    "### A great way for debugging\n",
    "\n",
    "```Python\n",
    "r = 2\n",
    "pi = 3.14\n",
    "\n",
    "print(f'{r=} {pi=}')\n",
    "```"
   ]
  },
  {
   "cell_type": "code",
   "execution_count": 8,
   "id": "6d19983c",
   "metadata": {},
   "outputs": [
    {
     "name": "stdout",
     "output_type": "stream",
     "text": [
      "r is 2, pi is 3.14\n"
     ]
    }
   ],
   "source": [
    "print(f'r is {r}, pi is {pi}')"
   ]
  },
  {
   "cell_type": "code",
   "execution_count": 9,
   "id": "8b3a5726",
   "metadata": {},
   "outputs": [
    {
     "name": "stdout",
     "output_type": "stream",
     "text": [
      "r=2 pi=3.14\n"
     ]
    }
   ],
   "source": [
    "print(f'{r=} {pi=}')"
   ]
  },
  {
   "cell_type": "code",
   "execution_count": null,
   "id": "23af1a60",
   "metadata": {},
   "outputs": [],
   "source": []
  },
  {
   "cell_type": "markdown",
   "id": "c46c20cf",
   "metadata": {},
   "source": [
    "### Want to learn more?\n",
    "\n",
    "f-strings are powerful and you can learn more about them [here (YouTube video)](https://youtu.be/DKRjpckZ8bk)."
   ]
  },
  {
   "cell_type": "code",
   "execution_count": null,
   "id": "f21ad5fb",
   "metadata": {},
   "outputs": [],
   "source": []
  },
  {
   "cell_type": "code",
   "execution_count": null,
   "id": "8655b3ce",
   "metadata": {},
   "outputs": [],
   "source": []
  }
 ],
 "metadata": {
  "kernelspec": {
   "display_name": "Python 3 (ipykernel)",
   "language": "python",
   "name": "python3"
  },
  "language_info": {
   "codemirror_mode": {
    "name": "ipython",
    "version": 3
   },
   "file_extension": ".py",
   "mimetype": "text/x-python",
   "name": "python",
   "nbconvert_exporter": "python",
   "pygments_lexer": "ipython3",
   "version": "3.9.13"
  }
 },
 "nbformat": 4,
 "nbformat_minor": 5
}
