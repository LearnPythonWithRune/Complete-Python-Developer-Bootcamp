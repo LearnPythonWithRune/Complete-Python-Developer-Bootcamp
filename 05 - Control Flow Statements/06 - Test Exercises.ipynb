{
 "cells": [
  {
   "cell_type": "markdown",
   "id": "fc01b3bc",
   "metadata": {},
   "source": [
    "# Test Exercises"
   ]
  },
  {
   "cell_type": "markdown",
   "id": "63be44ff",
   "metadata": {},
   "source": [
    "### Exercise 1\n",
    "\n",
    "Sum integers of a list.\n",
    "\n",
    "#### Example\n",
    "- `[1, 2, 3, 4]` ➞ `10`\n",
    "\n",
    "1. Create a list `l = [1, 2, 3, 4]`\n",
    "2. Create a counter `counter` and assign it to zero.\n",
    "3. Iterate over the integers in `l` and add it to `counter`\n",
    "4. After the loop print the value of `counter`"
   ]
  },
  {
   "cell_type": "code",
   "execution_count": null,
   "id": "0ce6f45d",
   "metadata": {},
   "outputs": [],
   "source": []
  },
  {
   "cell_type": "code",
   "execution_count": null,
   "id": "0e82eb21",
   "metadata": {},
   "outputs": [],
   "source": []
  },
  {
   "cell_type": "markdown",
   "id": "31bda855",
   "metadata": {},
   "source": [
    "### Exercise 2\n",
    "\n",
    "Take a string and output the words alphabetically.\n",
    "\n",
    "#### Example \n",
    "- `'this is just a simple string'` ➞ `a`, `is`, `just`, `simple`, `string`, `this`\n",
    "\n",
    "1. Assign a string `s = 'this is just a simple string'`\n",
    "2. Convert the string to a list of words.\n",
    "    - HINT: Use `split()`\n",
    "3. Sort the list alphabetically.\n",
    "    - HINT: The method `sort()` on a list sorts strings alphabetially.\n",
    "4. Iterate over the list and print each word."
   ]
  },
  {
   "cell_type": "code",
   "execution_count": 4,
   "id": "52bde7d1",
   "metadata": {},
   "outputs": [
    {
     "name": "stdout",
     "output_type": "stream",
     "text": [
      "a\n",
      "is\n",
      "just\n",
      "simple\n",
      "string\n",
      "this\n"
     ]
    }
   ],
   "source": [
    "s = 'this is just a simple string'\n",
    "\n",
    "l = s.split()\n",
    "l.sort()\n",
    "\n",
    "for word in l:\n",
    "    print(word)"
   ]
  },
  {
   "cell_type": "code",
   "execution_count": null,
   "id": "d4bbdd8c",
   "metadata": {},
   "outputs": [],
   "source": []
  },
  {
   "cell_type": "markdown",
   "id": "12281d16",
   "metadata": {},
   "source": [
    "### Exercise 3\n",
    "\n",
    "Count the occurences of items in a list.\n",
    "\n",
    "Recall how you can use a dictionary to keep record. Try the code below to understand it.\n",
    "\n",
    "```Python\n",
    "count = {}\n",
    "\n",
    "count['word'] = count.get('word', 0) + 1\n",
    "```\n",
    "\n",
    "What you need to do.\n",
    "1. Create a list `l = ['I', 'am', 'I', 'was']`\n",
    "2. Create an empty dict `count`\n",
    "3. Iterate over the list `l` and update `count`\n",
    "4. After the loop iterate over the key-value pairs of `count` and print them."
   ]
  },
  {
   "cell_type": "code",
   "execution_count": 3,
   "id": "82e2303c",
   "metadata": {},
   "outputs": [
    {
     "name": "stdout",
     "output_type": "stream",
     "text": [
      "I 2\n",
      "am 1\n",
      "was 1\n"
     ]
    }
   ],
   "source": [
    "l = ['I', 'am', 'I', 'was']\n",
    "count = {}\n",
    "\n",
    "for word in l:\n",
    "    count[word] = count.get(word, 0) + 1\n",
    "\n",
    "for key, value in count.items():\n",
    "    print(key, value)"
   ]
  },
  {
   "cell_type": "code",
   "execution_count": null,
   "id": "cc1cd59c",
   "metadata": {},
   "outputs": [],
   "source": []
  },
  {
   "cell_type": "markdown",
   "id": "0406ac3c",
   "metadata": {},
   "source": [
    "### Exercise 4\n",
    "\n",
    "We will make a [substitution cipher](https://en.wikipedia.org/wiki/Substitution_cipher).\n",
    "\n",
    "A substitution cipher changes a letter to another one.\n",
    "\n",
    "We can do that easy with a dict containing the substitution.\n",
    "\n",
    "```Python\n",
    "encryption = {\n",
    "    'A': 'W',\n",
    "    'B': 'Y',\n",
    "    'C': 'F',\n",
    "    'D': 'M',\n",
    "    'E': 'V',\n",
    "    'F': 'J',\n",
    "    'G': 'X',\n",
    "    'H': 'C',\n",
    "    'I': 'A',\n",
    "    'J': 'R',\n",
    "    'K': 'U',\n",
    "    'L': 'P',\n",
    "    'M': 'K',\n",
    "    'N': 'I',\n",
    "    'O': 'T',\n",
    "    'P': 'Z',\n",
    "    'Q': 'B',\n",
    "    'R': 'E',\n",
    "    'S': 'H',\n",
    "    'T': 'Q',\n",
    "    'U': 'G',\n",
    "    'V': 'D',\n",
    "    'W': 'S',\n",
    "    'X': 'N',\n",
    "    'Y': 'L',\n",
    "    'Z': 'O'\n",
    "}\n",
    "```\n",
    "\n",
    "To use it do the following.\n",
    "1. Copy paste the dict `encryption` to the cell below.\n",
    "2. Create a string `s = 'this is something to encrypt'`\n",
    "3. Convert it to upper case.\n",
    "4. Iterate over the key-value pairs in dict `encryption` and replace each key with the value.\n",
    "    - HINT: Use the `replace()` method on the string `s`\n",
    "5. Print the string to see the result.\n",
    "6. Validate the result manually."
   ]
  },
  {
   "cell_type": "code",
   "execution_count": 23,
   "id": "ea757dca",
   "metadata": {},
   "outputs": [],
   "source": [
    "s = 'this is something to encrypt'\n",
    "\n",
    "s = s.upper()"
   ]
  },
  {
   "cell_type": "code",
   "execution_count": 24,
   "id": "9f8d657b",
   "metadata": {},
   "outputs": [
    {
     "data": {
      "text/plain": [
       "'QCAH AH HQKDQCAIN QQ DIEELOQ'"
      ]
     },
     "execution_count": 24,
     "metadata": {},
     "output_type": "execute_result"
    }
   ],
   "source": [
    "for key, value in encryption.items():\n",
    "    s = s.replace(key, value)\n",
    "\n",
    "s"
   ]
  },
  {
   "cell_type": "code",
   "execution_count": null,
   "id": "3d065d37",
   "metadata": {},
   "outputs": [],
   "source": []
  }
 ],
 "metadata": {
  "kernelspec": {
   "display_name": "Python 3 (ipykernel)",
   "language": "python",
   "name": "python3"
  },
  "language_info": {
   "codemirror_mode": {
    "name": "ipython",
    "version": 3
   },
   "file_extension": ".py",
   "mimetype": "text/x-python",
   "name": "python",
   "nbconvert_exporter": "python",
   "pygments_lexer": "ipython3",
   "version": "3.8.8"
  }
 },
 "nbformat": 4,
 "nbformat_minor": 5
}
