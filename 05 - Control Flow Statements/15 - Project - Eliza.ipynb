{
 "cells": [
  {
   "cell_type": "markdown",
   "id": "63cd4d9f",
   "metadata": {},
   "source": [
    "# Project Eliza (simple)"
   ]
  },
  {
   "cell_type": "markdown",
   "id": "46e5bce1",
   "metadata": {},
   "source": [
    "### How ELIZA works?\n",
    "\n",
    "It looks for simple patterns and substitutes to give the illution of understanding from the computer ([wiki](https://en.wikipedia.org/wiki/ELIZA))\n",
    "\n",
    "#### Example\n",
    "- You write `I need cake` it can look for pattern `I need *`\n",
    "- Then it can ask `Why do you need cake?`\n",
    "\n",
    "Look at the example below."
   ]
  },
  {
   "cell_type": "code",
   "execution_count": 9,
   "id": "d34648a5",
   "metadata": {
    "scrolled": true
   },
   "outputs": [
    {
     "name": "stdout",
     "output_type": "stream",
     "text": [
      "What do you need? quit\n"
     ]
    }
   ],
   "source": [
    "eliza_response = 'What do you need?'\n",
    "\n",
    "while True:\n",
    "    s = input(eliza_response + ' ')\n",
    "    \n",
    "    if 'I need ' in s:\n",
    "        your_need = s.split('I need ')[-1]\n",
    "        eliza_response = 'Why do you need ' + your_need + '?'\n",
    "    elif 'because' in s:\n",
    "        your_cause = s.split()[-1]\n",
    "        eliza_response = 'Why are you ' + your_cause + '?'\n",
    "        \n",
    "    elif s == 'quit':\n",
    "        break\n",
    "    else:\n",
    "        eliza_response = 'Can you tell me why?'\n",
    "        "
   ]
  },
  {
   "cell_type": "markdown",
   "id": "23c88c72",
   "metadata": {},
   "source": [
    "### Example dialogue\n",
    "\n",
    "```\n",
    "What do you need? I need cake\n",
    "Why do you need cake? because I am hungy\n",
    "Why are you hungy? because I need to eat\n",
    "Why do you need to eat? because it makes me less irritated\n",
    "Why are you irritated? because I need to avoid low blood sugar\n",
    "Why do you need to eat healthy? because I need a reward\n",
    "Why do you need a reward? because I was good\n",
    "Why are you good? because I need to learn Python\n",
    "Why do you need to learn Python? because I need a job\n",
    "Why do you need a job? because I need to pay the bills\n",
    "Why do you need to pay the bills? quit\n",
    "```"
   ]
  },
  {
   "cell_type": "markdown",
   "id": "b5a9d56d",
   "metadata": {},
   "source": [
    "# 2 challenges\n",
    "\n",
    "### Challenge #1: Find other patterns you can use and extend your Elize\n",
    "- See if you can find other good patterns in the language\n",
    "- Add them to the code above and play with it.\n",
    "\n",
    "\n",
    "### Challenge #2: Post a fun dialogue with your Eliza\n",
    "- Try to write with your Eliza\n",
    "- Post a fun dialogue in the comments"
   ]
  },
  {
   "cell_type": "code",
   "execution_count": null,
   "id": "1ecad63c",
   "metadata": {},
   "outputs": [],
   "source": []
  }
 ],
 "metadata": {
  "kernelspec": {
   "display_name": "Python 3 (ipykernel)",
   "language": "python",
   "name": "python3"
  },
  "language_info": {
   "codemirror_mode": {
    "name": "ipython",
    "version": 3
   },
   "file_extension": ".py",
   "mimetype": "text/x-python",
   "name": "python",
   "nbconvert_exporter": "python",
   "pygments_lexer": "ipython3",
   "version": "3.8.8"
  }
 },
 "nbformat": 4,
 "nbformat_minor": 5
}
