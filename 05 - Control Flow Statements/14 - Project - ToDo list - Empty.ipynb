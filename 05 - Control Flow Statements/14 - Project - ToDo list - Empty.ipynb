{
 "cells": [
  {
   "cell_type": "markdown",
   "id": "6567cee2",
   "metadata": {},
   "source": [
    "# Project: ToDo list"
   ]
  },
  {
   "cell_type": "markdown",
   "id": "d829b4ef",
   "metadata": {},
   "source": [
    "### Description\n",
    "\n",
    "The program you write can do 4 things.\n",
    "1. It can show the content of your ToDo list\n",
    "2. It can add an item to your ToDo list\n",
    "3. It can remove an item from your ToDo list\n",
    "4. It can quit the program"
   ]
  },
  {
   "cell_type": "markdown",
   "id": "f0cf794e",
   "metadata": {},
   "source": [
    "#### DOUBLE CLICK HERE TO GET A HINT IF YOU GET STUCK\n",
    "\n",
    "<!--\n",
    "\n",
    "The structure of your code could be as follows.\n",
    "\n",
    "todo_list = []  # You use a list as the ToDo list\n",
    "\n",
    "while True.\n",
    "    pass\n",
    "    # Take input from user what to do (the 4 options)\n",
    "    # Have a case for each of the 4 options\n",
    "\n",
    "-->"
   ]
  },
  {
   "cell_type": "markdown",
   "id": "c113c124",
   "metadata": {},
   "source": [
    "#### DOUBLE CLICK HERE TO GET A HINT ON HOW THE USER CAN CHOOSE AN OPTION\n",
    "\n",
    "<!--\n",
    "\n",
    "You can ask the user to enter a number from 1-4. Write what each number does.\n",
    "\n",
    "Then your program should check what option your user has taken.\n",
    "\n",
    "-->"
   ]
  },
  {
   "cell_type": "markdown",
   "id": "3962ffc6",
   "metadata": {},
   "source": [
    "#### DOUBLE CLICK HERE TO GET A HINT ON HOW TO CHECK OPTIONS\n",
    "\n",
    "<!--\n",
    "\n",
    "Use an if-elif-elif-elif-else statement.\n",
    "\n",
    "if option == '1':\n",
    "    # code for option 1\n",
    "elif option == '2':\n",
    "    # code for option 2\n",
    "elif option == '3':\n",
    "    # code for option 3\n",
    "elif option == '4':\n",
    "    # code for option 4\n",
    "else:\n",
    "    # code for \"wrong input\n",
    "\n",
    "-->"
   ]
  },
  {
   "cell_type": "code",
   "execution_count": null,
   "id": "4663a78b",
   "metadata": {},
   "outputs": [],
   "source": []
  },
  {
   "cell_type": "code",
   "execution_count": null,
   "id": "95833830",
   "metadata": {},
   "outputs": [],
   "source": []
  },
  {
   "cell_type": "code",
   "execution_count": null,
   "id": "9ca0a5cc",
   "metadata": {},
   "outputs": [],
   "source": []
  }
 ],
 "metadata": {
  "kernelspec": {
   "display_name": "Python 3 (ipykernel)",
   "language": "python",
   "name": "python3"
  },
  "language_info": {
   "codemirror_mode": {
    "name": "ipython",
    "version": 3
   },
   "file_extension": ".py",
   "mimetype": "text/x-python",
   "name": "python",
   "nbconvert_exporter": "python",
   "pygments_lexer": "ipython3",
   "version": "3.9.13"
  }
 },
 "nbformat": 4,
 "nbformat_minor": 5
}
