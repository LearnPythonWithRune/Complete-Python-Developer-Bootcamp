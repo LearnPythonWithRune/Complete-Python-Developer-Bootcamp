{
 "cells": [
  {
   "cell_type": "markdown",
   "id": "c1c8ed6a",
   "metadata": {},
   "source": [
    "# Specialization Exercises"
   ]
  },
  {
   "cell_type": "markdown",
   "id": "8910429a",
   "metadata": {},
   "source": [
    "### Exercise 1\n",
    "\n",
    "Given a list of names `names = ['Anna', 'Walter', 'Eric', 'Susan', 'Oscar', 'Michael', 'Esther']`\n",
    "\n",
    "Use list comprehension to create a list of the first letters of the names."
   ]
  },
  {
   "cell_type": "code",
   "execution_count": 1,
   "id": "aaee2274",
   "metadata": {},
   "outputs": [],
   "source": [
    "names = ['Anna', 'Walter', 'Eric', 'Susan', 'Oscar', 'Michael', 'Esther']"
   ]
  },
  {
   "cell_type": "code",
   "execution_count": 2,
   "id": "44512bfc",
   "metadata": {},
   "outputs": [
    {
     "data": {
      "text/plain": [
       "['A', 'W', 'E', 'S', 'O', 'M', 'E']"
      ]
     },
     "execution_count": 2,
     "metadata": {},
     "output_type": "execute_result"
    }
   ],
   "source": [
    "first_letter = [name[0] for name in names]\n",
    "\n",
    "first_letter"
   ]
  },
  {
   "cell_type": "code",
   "execution_count": 3,
   "id": "85dfccc0",
   "metadata": {},
   "outputs": [
    {
     "data": {
      "text/plain": [
       "['A', 'W', 'E', 'S', 'O', 'M', 'E']"
      ]
     },
     "execution_count": 3,
     "metadata": {},
     "output_type": "execute_result"
    }
   ],
   "source": [
    "first_letter = []\n",
    "\n",
    "for name in names:\n",
    "    first_letter.append(name[0])\n",
    "\n",
    "first_letter"
   ]
  },
  {
   "cell_type": "markdown",
   "id": "31886c1b",
   "metadata": {},
   "source": [
    "### Exercise 2\n",
    "\n",
    "Given the list `l = ['a', 'b', 'aa', 'aaa', 'nnn', 'baba']`\n",
    "\n",
    "Use list comprehension to create a list of the lengths of the strings."
   ]
  },
  {
   "cell_type": "code",
   "execution_count": 4,
   "id": "d54f1633",
   "metadata": {},
   "outputs": [
    {
     "data": {
      "text/plain": [
       "[1, 1, 2, 3, 3, 4]"
      ]
     },
     "execution_count": 4,
     "metadata": {},
     "output_type": "execute_result"
    }
   ],
   "source": [
    "l = ['a', 'b', 'aa', 'aaa', 'nnn', 'baba']\n",
    "\n",
    "len_str = [len(s) for s in l]\n",
    "\n",
    "len_str"
   ]
  },
  {
   "cell_type": "code",
   "execution_count": null,
   "id": "35e00bc0",
   "metadata": {},
   "outputs": [],
   "source": []
  },
  {
   "cell_type": "code",
   "execution_count": null,
   "id": "e17908f9",
   "metadata": {},
   "outputs": [],
   "source": []
  },
  {
   "cell_type": "markdown",
   "id": "08be950d",
   "metadata": {},
   "source": [
    "### Exercise 3\n",
    "\n",
    "Given the list `names = ['Amanda Nunes', 'Ronda', 'Francis Ngannou', 'Alex']`\n",
    "\n",
    "Filter all the `names` that are only first names (if only one you can assume it is a first name)."
   ]
  },
  {
   "cell_type": "code",
   "execution_count": 5,
   "id": "25b824e3",
   "metadata": {},
   "outputs": [
    {
     "data": {
      "text/plain": [
       "['Ronda', 'Alex']"
      ]
     },
     "execution_count": 5,
     "metadata": {},
     "output_type": "execute_result"
    }
   ],
   "source": [
    "names = ['Amanda Nunes', 'Ronda', 'Francis Ngannou', 'Alex']\n",
    "\n",
    "first_names = [name for name in names if ' ' not in name]\n",
    "\n",
    "first_names"
   ]
  },
  {
   "cell_type": "code",
   "execution_count": 6,
   "id": "8280d62f",
   "metadata": {},
   "outputs": [
    {
     "data": {
      "text/plain": [
       "['Ronda', 'Alex']"
      ]
     },
     "execution_count": 6,
     "metadata": {},
     "output_type": "execute_result"
    }
   ],
   "source": [
    "first_names = [name for name in names if len(name.split()) == 1]\n",
    "\n",
    "first_names"
   ]
  },
  {
   "cell_type": "code",
   "execution_count": null,
   "id": "7245a0f2",
   "metadata": {},
   "outputs": [],
   "source": []
  }
 ],
 "metadata": {
  "kernelspec": {
   "display_name": "Python 3 (ipykernel)",
   "language": "python",
   "name": "python3"
  },
  "language_info": {
   "codemirror_mode": {
    "name": "ipython",
    "version": 3
   },
   "file_extension": ".py",
   "mimetype": "text/x-python",
   "name": "python",
   "nbconvert_exporter": "python",
   "pygments_lexer": "ipython3",
   "version": "3.9.13"
  }
 },
 "nbformat": 4,
 "nbformat_minor": 5
}
