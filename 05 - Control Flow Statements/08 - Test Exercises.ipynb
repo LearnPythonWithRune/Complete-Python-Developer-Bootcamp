{
 "cells": [
  {
   "cell_type": "markdown",
   "id": "67f2acd5",
   "metadata": {},
   "source": [
    "# Test Exercises"
   ]
  },
  {
   "cell_type": "markdown",
   "id": "07c0ba2f",
   "metadata": {},
   "source": [
    "### Exercise 1 (Difficult)\n",
    "\n",
    "**FizzBuzz** is a challenge that involves writing code that labels numbers divisible by three as **Fizz**, four as **Buzz** and numbers divisible by both as **FizzBuzz**.\n",
    "\n",
    "Write a program that outputs the FizzBuzz numbers.\n",
    "\n",
    "```\n",
    "1\n",
    "2\n",
    "Fizz\n",
    "4\n",
    "Buzz\n",
    "Fizz\n",
    "7\n",
    "8\n",
    "Fizz\n",
    "Buzz\n",
    "11\n",
    "Fizz\n",
    "13\n",
    "14\n",
    "FizzBuzz\n",
    "16\n",
    "17\n",
    "Fizz\n",
    "19\n",
    "Buzz\n",
    "```\n",
    "1. Use `range` to print the FizzBuzz sequence.\n",
    "    - HINT: A number `num` is divisible by 3 if `num % 3 == 0`\n",
    "    - HINT: Use an if-elif-elif-else-statement."
   ]
  },
  {
   "cell_type": "code",
   "execution_count": 4,
   "id": "8c445e4b",
   "metadata": {},
   "outputs": [
    {
     "name": "stdout",
     "output_type": "stream",
     "text": [
      "1\n",
      "2\n",
      "Fizz\n",
      "4\n",
      "Buzz\n",
      "Fizz\n",
      "7\n",
      "8\n",
      "Fizz\n",
      "Buzz\n",
      "11\n",
      "Fizz\n",
      "13\n",
      "14\n",
      "FizzBuzz\n",
      "16\n",
      "17\n",
      "Fizz\n",
      "19\n",
      "Buzz\n"
     ]
    }
   ],
   "source": [
    "for num in range(1,21):\n",
    "    if num % 3 == 0 and num % 5 == 0:\n",
    "        print('FizzBuzz')\n",
    "    elif num % 3 == 0: \n",
    "        print('Fizz')\n",
    "    elif num % 5 == 0:\n",
    "        print('Buzz')\n",
    "    else:\n",
    "        print(num)"
   ]
  },
  {
   "cell_type": "markdown",
   "id": "a279cb02",
   "metadata": {},
   "source": [
    "### Exercise 2 (Difficult)\n",
    "\n",
    "**FizzBuzz version 2.**\n",
    "\n",
    "Try to solve the same using these two lists.\n",
    "\n",
    "```Python\n",
    "fizz = ['', '', 'Fizz']*5\n",
    "buzz = ['', '', '', '', 'Buzz']*3\n",
    "```\n",
    "\n",
    "1. Create a new empty list `fizz_buzz`\n",
    "2. Use `zip` to create the list `fizz_buzz`\n",
    "3. Use `enumate`to print the **FizzBuzz** sequence from 1 to 15."
   ]
  },
  {
   "cell_type": "code",
   "execution_count": 5,
   "id": "c3bc7057",
   "metadata": {},
   "outputs": [
    {
     "name": "stdout",
     "output_type": "stream",
     "text": [
      "1\n",
      "2\n",
      "Fizz\n",
      "4\n",
      "Buzz\n",
      "Fizz\n",
      "7\n",
      "8\n",
      "Fizz\n",
      "Buzz\n",
      "11\n",
      "Fizz\n",
      "13\n",
      "14\n",
      "FizzBuzz\n"
     ]
    }
   ],
   "source": [
    "fizz = ['', '', 'Fizz']*5\n",
    "buzz = ['', '', '', '', 'Buzz']*3\n",
    "\n",
    "fizz_buzz = []\n",
    "\n",
    "for fizz, buzz in zip(fizz, buzz):\n",
    "    fizz_buzz.append(fizz + buzz)\n",
    "\n",
    "for index, item in enumerate(fizz_buzz):\n",
    "    if item == '':\n",
    "        print(index + 1)\n",
    "    else:\n",
    "        print(item)\n",
    "        \n"
   ]
  },
  {
   "cell_type": "code",
   "execution_count": null,
   "id": "5518c524",
   "metadata": {},
   "outputs": [],
   "source": []
  }
 ],
 "metadata": {
  "kernelspec": {
   "display_name": "Python 3 (ipykernel)",
   "language": "python",
   "name": "python3"
  },
  "language_info": {
   "codemirror_mode": {
    "name": "ipython",
    "version": 3
   },
   "file_extension": ".py",
   "mimetype": "text/x-python",
   "name": "python",
   "nbconvert_exporter": "python",
   "pygments_lexer": "ipython3",
   "version": "3.8.8"
  }
 },
 "nbformat": 4,
 "nbformat_minor": 5
}
