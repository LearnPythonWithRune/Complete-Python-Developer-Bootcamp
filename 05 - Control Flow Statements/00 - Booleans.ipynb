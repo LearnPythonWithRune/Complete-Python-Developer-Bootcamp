{
 "cells": [
  {
   "cell_type": "markdown",
   "id": "b3a3d13b",
   "metadata": {},
   "source": [
    "# Booleans / NEED-TO-KNOW"
   ]
  },
  {
   "cell_type": "markdown",
   "id": "82244aea",
   "metadata": {},
   "source": [
    "### What are Booleans in Python?\n",
    "\n",
    "`True` or `False`\n",
    "\n",
    "### How can something that simple be important?\n",
    "\n",
    "Booleans control the flow of the program.\n",
    "\n",
    "### Recall: Readability\n",
    "\n",
    "\"Code is written for humans not machines\"\n",
    "\n",
    "That is true but as a programmer you need to understand that things are binary.\n",
    "- Yes or No!\n",
    "- 0 or 1\n",
    "- Do or Not do!\n",
    "- Go or Stay!\n",
    "- Start or Do not start!\n",
    "- True of False!\n",
    "\n",
    "#### Example\n",
    "In the morning you look out the window and it either rains or does not rain!\n",
    "\n",
    "Based on that information you either bring an umbrella when you leave or not!\n",
    "\n",
    "If you bring the umbrella you either use it or not!\n",
    "\n",
    "As you see, when you interact with the world, it is binary too!"
   ]
  },
  {
   "cell_type": "markdown",
   "id": "73a6fad9",
   "metadata": {},
   "source": [
    "### Booleans are important to understand\n",
    "\n",
    "```Python\n",
    "True\n",
    "False\n",
    "```"
   ]
  },
  {
   "cell_type": "markdown",
   "id": "6b6f7d71",
   "metadata": {},
   "source": [
    "### Evaluation of boolean expressions\n",
    "\n",
    "First we have comparisons.\n",
    "\n",
    "| Comparison operator | Description | Example |\n",
    "| :-- | :-- | :-- |\n",
    "| `==` | Equal | `10 == 8 + 2` is `True` because 10 is equal to 8 + 2 |\n",
    "| `!=` | Not equal | `10 != 8 + 2` is `False` bacause 10 is equal to 8 + 2 |\n",
    "| `<` | Less than | `10 < 12` is `True` because 10 is less than 12 |\n",
    "| `<=` | Less than or equal | `10 <= 9` is `False` |\n",
    "| `>` | Greater than | `10 > 12` is `False` |\n",
    "| `>=` | Greater than or equal | `10 >= 10` is `True` |"
   ]
  },
  {
   "cell_type": "code",
   "execution_count": null,
   "id": "8da165f9",
   "metadata": {},
   "outputs": [],
   "source": []
  },
  {
   "cell_type": "code",
   "execution_count": null,
   "id": "6828fbf2",
   "metadata": {},
   "outputs": [],
   "source": []
  },
  {
   "cell_type": "markdown",
   "id": "11d07924",
   "metadata": {},
   "source": [
    "### Comparing strings\n",
    "\n",
    "```Python\n",
    "'apple' < 'pear'\n",
    "```"
   ]
  },
  {
   "cell_type": "code",
   "execution_count": 6,
   "id": "ee404724",
   "metadata": {},
   "outputs": [
    {
     "data": {
      "text/plain": [
       "True"
      ]
     },
     "execution_count": 6,
     "metadata": {},
     "output_type": "execute_result"
    }
   ],
   "source": [
    "'apple' < 'samsung'"
   ]
  },
  {
   "cell_type": "code",
   "execution_count": null,
   "id": "48ed5364",
   "metadata": {},
   "outputs": [],
   "source": []
  },
  {
   "cell_type": "markdown",
   "id": "e1e7446c",
   "metadata": {},
   "source": [
    "### Boolean operators\n",
    "\n",
    "You can combine boolean expressions if you want to check more than one thing at the time.\n",
    "\n",
    "| Operator | Description | Example |\n",
    "| :-- | :-- | :-- |\n",
    "| `and` | The expression should be true on both side | `10 > 8 and 5 > 6` is `False` because `5 > 6` is `False` |\n",
    "| `or` | The expression should be true on at least one side | `10 > 8 or 5 > 6` is `True` because `10 > 8` is `True` |\n",
    "| `not` | Negates the boolean expression followed | `not 5 > 6` is `True` because `5 > 6` is `False` |\n",
    "\n",
    "\n",
    "Another way to think of it is as follows.\n",
    "\n",
    "`(Some boolean expression) and (Some other boolean expression)`\n",
    "\n",
    "Or simplified\n",
    "\n",
    "`A and B` where `A` and `B` are boolean expressions.\n",
    "\n",
    "| `A` | `B` | `A and B` | `A or B` | `not A` |\n",
    "| --- | --- | --- | --- | --- |\n",
    "| `True` | `True` | `True` | `True` | `False` |\n",
    "| `True` | `False` | `False` | `True` | `False` |\n",
    "| `False` | `True` | `False` | `True` | `True` |\n",
    "| `False` | `False` | `False` | `False` | `True` |"
   ]
  },
  {
   "cell_type": "code",
   "execution_count": null,
   "id": "97550e36",
   "metadata": {},
   "outputs": [],
   "source": []
  },
  {
   "cell_type": "code",
   "execution_count": null,
   "id": "a45a59e9",
   "metadata": {},
   "outputs": [],
   "source": []
  },
  {
   "cell_type": "markdown",
   "id": "6c39c713",
   "metadata": {},
   "source": [
    "### The built-in function bool\n",
    "\n",
    "If you want to see what something evaluates to as a boolean\n",
    "\n",
    "```Python\n",
    "bool(0)\n",
    "bool(10)\n",
    "bool([])\n",
    "bool([False])  # This is funny\n",
    "```"
   ]
  },
  {
   "cell_type": "code",
   "execution_count": 1,
   "id": "051dc460",
   "metadata": {},
   "outputs": [
    {
     "data": {
      "text/plain": [
       "False"
      ]
     },
     "execution_count": 1,
     "metadata": {},
     "output_type": "execute_result"
    }
   ],
   "source": [
    "bool(0)"
   ]
  },
  {
   "cell_type": "code",
   "execution_count": 2,
   "id": "20109768",
   "metadata": {},
   "outputs": [
    {
     "data": {
      "text/plain": [
       "True"
      ]
     },
     "execution_count": 2,
     "metadata": {},
     "output_type": "execute_result"
    }
   ],
   "source": [
    "bool(10)"
   ]
  },
  {
   "cell_type": "code",
   "execution_count": 3,
   "id": "e1f94ba3",
   "metadata": {},
   "outputs": [
    {
     "data": {
      "text/plain": [
       "False"
      ]
     },
     "execution_count": 3,
     "metadata": {},
     "output_type": "execute_result"
    }
   ],
   "source": [
    "bool([])"
   ]
  },
  {
   "cell_type": "code",
   "execution_count": 4,
   "id": "fc09769e",
   "metadata": {},
   "outputs": [
    {
     "data": {
      "text/plain": [
       "True"
      ]
     },
     "execution_count": 4,
     "metadata": {},
     "output_type": "execute_result"
    }
   ],
   "source": [
    "bool([1])"
   ]
  },
  {
   "cell_type": "code",
   "execution_count": 5,
   "id": "8e35f231",
   "metadata": {},
   "outputs": [
    {
     "data": {
      "text/plain": [
       "True"
      ]
     },
     "execution_count": 5,
     "metadata": {},
     "output_type": "execute_result"
    }
   ],
   "source": [
    "bool([False])\n"
   ]
  },
  {
   "cell_type": "code",
   "execution_count": null,
   "id": "bc4c48ff",
   "metadata": {},
   "outputs": [],
   "source": []
  }
 ],
 "metadata": {
  "kernelspec": {
   "display_name": "Python 3 (ipykernel)",
   "language": "python",
   "name": "python3"
  },
  "language_info": {
   "codemirror_mode": {
    "name": "ipython",
    "version": 3
   },
   "file_extension": ".py",
   "mimetype": "text/x-python",
   "name": "python",
   "nbconvert_exporter": "python",
   "pygments_lexer": "ipython3",
   "version": "3.8.8"
  }
 },
 "nbformat": 4,
 "nbformat_minor": 5
}
