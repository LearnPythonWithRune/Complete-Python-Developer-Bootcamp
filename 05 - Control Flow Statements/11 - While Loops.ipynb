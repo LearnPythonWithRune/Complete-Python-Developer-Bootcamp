{
 "cells": [
  {
   "cell_type": "markdown",
   "id": "de79a8b3",
   "metadata": {},
   "source": [
    "# While Loops / NEED-TO-KNOW"
   ]
  },
  {
   "cell_type": "markdown",
   "id": "f9fd6d57",
   "metadata": {},
   "source": [
    "### What is a while loop in Python?\n",
    "\n",
    "A while loop runs a code block repeatedly as long as a condition is met.\n",
    "\n",
    "```Python\n",
    "while condition:\n",
    "    # Code block\n",
    "# Continue here when condition is not met\n",
    "```\n",
    "\n",
    "- To check if condition is met, means to evaluate it as a boolean expression. If it evaluates to True, the condition is met, otherwise not.\n",
    "- The while loop first evaluates the if the condition is met, then runs the block of code.\n",
    "- This is repeated until the condition is not met and the program will continue below the while loop."
   ]
  },
  {
   "cell_type": "markdown",
   "id": "1fc41cc1",
   "metadata": {},
   "source": [
    "### What is the difference of for-loop and while-loop\n",
    "\n",
    "- **for loop** You iterate over an iterable like a list (you know how many times when you enter the loop).\n",
    "- **while loop** You iterate as long as something is true (you do not necessarily know how many times when you enter the loop)."
   ]
  },
  {
   "cell_type": "markdown",
   "id": "481f9352",
   "metadata": {},
   "source": [
    "### Example of while-loop\n",
    "\n",
    "User input\n",
    "\n",
    "```Python\n",
    "\n",
    "answer = ''\n",
    "\n",
    "while answer not in ['yes', 'no']:\n",
    "    answer = input('Answer yes/no: ')\n",
    "print(answer)\n",
    "```"
   ]
  },
  {
   "cell_type": "code",
   "execution_count": 2,
   "id": "55172ade",
   "metadata": {},
   "outputs": [
    {
     "name": "stdout",
     "output_type": "stream",
     "text": [
      "Write something: \n",
      "Write something: \n",
      "Write something: \n",
      "Write something: Hello World\n",
      "Hello World\n"
     ]
    }
   ],
   "source": [
    "answer = ''\n",
    "\n",
    "while answer == '':\n",
    "    answer = input('Write something: ')\n",
    "\n",
    "print(answer)"
   ]
  },
  {
   "cell_type": "code",
   "execution_count": 4,
   "id": "996fb945",
   "metadata": {},
   "outputs": [
    {
     "name": "stdout",
     "output_type": "stream",
     "text": [
      "Answer yes/no: \n",
      "Answer yes/no: NO\n",
      "Answer yes/no: maybe\n",
      "Answer yes/no: no\n",
      "no\n"
     ]
    }
   ],
   "source": [
    "answer = ''\n",
    "\n",
    "while answer not in ['yes', 'no']:\n",
    "    answer = input('Answer yes/no: ')\n",
    "print(answer)"
   ]
  },
  {
   "cell_type": "code",
   "execution_count": 5,
   "id": "4b0bf65d",
   "metadata": {},
   "outputs": [
    {
     "name": "stdout",
     "output_type": "stream",
     "text": [
      "0\n",
      "1\n",
      "2\n",
      "3\n",
      "4\n",
      "5\n",
      "6\n",
      "7\n",
      "8\n",
      "9\n"
     ]
    }
   ],
   "source": [
    "i = 0\n",
    "\n",
    "while i < 10:\n",
    "    print(i)\n",
    "    i += 1\n"
   ]
  },
  {
   "cell_type": "code",
   "execution_count": null,
   "id": "70f71091",
   "metadata": {},
   "outputs": [],
   "source": []
  }
 ],
 "metadata": {
  "kernelspec": {
   "display_name": "Python 3 (ipykernel)",
   "language": "python",
   "name": "python3"
  },
  "language_info": {
   "codemirror_mode": {
    "name": "ipython",
    "version": 3
   },
   "file_extension": ".py",
   "mimetype": "text/x-python",
   "name": "python",
   "nbconvert_exporter": "python",
   "pygments_lexer": "ipython3",
   "version": "3.9.13"
  }
 },
 "nbformat": 4,
 "nbformat_minor": 5
}
