{
 "cells": [
  {
   "cell_type": "markdown",
   "id": "3fe407b5",
   "metadata": {},
   "source": [
    "# If-Statements / NEED-TO-KNOW"
   ]
  },
  {
   "cell_type": "markdown",
   "id": "908c5898",
   "metadata": {},
   "source": [
    "### What is an if-statement in Python?\n",
    "\n",
    "If some boolean expression is `True` then do some stuff.\n",
    "\n",
    "```Python\n",
    "if boolean expression:\n",
    "    # Code block\n",
    "    # Only run if boolean expression is True\n",
    "# Continue here\n",
    "```\n",
    "\n",
    "It decides whether certain statements need to be executed or not.\n",
    "\n",
    "```Python\n",
    "a = 11\n",
    "\n",
    "if a > 10:\n",
    "    print('a is greater than 10')\n",
    "    print('This is only executed if a is greater than 10')\n",
    "    \n",
    "print('This will always be executed')\n",
    "```"
   ]
  },
  {
   "cell_type": "code",
   "execution_count": null,
   "id": "d6fda7ac",
   "metadata": {},
   "outputs": [],
   "source": []
  },
  {
   "cell_type": "code",
   "execution_count": null,
   "id": "f3688224",
   "metadata": {},
   "outputs": [],
   "source": []
  },
  {
   "cell_type": "markdown",
   "id": "8a77c38a",
   "metadata": {},
   "source": [
    "### What is an if-else-statement in Python?\n",
    "\n",
    "```Python\n",
    "name = 'Elsebeth'\n",
    "\n",
    "if name == 'Rita':\n",
    "    print('Your name is Rita')\n",
    "else:\n",
    "    print('Your name is not Rita')\n",
    "```"
   ]
  },
  {
   "cell_type": "code",
   "execution_count": null,
   "id": "8bcb2748",
   "metadata": {},
   "outputs": [],
   "source": []
  },
  {
   "cell_type": "code",
   "execution_count": null,
   "id": "0dffe6df",
   "metadata": {},
   "outputs": [],
   "source": []
  },
  {
   "cell_type": "markdown",
   "id": "2cc882fe",
   "metadata": {},
   "source": [
    "### What is an if-elif-else-statement in Python?\n",
    "\n",
    "```Python\n",
    "loc = 'Home'\n",
    "\n",
    "if loc == 'Denmark':\n",
    "    print('Hej')\n",
    "elif loc == 'Germany':\n",
    "    print('Hallo')\n",
    "elif loc == 'Spain':\n",
    "    print('Hola')\n",
    "else:\n",
    "    print('You are lost!')\n",
    "```"
   ]
  },
  {
   "cell_type": "code",
   "execution_count": null,
   "id": "d8151492",
   "metadata": {},
   "outputs": [],
   "source": []
  },
  {
   "cell_type": "code",
   "execution_count": null,
   "id": "38136cbe",
   "metadata": {},
   "outputs": [],
   "source": []
  }
 ],
 "metadata": {
  "kernelspec": {
   "display_name": "Python 3 (ipykernel)",
   "language": "python",
   "name": "python3"
  },
  "language_info": {
   "codemirror_mode": {
    "name": "ipython",
    "version": 3
   },
   "file_extension": ".py",
   "mimetype": "text/x-python",
   "name": "python",
   "nbconvert_exporter": "python",
   "pygments_lexer": "ipython3",
   "version": "3.8.8"
  }
 },
 "nbformat": 4,
 "nbformat_minor": 5
}
