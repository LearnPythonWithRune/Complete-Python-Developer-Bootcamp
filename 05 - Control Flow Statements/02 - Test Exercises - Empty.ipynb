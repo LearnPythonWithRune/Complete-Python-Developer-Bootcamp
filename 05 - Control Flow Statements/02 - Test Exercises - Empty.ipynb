{
 "cells": [
  {
   "cell_type": "markdown",
   "id": "803b56e3",
   "metadata": {},
   "source": [
    "# Test Exercises"
   ]
  },
  {
   "cell_type": "markdown",
   "id": "2be0535d",
   "metadata": {},
   "source": [
    "### Exercise 1\n",
    "\n",
    "1. Make two variables `a` and `b` and assign them to integers values, e.g., `45` and `55`\n",
    "2. Print `Sum is larger than 100` if the sum of `a` and `b` is larger than `100`\n",
    "3. Change the values of `a` and `b` to test it works as expected."
   ]
  },
  {
   "cell_type": "markdown",
   "id": "3796de2e",
   "metadata": {},
   "source": [
    "#### CLICK HERE FOR HINT TO STEP 2\n",
    "\n",
    "<!--\n",
    "\n",
    "Use if-statement\n",
    "\n",
    "-->"
   ]
  },
  {
   "cell_type": "code",
   "execution_count": null,
   "id": "df8d80ea",
   "metadata": {},
   "outputs": [],
   "source": []
  },
  {
   "cell_type": "code",
   "execution_count": null,
   "id": "be6d7cf6",
   "metadata": {},
   "outputs": [],
   "source": []
  },
  {
   "cell_type": "code",
   "execution_count": null,
   "id": "c2f4328a",
   "metadata": {},
   "outputs": [],
   "source": []
  },
  {
   "cell_type": "markdown",
   "id": "6aca30d4",
   "metadata": {},
   "source": [
    "### Exercise 2\n",
    "\n",
    "In this exercise you will use an if-statement to get the absolute value of a number.\n",
    "\n",
    "Absolute value describes the distance from zero that a number is on the number line, without considering direction.\n",
    "\n",
    "#### Examples\n",
    "- Absolute value of -10 is 10\n",
    "- Absolute value of 2 is 2\n",
    "- Absolute value of -19 is 19\n",
    "- Absolute value of 100 is 100\n",
    "\n",
    "1. Create a variable `a` and assign it to `-10`\n",
    "2. Use an if-statement to change the value of `a` if needed to be the absolute value.\n",
    "3. Print the absolute value of `a`."
   ]
  },
  {
   "cell_type": "code",
   "execution_count": null,
   "id": "0ee167ce",
   "metadata": {},
   "outputs": [],
   "source": []
  },
  {
   "cell_type": "code",
   "execution_count": null,
   "id": "72074fbf",
   "metadata": {},
   "outputs": [],
   "source": []
  },
  {
   "cell_type": "code",
   "execution_count": null,
   "id": "eaede516",
   "metadata": {},
   "outputs": [],
   "source": []
  },
  {
   "cell_type": "markdown",
   "id": "f570969f",
   "metadata": {},
   "source": [
    "### Exercise 3\n",
    "1. Create a string `word = 'changes'`\n",
    "2. Write whether `word` is singular or plural.\n",
    "    - For simplicity we can assume that a word that ends with `s` is plural, if it does not end with `s` it is singular.\n",
    "3. Change `word` to `'change'` to see if the program works."
   ]
  },
  {
   "cell_type": "code",
   "execution_count": null,
   "id": "9c774e2b",
   "metadata": {},
   "outputs": [],
   "source": []
  },
  {
   "cell_type": "code",
   "execution_count": null,
   "id": "d59987e9",
   "metadata": {},
   "outputs": [],
   "source": []
  },
  {
   "cell_type": "code",
   "execution_count": null,
   "id": "7c0868c3",
   "metadata": {},
   "outputs": [],
   "source": []
  },
  {
   "cell_type": "markdown",
   "id": "4af3a93d",
   "metadata": {},
   "source": [
    "### Exercise 4 (challenging)\n",
    "1. Create a string `s = \"this is a long string and you don't know how long it is\"`\n",
    "2. Print whether the length of the string is even or odd."
   ]
  },
  {
   "cell_type": "code",
   "execution_count": null,
   "id": "541e24ed",
   "metadata": {},
   "outputs": [],
   "source": []
  },
  {
   "cell_type": "code",
   "execution_count": null,
   "id": "3e352908",
   "metadata": {},
   "outputs": [],
   "source": []
  },
  {
   "cell_type": "code",
   "execution_count": null,
   "id": "dcf2aa18",
   "metadata": {},
   "outputs": [],
   "source": []
  }
 ],
 "metadata": {
  "kernelspec": {
   "display_name": "Python 3 (ipykernel)",
   "language": "python",
   "name": "python3"
  },
  "language_info": {
   "codemirror_mode": {
    "name": "ipython",
    "version": 3
   },
   "file_extension": ".py",
   "mimetype": "text/x-python",
   "name": "python",
   "nbconvert_exporter": "python",
   "pygments_lexer": "ipython3",
   "version": "3.9.13"
  }
 },
 "nbformat": 4,
 "nbformat_minor": 5
}
