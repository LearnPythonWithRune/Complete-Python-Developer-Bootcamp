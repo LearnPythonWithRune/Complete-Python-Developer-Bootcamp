{
 "cells": [
  {
   "cell_type": "markdown",
   "id": "c1c8ed6a",
   "metadata": {},
   "source": [
    "# Specialization Exercises"
   ]
  },
  {
   "cell_type": "markdown",
   "id": "8910429a",
   "metadata": {},
   "source": [
    "### Exercise 1\n",
    "\n",
    "Given a list of names `names = ['Anna', 'Walter', 'Eric', 'Susan', 'Oscar', 'Michael', 'Esther']`\n",
    "\n",
    "Use list comprehension to create a list of the first letters of the names."
   ]
  },
  {
   "cell_type": "code",
   "execution_count": null,
   "id": "aaee2274",
   "metadata": {},
   "outputs": [],
   "source": []
  },
  {
   "cell_type": "code",
   "execution_count": null,
   "id": "44512bfc",
   "metadata": {},
   "outputs": [],
   "source": []
  },
  {
   "cell_type": "markdown",
   "id": "31886c1b",
   "metadata": {},
   "source": [
    "### Exercise 2\n",
    "\n",
    "Given the list `l = ['a', 'b', 'aa', 'aaa', 'nnn', 'baba']`\n",
    "\n",
    "Use list comprehension to create a list of the lengths of the strings."
   ]
  },
  {
   "cell_type": "code",
   "execution_count": null,
   "id": "d54f1633",
   "metadata": {},
   "outputs": [],
   "source": []
  },
  {
   "cell_type": "code",
   "execution_count": null,
   "id": "e17908f9",
   "metadata": {},
   "outputs": [],
   "source": []
  },
  {
   "cell_type": "markdown",
   "id": "08be950d",
   "metadata": {},
   "source": [
    "### Exercise 3\n",
    "\n",
    "Given the list `names = ['Amanda Nunes', 'Ronda', 'Francis Ngannou', 'Alex']`\n",
    "\n",
    "Filter all the `names` that are only first names (if only one you can assume it is a first name)."
   ]
  },
  {
   "cell_type": "code",
   "execution_count": 1,
   "id": "c3c57839",
   "metadata": {},
   "outputs": [],
   "source": [
    "names = ['Amanda Nunes', 'Ronda', 'Francis Ngannou', 'Alex']\n",
    "\n",
    "only_first_names = [item for item in names if ' ' not in item]"
   ]
  },
  {
   "cell_type": "code",
   "execution_count": 2,
   "id": "81e654b1",
   "metadata": {},
   "outputs": [
    {
     "data": {
      "text/plain": [
       "['Ronda', 'Alex']"
      ]
     },
     "execution_count": 2,
     "metadata": {},
     "output_type": "execute_result"
    }
   ],
   "source": [
    "only_first_names"
   ]
  },
  {
   "cell_type": "code",
   "execution_count": null,
   "id": "7245a0f2",
   "metadata": {},
   "outputs": [],
   "source": []
  }
 ],
 "metadata": {
  "kernelspec": {
   "display_name": "Python 3 (ipykernel)",
   "language": "python",
   "name": "python3"
  },
  "language_info": {
   "codemirror_mode": {
    "name": "ipython",
    "version": 3
   },
   "file_extension": ".py",
   "mimetype": "text/x-python",
   "name": "python",
   "nbconvert_exporter": "python",
   "pygments_lexer": "ipython3",
   "version": "3.8.8"
  }
 },
 "nbformat": 4,
 "nbformat_minor": 5
}
