{
 "cells": [
  {
   "cell_type": "markdown",
   "id": "c95884f9",
   "metadata": {},
   "source": [
    "# Specialization Exercises"
   ]
  },
  {
   "cell_type": "markdown",
   "id": "8f1cb107",
   "metadata": {},
   "source": [
    "### Exercise 1\n",
    "\n",
    "Broken bridge.\n",
    "\n",
    "- A safe bridge contains any number of `#` without any space, e.g., `########`\n",
    "- A broken bridge is a bridge with a space, e.g., `#### #########`\n",
    "\n",
    "1. Create a variable `bridge` and assign it to a bridge.\n",
    "2. Print whether the bridge is broken or not.\n",
    "3. Change `bridge` to validate it works as expected."
   ]
  },
  {
   "cell_type": "code",
   "execution_count": null,
   "id": "a1018817",
   "metadata": {},
   "outputs": [],
   "source": []
  },
  {
   "cell_type": "code",
   "execution_count": null,
   "id": "9769da99",
   "metadata": {},
   "outputs": [],
   "source": []
  },
  {
   "cell_type": "code",
   "execution_count": null,
   "id": "13c71676",
   "metadata": {},
   "outputs": [],
   "source": []
  },
  {
   "cell_type": "markdown",
   "id": "606882b5",
   "metadata": {},
   "source": [
    "### Exercise 2\n",
    "\n",
    "Create a program that takes a string and changes the word **amazing** to **not amazing**. Return the string without any change if the word **Python** is part of the string.\n",
    "\n",
    "#### Examples\n",
    "- 'Python is amazing' ➞ 'Python is amazing'\n",
    "- 'Infinity is amazing' ➞ 'Infinity is not amazing'"
   ]
  },
  {
   "cell_type": "code",
   "execution_count": null,
   "id": "4cd1a71a",
   "metadata": {},
   "outputs": [],
   "source": []
  },
  {
   "cell_type": "code",
   "execution_count": null,
   "id": "1119e12d",
   "metadata": {},
   "outputs": [],
   "source": []
  },
  {
   "cell_type": "code",
   "execution_count": null,
   "id": "8d12246d",
   "metadata": {},
   "outputs": [],
   "source": []
  },
  {
   "cell_type": "markdown",
   "id": "9f6dada0",
   "metadata": {},
   "source": [
    "### Exercise 3 (Challenging)\n",
    "\n",
    "Check if a list contains the last item twice or more.\n",
    "\n",
    "#### Examples\n",
    "- `[4, 3, 2, 1, 2, 3, 4]` ➞ `True`\n",
    "- `[1, 2, 3, 4]` ➞ `False`\n",
    "- `[1, 1, 1, 2]` ➞ `False`\n",
    "- `[1, 2, 2, 2]` ➞ `True`"
   ]
  },
  {
   "cell_type": "code",
   "execution_count": null,
   "id": "9a3727dc",
   "metadata": {},
   "outputs": [],
   "source": []
  },
  {
   "cell_type": "code",
   "execution_count": null,
   "id": "28ba6858",
   "metadata": {},
   "outputs": [],
   "source": []
  },
  {
   "cell_type": "code",
   "execution_count": null,
   "id": "495c2c26",
   "metadata": {},
   "outputs": [],
   "source": []
  }
 ],
 "metadata": {
  "kernelspec": {
   "display_name": "Python 3 (ipykernel)",
   "language": "python",
   "name": "python3"
  },
  "language_info": {
   "codemirror_mode": {
    "name": "ipython",
    "version": 3
   },
   "file_extension": ".py",
   "mimetype": "text/x-python",
   "name": "python",
   "nbconvert_exporter": "python",
   "pygments_lexer": "ipython3",
   "version": "3.9.13"
  }
 },
 "nbformat": 4,
 "nbformat_minor": 5
}
