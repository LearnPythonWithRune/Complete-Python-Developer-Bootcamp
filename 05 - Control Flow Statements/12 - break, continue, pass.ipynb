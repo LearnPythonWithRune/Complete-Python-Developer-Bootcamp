{
 "cells": [
  {
   "cell_type": "markdown",
   "id": "acd83a8f",
   "metadata": {},
   "source": [
    "# break, continue, pass / NEED-TO-KNOW"
   ]
  },
  {
   "cell_type": "markdown",
   "id": "f259db4b",
   "metadata": {},
   "source": [
    "### What is break in Python?\n",
    "\n",
    "**break** will break out of a loop.\n",
    "\n",
    "```Python\n",
    "l = [1, 2, 3, 4, 5]\n",
    "\n",
    "for item in l:\n",
    "    if item > 3:\n",
    "        break\n",
    "    print(item)\n",
    "```\n",
    "\n",
    "```Python\n",
    "while True:\n",
    "    print('Welcome')\n",
    "    answer = input('Want to continue (yes/no)? ')\n",
    "    if answer == 'no':\n",
    "        print('goodbye')\n",
    "        break\n",
    "```"
   ]
  },
  {
   "cell_type": "code",
   "execution_count": 1,
   "id": "3e8c61db",
   "metadata": {},
   "outputs": [
    {
     "name": "stdout",
     "output_type": "stream",
     "text": [
      "1\n",
      "2\n",
      "3\n"
     ]
    }
   ],
   "source": [
    "l = [1, 2, 3, 4, 5]\n",
    "\n",
    "for item in l:\n",
    "    if item > 3:\n",
    "        break\n",
    "    print(item)"
   ]
  },
  {
   "cell_type": "code",
   "execution_count": 3,
   "id": "4fadfe74",
   "metadata": {},
   "outputs": [
    {
     "name": "stdout",
     "output_type": "stream",
     "text": [
      "Welcome\n",
      "Want to continue (yes/no)? yes\n",
      "Awesome!\n",
      "Welcome\n",
      "Want to continue (yes/no)? maybe\n",
      "Welcome\n",
      "Want to continue (yes/no)? yes\n",
      "Awesome!\n",
      "Welcome\n",
      "Want to continue (yes/no)? no\n",
      "goodbye\n"
     ]
    }
   ],
   "source": [
    "while True:\n",
    "    print('Welcome')\n",
    "    answer = input('Want to continue (yes/no)? ')\n",
    "    if answer == 'no':\n",
    "        print('goodbye')\n",
    "        break\n",
    "    elif answer == 'yes':\n",
    "        print('Awesome!')"
   ]
  },
  {
   "cell_type": "code",
   "execution_count": null,
   "id": "a14a4ec5",
   "metadata": {},
   "outputs": [],
   "source": []
  },
  {
   "cell_type": "code",
   "execution_count": null,
   "id": "5ca46806",
   "metadata": {},
   "outputs": [],
   "source": []
  },
  {
   "cell_type": "markdown",
   "id": "61d22eea",
   "metadata": {},
   "source": [
    "### What is continiue in Python\n",
    "\n",
    "**continue** will continue the flow at the start of the loop.\n",
    "\n",
    "```Python\n",
    "l = [1, 2, 3, 4, 5]\n",
    "\n",
    "for item in l:\n",
    "    if item in [2,4]:\n",
    "        continue\n",
    "    print(item)\n",
    "```\n",
    "\n",
    "```Python\n",
    "while True:\n",
    "    answer = input('Do you want to play (yes/no)? ')\n",
    "    if answer not in ['yes', 'no']:\n",
    "        print('I do not understand')\n",
    "        continue\n",
    "    if answer == 'no':\n",
    "        print('Goodbye')\n",
    "        break\n",
    "    print('This is the awesome game')\n",
    "```"
   ]
  },
  {
   "cell_type": "code",
   "execution_count": 4,
   "id": "9741054e",
   "metadata": {},
   "outputs": [
    {
     "name": "stdout",
     "output_type": "stream",
     "text": [
      "1\n",
      "3\n",
      "5\n"
     ]
    }
   ],
   "source": [
    "l = [1, 2, 3, 4, 5]\n",
    "\n",
    "for item in l:\n",
    "    if item in [2, 4]:\n",
    "        continue\n",
    "    print(item)"
   ]
  },
  {
   "cell_type": "code",
   "execution_count": 5,
   "id": "c9cc921c",
   "metadata": {},
   "outputs": [
    {
     "name": "stdout",
     "output_type": "stream",
     "text": [
      "Do you want to play (yes/no)? foo\n",
      "I do not understand\n",
      "Do you want to play (yes/no)? bar\n",
      "I do not understand\n",
      "Do you want to play (yes/no)? yes\n",
      "This is the awesome game\n",
      "Do you want to play (yes/no)? no\n",
      "Goodbye\n"
     ]
    }
   ],
   "source": [
    "while True:\n",
    "    answer = input('Do you want to play (yes/no)? ')\n",
    "    if answer not in ['yes', 'no']:\n",
    "        print('I do not understand')\n",
    "        continue\n",
    "    if answer == 'no':\n",
    "        print('Goodbye')\n",
    "        break\n",
    "    print('This is the awesome game')"
   ]
  },
  {
   "cell_type": "code",
   "execution_count": null,
   "id": "d1e13405",
   "metadata": {},
   "outputs": [],
   "source": []
  },
  {
   "cell_type": "markdown",
   "id": "50f40c8b",
   "metadata": {},
   "source": [
    "### What is pass in Python?\n",
    "\n",
    "**pass** is a placeholder for future code.\n",
    "\n",
    "```Python\n",
    "for i in range(10):\n",
    "    # This code will fail\n",
    "\n",
    "for i in range(10):\n",
    "    pass  # This is okay\n",
    "```"
   ]
  },
  {
   "cell_type": "code",
   "execution_count": 6,
   "id": "a78e40eb",
   "metadata": {},
   "outputs": [
    {
     "ename": "IndentationError",
     "evalue": "expected an indented block (80759467.py, line 2)",
     "output_type": "error",
     "traceback": [
      "\u001b[0;36m  File \u001b[0;32m\"/var/folders/5f/vgbh9pkd4wzf4ysrpf9wsr800000gn/T/ipykernel_65149/80759467.py\"\u001b[0;36m, line \u001b[0;32m2\u001b[0m\n\u001b[0;31m    # This code will fail\u001b[0m\n\u001b[0m                         ^\u001b[0m\n\u001b[0;31mIndentationError\u001b[0m\u001b[0;31m:\u001b[0m expected an indented block\n"
     ]
    }
   ],
   "source": [
    "for i in range(10):\n",
    "    # This code will fail"
   ]
  },
  {
   "cell_type": "code",
   "execution_count": 8,
   "id": "40c62336",
   "metadata": {},
   "outputs": [
    {
     "name": "stdout",
     "output_type": "stream",
     "text": [
      "Code continues here\n"
     ]
    }
   ],
   "source": [
    "for i in range(10):\n",
    "    # This code will fail\n",
    "    pass\n",
    "\n",
    "print('Code continues here')"
   ]
  },
  {
   "cell_type": "code",
   "execution_count": null,
   "id": "0f754a39",
   "metadata": {},
   "outputs": [],
   "source": []
  }
 ],
 "metadata": {
  "kernelspec": {
   "display_name": "Python 3 (ipykernel)",
   "language": "python",
   "name": "python3"
  },
  "language_info": {
   "codemirror_mode": {
    "name": "ipython",
    "version": 3
   },
   "file_extension": ".py",
   "mimetype": "text/x-python",
   "name": "python",
   "nbconvert_exporter": "python",
   "pygments_lexer": "ipython3",
   "version": "3.9.13"
  }
 },
 "nbformat": 4,
 "nbformat_minor": 5
}
