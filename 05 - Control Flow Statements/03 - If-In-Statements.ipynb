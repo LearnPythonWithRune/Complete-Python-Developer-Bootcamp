{
 "cells": [
  {
   "cell_type": "markdown",
   "id": "3827a088",
   "metadata": {},
   "source": [
    "# If-In-Statements / NICE-TO-KNOW"
   ]
  },
  {
   "cell_type": "markdown",
   "id": "6c84a878",
   "metadata": {},
   "source": [
    "### What is an if-in-statement in Python?\n",
    "\n",
    "Check if an item is in a list.\n",
    "\n",
    "```Python\n",
    "l = ['a', 'b', 'c']\n",
    "if 'a' in l:\n",
    "    print('the list contains a')\n",
    "```"
   ]
  },
  {
   "cell_type": "code",
   "execution_count": 5,
   "id": "f8027d9d",
   "metadata": {},
   "outputs": [
    {
     "name": "stdout",
     "output_type": "stream",
     "text": [
      "the list contains a\n"
     ]
    }
   ],
   "source": [
    "l = ['a', 'b', 'c']\n",
    "\n",
    "if 'a' in l:\n",
    "    print('the list contains a')\n",
    "else:\n",
    "    print('the list does not contain a')"
   ]
  },
  {
   "cell_type": "code",
   "execution_count": null,
   "id": "7f2b8a3d",
   "metadata": {},
   "outputs": [],
   "source": []
  },
  {
   "cell_type": "markdown",
   "id": "faa23ed1",
   "metadata": {},
   "source": [
    "### Check if sub-string\n",
    "\n",
    "```Python\n",
    "s = 'this is my racecar'\n",
    "\n",
    "if 'race' in s:\n",
    "    print('this is a race')\n",
    "```"
   ]
  },
  {
   "cell_type": "code",
   "execution_count": 12,
   "id": "7af30650",
   "metadata": {},
   "outputs": [
    {
     "name": "stdout",
     "output_type": "stream",
     "text": [
      "this is a race\n"
     ]
    }
   ],
   "source": [
    "s = 'this is my racecar'\n",
    "\n",
    "if 'race' in s:\n",
    "    print('this is a race')"
   ]
  },
  {
   "cell_type": "code",
   "execution_count": null,
   "id": "209030f2",
   "metadata": {},
   "outputs": [],
   "source": []
  },
  {
   "cell_type": "markdown",
   "id": "33153c76",
   "metadata": {},
   "source": [
    "### Check if key in dict\n",
    "\n",
    "```Python\n",
    "d = {'key-1': 'value 1', 'key-2': 'value 2'}\n",
    "\n",
    "if 'key-1' in d:\n",
    "    print('The dictionary contains key key-1')\n",
    "```"
   ]
  },
  {
   "cell_type": "code",
   "execution_count": 16,
   "id": "54336852",
   "metadata": {},
   "outputs": [
    {
     "name": "stdout",
     "output_type": "stream",
     "text": [
      "the dictionary contains the key\n"
     ]
    }
   ],
   "source": [
    "d = {\n",
    "    'key-1': 'value 1',\n",
    "    'key-2': 'value 2'\n",
    "}\n",
    "\n",
    "if 'key-2' in d:\n",
    "    print('the dictionary contains the key')\n",
    "else:\n",
    "    print('the dictionary does not contain the key')"
   ]
  },
  {
   "cell_type": "code",
   "execution_count": null,
   "id": "12d0c287",
   "metadata": {},
   "outputs": [],
   "source": []
  },
  {
   "cell_type": "code",
   "execution_count": null,
   "id": "3e9a64b2",
   "metadata": {},
   "outputs": [],
   "source": []
  }
 ],
 "metadata": {
  "kernelspec": {
   "display_name": "Python 3 (ipykernel)",
   "language": "python",
   "name": "python3"
  },
  "language_info": {
   "codemirror_mode": {
    "name": "ipython",
    "version": 3
   },
   "file_extension": ".py",
   "mimetype": "text/x-python",
   "name": "python",
   "nbconvert_exporter": "python",
   "pygments_lexer": "ipython3",
   "version": "3.9.13"
  }
 },
 "nbformat": 4,
 "nbformat_minor": 5
}
