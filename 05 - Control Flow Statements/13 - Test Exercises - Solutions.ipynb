{
 "cells": [
  {
   "cell_type": "markdown",
   "id": "94b94e8e",
   "metadata": {},
   "source": [
    "# Test Exercises"
   ]
  },
  {
   "cell_type": "markdown",
   "id": "217f00f5",
   "metadata": {},
   "source": [
    "### Exercise 1\n",
    "\n",
    "Create a simple while loop for counting from 0 to 9.\n",
    "\n",
    "1. Create a counter variable `counter` and assign it to `0`\n",
    "2. Make a while loop that checks whether `counter` is less than 10.\n",
    "3. Print the value of `counter`\n",
    "4. Increment the `counter` by one."
   ]
  },
  {
   "cell_type": "code",
   "execution_count": 1,
   "id": "974d7054",
   "metadata": {},
   "outputs": [
    {
     "name": "stdout",
     "output_type": "stream",
     "text": [
      "0\n",
      "1\n",
      "2\n",
      "3\n",
      "4\n",
      "5\n",
      "6\n",
      "7\n",
      "8\n",
      "9\n"
     ]
    }
   ],
   "source": [
    "counter = 0\n",
    "\n",
    "while counter < 10:\n",
    "    print(counter)\n",
    "    counter += 1"
   ]
  },
  {
   "cell_type": "code",
   "execution_count": 2,
   "id": "db5782f1",
   "metadata": {},
   "outputs": [
    {
     "name": "stdout",
     "output_type": "stream",
     "text": [
      "0\n",
      "1\n",
      "2\n",
      "3\n",
      "4\n",
      "5\n",
      "6\n",
      "7\n",
      "8\n",
      "9\n"
     ]
    }
   ],
   "source": [
    "for counter in range(10):\n",
    "    print(counter)"
   ]
  },
  {
   "cell_type": "code",
   "execution_count": null,
   "id": "255befa2",
   "metadata": {},
   "outputs": [],
   "source": []
  },
  {
   "cell_type": "markdown",
   "id": "de6faceb",
   "metadata": {},
   "source": [
    "### Exercise 2\n",
    "\n",
    "Create a loop that inputs numbers and ads them together, when the sum is larger than 100 stop.\n",
    "\n",
    "1. Create a variable `total` and assign it to `0`\n",
    "2. Make a while loop that checks whether `total` is less than `100`\n",
    "3. In the while loop input a number from the user and add to `total`"
   ]
  },
  {
   "cell_type": "code",
   "execution_count": 7,
   "id": "dc5642ba",
   "metadata": {},
   "outputs": [
    {
     "name": "stdout",
     "output_type": "stream",
     "text": [
      "Input number: 99\n",
      "99\n",
      "Input number: 101\n",
      "200\n"
     ]
    }
   ],
   "source": [
    "total = 0\n",
    "\n",
    "while total < 100:\n",
    "    number_str = input('Input number: ')\n",
    "    number = int(number_str)\n",
    "    total += number\n",
    "    print(total)"
   ]
  },
  {
   "cell_type": "code",
   "execution_count": null,
   "id": "a4eabe92",
   "metadata": {},
   "outputs": [],
   "source": []
  },
  {
   "cell_type": "code",
   "execution_count": null,
   "id": "cba11b2c",
   "metadata": {},
   "outputs": [],
   "source": []
  },
  {
   "cell_type": "markdown",
   "id": "4c56b544",
   "metadata": {},
   "source": [
    "### Exercise 3 (challenging)\n",
    "\n",
    "You should create a small program that inputs items from an user, after the user is done it should print the frequency of each item added.\n",
    "\n",
    "#### Example\n",
    "- If user inputs `foo`, `foo`, `bar`, `foo`, `bar`\n",
    "- The program should output: `foo 3` and `bar 2`"
   ]
  },
  {
   "cell_type": "markdown",
   "id": "94d69391",
   "metadata": {},
   "source": [
    "#### DOUBLE CLICK HERE IF YOU WANT HINTS\n",
    "\n",
    "<!--\n",
    "\n",
    "Think in 3 phases of the program.\n",
    "1. First input from user.\n",
    "2. Then count the frequencies of items.\n",
    "3. Then print the frequencies.\n",
    "\n",
    "Each phase requires a loop (for or while).\n",
    "-->"
   ]
  },
  {
   "cell_type": "code",
   "execution_count": 8,
   "id": "8c10e86c",
   "metadata": {},
   "outputs": [
    {
     "name": "stdout",
     "output_type": "stream",
     "text": [
      "Add item (empty terminates): foo\n",
      "Add item (empty terminates): foo\n",
      "Add item (empty terminates): bar\n",
      "Add item (empty terminates): foo\n",
      "Add item (empty terminates): bar\n",
      "Add item (empty terminates): \n",
      "foo 3\n",
      "bar 2\n"
     ]
    }
   ],
   "source": [
    "items = {}\n",
    "\n",
    "while True:\n",
    "    item = input('Add item (empty terminates): ')\n",
    "    if item == '':\n",
    "        break\n",
    "    items[item] = items.get(item, 0) + 1\n",
    "    \n",
    "for key, value in items.items():\n",
    "    print(key, value)"
   ]
  },
  {
   "cell_type": "code",
   "execution_count": 9,
   "id": "b0015d1e",
   "metadata": {},
   "outputs": [
    {
     "data": {
      "text/plain": [
       "{'foo': 3, 'bar': 2}"
      ]
     },
     "execution_count": 9,
     "metadata": {},
     "output_type": "execute_result"
    }
   ],
   "source": [
    "items"
   ]
  },
  {
   "cell_type": "code",
   "execution_count": null,
   "id": "f7ec06a0",
   "metadata": {},
   "outputs": [],
   "source": []
  }
 ],
 "metadata": {
  "kernelspec": {
   "display_name": "Python 3 (ipykernel)",
   "language": "python",
   "name": "python3"
  },
  "language_info": {
   "codemirror_mode": {
    "name": "ipython",
    "version": 3
   },
   "file_extension": ".py",
   "mimetype": "text/x-python",
   "name": "python",
   "nbconvert_exporter": "python",
   "pygments_lexer": "ipython3",
   "version": "3.9.13"
  }
 },
 "nbformat": 4,
 "nbformat_minor": 5
}
