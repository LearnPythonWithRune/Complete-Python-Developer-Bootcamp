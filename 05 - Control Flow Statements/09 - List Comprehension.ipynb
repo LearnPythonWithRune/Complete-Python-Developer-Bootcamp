{
 "cells": [
  {
   "cell_type": "markdown",
   "id": "1de468ad",
   "metadata": {},
   "source": [
    "# List Comprehension / NICE-TO-KNOW"
   ]
  },
  {
   "cell_type": "markdown",
   "id": "320a935b",
   "metadata": {},
   "source": [
    "### What is list comprehension in Python?\n",
    "\n",
    "List comprehension in Python is a way of creating lists from the ones that already exist."
   ]
  },
  {
   "cell_type": "markdown",
   "id": "2d695297",
   "metadata": {},
   "source": [
    "### What list comprehensions do\n",
    "\n",
    "Turns code similar to this\n",
    "```Python\n",
    "l1 = [1, 2, 3, 4, 5]\n",
    "\n",
    "l2 = []\n",
    "\n",
    "for item in l1:\n",
    "    l2.append(item + 2)\n",
    "```\n",
    "\n",
    "Into this code\n",
    "```Python\n",
    "l1 = [1, 2, 3, 4, 5]\n",
    "\n",
    "l2 = [item + 2 for item in l1]\n",
    "```"
   ]
  },
  {
   "cell_type": "code",
   "execution_count": null,
   "id": "635770ce",
   "metadata": {},
   "outputs": [],
   "source": []
  },
  {
   "cell_type": "markdown",
   "id": "7dd7bf92",
   "metadata": {},
   "source": [
    "### List comprehension as filter\n",
    "\n",
    "If you want all elements less than 5\n",
    "```Python\n",
    "l1 = [9, 1, 8, 2, 7, 3, 6, 4, 5]\n",
    "\n",
    "l2 = []\n",
    "\n",
    "for item in l1:\n",
    "    if item < 5:\n",
    "        l2.append(item)\n",
    "```\n",
    "\n",
    "Then list comprehension can do it.\n",
    "```Python\n",
    "l1 = [9, 1, 8, 2, 7, 3, 6, 4, 5]\n",
    "\n",
    "l2 = [item for item in l1 if item < 5]\n",
    "```"
   ]
  },
  {
   "cell_type": "code",
   "execution_count": 1,
   "id": "b5a621f5",
   "metadata": {},
   "outputs": [],
   "source": [
    "l1 = [9, 1, 8, 2, 7, 3, 6, 4, 5]\n",
    "l1 = [item for item in l1 if item < 5]"
   ]
  },
  {
   "cell_type": "code",
   "execution_count": 3,
   "id": "b0025dce",
   "metadata": {},
   "outputs": [
    {
     "data": {
      "text/plain": [
       "[1, 2, 3, 4]"
      ]
     },
     "execution_count": 3,
     "metadata": {},
     "output_type": "execute_result"
    }
   ],
   "source": [
    "l1 = [9, 1, 8, 2, 7, 3, 6, 4, 5]\n",
    "\n",
    "l2 = []\n",
    "\n",
    "for item in l1:\n",
    "    if item < 5:\n",
    "        l2.append(item)\n",
    "l2"
   ]
  },
  {
   "cell_type": "markdown",
   "id": "07a8d22f",
   "metadata": {},
   "source": [
    "### Advanced\n",
    "\n",
    "You can have if-else statements.\n",
    "```Python\n",
    "l1 = [9, 1, 8, 2, 7, 3, 6, 4, 5]\n",
    "\n",
    "l2 = []\n",
    "\n",
    "for item in l1:\n",
    "    if item < 5:\n",
    "        l2.append(item)\n",
    "    else:\n",
    "        l2.append(5)\n",
    "```\n",
    "\n",
    "In list comprehension\n",
    "```Python\n",
    "l1 = [9, 1, 8, 2, 7, 3, 6, 4, 5]\n",
    "\n",
    "l2 = [item if item < 5 else 5 for item in l1]\n",
    "```"
   ]
  },
  {
   "cell_type": "code",
   "execution_count": 4,
   "id": "25f9fc78",
   "metadata": {},
   "outputs": [
    {
     "data": {
      "text/plain": [
       "[5, 1, 5, 2, 5, 3, 5, 4, 5]"
      ]
     },
     "execution_count": 4,
     "metadata": {},
     "output_type": "execute_result"
    }
   ],
   "source": [
    "l1 = [9, 1, 8, 2, 7, 3, 6, 4, 5]\n",
    "\n",
    "l2 = [item if item < 5 else 5 for item in l1]\n",
    "l2"
   ]
  },
  {
   "cell_type": "code",
   "execution_count": 5,
   "id": "5c1f1bdf",
   "metadata": {},
   "outputs": [
    {
     "data": {
      "text/plain": [
       "[5, 1, 5, 2, 5, 3, 5, 4, 5]"
      ]
     },
     "execution_count": 5,
     "metadata": {},
     "output_type": "execute_result"
    }
   ],
   "source": [
    "l1 = [9, 1, 8, 2, 7, 3, 6, 4, 5]\n",
    "\n",
    "l2 = []\n",
    "\n",
    "for item in l1:\n",
    "    if item < 5:\n",
    "        l2.append(item)\n",
    "    else:\n",
    "        l2.append(5)\n",
    "l2"
   ]
  },
  {
   "cell_type": "code",
   "execution_count": null,
   "id": "5efa2f38",
   "metadata": {},
   "outputs": [],
   "source": []
  }
 ],
 "metadata": {
  "kernelspec": {
   "display_name": "Python 3 (ipykernel)",
   "language": "python",
   "name": "python3"
  },
  "language_info": {
   "codemirror_mode": {
    "name": "ipython",
    "version": 3
   },
   "file_extension": ".py",
   "mimetype": "text/x-python",
   "name": "python",
   "nbconvert_exporter": "python",
   "pygments_lexer": "ipython3",
   "version": "3.8.8"
  }
 },
 "nbformat": 4,
 "nbformat_minor": 5
}
