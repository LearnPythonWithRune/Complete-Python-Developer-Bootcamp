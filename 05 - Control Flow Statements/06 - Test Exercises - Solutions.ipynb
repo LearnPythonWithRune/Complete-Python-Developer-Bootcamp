{
 "cells": [
  {
   "cell_type": "markdown",
   "id": "fc01b3bc",
   "metadata": {},
   "source": [
    "# Test Exercises"
   ]
  },
  {
   "cell_type": "markdown",
   "id": "63be44ff",
   "metadata": {},
   "source": [
    "### Exercise 1\n",
    "\n",
    "Sum integers of a list.\n",
    "\n",
    "#### Example\n",
    "- `[1, 2, 3, 4]` ➞ `10`\n",
    "\n",
    "1. Create a list `l = [1, 2, 3, 4]`\n",
    "2. Create a counter `counter` and assign it to zero.\n",
    "3. Iterate over the integers in `l` and add it to `counter`\n",
    "4. After the loop print the value of `counter`"
   ]
  },
  {
   "cell_type": "code",
   "execution_count": 3,
   "id": "f0ec255f",
   "metadata": {},
   "outputs": [
    {
     "name": "stdout",
     "output_type": "stream",
     "text": [
      "21\n"
     ]
    }
   ],
   "source": [
    "l = [1, 2, 3, 4, 5, 6]\n",
    "\n",
    "counter = 0\n",
    "\n",
    "for number in l:\n",
    "    counter = counter + number  # counter += number\n",
    "\n",
    "print(counter)"
   ]
  },
  {
   "cell_type": "code",
   "execution_count": 4,
   "id": "0ce6f45d",
   "metadata": {},
   "outputs": [
    {
     "data": {
      "text/plain": [
       "21"
      ]
     },
     "execution_count": 4,
     "metadata": {},
     "output_type": "execute_result"
    }
   ],
   "source": [
    "sum(l)"
   ]
  },
  {
   "cell_type": "code",
   "execution_count": null,
   "id": "0e82eb21",
   "metadata": {},
   "outputs": [],
   "source": []
  },
  {
   "cell_type": "markdown",
   "id": "31bda855",
   "metadata": {},
   "source": [
    "### Exercise 2\n",
    "\n",
    "Take a string and output the words alphabetically.\n",
    "\n",
    "#### Example \n",
    "- `'this is just a simple string'` ➞ `a`, `is`, `just`, `simple`, `string`, `this`\n",
    "\n",
    "1. Assign a string `s = 'this is just a simple string'`\n",
    "2. Convert the string to a list of words.\n",
    "3. Sort the list alphabetically.\n",
    "4. Iterate over the list and print each word."
   ]
  },
  {
   "cell_type": "markdown",
   "id": "02110566",
   "metadata": {},
   "source": [
    "#### CLICK HERE FOR HINT TO STEP 2\n",
    "\n",
    "<!--\n",
    "\n",
    "Use split()\n",
    "\n",
    "-->"
   ]
  },
  {
   "cell_type": "markdown",
   "id": "83cf7056",
   "metadata": {},
   "source": [
    "#### CLICK HERE FOR HINT TO STEP 3\n",
    "\n",
    "<!--\n",
    "\n",
    "The method sort() on a list sorts strings alphabetially.\n",
    "\n",
    "-->"
   ]
  },
  {
   "cell_type": "code",
   "execution_count": 11,
   "id": "3344f7f3",
   "metadata": {},
   "outputs": [
    {
     "name": "stdout",
     "output_type": "stream",
     "text": [
      "a\n",
      "is\n",
      "just\n",
      "simple\n",
      "string\n",
      "this\n"
     ]
    }
   ],
   "source": [
    "s = 'this is just a simple string'\n",
    "\n",
    "words = s.split()\n",
    "\n",
    "words.sort()\n",
    "\n",
    "for word in words:\n",
    "    print(word)"
   ]
  },
  {
   "cell_type": "code",
   "execution_count": null,
   "id": "d4bbdd8c",
   "metadata": {},
   "outputs": [],
   "source": []
  },
  {
   "cell_type": "code",
   "execution_count": null,
   "id": "17e86eaf",
   "metadata": {},
   "outputs": [],
   "source": []
  },
  {
   "cell_type": "markdown",
   "id": "12281d16",
   "metadata": {},
   "source": [
    "### Exercise 3\n",
    "\n",
    "Count the occurences of items in a list.\n",
    "\n",
    "Recall how you can use a dictionary to keep record. Try the code below to understand it.\n",
    "\n",
    "```Python\n",
    "count = {}\n",
    "\n",
    "count['word'] = count.get('word', 0) + 1\n",
    "```\n",
    "\n",
    "What you need to do.\n",
    "1. Create a list `l = ['I', 'am', 'I', 'was']`\n",
    "2. Create an empty dict `count`\n",
    "3. Iterate over the list `l` and update `count`\n",
    "4. After the loop iterate over the key-value pairs of `count` and print them."
   ]
  },
  {
   "cell_type": "code",
   "execution_count": 13,
   "id": "f080bee5",
   "metadata": {},
   "outputs": [
    {
     "name": "stdout",
     "output_type": "stream",
     "text": [
      "I 2\n",
      "am 1\n",
      "was 1\n"
     ]
    }
   ],
   "source": [
    "l = ['I', 'am', 'I', 'was']\n",
    "\n",
    "count = {}\n",
    "\n",
    "for word in l:\n",
    "    count[word] = count.get(word, 0) + 1\n",
    "\n",
    "for word, word_count in count.items():\n",
    "    print(word, word_count)"
   ]
  },
  {
   "cell_type": "code",
   "execution_count": null,
   "id": "cc1cd59c",
   "metadata": {},
   "outputs": [],
   "source": []
  },
  {
   "cell_type": "code",
   "execution_count": null,
   "id": "1b4c9651",
   "metadata": {},
   "outputs": [],
   "source": []
  },
  {
   "cell_type": "markdown",
   "id": "0406ac3c",
   "metadata": {},
   "source": [
    "### Exercise 4\n",
    "\n",
    "We will make a [substitution cipher](https://en.wikipedia.org/wiki/Substitution_cipher).\n",
    "\n",
    "A substitution cipher changes a letter to another one.\n",
    "\n",
    "We can do that easy with a dict containing the substitution.\n",
    "\n",
    "```Python\n",
    "encryption = {\n",
    "    'a': 'W',\n",
    "    'b': 'Y',\n",
    "    'c': 'F',\n",
    "    'd': 'M',\n",
    "    'e': 'V',\n",
    "    'f': 'J',\n",
    "    'g': 'X',\n",
    "    'h': 'C',\n",
    "    'i': 'A',\n",
    "    'j': 'R',\n",
    "    'k': 'U',\n",
    "    'l': 'P',\n",
    "    'm': 'K',\n",
    "    'n': 'I',\n",
    "    'o': 'T',\n",
    "    'p': 'Z',\n",
    "    'q': 'B',\n",
    "    'r': 'E',\n",
    "    's': 'H',\n",
    "    't': 'Q',\n",
    "    'u': 'G',\n",
    "    'v': 'D',\n",
    "    'w': 'S',\n",
    "    'x': 'N',\n",
    "    'y': 'L',\n",
    "    'z': 'O'\n",
    "}\n",
    "```\n",
    "\n",
    "To use it do the following.\n",
    "1. Copy paste the dict `encryption` to the cell below.\n",
    "2. Create a string `s = 'this is something to encrypt'`\n",
    "3. Iterate over the key-value pairs in dict `encryption` and replace each key with the value.\n",
    "4. Print the string to see the result.\n",
    "5. Validate the result manually."
   ]
  },
  {
   "cell_type": "markdown",
   "id": "2446389d",
   "metadata": {},
   "source": [
    "#### CLICK HERE FOR HINT TO STEP 3\n",
    "\n",
    "<!--\n",
    "\n",
    "Use replace() on the string\n",
    "\n",
    "-->"
   ]
  },
  {
   "cell_type": "code",
   "execution_count": 15,
   "id": "1d58c920",
   "metadata": {},
   "outputs": [
    {
     "name": "stdout",
     "output_type": "stream",
     "text": [
      "QCAH AH HTKVQCAIX QT VIFELZQ\n"
     ]
    }
   ],
   "source": [
    "encryption = {\n",
    "    'a': 'W',\n",
    "    'b': 'Y',\n",
    "    'c': 'F',\n",
    "    'd': 'M',\n",
    "    'e': 'V',\n",
    "    'f': 'J',\n",
    "    'g': 'X',\n",
    "    'h': 'C',\n",
    "    'i': 'A',\n",
    "    'j': 'R',\n",
    "    'k': 'U',\n",
    "    'l': 'P',\n",
    "    'm': 'K',\n",
    "    'n': 'I',\n",
    "    'o': 'T',\n",
    "    'p': 'Z',\n",
    "    'q': 'B',\n",
    "    'r': 'E',\n",
    "    's': 'H',\n",
    "    't': 'Q',\n",
    "    'u': 'G',\n",
    "    'v': 'D',\n",
    "    'w': 'S',\n",
    "    'x': 'N',\n",
    "    'y': 'L',\n",
    "    'z': 'O'\n",
    "}\n",
    "\n",
    "s = 'this is something to encrypt'\n",
    "\n",
    "for key, value in encryption.items():\n",
    "    s = s.replace(key, value)\n",
    "\n",
    "print(s)"
   ]
  },
  {
   "cell_type": "code",
   "execution_count": null,
   "id": "c746d975",
   "metadata": {},
   "outputs": [],
   "source": []
  },
  {
   "cell_type": "code",
   "execution_count": null,
   "id": "7b3e6f5c",
   "metadata": {},
   "outputs": [],
   "source": []
  }
 ],
 "metadata": {
  "kernelspec": {
   "display_name": "Python 3 (ipykernel)",
   "language": "python",
   "name": "python3"
  },
  "language_info": {
   "codemirror_mode": {
    "name": "ipython",
    "version": 3
   },
   "file_extension": ".py",
   "mimetype": "text/x-python",
   "name": "python",
   "nbconvert_exporter": "python",
   "pygments_lexer": "ipython3",
   "version": "3.9.13"
  }
 },
 "nbformat": 4,
 "nbformat_minor": 5
}
