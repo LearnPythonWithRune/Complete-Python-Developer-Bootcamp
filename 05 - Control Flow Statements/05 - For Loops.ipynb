{
 "cells": [
  {
   "cell_type": "markdown",
   "id": "654e1d3f",
   "metadata": {},
   "source": [
    "# For Loops / NEED-TO-KNOW"
   ]
  },
  {
   "cell_type": "markdown",
   "id": "f57e5abd",
   "metadata": {},
   "source": [
    "### What is a for loop in Python?\n",
    "\n",
    "A for loop is used for iterating over a sequence (e.g., a list, dict, string).\n",
    "\n",
    "```Python\n",
    "for item in iterable:\n",
    "    # Code block\n",
    "# Continue here after the full iteration\n",
    "```\n",
    "\n",
    "### What are for loops used for?\n",
    "\n",
    "When you need to do the same task multiple times.\n",
    "\n",
    "#### Example\n",
    "- Add one to each element of a list: `[0, 1, 2]` ➞ `[1, 2, 3]`"
   ]
  },
  {
   "cell_type": "markdown",
   "id": "824487b9",
   "metadata": {},
   "source": [
    "### Iterate over a list\n",
    "\n",
    "```Python\n",
    "l = [1, 2, 3, 4]\n",
    "\n",
    "for item in l:\n",
    "    print(item)\n",
    "    \n",
    "print('Done!')\n",
    "```"
   ]
  },
  {
   "cell_type": "code",
   "execution_count": 3,
   "id": "bfd00a6e",
   "metadata": {},
   "outputs": [
    {
     "name": "stdout",
     "output_type": "stream",
     "text": [
      "HELLO 1\n",
      "HELLO 2\n",
      "HELLO 3\n",
      "HELLO 4\n",
      "Done\n"
     ]
    }
   ],
   "source": [
    "l = [1, 2, 3, 4]\n",
    "\n",
    "for item in l:\n",
    "    print('HELLO', item)\n",
    "\n",
    "print('Done')"
   ]
  },
  {
   "cell_type": "code",
   "execution_count": null,
   "id": "c2bde451",
   "metadata": {},
   "outputs": [],
   "source": []
  },
  {
   "cell_type": "code",
   "execution_count": null,
   "id": "df6c9ad9",
   "metadata": {},
   "outputs": [],
   "source": []
  },
  {
   "cell_type": "markdown",
   "id": "404267ae",
   "metadata": {},
   "source": [
    "### Iterate over key-value pairs from a dict\n",
    "\n",
    "```Python\n",
    "d = {'Anna': 40, 'Charles': 39, 'Katinka': 41}\n",
    "\n",
    "for key, value in d.items():\n",
    "    print(key, value)\n",
    "\n",
    "print('Done!')\n",
    "```"
   ]
  },
  {
   "cell_type": "code",
   "execution_count": 4,
   "id": "f6ca8bd7",
   "metadata": {},
   "outputs": [
    {
     "name": "stdout",
     "output_type": "stream",
     "text": [
      "Anna 40\n",
      "Charles 39\n",
      "Katinka 41\n",
      "Done!\n"
     ]
    }
   ],
   "source": [
    "d = {\n",
    "    'Anna': 40, \n",
    "    'Charles': 39, \n",
    "    'Katinka': 41\n",
    "}\n",
    "\n",
    "for key, value in d.items():\n",
    "    print(key, value)\n",
    "\n",
    "print('Done!')"
   ]
  },
  {
   "cell_type": "code",
   "execution_count": 7,
   "id": "630a0f12",
   "metadata": {},
   "outputs": [
    {
     "name": "stdout",
     "output_type": "stream",
     "text": [
      "Anna 40\n",
      "Charles 39\n",
      "Katinka 41\n"
     ]
    }
   ],
   "source": [
    "for key in d:\n",
    "    print(key, d[key])"
   ]
  },
  {
   "cell_type": "code",
   "execution_count": null,
   "id": "6015cf7a",
   "metadata": {},
   "outputs": [],
   "source": []
  },
  {
   "cell_type": "markdown",
   "id": "aa8bc0d0",
   "metadata": {},
   "source": [
    "### Iterate over a string\n",
    "\n",
    "```Python\n",
    "alphabet = 'abcdefghijklmnopqrstuvwxyz'\n",
    "\n",
    "for char in alphabet:\n",
    "    print(char)\n",
    "```"
   ]
  },
  {
   "cell_type": "code",
   "execution_count": 5,
   "id": "c1430096",
   "metadata": {},
   "outputs": [
    {
     "name": "stdout",
     "output_type": "stream",
     "text": [
      "a\n",
      "b\n",
      "c\n",
      "d\n",
      "e\n",
      "f\n",
      "g\n",
      "h\n",
      "i\n",
      "j\n",
      "k\n",
      "l\n",
      "m\n",
      "n\n",
      "o\n",
      "p\n",
      "q\n",
      "r\n",
      "s\n",
      "t\n",
      "u\n",
      "v\n",
      "w\n",
      "x\n",
      "y\n",
      "z\n"
     ]
    }
   ],
   "source": [
    "alphabet = 'abcdefghijklmnopqrstuvwxyz'\n",
    "\n",
    "for char in alphabet:\n",
    "    print(char)"
   ]
  },
  {
   "cell_type": "code",
   "execution_count": null,
   "id": "d7ae581e",
   "metadata": {},
   "outputs": [],
   "source": []
  },
  {
   "cell_type": "code",
   "execution_count": null,
   "id": "e8e8f959",
   "metadata": {},
   "outputs": [],
   "source": []
  }
 ],
 "metadata": {
  "kernelspec": {
   "display_name": "Python 3 (ipykernel)",
   "language": "python",
   "name": "python3"
  },
  "language_info": {
   "codemirror_mode": {
    "name": "ipython",
    "version": 3
   },
   "file_extension": ".py",
   "mimetype": "text/x-python",
   "name": "python",
   "nbconvert_exporter": "python",
   "pygments_lexer": "ipython3",
   "version": "3.9.13"
  }
 },
 "nbformat": 4,
 "nbformat_minor": 5
}
